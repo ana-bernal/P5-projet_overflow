{
 "cells": [
  {
   "attachments": {},
   "cell_type": "markdown",
   "metadata": {},
   "source": [
    "# Libraries"
   ]
  },
  {
   "cell_type": "code",
   "execution_count": 7,
   "metadata": {},
   "outputs": [],
   "source": [
    "import numpy as np\n",
    "import pandas as pd\n",
    "\n",
    "from sklearn.model_selection import train_test_split\n",
    "from sklearn.multioutput import MultiOutputClassifier\n",
    "from sklearn.ensemble import RandomForestClassifier\n",
    "from sklearn.multiclass import OneVsRestClassifier\n",
    "import time\n"
   ]
  },
  {
   "attachments": {},
   "cell_type": "markdown",
   "metadata": {},
   "source": [
    "## Graphics and options"
   ]
  },
  {
   "cell_type": "code",
   "execution_count": null,
   "metadata": {},
   "outputs": [],
   "source": [
    "import warnings\n",
    "warnings.filterwarnings('ignore')"
   ]
  },
  {
   "attachments": {},
   "cell_type": "markdown",
   "metadata": {},
   "source": [
    "# Data"
   ]
  },
  {
   "cell_type": "code",
   "execution_count": 2,
   "metadata": {},
   "outputs": [],
   "source": [
    "path = './data/'\n",
    "filename = 'processed_data_v01.csv'\n",
    "\n",
    "df = pd.read_csv(path + filename, converters={'Tags': pd.eval})\n",
    "df.set_index('Id', inplace=True)\n",
    "\n",
    "tag_list = [tag[4:] for tag in list(df.columns) if 'tag' in tag]"
   ]
  },
  {
   "cell_type": "code",
   "execution_count": 3,
   "metadata": {},
   "outputs": [
    {
     "data": {
      "text/html": [
       "<div>\n",
       "<style scoped>\n",
       "    .dataframe tbody tr th:only-of-type {\n",
       "        vertical-align: middle;\n",
       "    }\n",
       "\n",
       "    .dataframe tbody tr th {\n",
       "        vertical-align: top;\n",
       "    }\n",
       "\n",
       "    .dataframe thead th {\n",
       "        text-align: right;\n",
       "    }\n",
       "</style>\n",
       "<table border=\"1\" class=\"dataframe\">\n",
       "  <thead>\n",
       "    <tr style=\"text-align: right;\">\n",
       "      <th></th>\n",
       "      <th>processed_text</th>\n",
       "      <th>text</th>\n",
       "      <th>Title</th>\n",
       "      <th>Body</th>\n",
       "      <th>Score</th>\n",
       "      <th>ViewCount</th>\n",
       "      <th>AnswerCount</th>\n",
       "      <th>Tags</th>\n",
       "      <th>tag_c#</th>\n",
       "      <th>tag_java</th>\n",
       "      <th>tag_javascript</th>\n",
       "      <th>tag_python</th>\n",
       "      <th>tag_c++</th>\n",
       "      <th>tag_ios</th>\n",
       "      <th>tag_android</th>\n",
       "      <th>tag_.net</th>\n",
       "      <th>tag_html</th>\n",
       "      <th>tag_php</th>\n",
       "    </tr>\n",
       "    <tr>\n",
       "      <th>Id</th>\n",
       "      <th></th>\n",
       "      <th></th>\n",
       "      <th></th>\n",
       "      <th></th>\n",
       "      <th></th>\n",
       "      <th></th>\n",
       "      <th></th>\n",
       "      <th></th>\n",
       "      <th></th>\n",
       "      <th></th>\n",
       "      <th></th>\n",
       "      <th></th>\n",
       "      <th></th>\n",
       "      <th></th>\n",
       "      <th></th>\n",
       "      <th></th>\n",
       "      <th></th>\n",
       "      <th></th>\n",
       "    </tr>\n",
       "  </thead>\n",
       "  <tbody>\n",
       "    <tr>\n",
       "      <th>4</th>\n",
       "      <td>decimal c# variable opacity app error type</td>\n",
       "      <td>How to convert Decimal to Double in C#? &lt;p&gt;I w...</td>\n",
       "      <td>How to convert Decimal to Double in C#?</td>\n",
       "      <td>&lt;p&gt;I want to assign the decimal variable &amp;quot...</td>\n",
       "      <td>792</td>\n",
       "      <td>70052</td>\n",
       "      <td>14</td>\n",
       "      <td>[c#]</td>\n",
       "      <td>1</td>\n",
       "      <td>0</td>\n",
       "      <td>0</td>\n",
       "      <td>0</td>\n",
       "      <td>0</td>\n",
       "      <td>0</td>\n",
       "      <td>0</td>\n",
       "      <td>0</td>\n",
       "      <td>0</td>\n",
       "      <td>0</td>\n",
       "    </tr>\n",
       "    <tr>\n",
       "      <th>11</th>\n",
       "      <td>time c# value time</td>\n",
       "      <td>Calculate relative time in C# &lt;p&gt;Given a speci...</td>\n",
       "      <td>Calculate relative time in C#</td>\n",
       "      <td>&lt;p&gt;Given a specific &lt;code&gt;DateTime&lt;/code&gt; valu...</td>\n",
       "      <td>1644</td>\n",
       "      <td>196587</td>\n",
       "      <td>41</td>\n",
       "      <td>[c#]</td>\n",
       "      <td>1</td>\n",
       "      <td>0</td>\n",
       "      <td>0</td>\n",
       "      <td>0</td>\n",
       "      <td>0</td>\n",
       "      <td>0</td>\n",
       "      <td>0</td>\n",
       "      <td>0</td>\n",
       "      <td>0</td>\n",
       "      <td>0</td>\n",
       "    </tr>\n",
       "    <tr>\n",
       "      <th>13</th>\n",
       "      <td>user timezone way web server user timezone web...</td>\n",
       "      <td>Determine a user's timezone &lt;p&gt;Is there a stan...</td>\n",
       "      <td>Determine a user's timezone</td>\n",
       "      <td>&lt;p&gt;Is there a standard way for a web server to...</td>\n",
       "      <td>698</td>\n",
       "      <td>274233</td>\n",
       "      <td>27</td>\n",
       "      <td>[html]</td>\n",
       "      <td>0</td>\n",
       "      <td>0</td>\n",
       "      <td>0</td>\n",
       "      <td>0</td>\n",
       "      <td>0</td>\n",
       "      <td>0</td>\n",
       "      <td>0</td>\n",
       "      <td>0</td>\n",
       "      <td>1</td>\n",
       "      <td>0</td>\n",
       "    </tr>\n",
       "    <tr>\n",
       "      <th>25</th>\n",
       "      <td>c socket api c++ z os issue c socket api c++ z...</td>\n",
       "      <td>How to use the C socket API in C++ on z/OS &lt;p&gt;...</td>\n",
       "      <td>How to use the C socket API in C++ on z/OS</td>\n",
       "      <td>&lt;p&gt;I'm having issues getting the C sockets API...</td>\n",
       "      <td>175</td>\n",
       "      <td>15797</td>\n",
       "      <td>9</td>\n",
       "      <td>[c++]</td>\n",
       "      <td>0</td>\n",
       "      <td>0</td>\n",
       "      <td>0</td>\n",
       "      <td>0</td>\n",
       "      <td>1</td>\n",
       "      <td>0</td>\n",
       "      <td>0</td>\n",
       "      <td>0</td>\n",
       "      <td>0</td>\n",
       "      <td>0</td>\n",
       "    </tr>\n",
       "    <tr>\n",
       "      <th>109</th>\n",
       "      <td>t sql cast c#/vb.net site resurgence asprox sq...</td>\n",
       "      <td>Decoding T-SQL CAST in C#/VB.NET &lt;p&gt;Recently o...</td>\n",
       "      <td>Decoding T-SQL CAST in C#/VB.NET</td>\n",
       "      <td>&lt;p&gt;Recently our site has been deluged with the...</td>\n",
       "      <td>69</td>\n",
       "      <td>6068</td>\n",
       "      <td>2</td>\n",
       "      <td>[c#]</td>\n",
       "      <td>1</td>\n",
       "      <td>0</td>\n",
       "      <td>0</td>\n",
       "      <td>0</td>\n",
       "      <td>0</td>\n",
       "      <td>0</td>\n",
       "      <td>0</td>\n",
       "      <td>0</td>\n",
       "      <td>0</td>\n",
       "      <td>0</td>\n",
       "    </tr>\n",
       "  </tbody>\n",
       "</table>\n",
       "</div>"
      ],
      "text/plain": [
       "                                        processed_text  \\\n",
       "Id                                                       \n",
       "4           decimal c# variable opacity app error type   \n",
       "11                                  time c# value time   \n",
       "13   user timezone way web server user timezone web...   \n",
       "25   c socket api c++ z os issue c socket api c++ z...   \n",
       "109  t sql cast c#/vb.net site resurgence asprox sq...   \n",
       "\n",
       "                                                  text  \\\n",
       "Id                                                       \n",
       "4    How to convert Decimal to Double in C#? <p>I w...   \n",
       "11   Calculate relative time in C# <p>Given a speci...   \n",
       "13   Determine a user's timezone <p>Is there a stan...   \n",
       "25   How to use the C socket API in C++ on z/OS <p>...   \n",
       "109  Decoding T-SQL CAST in C#/VB.NET <p>Recently o...   \n",
       "\n",
       "                                          Title  \\\n",
       "Id                                                \n",
       "4       How to convert Decimal to Double in C#?   \n",
       "11                Calculate relative time in C#   \n",
       "13                  Determine a user's timezone   \n",
       "25   How to use the C socket API in C++ on z/OS   \n",
       "109            Decoding T-SQL CAST in C#/VB.NET   \n",
       "\n",
       "                                                  Body  Score  ViewCount  \\\n",
       "Id                                                                         \n",
       "4    <p>I want to assign the decimal variable &quot...    792      70052   \n",
       "11   <p>Given a specific <code>DateTime</code> valu...   1644     196587   \n",
       "13   <p>Is there a standard way for a web server to...    698     274233   \n",
       "25   <p>I'm having issues getting the C sockets API...    175      15797   \n",
       "109  <p>Recently our site has been deluged with the...     69       6068   \n",
       "\n",
       "     AnswerCount    Tags  tag_c#  tag_java  tag_javascript  tag_python  \\\n",
       "Id                                                                       \n",
       "4             14    [c#]       1         0               0           0   \n",
       "11            41    [c#]       1         0               0           0   \n",
       "13            27  [html]       0         0               0           0   \n",
       "25             9   [c++]       0         0               0           0   \n",
       "109            2    [c#]       1         0               0           0   \n",
       "\n",
       "     tag_c++  tag_ios  tag_android  tag_.net  tag_html  tag_php  \n",
       "Id                                                               \n",
       "4          0        0            0         0         0        0  \n",
       "11         0        0            0         0         0        0  \n",
       "13         0        0            0         0         1        0  \n",
       "25         1        0            0         0         0        0  \n",
       "109        0        0            0         0         0        0  "
      ]
     },
     "execution_count": 3,
     "metadata": {},
     "output_type": "execute_result"
    }
   ],
   "source": [
    "df.head()"
   ]
  },
  {
   "cell_type": "code",
   "execution_count": 5,
   "metadata": {},
   "outputs": [
    {
     "data": {
      "text/html": [
       "<div>\n",
       "<style scoped>\n",
       "    .dataframe tbody tr th:only-of-type {\n",
       "        vertical-align: middle;\n",
       "    }\n",
       "\n",
       "    .dataframe tbody tr th {\n",
       "        vertical-align: top;\n",
       "    }\n",
       "\n",
       "    .dataframe thead th {\n",
       "        text-align: right;\n",
       "    }\n",
       "</style>\n",
       "<table border=\"1\" class=\"dataframe\">\n",
       "  <thead>\n",
       "    <tr style=\"text-align: right;\">\n",
       "      <th></th>\n",
       "      <th>processed_text</th>\n",
       "      <th>text</th>\n",
       "      <th>Title</th>\n",
       "      <th>Body</th>\n",
       "      <th>Score</th>\n",
       "      <th>ViewCount</th>\n",
       "      <th>AnswerCount</th>\n",
       "      <th>Tags</th>\n",
       "      <th>tag_c#</th>\n",
       "      <th>tag_java</th>\n",
       "      <th>tag_javascript</th>\n",
       "      <th>tag_python</th>\n",
       "      <th>tag_c++</th>\n",
       "      <th>tag_ios</th>\n",
       "      <th>tag_android</th>\n",
       "      <th>tag_.net</th>\n",
       "      <th>tag_html</th>\n",
       "      <th>tag_php</th>\n",
       "    </tr>\n",
       "    <tr>\n",
       "      <th>Id</th>\n",
       "      <th></th>\n",
       "      <th></th>\n",
       "      <th></th>\n",
       "      <th></th>\n",
       "      <th></th>\n",
       "      <th></th>\n",
       "      <th></th>\n",
       "      <th></th>\n",
       "      <th></th>\n",
       "      <th></th>\n",
       "      <th></th>\n",
       "      <th></th>\n",
       "      <th></th>\n",
       "      <th></th>\n",
       "      <th></th>\n",
       "      <th></th>\n",
       "      <th></th>\n",
       "      <th></th>\n",
       "    </tr>\n",
       "  </thead>\n",
       "  <tbody>\n",
       "    <tr>\n",
       "      <th>14269587</th>\n",
       "      <td>NaN</td>\n",
       "      <td>How to execute &lt;script&gt; code in a javascript a...</td>\n",
       "      <td>How to execute &lt;script&gt; code in a javascript a...</td>\n",
       "      <td>&lt;p&gt;I'm working with a plugin that is only Java...</td>\n",
       "      <td>15</td>\n",
       "      <td>30125</td>\n",
       "      <td>6</td>\n",
       "      <td>[javascript, html]</td>\n",
       "      <td>0</td>\n",
       "      <td>0</td>\n",
       "      <td>1</td>\n",
       "      <td>0</td>\n",
       "      <td>0</td>\n",
       "      <td>0</td>\n",
       "      <td>0</td>\n",
       "      <td>0</td>\n",
       "      <td>1</td>\n",
       "      <td>0</td>\n",
       "    </tr>\n",
       "  </tbody>\n",
       "</table>\n",
       "</div>"
      ],
      "text/plain": [
       "         processed_text                                               text  \\\n",
       "Id                                                                           \n",
       "14269587            NaN  How to execute <script> code in a javascript a...   \n",
       "\n",
       "                                                      Title  \\\n",
       "Id                                                            \n",
       "14269587  How to execute <script> code in a javascript a...   \n",
       "\n",
       "                                                       Body  Score  ViewCount  \\\n",
       "Id                                                                              \n",
       "14269587  <p>I'm working with a plugin that is only Java...     15      30125   \n",
       "\n",
       "          AnswerCount                Tags  tag_c#  tag_java  tag_javascript  \\\n",
       "Id                                                                            \n",
       "14269587            6  [javascript, html]       0         0               1   \n",
       "\n",
       "          tag_python  tag_c++  tag_ios  tag_android  tag_.net  tag_html  \\\n",
       "Id                                                                        \n",
       "14269587           0        0        0            0         0         1   \n",
       "\n",
       "          tag_php  \n",
       "Id                 \n",
       "14269587        0  "
      ]
     },
     "execution_count": 5,
     "metadata": {},
     "output_type": "execute_result"
    }
   ],
   "source": [
    "df.loc[df.processed_text.isna()]"
   ]
  },
  {
   "cell_type": "code",
   "execution_count": 6,
   "metadata": {},
   "outputs": [],
   "source": [
    "df.drop(index=14269587, inplace=True)"
   ]
  },
  {
   "attachments": {},
   "cell_type": "markdown",
   "metadata": {},
   "source": [
    "# Bag of words (Countvectorizer)"
   ]
  },
  {
   "cell_type": "code",
   "execution_count": 8,
   "metadata": {},
   "outputs": [],
   "source": [
    "from sklearn.metrics import classification_report"
   ]
  },
  {
   "cell_type": "code",
   "execution_count": 170,
   "metadata": {},
   "outputs": [],
   "source": [
    "import matplotlib.pyplot as plt\n",
    "\n",
    "def plot_classif_report(classif_report, tag_list, model_name, dataset_name):\n",
    "    '''\n",
    "    Plots precision, recall and f1-score for each tag in tag_list.\n",
    "\n",
    "    Parameters:\n",
    "        - classif_report: dict\n",
    "            It is the output of sklearn.metrics.classification_report(y_true,y_pred)\n",
    "            after a multi-label multi-output classification.\n",
    "        - tag_list: list of str\n",
    "            The list of tags of the classification.\n",
    "        - model_name, dataset_name: str\n",
    "            for the title of the plot\n",
    "    '''\n",
    "    n_tags = len(tag_list)\n",
    "\n",
    "    fig = plt.figure(figsize=(10, 6))\n",
    "    plt.grid(True)\n",
    "    plt.xticks(range(1,len(tag_list)+1),tag_list)\n",
    "    colors = ['blueviolet', 'darkorange', 'dodgerblue']\n",
    "\n",
    "    for metric,color in zip(['precision', 'recall', 'f1-score'], colors):\n",
    "        y = [classif_report[tag][metric] for tag in tag_list]\n",
    "        plt.scatter(range(1,n_tags+1),y,label=metric, c=color)\n",
    "    plt.legend()\n",
    "    plt.ylim(0,1.1)\n",
    "\n",
    "    macro_prec = round(classif_report['macro avg']['precision'],2)\n",
    "    macro_rec = round(classif_report['macro avg']['recall'],2)\n",
    "    macro_f1 = round(classif_report['macro avg']['f1-score'],2)\n",
    "\n",
    "    plt.text(9, \n",
    "             0.05, \n",
    "             f'Macro avg\\nprecision: {macro_prec}\\nrecall: {macro_rec}\\nf1-score: {macro_f1}',\n",
    "             bbox={'facecolor':'white', 'alpha':0.5})\n",
    "    plt.title(f'Some metrics by tag\\nModel: {model_name}, set: {dataset_name}')\n",
    "    plt.show()"
   ]
  },
  {
   "attachments": {},
   "cell_type": "markdown",
   "metadata": {},
   "source": [
    "# Bag of words: TF-IDF\n",
    "\n",
    "Multilabel classificaion with [OneVsRest](https://scikit-learn.org/stable/modules/generated/sklearn.multiclass.OneVsRestClassifier.html#sklearn.multiclass.OneVsRestClassifier)\n",
    "- [scikit-learn module on article about multilabel classif](https://scikit-learn.org/stable/modules/multiclass.html#onevsrestclassifier)\n",
    "- [scikit-learn example multilabel classif.](https://scikit-learn.org/stable/auto_examples/miscellaneous/plot_multilabel.html#sphx-glr-auto-examples-miscellaneous-plot-multilabel-py)\n",
    "\n",
    "Considered maybe for later, [ROC AUC for multilabel](https://scikit-learn.org/stable/auto_examples/model_selection/plot_roc.html#sphx-glr-auto-examples-model-selection-plot-roc-py)"
   ]
  },
  {
   "attachments": {},
   "cell_type": "markdown",
   "metadata": {},
   "source": [
    "## Vectorizing texts"
   ]
  },
  {
   "cell_type": "code",
   "execution_count": 11,
   "metadata": {},
   "outputs": [],
   "source": [
    "from sklearn.feature_extraction.text import TfidfVectorizer\n",
    "\n",
    "# Instantiate the vectorizer\n",
    "tfidf = TfidfVectorizer(max_df=0.8,\n",
    "                     min_df=0.001\n",
    "                     )\n",
    "\n",
    "# Vectorize the processed text\n",
    "X = tfidf.fit_transform(df.processed_text)"
   ]
  },
  {
   "cell_type": "code",
   "execution_count": 12,
   "metadata": {},
   "outputs": [
    {
     "data": {
      "text/plain": [
       "(31928, 1973)"
      ]
     },
     "execution_count": 12,
     "metadata": {},
     "output_type": "execute_result"
    }
   ],
   "source": [
    "X.shape"
   ]
  },
  {
   "attachments": {},
   "cell_type": "markdown",
   "metadata": {},
   "source": [
    "## Fit & predict: RandomForestClassifier"
   ]
  },
  {
   "cell_type": "code",
   "execution_count": 133,
   "metadata": {},
   "outputs": [
    {
     "name": "stdout",
     "output_type": "stream",
     "text": [
      "fit time: 140.33959460258484 secs.\n",
      "predict time: 10.37313723564148 secs.\n"
     ]
    }
   ],
   "source": [
    "# Defining target vector\n",
    "columns_tags = ['tag_'+tag for tag in tag_list]\n",
    "y = df[columns_tags]\n",
    "\n",
    "# Splitting into train and test set\n",
    "X_train, X_test, y_train, y_test = train_test_split(\n",
    "    X,y, test_size=0.33, random_state=5\n",
    ")\n",
    "\n",
    "# Instantiating OneVsRest Classifier\n",
    "cl = OneVsRestClassifier(RandomForestClassifier(random_state=1))\n",
    "\n",
    "# Fitting classifier\n",
    "start = time.time()\n",
    "cl.fit(X_train,y_train)\n",
    "finish = time.time()\n",
    "print(f'fit time: {finish - start} secs.')\n",
    "\n",
    "# Predicting (with probabilites)\n",
    "start = time.time()\n",
    "y_pred_train_proba = cl.predict_proba(X_train)\n",
    "finish = time.time()\n",
    "print(f'predict time: {finish - start} secs.')\n",
    "\n",
    "y_pred_test_proba = cl.predict_proba(X_test)"
   ]
  },
  {
   "cell_type": "code",
   "execution_count": 134,
   "metadata": {},
   "outputs": [
    {
     "name": "stdout",
     "output_type": "stream",
     "text": [
      "Threshold that maximizes f1-score: 0.4\n"
     ]
    }
   ],
   "source": [
    "# Choosing classification threshold for maximizing\n",
    "# macro average f1-score\n",
    "f1_thr = {}\n",
    "for t in np.linspace(0.2,0.8,7): # testing thresholds 0.2, 0.3, up to 0.8\n",
    "    classif_rep = classification_report(\n",
    "        y_train, \n",
    "        (y_pred_train_proba > t).astype(int),\n",
    "        target_names=tag_list,\n",
    "        output_dict=True)\n",
    "    f1_thr[t] =  classif_rep['macro avg']['f1-score']\n",
    "\n",
    "# choose threshold for maximal f1-score\n",
    "thresh = round(max(f1_thr, key=f1_thr.get),1)\n",
    "print(f'Threshold that maximizes f1-score: {thresh}')\n",
    "\n",
    "# predictions based on threshold\n",
    "y_pred_train = (y_pred_train_proba > thresh).astype(int)\n",
    "y_pred_test = (y_pred_test_proba > thresh).astype(int)"
   ]
  },
  {
   "attachments": {},
   "cell_type": "markdown",
   "metadata": {},
   "source": [
    "## Evaluation: RandomForestClassifier"
   ]
  },
  {
   "cell_type": "code",
   "execution_count": 175,
   "metadata": {},
   "outputs": [],
   "source": [
    "def diplay_and_plot_report(y_true, y_pred, model_name, dataset_name):\n",
    "        '''\n",
    "        Displays the classification report together with the metrics\n",
    "        (from the mul-label, multi-output classification) and plots\n",
    "        the metrics for each tag.\n",
    "\n",
    "        Parameters:\n",
    "                - y_true: array\n",
    "                        The true labels\n",
    "                - y_pred: array\n",
    "                        The prefictions\n",
    "                - model_name, dataset_name: str\n",
    "                        For the title of the plot\n",
    "        '''\n",
    "\n",
    "        classif_rep = classification_report(\n",
    "                y_true, \n",
    "                y_pred,\n",
    "                target_names=tag_list,\n",
    "                output_dict=True)\n",
    "        classif_rep_displ = classification_report(\n",
    "                y_true, \n",
    "                y_pred,\n",
    "                target_names=tag_list,\n",
    "                output_dict=False)\n",
    "        print(f'Classifier: {model_name}\\tDataset: {dataset_name}')\n",
    "        print('-'*70)\n",
    "        print(classif_rep_displ)\n",
    "        plot_classif_report(classif_rep, tag_list, model_name, dataset_name)"
   ]
  },
  {
   "cell_type": "code",
   "execution_count": 176,
   "metadata": {},
   "outputs": [
    {
     "name": "stdout",
     "output_type": "stream",
     "text": [
      "Classifier: RandomForestClassifier\tDataset: train\n",
      "----------------------------------------------------------------------\n",
      "              precision    recall  f1-score   support\n",
      "\n",
      "          c#       1.00      1.00      1.00      4019\n",
      "        java       1.00      1.00      1.00      3584\n",
      "  javascript       1.00      1.00      1.00      3119\n",
      "      python       1.00      1.00      1.00      3092\n",
      "         c++       1.00      1.00      1.00      2496\n",
      "         ios       1.00      1.00      1.00      2208\n",
      "     android       1.00      1.00      1.00      1928\n",
      "        .net       1.00      1.00      1.00      2060\n",
      "        html       1.00      1.00      1.00      1382\n",
      "         php       1.00      1.00      1.00      1317\n",
      "\n",
      "   micro avg       1.00      1.00      1.00     25205\n",
      "   macro avg       1.00      1.00      1.00     25205\n",
      "weighted avg       1.00      1.00      1.00     25205\n",
      " samples avg       1.00      1.00      1.00     25205\n",
      "\n"
     ]
    },
    {
     "data": {
      "image/png": "[encoded data removed]",
      "text/plain": [
       "<Figure size 720x432 with 1 Axes>"
      ]
     },
     "metadata": {
      "needs_background": "light"
     },
     "output_type": "display_data"
    }
   ],
   "source": [
    "diplay_and_plot_report(y_train, y_pred_train, 'RandomForestClassifier', 'train')"
   ]
  },
  {
   "cell_type": "code",
   "execution_count": 177,
   "metadata": {},
   "outputs": [
    {
     "name": "stdout",
     "output_type": "stream",
     "text": [
      "Classifier: RandomForestClassifier\tDataset: test\n",
      "----------------------------------------------------------------------\n",
      "              precision    recall  f1-score   support\n",
      "\n",
      "          c#       0.75      0.62      0.68      1920\n",
      "        java       0.85      0.73      0.79      1761\n",
      "  javascript       0.79      0.78      0.78      1592\n",
      "      python       0.94      0.84      0.88      1430\n",
      "         c++       0.86      0.62      0.72      1276\n",
      "         ios       0.88      0.79      0.83      1123\n",
      "     android       0.86      0.82      0.84       974\n",
      "        .net       0.62      0.24      0.35      1002\n",
      "        html       0.68      0.50      0.58       745\n",
      "         php       0.88      0.77      0.82       634\n",
      "\n",
      "   micro avg       0.82      0.68      0.75     12457\n",
      "   macro avg       0.81      0.67      0.73     12457\n",
      "weighted avg       0.81      0.68      0.74     12457\n",
      " samples avg       0.70      0.71      0.69     12457\n",
      "\n"
     ]
    },
    {
     "data": {
      "image/png": "[encoded data removed]",
      "text/plain": [
       "<Figure size 720x432 with 1 Axes>"
      ]
     },
     "metadata": {
      "needs_background": "light"
     },
     "output_type": "display_data"
    }
   ],
   "source": [
    "diplay_and_plot_report(y_test, y_pred_test, 'RandomForestClassifier', 'test')"
   ]
  },
  {
   "attachments": {},
   "cell_type": "markdown",
   "metadata": {},
   "source": [
    "Informative discussion about micro avg vs macro avg in this [stack exchange question](https://datascience.stackexchange.com/questions/15989/micro-average-vs-macro-average-performance-in-a-multiclass-classification-settin)"
   ]
  },
  {
   "cell_type": "code",
   "execution_count": 182,
   "metadata": {},
   "outputs": [],
   "source": [
    "from sklearn.metrics import roc_curve, auc\n",
    "\n",
    "def compute_roc_data(y_true,y_pred_proba,tag_list):\n",
    "    '''\n",
    "    Computes the data necessary to plot the OneVsRest\n",
    "    ROC curves of our multilabel classification.\n",
    "    Returns dictionnaries: fpr, tpr, roc_auc\n",
    "\n",
    "    Based on sckikit-learn's example: \n",
    "    https://scikit-learn.org/stable/auto_examples/model_selection/plot_roc.html#sphx-glr-auto-examples-model-selection-plot-roc-py\n",
    "\n",
    "    Parameters:\n",
    "        - y_true: pd.DataFrame\n",
    "        - y_pred: array\n",
    "            returned by classification: predict probabilities\n",
    "        - tag_list: list of str \n",
    "    '''\n",
    "\n",
    "    n_tags = len(tag_list)\n",
    "    # store the fpr, tpr, and roc_auc for all averaging strategies\n",
    "    fpr, tpr, roc_auc = dict(), dict(), dict()\n",
    "\n",
    "    # Compute micro-average ROC curve and ROC area\n",
    "    fpr[\"micro\"], tpr[\"micro\"], _ = roc_curve(y_true.values.ravel(), y_pred_proba.ravel())\n",
    "    roc_auc[\"micro\"] = auc(fpr[\"micro\"], tpr[\"micro\"])\n",
    "\n",
    "    print(f\"Micro-averaged One-vs-Rest ROC AUC score:\\n{roc_auc['micro']:.2f}\")\n",
    "\n",
    "\n",
    "    for i in range(n_tags):\n",
    "        fpr[i], tpr[i], _ = roc_curve(y_true.values[:, i], y_pred_proba[:, i])\n",
    "        roc_auc[i] = auc(fpr[i], tpr[i])\n",
    "\n",
    "    fpr_grid = np.linspace(0.0, 1.0, 1000)\n",
    "\n",
    "    # Interpolate all ROC curves at these points\n",
    "    mean_tpr = np.zeros_like(fpr_grid)\n",
    "\n",
    "    for i in range(n_tags):\n",
    "        mean_tpr += np.interp(fpr_grid, fpr[i], tpr[i])  # linear interpolation\n",
    "\n",
    "    # Average it and compute AUC\n",
    "    mean_tpr /= n_tags\n",
    "\n",
    "    fpr[\"macro\"] = fpr_grid\n",
    "    tpr[\"macro\"] = mean_tpr\n",
    "    roc_auc[\"macro\"] = auc(fpr[\"macro\"], tpr[\"macro\"])\n",
    "\n",
    "    print(f\"Macro-averaged One-vs-Rest ROC AUC score:\\n{roc_auc['macro']:.2f}\")\n",
    "\n",
    "    return fpr, tpr, roc_auc\n"
   ]
  },
  {
   "cell_type": "code",
   "execution_count": 185,
   "metadata": {},
   "outputs": [
    {
     "name": "stdout",
     "output_type": "stream",
     "text": [
      "Micro-averaged One-vs-Rest ROC AUC score:\n",
      "0.94\n",
      "Macro-averaged One-vs-Rest ROC AUC score:\n",
      "0.94\n"
     ]
    }
   ],
   "source": [
    "fpr, tpr, roc_auc = compute_roc_data(y_test,y_pred_test_proba, tag_list)"
   ]
  },
  {
   "cell_type": "code",
   "execution_count": 188,
   "metadata": {},
   "outputs": [],
   "source": [
    "from itertools import cycle\n",
    "\n",
    "def plot_roc_curves(fpr, tpr, roc_auc, model_name, dataset_name):\n",
    "    '''\n",
    "    Plots the ROC curves of the OneVsRest classification\n",
    "    for each tag.\n",
    "\n",
    "    Based on scikit-learn's example:\n",
    "    https://scikit-learn.org/stable/auto_examples/model_selection/plot_roc.html#sphx-glr-auto-examples-model-selection-plot-roc-py\n",
    "\n",
    "    Parameters:\n",
    "        - fpr, tpr, roc_auc: dict, dict, dict\n",
    "            Output of the function compute_roc_data\n",
    "        - model_name, dataset_name: str\n",
    "            For the title of the plot\n",
    "    '''\n",
    "    \n",
    "\n",
    "    fig, ax = plt.subplots(figsize=(6, 6))\n",
    "\n",
    "    plt.plot(\n",
    "        fpr[\"micro\"],\n",
    "        tpr[\"micro\"],\n",
    "        label=f\"micro-average ROC curve (AUC = {roc_auc['micro']:.2f})\",\n",
    "        color=\"deeppink\",\n",
    "        linestyle=\":\",\n",
    "        linewidth=3,\n",
    "    )\n",
    "\n",
    "    plt.plot(\n",
    "        fpr[\"macro\"],\n",
    "        tpr[\"macro\"],\n",
    "        label=f\"macro-average ROC curve (AUC = {roc_auc['macro']:.2f})\",\n",
    "        color=\"navy\",\n",
    "        linestyle=\":\",\n",
    "        linewidth=3,\n",
    "    )\n",
    "\n",
    "    colors = cycle([\"darkorange\", \n",
    "                    'olivedrab', \n",
    "                    'lightseagreen',\n",
    "                    'dodgerblue',\n",
    "                    'slategray',\n",
    "                    'blueviolet',\n",
    "                    'indigo',\n",
    "                    'mediumvioletred',\n",
    "                    'lightgreen',\n",
    "                    'lightpink'\n",
    "                    ])\n",
    "    for (idx,class_id), color in zip(enumerate(tag_list), colors):\n",
    "        RocCurveDisplay.from_predictions(\n",
    "            y_test[f'tag_{class_id}'].values,\n",
    "            y_pred_test_proba[:, idx],\n",
    "            name=f\"ROC curve for {class_id}\",\n",
    "            color=color,\n",
    "            ax=ax,\n",
    "        )\n",
    "\n",
    "    plt.plot([0, 1], [0, 1], \"k--\", label=\"ROC curve for chance level (AUC = 0.5)\")\n",
    "    plt.axis(\"square\")\n",
    "    plt.xlabel(\"False Positive Rate\")\n",
    "    plt.ylabel(\"True Positive Rate\")\n",
    "    plt.title(f\"ROC curves and AUC for each tag\\nto One-vs-Rest\\nmodel: {model_name}, dataset: {dataset_name}\")\n",
    "    plt.legend()\n",
    "    plt.show()"
   ]
  },
  {
   "cell_type": "code",
   "execution_count": 189,
   "metadata": {},
   "outputs": [
    {
     "data": {
      "image/png": "[encoded data removed]",
      "text/plain": [
       "<Figure size 432x432 with 1 Axes>"
      ]
     },
     "metadata": {
      "needs_background": "light"
     },
     "output_type": "display_data"
    }
   ],
   "source": [
    "plot_roc_curves(fpr,tpr,roc_auc,'RandomForestClassifier', 'test')"
   ]
  },
  {
   "cell_type": "markdown",
   "metadata": {},
   "source": [
    "See scikit-learns's module on [Multiclass and multilabel classification](https://scikit-learn.org/stable/modules/model_evaluation.html#multiclass-and-multilabel-classification)"
   ]
  },
  {
   "cell_type": "code",
   "execution_count": 48,
   "metadata": {},
   "outputs": [
    {
     "data": {
      "text/html": [
       "<div>\n",
       "<style scoped>\n",
       "    .dataframe tbody tr th:only-of-type {\n",
       "        vertical-align: middle;\n",
       "    }\n",
       "\n",
       "    .dataframe tbody tr th {\n",
       "        vertical-align: top;\n",
       "    }\n",
       "\n",
       "    .dataframe thead th {\n",
       "        text-align: right;\n",
       "    }\n",
       "</style>\n",
       "<table border=\"1\" class=\"dataframe\">\n",
       "  <thead>\n",
       "    <tr style=\"text-align: right;\">\n",
       "      <th></th>\n",
       "      <th>processed_text</th>\n",
       "      <th>text</th>\n",
       "      <th>Title</th>\n",
       "      <th>Body</th>\n",
       "      <th>Score</th>\n",
       "      <th>ViewCount</th>\n",
       "      <th>AnswerCount</th>\n",
       "      <th>Tags</th>\n",
       "      <th>tag_c#</th>\n",
       "      <th>tag_java</th>\n",
       "      <th>tag_javascript</th>\n",
       "      <th>tag_python</th>\n",
       "      <th>tag_c++</th>\n",
       "      <th>tag_ios</th>\n",
       "      <th>tag_android</th>\n",
       "      <th>tag_.net</th>\n",
       "      <th>tag_html</th>\n",
       "      <th>tag_php</th>\n",
       "    </tr>\n",
       "    <tr>\n",
       "      <th>Id</th>\n",
       "      <th></th>\n",
       "      <th></th>\n",
       "      <th></th>\n",
       "      <th></th>\n",
       "      <th></th>\n",
       "      <th></th>\n",
       "      <th></th>\n",
       "      <th></th>\n",
       "      <th></th>\n",
       "      <th></th>\n",
       "      <th></th>\n",
       "      <th></th>\n",
       "      <th></th>\n",
       "      <th></th>\n",
       "      <th></th>\n",
       "      <th></th>\n",
       "      <th></th>\n",
       "      <th></th>\n",
       "    </tr>\n",
       "  </thead>\n",
       "  <tbody>\n",
       "    <tr>\n",
       "      <th>192</th>\n",
       "      <td>point number catch fun part programming number...</td>\n",
       "      <td>Floating Point Number parsing: Is there a Catc...</td>\n",
       "      <td>Floating Point Number parsing: Is there a Catc...</td>\n",
       "      <td>&lt;p&gt;One of the fun parts of multi-cultural prog...</td>\n",
       "      <td>73</td>\n",
       "      <td>3522</td>\n",
       "      <td>4</td>\n",
       "      <td>[c#, .net]</td>\n",
       "      <td>1</td>\n",
       "      <td>0</td>\n",
       "      <td>0</td>\n",
       "      <td>0</td>\n",
       "      <td>0</td>\n",
       "      <td>0</td>\n",
       "      <td>0</td>\n",
       "      <td>1</td>\n",
       "      <td>0</td>\n",
       "      <td>0</td>\n",
       "    </tr>\n",
       "    <tr>\n",
       "      <th>709</th>\n",
       "      <td>testing framework advice unit testing framewor...</td>\n",
       "      <td>.NET testing framework advice &lt;p&gt;I'm looking t...</td>\n",
       "      <td>.NET testing framework advice</td>\n",
       "      <td>&lt;p&gt;I'm looking to introduce a unit testing fra...</td>\n",
       "      <td>55</td>\n",
       "      <td>6682</td>\n",
       "      <td>10</td>\n",
       "      <td>[c#, .net]</td>\n",
       "      <td>1</td>\n",
       "      <td>0</td>\n",
       "      <td>0</td>\n",
       "      <td>0</td>\n",
       "      <td>0</td>\n",
       "      <td>0</td>\n",
       "      <td>0</td>\n",
       "      <td>1</td>\n",
       "      <td>0</td>\n",
       "      <td>0</td>\n",
       "    </tr>\n",
       "    <tr>\n",
       "      <th>717</th>\n",
       "      <td>provider work bit window window service vb leg...</td>\n",
       "      <td>Why doesn't VFP .NET OLEdb provider work in 64...</td>\n",
       "      <td>Why doesn't VFP .NET OLEdb provider work in 64...</td>\n",
       "      <td>&lt;p&gt;I wrote a windows service using VB that rea...</td>\n",
       "      <td>31</td>\n",
       "      <td>11643</td>\n",
       "      <td>3</td>\n",
       "      <td>[.net]</td>\n",
       "      <td>0</td>\n",
       "      <td>0</td>\n",
       "      <td>0</td>\n",
       "      <td>0</td>\n",
       "      <td>0</td>\n",
       "      <td>0</td>\n",
       "      <td>0</td>\n",
       "      <td>1</td>\n",
       "      <td>0</td>\n",
       "      <td>0</td>\n",
       "    </tr>\n",
       "    <tr>\n",
       "      <th>752</th>\n",
       "      <td>object instance type object compile time insta...</td>\n",
       "      <td>How to create a new object instance from a Typ...</td>\n",
       "      <td>How to create a new object instance from a Type</td>\n",
       "      <td>&lt;p&gt;One may not always know the &lt;code&gt;Type&lt;/cod...</td>\n",
       "      <td>891</td>\n",
       "      <td>690774</td>\n",
       "      <td>11</td>\n",
       "      <td>[c#, .net]</td>\n",
       "      <td>1</td>\n",
       "      <td>0</td>\n",
       "      <td>0</td>\n",
       "      <td>0</td>\n",
       "      <td>0</td>\n",
       "      <td>0</td>\n",
       "      <td>0</td>\n",
       "      <td>1</td>\n",
       "      <td>0</td>\n",
       "      <td>0</td>\n",
       "    </tr>\n",
       "    <tr>\n",
       "      <th>2138</th>\n",
       "      <td>linq .net runtime linq app machine runtime the...</td>\n",
       "      <td>LINQ on the .NET 2.0 Runtime &lt;p&gt;Can a LINQ ena...</td>\n",
       "      <td>LINQ on the .NET 2.0 Runtime</td>\n",
       "      <td>&lt;p&gt;Can a LINQ enabled app run on a machine tha...</td>\n",
       "      <td>61</td>\n",
       "      <td>56785</td>\n",
       "      <td>8</td>\n",
       "      <td>[.net]</td>\n",
       "      <td>0</td>\n",
       "      <td>0</td>\n",
       "      <td>0</td>\n",
       "      <td>0</td>\n",
       "      <td>0</td>\n",
       "      <td>0</td>\n",
       "      <td>0</td>\n",
       "      <td>1</td>\n",
       "      <td>0</td>\n",
       "      <td>0</td>\n",
       "    </tr>\n",
       "    <tr>\n",
       "      <th>...</th>\n",
       "      <td>...</td>\n",
       "      <td>...</td>\n",
       "      <td>...</td>\n",
       "      <td>...</td>\n",
       "      <td>...</td>\n",
       "      <td>...</td>\n",
       "      <td>...</td>\n",
       "      <td>...</td>\n",
       "      <td>...</td>\n",
       "      <td>...</td>\n",
       "      <td>...</td>\n",
       "      <td>...</td>\n",
       "      <td>...</td>\n",
       "      <td>...</td>\n",
       "      <td>...</td>\n",
       "      <td>...</td>\n",
       "      <td>...</td>\n",
       "      <td>...</td>\n",
       "    </tr>\n",
       "    <tr>\n",
       "      <th>71816161</th>\n",
       "      <td>target net -window change error target success</td>\n",
       "      <td>How to set target net7.0 -windows? &lt;p&gt;I try ch...</td>\n",
       "      <td>How to set target net7.0 -windows?</td>\n",
       "      <td>&lt;p&gt;I try change&lt;/p&gt;\\n&lt;pre class=\"lang-xml pret...</td>\n",
       "      <td>9</td>\n",
       "      <td>7656</td>\n",
       "      <td>2</td>\n",
       "      <td>[c#, .net]</td>\n",
       "      <td>1</td>\n",
       "      <td>0</td>\n",
       "      <td>0</td>\n",
       "      <td>0</td>\n",
       "      <td>0</td>\n",
       "      <td>0</td>\n",
       "      <td>0</td>\n",
       "      <td>1</td>\n",
       "      <td>0</td>\n",
       "      <td>0</td>\n",
       "    </tr>\n",
       "    <tr>\n",
       "      <th>71882183</th>\n",
       "      <td>inject service dependency injection startup.cs...</td>\n",
       "      <td>.NET 6 - Inject service into program.cs &lt;p&gt;I k...</td>\n",
       "      <td>.NET 6 - Inject service into program.cs</td>\n",
       "      <td>&lt;p&gt;I know how to do dependency injection in th...</td>\n",
       "      <td>12</td>\n",
       "      <td>19618</td>\n",
       "      <td>5</td>\n",
       "      <td>[c#, .net]</td>\n",
       "      <td>1</td>\n",
       "      <td>0</td>\n",
       "      <td>0</td>\n",
       "      <td>0</td>\n",
       "      <td>0</td>\n",
       "      <td>0</td>\n",
       "      <td>0</td>\n",
       "      <td>1</td>\n",
       "      <td>0</td>\n",
       "      <td>0</td>\n",
       "    </tr>\n",
       "    <tr>\n",
       "      <th>72028509</th>\n",
       "      <td>dotnet watch configuration reload blazor app c...</td>\n",
       "      <td>dotnet watch run -c $(Configuration) with hot ...</td>\n",
       "      <td>dotnet watch run -c $(Configuration) with hot ...</td>\n",
       "      <td>&lt;p&gt;I want to launch my Blazor app with specifi...</td>\n",
       "      <td>8</td>\n",
       "      <td>677</td>\n",
       "      <td>1</td>\n",
       "      <td>[c#, .net]</td>\n",
       "      <td>1</td>\n",
       "      <td>0</td>\n",
       "      <td>0</td>\n",
       "      <td>0</td>\n",
       "      <td>0</td>\n",
       "      <td>0</td>\n",
       "      <td>0</td>\n",
       "      <td>1</td>\n",
       "      <td>0</td>\n",
       "      <td>0</td>\n",
       "    </tr>\n",
       "    <tr>\n",
       "      <th>72093710</th>\n",
       "      <td>xamarin.ios solution xamarin forms .net maui i...</td>\n",
       "      <td>How to update a plain Xamarin.iOS solution (wi...</td>\n",
       "      <td>How to update a plain Xamarin.iOS solution (wi...</td>\n",
       "      <td>&lt;p&gt;I have a Xamarin.iOS solution that includes...</td>\n",
       "      <td>9</td>\n",
       "      <td>534</td>\n",
       "      <td>1</td>\n",
       "      <td>[.net]</td>\n",
       "      <td>0</td>\n",
       "      <td>0</td>\n",
       "      <td>0</td>\n",
       "      <td>0</td>\n",
       "      <td>0</td>\n",
       "      <td>0</td>\n",
       "      <td>0</td>\n",
       "      <td>1</td>\n",
       "      <td>0</td>\n",
       "      <td>0</td>\n",
       "    </tr>\n",
       "    <tr>\n",
       "      <th>72152559</th>\n",
       "      <td>class library core core net framework project ...</td>\n",
       "      <td>Is it possible to use class library written in...</td>\n",
       "      <td>Is it possible to use class library written in...</td>\n",
       "      <td>&lt;p&gt;I have a class library using core 6.0&lt;/p&gt;\\n...</td>\n",
       "      <td>7</td>\n",
       "      <td>3309</td>\n",
       "      <td>1</td>\n",
       "      <td>[c#, .net]</td>\n",
       "      <td>1</td>\n",
       "      <td>0</td>\n",
       "      <td>0</td>\n",
       "      <td>0</td>\n",
       "      <td>0</td>\n",
       "      <td>0</td>\n",
       "      <td>0</td>\n",
       "      <td>1</td>\n",
       "      <td>0</td>\n",
       "      <td>0</td>\n",
       "    </tr>\n",
       "  </tbody>\n",
       "</table>\n",
       "<p>3062 rows × 18 columns</p>\n",
       "</div>"
      ],
      "text/plain": [
       "                                             processed_text  \\\n",
       "Id                                                            \n",
       "192       point number catch fun part programming number...   \n",
       "709       testing framework advice unit testing framewor...   \n",
       "717       provider work bit window window service vb leg...   \n",
       "752       object instance type object compile time insta...   \n",
       "2138      linq .net runtime linq app machine runtime the...   \n",
       "...                                                     ...   \n",
       "71816161     target net -window change error target success   \n",
       "71882183  inject service dependency injection startup.cs...   \n",
       "72028509  dotnet watch configuration reload blazor app c...   \n",
       "72093710  xamarin.ios solution xamarin forms .net maui i...   \n",
       "72152559  class library core core net framework project ...   \n",
       "\n",
       "                                                       text  \\\n",
       "Id                                                            \n",
       "192       Floating Point Number parsing: Is there a Catc...   \n",
       "709       .NET testing framework advice <p>I'm looking t...   \n",
       "717       Why doesn't VFP .NET OLEdb provider work in 64...   \n",
       "752       How to create a new object instance from a Typ...   \n",
       "2138      LINQ on the .NET 2.0 Runtime <p>Can a LINQ ena...   \n",
       "...                                                     ...   \n",
       "71816161  How to set target net7.0 -windows? <p>I try ch...   \n",
       "71882183  .NET 6 - Inject service into program.cs <p>I k...   \n",
       "72028509  dotnet watch run -c $(Configuration) with hot ...   \n",
       "72093710  How to update a plain Xamarin.iOS solution (wi...   \n",
       "72152559  Is it possible to use class library written in...   \n",
       "\n",
       "                                                      Title  \\\n",
       "Id                                                            \n",
       "192       Floating Point Number parsing: Is there a Catc...   \n",
       "709                           .NET testing framework advice   \n",
       "717       Why doesn't VFP .NET OLEdb provider work in 64...   \n",
       "752         How to create a new object instance from a Type   \n",
       "2138                           LINQ on the .NET 2.0 Runtime   \n",
       "...                                                     ...   \n",
       "71816161                 How to set target net7.0 -windows?   \n",
       "71882183            .NET 6 - Inject service into program.cs   \n",
       "72028509  dotnet watch run -c $(Configuration) with hot ...   \n",
       "72093710  How to update a plain Xamarin.iOS solution (wi...   \n",
       "72152559  Is it possible to use class library written in...   \n",
       "\n",
       "                                                       Body  Score  ViewCount  \\\n",
       "Id                                                                              \n",
       "192       <p>One of the fun parts of multi-cultural prog...     73       3522   \n",
       "709       <p>I'm looking to introduce a unit testing fra...     55       6682   \n",
       "717       <p>I wrote a windows service using VB that rea...     31      11643   \n",
       "752       <p>One may not always know the <code>Type</cod...    891     690774   \n",
       "2138      <p>Can a LINQ enabled app run on a machine tha...     61      56785   \n",
       "...                                                     ...    ...        ...   \n",
       "71816161  <p>I try change</p>\\n<pre class=\"lang-xml pret...      9       7656   \n",
       "71882183  <p>I know how to do dependency injection in th...     12      19618   \n",
       "72028509  <p>I want to launch my Blazor app with specifi...      8        677   \n",
       "72093710  <p>I have a Xamarin.iOS solution that includes...      9        534   \n",
       "72152559  <p>I have a class library using core 6.0</p>\\n...      7       3309   \n",
       "\n",
       "          AnswerCount        Tags  tag_c#  tag_java  tag_javascript  \\\n",
       "Id                                                                    \n",
       "192                 4  [c#, .net]       1         0               0   \n",
       "709                10  [c#, .net]       1         0               0   \n",
       "717                 3      [.net]       0         0               0   \n",
       "752                11  [c#, .net]       1         0               0   \n",
       "2138                8      [.net]       0         0               0   \n",
       "...               ...         ...     ...       ...             ...   \n",
       "71816161            2  [c#, .net]       1         0               0   \n",
       "71882183            5  [c#, .net]       1         0               0   \n",
       "72028509            1  [c#, .net]       1         0               0   \n",
       "72093710            1      [.net]       0         0               0   \n",
       "72152559            1  [c#, .net]       1         0               0   \n",
       "\n",
       "          tag_python  tag_c++  tag_ios  tag_android  tag_.net  tag_html  \\\n",
       "Id                                                                        \n",
       "192                0        0        0            0         1         0   \n",
       "709                0        0        0            0         1         0   \n",
       "717                0        0        0            0         1         0   \n",
       "752                0        0        0            0         1         0   \n",
       "2138               0        0        0            0         1         0   \n",
       "...              ...      ...      ...          ...       ...       ...   \n",
       "71816161           0        0        0            0         1         0   \n",
       "71882183           0        0        0            0         1         0   \n",
       "72028509           0        0        0            0         1         0   \n",
       "72093710           0        0        0            0         1         0   \n",
       "72152559           0        0        0            0         1         0   \n",
       "\n",
       "          tag_php  \n",
       "Id                 \n",
       "192             0  \n",
       "709             0  \n",
       "717             0  \n",
       "752             0  \n",
       "2138            0  \n",
       "...           ...  \n",
       "71816161        0  \n",
       "71882183        0  \n",
       "72028509        0  \n",
       "72093710        0  \n",
       "72152559        0  \n",
       "\n",
       "[3062 rows x 18 columns]"
      ]
     },
     "execution_count": 48,
     "metadata": {},
     "output_type": "execute_result"
    }
   ],
   "source": [
    "df.loc[df['tag_.net'] == 1]"
   ]
  },
  {
   "cell_type": "code",
   "execution_count": 42,
   "metadata": {},
   "outputs": [
    {
     "data": {
      "text/plain": [
       "0.74"
      ]
     },
     "execution_count": 42,
     "metadata": {},
     "output_type": "execute_result"
    }
   ],
   "source": [
    "(0.7+0.77+0.78+0.88+0.73+2*0.83+0.44+0.62+0.82)/10"
   ]
  },
  {
   "cell_type": "code",
   "execution_count": 234,
   "metadata": {},
   "outputs": [
    {
     "data": {
      "text/html": [
       "<div>\n",
       "<style scoped>\n",
       "    .dataframe tbody tr th:only-of-type {\n",
       "        vertical-align: middle;\n",
       "    }\n",
       "\n",
       "    .dataframe tbody tr th {\n",
       "        vertical-align: top;\n",
       "    }\n",
       "\n",
       "    .dataframe thead th {\n",
       "        text-align: right;\n",
       "    }\n",
       "</style>\n",
       "<table border=\"1\" class=\"dataframe\">\n",
       "  <thead>\n",
       "    <tr style=\"text-align: right;\">\n",
       "      <th></th>\n",
       "      <th>tag</th>\n",
       "      <th>precision</th>\n",
       "      <th>recall</th>\n",
       "      <th>f1_score</th>\n",
       "      <th>accuracy</th>\n",
       "      <th>support</th>\n",
       "      <th>support_not_tag</th>\n",
       "    </tr>\n",
       "  </thead>\n",
       "  <tbody>\n",
       "    <tr>\n",
       "      <th>0</th>\n",
       "      <td>c#</td>\n",
       "      <td>0.999971</td>\n",
       "      <td>0.999876</td>\n",
       "      <td>0.999923</td>\n",
       "      <td>0.999953</td>\n",
       "      <td>17372</td>\n",
       "      <td>4019</td>\n",
       "    </tr>\n",
       "    <tr>\n",
       "      <th>1</th>\n",
       "      <td>java</td>\n",
       "      <td>0.999888</td>\n",
       "      <td>0.999442</td>\n",
       "      <td>0.999665</td>\n",
       "      <td>0.999813</td>\n",
       "      <td>17807</td>\n",
       "      <td>3584</td>\n",
       "    </tr>\n",
       "    <tr>\n",
       "      <th>2</th>\n",
       "      <td>javascript</td>\n",
       "      <td>0.999973</td>\n",
       "      <td>0.999840</td>\n",
       "      <td>0.999906</td>\n",
       "      <td>0.999953</td>\n",
       "      <td>18272</td>\n",
       "      <td>3119</td>\n",
       "    </tr>\n",
       "    <tr>\n",
       "      <th>3</th>\n",
       "      <td>python</td>\n",
       "      <td>1.000000</td>\n",
       "      <td>1.000000</td>\n",
       "      <td>1.000000</td>\n",
       "      <td>1.000000</td>\n",
       "      <td>18299</td>\n",
       "      <td>3092</td>\n",
       "    </tr>\n",
       "    <tr>\n",
       "      <th>4</th>\n",
       "      <td>c++</td>\n",
       "      <td>0.999773</td>\n",
       "      <td>0.999773</td>\n",
       "      <td>0.999773</td>\n",
       "      <td>0.999907</td>\n",
       "      <td>18895</td>\n",
       "      <td>2496</td>\n",
       "    </tr>\n",
       "    <tr>\n",
       "      <th>5</th>\n",
       "      <td>ios</td>\n",
       "      <td>1.000000</td>\n",
       "      <td>1.000000</td>\n",
       "      <td>1.000000</td>\n",
       "      <td>1.000000</td>\n",
       "      <td>19183</td>\n",
       "      <td>2208</td>\n",
       "    </tr>\n",
       "    <tr>\n",
       "      <th>6</th>\n",
       "      <td>android</td>\n",
       "      <td>0.999974</td>\n",
       "      <td>0.999741</td>\n",
       "      <td>0.999857</td>\n",
       "      <td>0.999953</td>\n",
       "      <td>19463</td>\n",
       "      <td>1928</td>\n",
       "    </tr>\n",
       "    <tr>\n",
       "      <th>7</th>\n",
       "      <td>.net</td>\n",
       "      <td>1.000000</td>\n",
       "      <td>1.000000</td>\n",
       "      <td>1.000000</td>\n",
       "      <td>1.000000</td>\n",
       "      <td>19331</td>\n",
       "      <td>2060</td>\n",
       "    </tr>\n",
       "    <tr>\n",
       "      <th>8</th>\n",
       "      <td>html</td>\n",
       "      <td>0.999975</td>\n",
       "      <td>0.999638</td>\n",
       "      <td>0.999807</td>\n",
       "      <td>0.999953</td>\n",
       "      <td>20009</td>\n",
       "      <td>1382</td>\n",
       "    </tr>\n",
       "    <tr>\n",
       "      <th>9</th>\n",
       "      <td>php</td>\n",
       "      <td>0.999975</td>\n",
       "      <td>0.999620</td>\n",
       "      <td>0.999798</td>\n",
       "      <td>0.999953</td>\n",
       "      <td>20074</td>\n",
       "      <td>1317</td>\n",
       "    </tr>\n",
       "  </tbody>\n",
       "</table>\n",
       "</div>"
      ],
      "text/plain": [
       "          tag  precision    recall  f1_score  accuracy  support  \\\n",
       "0          c#   0.999971  0.999876  0.999923  0.999953    17372   \n",
       "1        java   0.999888  0.999442  0.999665  0.999813    17807   \n",
       "2  javascript   0.999973  0.999840  0.999906  0.999953    18272   \n",
       "3      python   1.000000  1.000000  1.000000  1.000000    18299   \n",
       "4         c++   0.999773  0.999773  0.999773  0.999907    18895   \n",
       "5         ios   1.000000  1.000000  1.000000  1.000000    19183   \n",
       "6     android   0.999974  0.999741  0.999857  0.999953    19463   \n",
       "7        .net   1.000000  1.000000  1.000000  1.000000    19331   \n",
       "8        html   0.999975  0.999638  0.999807  0.999953    20009   \n",
       "9         php   0.999975  0.999620  0.999798  0.999953    20074   \n",
       "\n",
       "   support_not_tag  \n",
       "0             4019  \n",
       "1             3584  \n",
       "2             3119  \n",
       "3             3092  \n",
       "4             2496  \n",
       "5             2208  \n",
       "6             1928  \n",
       "7             2060  \n",
       "8             1382  \n",
       "9             1317  "
      ]
     },
     "execution_count": 234,
     "metadata": {},
     "output_type": "execute_result"
    }
   ],
   "source": [
    "classif_report, avg_metrics = classif_report_per_tag(tag_list,y_train,y_pred_train)\n",
    "classif_report"
   ]
  },
  {
   "cell_type": "code",
   "execution_count": 235,
   "metadata": {},
   "outputs": [
    {
     "name": "stdout",
     "output_type": "stream",
     "text": [
      "Global average metrics:\n",
      "precision 1.0\n",
      "recall 1.0\n",
      "f1_score 1.0\n",
      "accuracy 1.0\n"
     ]
    },
    {
     "data": {
      "image/png": "[encoded data removed]",
      "text/plain": [
       "<Figure size 720x432 with 1 Axes>"
      ]
     },
     "metadata": {
      "needs_background": "light"
     },
     "output_type": "display_data"
    }
   ],
   "source": [
    "model_name = 'RandomForestClassifier'\n",
    "\n",
    "print('Global average metrics:')\n",
    "for met in avg_metrics.index:\n",
    "    print(met, avg_metrics[met].round(3))\n",
    "    \n",
    "plot_classif_report_per_tag(classif_report,model_name,'train')"
   ]
  },
  {
   "cell_type": "code",
   "execution_count": 278,
   "metadata": {},
   "outputs": [],
   "source": [
    "classif_report, avg_metrics = classif_report_per_tag(tag_list,y_test,y_pred_test)"
   ]
  },
  {
   "cell_type": "code",
   "execution_count": 279,
   "metadata": {},
   "outputs": [
    {
     "name": "stdout",
     "output_type": "stream",
     "text": [
      "Global average metrics:\n",
      "precision 0.9\n",
      "recall 0.8\n",
      "f1_score 0.83\n",
      "accuracy 0.94\n"
     ]
    },
    {
     "data": {
      "image/png": "[encoded data removed]",
      "text/plain": [
       "<Figure size 720x432 with 1 Axes>"
      ]
     },
     "metadata": {
      "needs_background": "light"
     },
     "output_type": "display_data"
    }
   ],
   "source": [
    "model_name = 'RandomForestClassifier'\n",
    "\n",
    "print('Global average metrics:')\n",
    "for met in avg_metrics.index:\n",
    "    print(met, avg_metrics[met].round(2))\n",
    "    \n",
    "plot_classif_report_per_tag(classif_report,model_name,'test')"
   ]
  },
  {
   "cell_type": "markdown",
   "metadata": {},
   "source": [
    "See scikit-learn's module on [Jaccard similarity coefficient score](https://scikit-learn.org/stable/modules/model_evaluation.html#jaccard-similarity-coefficient-score)"
   ]
  },
  {
   "cell_type": "code",
   "execution_count": 238,
   "metadata": {},
   "outputs": [
    {
     "data": {
      "text/plain": [
       "0.6274635411723768"
      ]
     },
     "execution_count": 238,
     "metadata": {},
     "output_type": "execute_result"
    }
   ],
   "source": [
    "from sklearn.metrics import jaccard_score\n",
    "\n",
    "jaccard_score(y_test,y_pred_test, average='samples')"
   ]
  },
  {
   "cell_type": "code",
   "execution_count": 239,
   "metadata": {},
   "outputs": [
    {
     "data": {
      "text/plain": [
       "0.5551001636914463"
      ]
     },
     "execution_count": 239,
     "metadata": {},
     "output_type": "execute_result"
    }
   ],
   "source": [
    "jaccard_score(y_test,y_pred_test, average='macro')"
   ]
  },
  {
   "cell_type": "code",
   "execution_count": 240,
   "metadata": {},
   "outputs": [
    {
     "data": {
      "text/plain": [
       "array([0.45471264, 0.65176715, 0.62506902, 0.79328859, 0.51477105,\n",
       "       0.70495868, 0.72469253, 0.1094196 , 0.28536585, 0.68695652])"
      ]
     },
     "execution_count": 240,
     "metadata": {},
     "output_type": "execute_result"
    }
   ],
   "source": [
    "jaccard_score(y_test,y_pred_test, average=None)"
   ]
  },
  {
   "cell_type": "code",
   "execution_count": 241,
   "metadata": {},
   "outputs": [
    {
     "data": {
      "text/plain": [
       "0.99962601093918"
      ]
     },
     "execution_count": 241,
     "metadata": {},
     "output_type": "execute_result"
    }
   ],
   "source": [
    "cl.score(X_train,y_train)"
   ]
  },
  {
   "cell_type": "code",
   "execution_count": 242,
   "metadata": {},
   "outputs": [
    {
     "data": {
      "text/plain": [
       "0.5587928252823384"
      ]
     },
     "execution_count": 242,
     "metadata": {},
     "output_type": "execute_result"
    }
   ],
   "source": [
    "cl.score(X_test,y_test)"
   ]
  },
  {
   "attachments": {},
   "cell_type": "markdown",
   "metadata": {},
   "source": [
    "# Logistic regression (TD-IDF)"
   ]
  },
  {
   "cell_type": "code",
   "execution_count": 280,
   "metadata": {},
   "outputs": [],
   "source": [
    "# Instantiate the vectorizer\n",
    "tfidf = TfidfVectorizer(max_df=0.8,\n",
    "                     min_df=0.001\n",
    "                     )\n",
    "\n",
    "# Vectorize the processed text\n",
    "X = tfidf.fit_transform(df.processed_text)"
   ]
  },
  {
   "cell_type": "code",
   "execution_count": 281,
   "metadata": {},
   "outputs": [],
   "source": [
    "columns_tags = ['tag_'+tag for tag in tag_list]\n",
    "y = df[columns_tags]"
   ]
  },
  {
   "cell_type": "code",
   "execution_count": 282,
   "metadata": {},
   "outputs": [
    {
     "name": "stdout",
     "output_type": "stream",
     "text": [
      "fit time: 2.108776807785034 secs.\n",
      "predict time: 0.014042854309082031 secs.\n"
     ]
    }
   ],
   "source": [
    "from sklearn.linear_model import LogisticRegression\n",
    "\n",
    "X_train, X_test, y_train, y_test = train_test_split(\n",
    "    X,y, test_size=0.33, random_state=5\n",
    ")\n",
    "\n",
    "cl = OneVsRestClassifier(LogisticRegression())\n",
    "\n",
    "start = time.time()\n",
    "cl.fit(X_train,y_train)\n",
    "finish = time.time()\n",
    "print(f'fit time: {finish - start} secs.')\n",
    "\n",
    "start = time.time()\n",
    "y_pred_train = cl.predict(X_train)\n",
    "finish = time.time()\n",
    "print(f'predict time: {finish - start} secs.')\n",
    "\n",
    "y_pred_test = cl.predict(X_test)\n"
   ]
  },
  {
   "cell_type": "code",
   "execution_count": 246,
   "metadata": {},
   "outputs": [
    {
     "data": {
      "text/plain": [
       "(21391, 1973)"
      ]
     },
     "execution_count": 246,
     "metadata": {},
     "output_type": "execute_result"
    }
   ],
   "source": [
    "X_train.todense().shape"
   ]
  },
  {
   "cell_type": "markdown",
   "metadata": {},
   "source": [
    "See scikit-learns's module on [Multiclass and multilabel classification](https://scikit-learn.org/stable/modules/model_evaluation.html#multiclass-and-multilabel-classification)"
   ]
  },
  {
   "cell_type": "code",
   "execution_count": 283,
   "metadata": {},
   "outputs": [
    {
     "data": {
      "text/html": [
       "<div>\n",
       "<style scoped>\n",
       "    .dataframe tbody tr th:only-of-type {\n",
       "        vertical-align: middle;\n",
       "    }\n",
       "\n",
       "    .dataframe tbody tr th {\n",
       "        vertical-align: top;\n",
       "    }\n",
       "\n",
       "    .dataframe thead th {\n",
       "        text-align: right;\n",
       "    }\n",
       "</style>\n",
       "<table border=\"1\" class=\"dataframe\">\n",
       "  <thead>\n",
       "    <tr style=\"text-align: right;\">\n",
       "      <th></th>\n",
       "      <th>tag</th>\n",
       "      <th>precision</th>\n",
       "      <th>recall</th>\n",
       "      <th>f1_score</th>\n",
       "      <th>accuracy</th>\n",
       "      <th>support</th>\n",
       "      <th>support_not_tag</th>\n",
       "    </tr>\n",
       "  </thead>\n",
       "  <tbody>\n",
       "    <tr>\n",
       "      <th>0</th>\n",
       "      <td>c#</td>\n",
       "      <td>0.867849</td>\n",
       "      <td>0.761323</td>\n",
       "      <td>0.799259</td>\n",
       "      <td>0.894395</td>\n",
       "      <td>17372</td>\n",
       "      <td>4019</td>\n",
       "    </tr>\n",
       "    <tr>\n",
       "      <th>1</th>\n",
       "      <td>java</td>\n",
       "      <td>0.938957</td>\n",
       "      <td>0.808684</td>\n",
       "      <td>0.856549</td>\n",
       "      <td>0.931373</td>\n",
       "      <td>17807</td>\n",
       "      <td>3584</td>\n",
       "    </tr>\n",
       "    <tr>\n",
       "      <th>2</th>\n",
       "      <td>javascript</td>\n",
       "      <td>0.917546</td>\n",
       "      <td>0.815784</td>\n",
       "      <td>0.856389</td>\n",
       "      <td>0.936936</td>\n",
       "      <td>18272</td>\n",
       "      <td>3119</td>\n",
       "    </tr>\n",
       "    <tr>\n",
       "      <th>3</th>\n",
       "      <td>python</td>\n",
       "      <td>0.970915</td>\n",
       "      <td>0.867548</td>\n",
       "      <td>0.910133</td>\n",
       "      <td>0.960310</td>\n",
       "      <td>18299</td>\n",
       "      <td>3092</td>\n",
       "    </tr>\n",
       "    <tr>\n",
       "      <th>4</th>\n",
       "      <td>c++</td>\n",
       "      <td>0.939538</td>\n",
       "      <td>0.804918</td>\n",
       "      <td>0.856292</td>\n",
       "      <td>0.949605</td>\n",
       "      <td>18895</td>\n",
       "      <td>2496</td>\n",
       "    </tr>\n",
       "    <tr>\n",
       "      <th>5</th>\n",
       "      <td>ios</td>\n",
       "      <td>0.960320</td>\n",
       "      <td>0.831639</td>\n",
       "      <td>0.882798</td>\n",
       "      <td>0.962554</td>\n",
       "      <td>19183</td>\n",
       "      <td>2208</td>\n",
       "    </tr>\n",
       "    <tr>\n",
       "      <th>6</th>\n",
       "      <td>android</td>\n",
       "      <td>0.965917</td>\n",
       "      <td>0.829187</td>\n",
       "      <td>0.883255</td>\n",
       "      <td>0.967229</td>\n",
       "      <td>19463</td>\n",
       "      <td>1928</td>\n",
       "    </tr>\n",
       "    <tr>\n",
       "      <th>7</th>\n",
       "      <td>.net</td>\n",
       "      <td>0.801416</td>\n",
       "      <td>0.594574</td>\n",
       "      <td>0.631134</td>\n",
       "      <td>0.913936</td>\n",
       "      <td>19331</td>\n",
       "      <td>2060</td>\n",
       "    </tr>\n",
       "    <tr>\n",
       "      <th>8</th>\n",
       "      <td>html</td>\n",
       "      <td>0.883948</td>\n",
       "      <td>0.731193</td>\n",
       "      <td>0.785693</td>\n",
       "      <td>0.958347</td>\n",
       "      <td>20009</td>\n",
       "      <td>1382</td>\n",
       "    </tr>\n",
       "    <tr>\n",
       "      <th>9</th>\n",
       "      <td>php</td>\n",
       "      <td>0.969898</td>\n",
       "      <td>0.797708</td>\n",
       "      <td>0.861965</td>\n",
       "      <td>0.973868</td>\n",
       "      <td>20074</td>\n",
       "      <td>1317</td>\n",
       "    </tr>\n",
       "  </tbody>\n",
       "</table>\n",
       "</div>"
      ],
      "text/plain": [
       "          tag  precision    recall  f1_score  accuracy  support  \\\n",
       "0          c#   0.867849  0.761323  0.799259  0.894395    17372   \n",
       "1        java   0.938957  0.808684  0.856549  0.931373    17807   \n",
       "2  javascript   0.917546  0.815784  0.856389  0.936936    18272   \n",
       "3      python   0.970915  0.867548  0.910133  0.960310    18299   \n",
       "4         c++   0.939538  0.804918  0.856292  0.949605    18895   \n",
       "5         ios   0.960320  0.831639  0.882798  0.962554    19183   \n",
       "6     android   0.965917  0.829187  0.883255  0.967229    19463   \n",
       "7        .net   0.801416  0.594574  0.631134  0.913936    19331   \n",
       "8        html   0.883948  0.731193  0.785693  0.958347    20009   \n",
       "9         php   0.969898  0.797708  0.861965  0.973868    20074   \n",
       "\n",
       "   support_not_tag  \n",
       "0             4019  \n",
       "1             3584  \n",
       "2             3119  \n",
       "3             3092  \n",
       "4             2496  \n",
       "5             2208  \n",
       "6             1928  \n",
       "7             2060  \n",
       "8             1382  \n",
       "9             1317  "
      ]
     },
     "execution_count": 283,
     "metadata": {},
     "output_type": "execute_result"
    }
   ],
   "source": [
    "classif_report, avg_metrics = classif_report_per_tag(tag_list,y_train,y_pred_train)\n",
    "classif_report"
   ]
  },
  {
   "cell_type": "code",
   "execution_count": 284,
   "metadata": {},
   "outputs": [
    {
     "name": "stdout",
     "output_type": "stream",
     "text": [
      "Global average metrics:\n",
      "precision 0.922\n",
      "recall 0.784\n",
      "f1_score 0.832\n",
      "accuracy 0.945\n"
     ]
    },
    {
     "data": {
      "image/png": "[encoded data removed]",
      "text/plain": [
       "<Figure size 720x432 with 1 Axes>"
      ]
     },
     "metadata": {
      "needs_background": "light"
     },
     "output_type": "display_data"
    }
   ],
   "source": [
    "model_name = 'LogisticRegression'\n",
    "\n",
    "print('Global average metrics:')\n",
    "for met in avg_metrics.index:\n",
    "    print(met, avg_metrics[met].round(3))\n",
    "    \n",
    "plot_classif_report_per_tag(classif_report,model_name,'train')"
   ]
  },
  {
   "cell_type": "code",
   "execution_count": 285,
   "metadata": {},
   "outputs": [],
   "source": [
    "classif_report, avg_metrics = classif_report_per_tag(tag_list,y_test,y_pred_test)"
   ]
  },
  {
   "cell_type": "code",
   "execution_count": 286,
   "metadata": {},
   "outputs": [
    {
     "name": "stdout",
     "output_type": "stream",
     "text": [
      "Global average metrics:\n",
      "precision 0.91\n",
      "recall 0.76\n",
      "f1_score 0.81\n",
      "accuracy 0.94\n"
     ]
    },
    {
     "data": {
      "image/png": "[encoded data removed]",
      "text/plain": [
       "<Figure size 720x432 with 1 Axes>"
      ]
     },
     "metadata": {
      "needs_background": "light"
     },
     "output_type": "display_data"
    }
   ],
   "source": [
    "model_name = 'LogisticRegression'\n",
    "\n",
    "print('Global average metrics:')\n",
    "for met in avg_metrics.index:\n",
    "    print(met, avg_metrics[met].round(2))\n",
    "    \n",
    "plot_classif_report_per_tag(classif_report,model_name,'test')"
   ]
  },
  {
   "cell_type": "markdown",
   "metadata": {},
   "source": [
    "See scikit-learn's module on [Jaccard similarity coefficient score](https://scikit-learn.org/stable/modules/model_evaluation.html#jaccard-similarity-coefficient-score)"
   ]
  },
  {
   "cell_type": "code",
   "execution_count": 251,
   "metadata": {},
   "outputs": [
    {
     "data": {
      "text/plain": [
       "0.5601214767011483"
      ]
     },
     "execution_count": 251,
     "metadata": {},
     "output_type": "execute_result"
    }
   ],
   "source": [
    "from sklearn.metrics import jaccard_score\n",
    "\n",
    "jaccard_score(y_test,y_pred_test, average='samples')"
   ]
  },
  {
   "cell_type": "code",
   "execution_count": 252,
   "metadata": {},
   "outputs": [
    {
     "data": {
      "text/plain": [
       "0.5064384556469268"
      ]
     },
     "execution_count": 252,
     "metadata": {},
     "output_type": "execute_result"
    }
   ],
   "source": [
    "jaccard_score(y_test,y_pred_test, average='macro')"
   ]
  },
  {
   "cell_type": "code",
   "execution_count": 253,
   "metadata": {},
   "outputs": [
    {
     "data": {
      "text/plain": [
       "array([0.43796296, 0.57501364, 0.54545455, 0.69794521, 0.53937593,\n",
       "       0.60854701, 0.63336663, 0.15599639, 0.34004739, 0.53067485])"
      ]
     },
     "execution_count": 253,
     "metadata": {},
     "output_type": "execute_result"
    }
   ],
   "source": [
    "jaccard_score(y_test,y_pred_test, average=None)"
   ]
  },
  {
   "cell_type": "code",
   "execution_count": 254,
   "metadata": {},
   "outputs": [
    {
     "data": {
      "text/plain": [
       "0.5461175260623626"
      ]
     },
     "execution_count": 254,
     "metadata": {},
     "output_type": "execute_result"
    }
   ],
   "source": [
    "cl.score(X_train,y_train)"
   ]
  },
  {
   "cell_type": "code",
   "execution_count": 255,
   "metadata": {},
   "outputs": [
    {
     "data": {
      "text/plain": [
       "0.502799658346778"
      ]
     },
     "execution_count": 255,
     "metadata": {},
     "output_type": "execute_result"
    }
   ],
   "source": [
    "cl.score(X_test,y_test)"
   ]
  },
  {
   "attachments": {},
   "cell_type": "markdown",
   "metadata": {},
   "source": [
    "# Naive-Bayes classifier (TD-IDF)"
   ]
  },
  {
   "cell_type": "code",
   "execution_count": 256,
   "metadata": {},
   "outputs": [],
   "source": [
    "# Instantiate the vectorizer\n",
    "tfidf = TfidfVectorizer(max_df=0.8,\n",
    "                     min_df=0.001\n",
    "                     )\n",
    "\n",
    "# Vectorize the processed text\n",
    "X = tfidf.fit_transform(df.processed_text)"
   ]
  },
  {
   "cell_type": "code",
   "execution_count": 257,
   "metadata": {},
   "outputs": [],
   "source": [
    "columns_tags = ['tag_'+tag for tag in tag_list]\n",
    "y = df[columns_tags]"
   ]
  },
  {
   "cell_type": "code",
   "execution_count": 258,
   "metadata": {},
   "outputs": [
    {
     "name": "stdout",
     "output_type": "stream",
     "text": [
      "fit time: 0.1529989242553711 secs.\n",
      "predict time: 0.08268618583679199 secs.\n"
     ]
    }
   ],
   "source": [
    "from sklearn.naive_bayes import MultinomialNB\n",
    "\n",
    "X_train, X_test, y_train, y_test = train_test_split(\n",
    "    X,y, test_size=0.33, random_state=5\n",
    ")\n",
    "\n",
    "cl = OneVsRestClassifier(MultinomialNB())\n",
    "\n",
    "start = time.time()\n",
    "cl.fit(X_train,y_train)\n",
    "finish = time.time()\n",
    "print(f'fit time: {finish - start} secs.')\n",
    "\n",
    "start = time.time()\n",
    "y_pred_train = cl.predict(X_train)\n",
    "finish = time.time()\n",
    "print(f'predict time: {finish - start} secs.')\n",
    "\n",
    "y_pred_test = cl.predict(X_test)\n"
   ]
  },
  {
   "cell_type": "code",
   "execution_count": 259,
   "metadata": {},
   "outputs": [
    {
     "data": {
      "text/plain": [
       "(21391, 1973)"
      ]
     },
     "execution_count": 259,
     "metadata": {},
     "output_type": "execute_result"
    }
   ],
   "source": [
    "X_train.todense().shape"
   ]
  },
  {
   "cell_type": "markdown",
   "metadata": {},
   "source": [
    "See scikit-learns's module on [Multiclass and multilabel classification](https://scikit-learn.org/stable/modules/model_evaluation.html#multiclass-and-multilabel-classification)"
   ]
  },
  {
   "cell_type": "code",
   "execution_count": 260,
   "metadata": {},
   "outputs": [
    {
     "data": {
      "text/html": [
       "<div>\n",
       "<style scoped>\n",
       "    .dataframe tbody tr th:only-of-type {\n",
       "        vertical-align: middle;\n",
       "    }\n",
       "\n",
       "    .dataframe tbody tr th {\n",
       "        vertical-align: top;\n",
       "    }\n",
       "\n",
       "    .dataframe thead th {\n",
       "        text-align: right;\n",
       "    }\n",
       "</style>\n",
       "<table border=\"1\" class=\"dataframe\">\n",
       "  <thead>\n",
       "    <tr style=\"text-align: right;\">\n",
       "      <th></th>\n",
       "      <th>tag</th>\n",
       "      <th>precision</th>\n",
       "      <th>recall</th>\n",
       "      <th>f1_score</th>\n",
       "      <th>accuracy</th>\n",
       "      <th>support</th>\n",
       "      <th>support_not_tag</th>\n",
       "    </tr>\n",
       "  </thead>\n",
       "  <tbody>\n",
       "    <tr>\n",
       "      <th>0</th>\n",
       "      <td>c#</td>\n",
       "      <td>0.855842</td>\n",
       "      <td>0.677004</td>\n",
       "      <td>0.719019</td>\n",
       "      <td>0.868496</td>\n",
       "      <td>17372</td>\n",
       "      <td>4019</td>\n",
       "    </tr>\n",
       "    <tr>\n",
       "      <th>1</th>\n",
       "      <td>java</td>\n",
       "      <td>0.933241</td>\n",
       "      <td>0.731629</td>\n",
       "      <td>0.788127</td>\n",
       "      <td>0.907718</td>\n",
       "      <td>17807</td>\n",
       "      <td>3584</td>\n",
       "    </tr>\n",
       "    <tr>\n",
       "      <th>2</th>\n",
       "      <td>javascript</td>\n",
       "      <td>0.884576</td>\n",
       "      <td>0.738203</td>\n",
       "      <td>0.786795</td>\n",
       "      <td>0.913188</td>\n",
       "      <td>18272</td>\n",
       "      <td>3119</td>\n",
       "    </tr>\n",
       "    <tr>\n",
       "      <th>3</th>\n",
       "      <td>python</td>\n",
       "      <td>0.953648</td>\n",
       "      <td>0.788145</td>\n",
       "      <td>0.845251</td>\n",
       "      <td>0.936889</td>\n",
       "      <td>18299</td>\n",
       "      <td>3092</td>\n",
       "    </tr>\n",
       "    <tr>\n",
       "      <th>4</th>\n",
       "      <td>c++</td>\n",
       "      <td>0.930566</td>\n",
       "      <td>0.770209</td>\n",
       "      <td>0.826559</td>\n",
       "      <td>0.941424</td>\n",
       "      <td>18895</td>\n",
       "      <td>2496</td>\n",
       "    </tr>\n",
       "    <tr>\n",
       "      <th>5</th>\n",
       "      <td>ios</td>\n",
       "      <td>0.951658</td>\n",
       "      <td>0.790095</td>\n",
       "      <td>0.848873</td>\n",
       "      <td>0.953812</td>\n",
       "      <td>19183</td>\n",
       "      <td>2208</td>\n",
       "    </tr>\n",
       "    <tr>\n",
       "      <th>6</th>\n",
       "      <td>android</td>\n",
       "      <td>0.955509</td>\n",
       "      <td>0.731700</td>\n",
       "      <td>0.800163</td>\n",
       "      <td>0.950119</td>\n",
       "      <td>19463</td>\n",
       "      <td>1928</td>\n",
       "    </tr>\n",
       "    <tr>\n",
       "      <th>7</th>\n",
       "      <td>.net</td>\n",
       "      <td>0.768462</td>\n",
       "      <td>0.538867</td>\n",
       "      <td>0.548685</td>\n",
       "      <td>0.906923</td>\n",
       "      <td>19331</td>\n",
       "      <td>2060</td>\n",
       "    </tr>\n",
       "    <tr>\n",
       "      <th>8</th>\n",
       "      <td>html</td>\n",
       "      <td>0.850833</td>\n",
       "      <td>0.635369</td>\n",
       "      <td>0.688543</td>\n",
       "      <td>0.947314</td>\n",
       "      <td>20009</td>\n",
       "      <td>1382</td>\n",
       "    </tr>\n",
       "    <tr>\n",
       "      <th>9</th>\n",
       "      <td>php</td>\n",
       "      <td>0.970558</td>\n",
       "      <td>0.638068</td>\n",
       "      <td>0.704240</td>\n",
       "      <td>0.955215</td>\n",
       "      <td>20074</td>\n",
       "      <td>1317</td>\n",
       "    </tr>\n",
       "  </tbody>\n",
       "</table>\n",
       "</div>"
      ],
      "text/plain": [
       "          tag  precision    recall  f1_score  accuracy  support  \\\n",
       "0          c#   0.855842  0.677004  0.719019  0.868496    17372   \n",
       "1        java   0.933241  0.731629  0.788127  0.907718    17807   \n",
       "2  javascript   0.884576  0.738203  0.786795  0.913188    18272   \n",
       "3      python   0.953648  0.788145  0.845251  0.936889    18299   \n",
       "4         c++   0.930566  0.770209  0.826559  0.941424    18895   \n",
       "5         ios   0.951658  0.790095  0.848873  0.953812    19183   \n",
       "6     android   0.955509  0.731700  0.800163  0.950119    19463   \n",
       "7        .net   0.768462  0.538867  0.548685  0.906923    19331   \n",
       "8        html   0.850833  0.635369  0.688543  0.947314    20009   \n",
       "9         php   0.970558  0.638068  0.704240  0.955215    20074   \n",
       "\n",
       "   support_not_tag  \n",
       "0             4019  \n",
       "1             3584  \n",
       "2             3119  \n",
       "3             3092  \n",
       "4             2496  \n",
       "5             2208  \n",
       "6             1928  \n",
       "7             2060  \n",
       "8             1382  \n",
       "9             1317  "
      ]
     },
     "execution_count": 260,
     "metadata": {},
     "output_type": "execute_result"
    }
   ],
   "source": [
    "classif_report, avg_metrics = classif_report_per_tag(tag_list,y_train,y_pred_train)\n",
    "classif_report"
   ]
  },
  {
   "cell_type": "code",
   "execution_count": 261,
   "metadata": {},
   "outputs": [
    {
     "name": "stdout",
     "output_type": "stream",
     "text": [
      "Global average metrics:\n",
      "precision 0.905\n",
      "recall 0.704\n",
      "f1_score 0.756\n",
      "accuracy 0.928\n"
     ]
    },
    {
     "data": {
      "image/png": "[encoded data removed]",
      "text/plain": [
       "<Figure size 720x432 with 1 Axes>"
      ]
     },
     "metadata": {
      "needs_background": "light"
     },
     "output_type": "display_data"
    }
   ],
   "source": [
    "model_name = 'MultinomialNB (Naive-Bayes)'\n",
    "\n",
    "print('Global average metrics:')\n",
    "for met in avg_metrics.index:\n",
    "    print(met, avg_metrics[met].round(3))\n",
    "    \n",
    "plot_classif_report_per_tag(classif_report,model_name,'train')"
   ]
  },
  {
   "cell_type": "code",
   "execution_count": 262,
   "metadata": {},
   "outputs": [],
   "source": [
    "classif_report, avg_metrics = classif_report_per_tag(tag_list,y_test,y_pred_test)"
   ]
  },
  {
   "cell_type": "code",
   "execution_count": 263,
   "metadata": {},
   "outputs": [
    {
     "name": "stdout",
     "output_type": "stream",
     "text": [
      "Global average metrics:\n",
      "precision 0.9\n",
      "recall 0.69\n",
      "f1_score 0.74\n",
      "accuracy 0.92\n"
     ]
    },
    {
     "data": {
      "image/png": "[encoded data removed]",
      "text/plain": [
       "<Figure size 720x432 with 1 Axes>"
      ]
     },
     "metadata": {
      "needs_background": "light"
     },
     "output_type": "display_data"
    }
   ],
   "source": [
    "model_name = 'MultinomialNB (Naive-Bayes)'\n",
    "\n",
    "print('Global average metrics:')\n",
    "for met in avg_metrics.index:\n",
    "    print(met, avg_metrics[met].round(2))\n",
    "    \n",
    "plot_classif_report_per_tag(classif_report,model_name,'test')"
   ]
  },
  {
   "cell_type": "markdown",
   "metadata": {},
   "source": [
    "See scikit-learn's module on [Jaccard similarity coefficient score](https://scikit-learn.org/stable/modules/model_evaluation.html#jaccard-similarity-coefficient-score)"
   ]
  },
  {
   "cell_type": "code",
   "execution_count": 264,
   "metadata": {},
   "outputs": [
    {
     "data": {
      "text/plain": [
       "0.42696371516244347"
      ]
     },
     "execution_count": 264,
     "metadata": {},
     "output_type": "execute_result"
    }
   ],
   "source": [
    "from sklearn.metrics import jaccard_score\n",
    "\n",
    "jaccard_score(y_test,y_pred_test, average='samples')"
   ]
  },
  {
   "cell_type": "code",
   "execution_count": 265,
   "metadata": {},
   "outputs": [
    {
     "data": {
      "text/plain": [
       "0.36770639721986886"
      ]
     },
     "execution_count": 265,
     "metadata": {},
     "output_type": "execute_result"
    }
   ],
   "source": [
    "jaccard_score(y_test,y_pred_test, average='macro')"
   ]
  },
  {
   "cell_type": "code",
   "execution_count": 266,
   "metadata": {},
   "outputs": [
    {
     "data": {
      "text/plain": [
       "array([0.32259615, 0.43119777, 0.42042213, 0.53578732, 0.496997  ,\n",
       "       0.52527849, 0.44834504, 0.0705314 , 0.21744472, 0.20846395])"
      ]
     },
     "execution_count": 266,
     "metadata": {},
     "output_type": "execute_result"
    }
   ],
   "source": [
    "jaccard_score(y_test,y_pred_test, average=None)"
   ]
  },
  {
   "cell_type": "code",
   "execution_count": 267,
   "metadata": {},
   "outputs": [
    {
     "data": {
      "text/plain": [
       "0.41634332195783275"
      ]
     },
     "execution_count": 267,
     "metadata": {},
     "output_type": "execute_result"
    }
   ],
   "source": [
    "cl.score(X_train,y_train)"
   ]
  },
  {
   "cell_type": "code",
   "execution_count": 268,
   "metadata": {},
   "outputs": [
    {
     "data": {
      "text/plain": [
       "0.38711208123754387"
      ]
     },
     "execution_count": 268,
     "metadata": {},
     "output_type": "execute_result"
    }
   ],
   "source": [
    "cl.score(X_test,y_test)"
   ]
  },
  {
   "attachments": {},
   "cell_type": "markdown",
   "metadata": {},
   "source": [
    "# Word2vec"
   ]
  },
  {
   "cell_type": "code",
   "execution_count": 4,
   "metadata": {},
   "outputs": [
    {
     "name": "stderr",
     "output_type": "stream",
     "text": [
      "2023-02-14 09:16:38.638231: I tensorflow/core/platform/cpu_feature_guard.cc:193] This TensorFlow binary is optimized with oneAPI Deep Neural Network Library (oneDNN) to use the following CPU instructions in performance-critical operations:  AVX2 FMA\n",
      "To enable them in other operations, rebuild TensorFlow with the appropriate compiler flags.\n",
      "2023-02-14 09:16:38.884279: W tensorflow/compiler/xla/stream_executor/platform/default/dso_loader.cc:64] Could not load dynamic library 'libcudart.so.11.0'; dlerror: libcudart.so.11.0: cannot open shared object file: No such file or directory\n",
      "2023-02-14 09:16:38.884318: I tensorflow/compiler/xla/stream_executor/cuda/cudart_stub.cc:29] Ignore above cudart dlerror if you do not have a GPU set up on your machine.\n",
      "2023-02-14 09:16:39.911114: W tensorflow/compiler/xla/stream_executor/platform/default/dso_loader.cc:64] Could not load dynamic library 'libnvinfer.so.7'; dlerror: libnvinfer.so.7: cannot open shared object file: No such file or directory\n",
      "2023-02-14 09:16:39.911209: W tensorflow/compiler/xla/stream_executor/platform/default/dso_loader.cc:64] Could not load dynamic library 'libnvinfer_plugin.so.7'; dlerror: libnvinfer_plugin.so.7: cannot open shared object file: No such file or directory\n",
      "2023-02-14 09:16:39.911219: W tensorflow/compiler/tf2tensorrt/utils/py_utils.cc:38] TF-TRT Warning: Cannot dlopen some TensorRT libraries. If you would like to use Nvidia GPU with TensorRT, please make sure the missing libraries mentioned above are installed properly.\n"
     ]
    }
   ],
   "source": [
    "import tensorflow as tf\n",
    "import tensorflow.keras\n",
    "from tensorflow.keras import backend as K\n",
    "\n",
    "from tensorflow.keras.preprocessing.text import Tokenizer\n",
    "from tensorflow.keras.preprocessing.sequence import pad_sequences\n",
    "from tensorflow.keras import metrics as kmetrics\n",
    "from tensorflow.keras.layers import *\n",
    "from tensorflow.keras.models import Model\n",
    "import gensim"
   ]
  },
  {
   "cell_type": "code",
   "execution_count": 293,
   "metadata": {},
   "outputs": [
    {
     "data": {
      "text/plain": [
       "2925"
      ]
     },
     "execution_count": 293,
     "metadata": {},
     "output_type": "execute_result"
    }
   ],
   "source": [
    "df.processed_text.str.len().max()"
   ]
  },
  {
   "attachments": {},
   "cell_type": "markdown",
   "metadata": {},
   "source": [
    "Pourquoi ? si j'avais limité à 5000. **à voir**"
   ]
  },
  {
   "cell_type": "code",
   "execution_count": 22,
   "metadata": {},
   "outputs": [],
   "source": [
    "w2v_size=300\n",
    "w2v_window=5\n",
    "w2v_min_count=3\n",
    "w2v_epochs=50 # it was 100\n",
    "maxlen = 1000 # adapt to length of sentences\n",
    "sentences = df['processed_text'].apply(lambda x: x.split()).to_list()\n",
    "# sentences = [gensim.utils.simple_preprocess(text) for text in sentences]"
   ]
  },
  {
   "cell_type": "code",
   "execution_count": 23,
   "metadata": {},
   "outputs": [
    {
     "name": "stdout",
     "output_type": "stream",
     "text": [
      "Build & train Word2Vec model ...\n",
      "Vocabulary size: 13406\n",
      "Word2Vec trained\n"
     ]
    }
   ],
   "source": [
    "# Création et entraînement du modèle Word2Vec\n",
    "\n",
    "print(\"Build & train Word2Vec model ...\")\n",
    "w2v_model = gensim.models.Word2Vec(vector_size=w2v_size,\n",
    "                                   window=w2v_window,\n",
    "                                   min_count=w2v_min_count, \n",
    "                                   workers=1)\n",
    "\n",
    "w2v_model.build_vocab(sentences)\n",
    "w2v_model.train(sentences, \n",
    "                total_examples=w2v_model.corpus_count, \n",
    "                epochs=w2v_epochs)\n",
    "model_vectors = w2v_model.wv\n",
    "w2v_words = model_vectors.index_to_key\n",
    "print(\"Vocabulary size: %i\" % len(w2v_words))\n",
    "print(\"Word2Vec trained\")"
   ]
  },
  {
   "cell_type": "code",
   "execution_count": 90,
   "metadata": {},
   "outputs": [
    {
     "data": {
      "text/plain": [
       "['code',\n",
       " 'file',\n",
       " 'way',\n",
       " 'error',\n",
       " 'class',\n",
       " 'method',\n",
       " 'problem',\n",
       " 'app',\n",
       " 'application',\n",
       " 'function']"
      ]
     },
     "execution_count": 90,
     "metadata": {},
     "output_type": "execute_result"
    }
   ],
   "source": [
    "w2v_words[:10]"
   ]
  },
  {
   "attachments": {},
   "cell_type": "markdown",
   "metadata": {},
   "source": [
    "2m42s"
   ]
  },
  {
   "cell_type": "code",
   "execution_count": 29,
   "metadata": {},
   "outputs": [
    {
     "data": {
      "text/plain": [
       "array([-5.67747295e-01,  2.59773731e-01, -5.35035968e-01, -1.13531685e+00,\n",
       "        4.11729783e-01, -7.25086406e-03,  1.53870845e+00, -9.73036587e-01,\n",
       "       -5.89636862e-01, -8.04858565e-01,  2.47725084e-01,  1.03626385e-01,\n",
       "       -2.65459985e-01, -1.22940958e+00,  6.80002943e-02, -5.68544567e-01,\n",
       "        1.21407950e+00, -9.76409376e-01,  1.35351881e-01, -3.96039665e-01,\n",
       "       -7.66042888e-01,  1.91071320e+00,  1.18236876e+00, -4.36552584e-01,\n",
       "        4.44232523e-02,  2.80334830e-01,  5.30744672e-01, -1.22182655e+00,\n",
       "       -1.00832939e-01, -1.34484994e+00,  1.64503276e-01,  3.19186270e-01,\n",
       "       -3.43614608e-01, -5.54043986e-02,  9.71212924e-01, -6.43014848e-01,\n",
       "       -9.25531209e-01,  2.18908405e+00,  5.24372101e-01, -6.64157808e-01,\n",
       "       -1.80299819e-01, -1.42484799e-01, -8.35925102e-01,  9.26821351e-01,\n",
       "       -1.86853379e-01, -4.54739369e-02, -1.17243326e+00, -6.72869831e-02,\n",
       "        1.61203945e+00, -4.02149588e-01, -7.05285728e-01,  4.02693421e-01,\n",
       "        8.76698494e-01,  6.95023835e-01,  4.87222299e-02,  6.72905028e-01,\n",
       "       -3.35482180e-01, -3.09942812e-01,  3.03924561e-01,  1.10921836e+00,\n",
       "        1.09258556e+00, -1.08838105e+00, -1.24316967e+00,  1.56352186e+00,\n",
       "       -8.67208302e-01,  4.46696103e-01, -6.86181057e-03,  6.56993747e-01,\n",
       "        3.08678567e-01, -1.56538457e-01, -9.18822467e-01, -5.64939529e-02,\n",
       "       -3.88189256e-01,  7.75342166e-01, -5.69549143e-01, -3.10811400e-01,\n",
       "       -1.87418506e-01,  5.13904929e-01,  2.66638398e-01,  2.10610199e+00,\n",
       "       -5.00023425e-01,  5.12566149e-01, -3.94231468e-01, -7.02418804e-01,\n",
       "        6.86938822e-01, -7.78078377e-01,  3.34626257e-01, -6.74524531e-02,\n",
       "        7.39651382e-01,  3.22645783e-01, -6.10720754e-01,  7.36589432e-02,\n",
       "        4.67152923e-01, -5.52719295e-01, -9.52218711e-01,  1.06265008e+00,\n",
       "        7.11959720e-01, -3.93526226e-01, -3.74370366e-01, -2.09835306e-01,\n",
       "       -5.93214989e-01,  1.15688741e-01, -1.32816744e+00,  2.14585476e-02,\n",
       "       -1.16048563e+00, -7.27893353e-01,  1.00730620e-01, -3.09828341e-01,\n",
       "       -1.31769165e-01, -1.90634871e+00, -1.33445072e+00, -3.84911954e-01,\n",
       "        2.06513599e-01, -1.18746686e+00,  3.27992022e-01,  1.52678341e-01,\n",
       "       -9.65077698e-01,  6.66253418e-02,  4.70501155e-01,  5.85660756e-01,\n",
       "       -7.85230637e-01, -5.81650615e-01, -5.11494339e-01,  6.22617006e-01,\n",
       "        2.48009071e-01, -4.05300707e-01, -1.39936233e+00,  1.72135994e-01,\n",
       "       -4.11383152e-01,  2.46770754e-01,  1.53122991e-01,  1.13992882e+00,\n",
       "       -5.08626342e-01,  4.82094139e-01, -1.53455234e+00, -6.68469906e-01,\n",
       "        4.23809975e-01,  6.04599237e-01,  4.63450462e-01, -8.05493355e-01,\n",
       "       -4.16716367e-01, -1.75102711e-01,  1.08719313e+00,  1.50261611e-01,\n",
       "       -5.15806556e-01,  7.56293952e-01,  7.26806998e-01, -2.83384323e-01,\n",
       "        1.03503034e-01, -1.13112485e+00,  1.50028765e+00,  9.52434182e-01,\n",
       "        9.18058813e-01, -1.04449320e+00, -1.51758647e+00,  4.69044864e-01,\n",
       "        2.18827295e+00,  1.67548969e-01, -5.75624228e-01, -7.04963431e-02,\n",
       "       -8.99371266e-01, -1.09839931e-01,  2.68195063e-01, -6.50520623e-01,\n",
       "       -6.41763091e-01,  4.72078621e-01, -8.83116007e-01,  1.02343953e+00,\n",
       "        1.38636947e-01,  8.64564478e-01, -3.90270382e-01, -2.41593778e-01,\n",
       "       -1.28527069e+00,  4.78790581e-01,  1.89684999e+00, -3.47095102e-01,\n",
       "       -7.50750750e-02,  8.15258503e-01,  5.97819448e-01,  1.12779975e-01,\n",
       "       -7.91445374e-01, -5.84340155e-01, -1.35114312e+00, -1.11957483e-01,\n",
       "       -3.47411007e-01,  1.23109899e-01,  1.72606006e-01,  4.37530190e-01,\n",
       "        5.63474059e-01, -1.13620389e+00, -3.61477584e-01, -5.56147039e-01,\n",
       "       -1.26060307e-01,  2.43248671e-01, -1.12099135e+00,  1.32605270e-01,\n",
       "        7.00297058e-01, -1.10161074e-01, -1.06241584e+00, -9.91821140e-02,\n",
       "       -3.29301596e-01, -1.15119219e+00,  7.07679451e-01, -3.30387771e-01,\n",
       "        1.26507032e+00,  1.53177619e+00, -1.45190224e-01,  5.59966803e-01,\n",
       "        1.74722418e-01,  3.34373899e-02, -6.27044082e-01, -2.66663373e-01,\n",
       "       -6.15092099e-01,  7.40594923e-01, -1.60090521e-03,  9.54294741e-01,\n",
       "       -7.56432712e-01, -1.48967147e+00, -3.61583263e-01,  5.24414778e-02,\n",
       "       -1.04118049e+00, -2.98685610e-01, -6.31915867e-01,  9.53179240e-01,\n",
       "        4.57896501e-01,  1.07799578e+00,  2.50692636e-01,  1.97533500e+00,\n",
       "       -4.87023771e-01, -1.51982665e+00, -3.30494553e-01, -1.03688061e+00,\n",
       "        1.67710379e-01,  1.66133851e-01, -6.08618617e-01,  5.04435971e-02,\n",
       "        8.36059213e-01, -2.78187084e+00, -6.49130762e-01, -2.98548609e-01,\n",
       "        8.79800141e-01,  2.26918951e-01,  6.41626358e-01,  4.43590283e-01,\n",
       "       -4.31287080e-01,  3.28153580e-01, -9.67012107e-01,  2.08155379e-01,\n",
       "        1.13792801e+00,  1.82034433e+00,  3.43057334e-01, -1.67367294e-01,\n",
       "        4.32909019e-02, -3.81674469e-01,  1.73560739e-01,  3.64565521e-01,\n",
       "        2.11664781e-01, -1.48021662e+00, -7.15828300e-01, -5.12646675e-01,\n",
       "        4.10847962e-01, -1.44971013e+00, -8.50865617e-03,  1.30090070e+00,\n",
       "       -4.29674029e-01, -3.22242603e-02,  2.70449221e-01, -2.43303165e-01,\n",
       "        1.27597940e+00,  5.81505597e-01,  1.53555423e-01, -7.76864588e-01,\n",
       "        9.42710042e-01, -1.05022955e+00, -3.68336320e-01,  1.65027440e+00,\n",
       "       -4.19661880e-01, -3.74610394e-01,  3.70939136e-01, -1.69943303e-01,\n",
       "       -1.58469892e+00,  4.01487172e-01,  8.29679251e-01, -2.12060499e+00,\n",
       "       -3.48095387e-01, -3.83784026e-01,  1.36597919e+00,  5.73302090e-01,\n",
       "        1.00764215e+00,  6.36856630e-02,  7.18494833e-01,  8.33822489e-02,\n",
       "       -2.99678035e-02,  1.81387831e-02,  1.41086948e+00, -7.27082491e-01,\n",
       "        5.24617493e-01, -1.27334997e-01, -1.12251922e-01, -1.66381866e-01],\n",
       "      dtype=float32)"
      ]
     },
     "execution_count": 29,
     "metadata": {},
     "output_type": "execute_result"
    }
   ],
   "source": [
    "w2v_model.wv['python']"
   ]
  },
  {
   "cell_type": "code",
   "execution_count": 75,
   "metadata": {},
   "outputs": [
    {
     "data": {
      "text/plain": [
       "(300,)"
      ]
     },
     "execution_count": 75,
     "metadata": {},
     "output_type": "execute_result"
    }
   ],
   "source": [
    "w2v_model.wv['python'].shape"
   ]
  },
  {
   "cell_type": "code",
   "execution_count": 30,
   "metadata": {},
   "outputs": [
    {
     "data": {
      "text/plain": [
       "[('mysqldb', 0.4492141902446747),\n",
       " ('importerror', 0.44521304965019226),\n",
       " ('tk', 0.4074421226978302),\n",
       " ('ctypes', 0.38950082659721375),\n",
       " ('.py', 0.3893679976463318),\n",
       " ('pyodbc', 0.38848060369491577),\n",
       " ('virtualenv', 0.38666635751724243),\n",
       " ('pypy', 0.3803231716156006),\n",
       " ('cffi', 0.37383726239204407),\n",
       " ('psycopg', 0.36642560362815857)]"
      ]
     },
     "execution_count": 30,
     "metadata": {},
     "output_type": "execute_result"
    }
   ],
   "source": [
    "w2v_model.wv.most_similar('python')"
   ]
  },
  {
   "cell_type": "code",
   "execution_count": 31,
   "metadata": {},
   "outputs": [
    {
     "data": {
      "text/plain": [
       "['code',\n",
       " 'file',\n",
       " 'way',\n",
       " 'error',\n",
       " 'class',\n",
       " 'method',\n",
       " 'problem',\n",
       " 'app',\n",
       " 'application',\n",
       " 'function',\n",
       " 'object',\n",
       " 'user',\n",
       " 'time',\n",
       " 'example',\n",
       " 'value']"
      ]
     },
     "execution_count": 31,
     "metadata": {},
     "output_type": "execute_result"
    }
   ],
   "source": [
    "w2v_words[:15]"
   ]
  },
  {
   "cell_type": "code",
   "execution_count": 33,
   "metadata": {},
   "outputs": [
    {
     "data": {
      "text/plain": [
       "[('second', 0.43141821026802063),\n",
       " ('interval', 0.3856694996356964),\n",
       " ('ten', 0.3572300672531128),\n",
       " ('million', 0.33818045258522034),\n",
       " ('minute', 0.3324592709541321),\n",
       " ('datum', 0.3295397460460663),\n",
       " ('run', 0.3251982033252716),\n",
       " ('millisecond', 0.3246735632419586),\n",
       " ('thousand', 0.32256191968917847),\n",
       " ('problem', 0.312601238489151)]"
      ]
     },
     "execution_count": 33,
     "metadata": {},
     "output_type": "execute_result"
    }
   ],
   "source": [
    "w2v_model.wv.most_similar('time')"
   ]
  },
  {
   "cell_type": "code",
   "execution_count": 44,
   "metadata": {},
   "outputs": [
    {
     "name": "stdout",
     "output_type": "stream",
     "text": [
      "Fit Tokenizer ...\n",
      "Number of unique words: 48456\n"
     ]
    }
   ],
   "source": [
    "# Préparation des sentences (tokenization)\n",
    "\n",
    "print(\"Fit Tokenizer ...\")\n",
    "tokenizer = Tokenizer(num_words=2000) # mon vocabulaire \n",
    "tokenizer.fit_on_texts(sentences)\n",
    "x_sentences = pad_sequences(tokenizer.texts_to_sequences(sentences),\n",
    "                                                     maxlen=maxlen,\n",
    "                                                     padding='post') \n",
    "                                                   \n",
    "num_words = len(tokenizer.word_index) + 1\n",
    "print(\"Number of unique words: %i\" % num_words)"
   ]
  },
  {
   "cell_type": "code",
   "execution_count": 45,
   "metadata": {},
   "outputs": [
    {
     "data": {
      "text/plain": [
       "['decimal', 'c#', 'variable', 'opacity', 'app', 'error', 'type']"
      ]
     },
     "execution_count": 45,
     "metadata": {},
     "output_type": "execute_result"
    }
   ],
   "source": [
    "sentences[0]"
   ]
  },
  {
   "cell_type": "code",
   "execution_count": 46,
   "metadata": {},
   "outputs": [
    {
     "data": {
      "text/plain": [
       "(1000,)"
      ]
     },
     "execution_count": 46,
     "metadata": {},
     "output_type": "execute_result"
    }
   ],
   "source": [
    "x_sentences[0].shape"
   ]
  },
  {
   "cell_type": "code",
   "execution_count": 91,
   "metadata": {},
   "outputs": [
    {
     "data": {
      "text/plain": [
       "'code'"
      ]
     },
     "execution_count": 91,
     "metadata": {},
     "output_type": "execute_result"
    }
   ],
   "source": [
    "w2v_words[0] # --> blamk token"
   ]
  },
  {
   "cell_type": "code",
   "execution_count": 89,
   "metadata": {},
   "outputs": [
    {
     "data": {
      "text/plain": [
       "array([1761,   46,   68, 1451,    8,    4,   21,    0,    0,    0,    0,\n",
       "          0,    0,    0,    0,    0,    0,    0,    0,    0,    0,    0,\n",
       "          0,    0,    0,    0,    0,    0,    0,    0,    0,    0,    0,\n",
       "          0,    0,    0,    0,    0,    0,    0,    0,    0,    0,    0,\n",
       "          0,    0,    0,    0,    0,    0,    0,    0,    0,    0,    0,\n",
       "          0,    0,    0,    0,    0,    0,    0,    0,    0,    0,    0,\n",
       "          0,    0,    0,    0,    0,    0,    0,    0,    0,    0,    0,\n",
       "          0,    0,    0,    0,    0,    0,    0,    0,    0,    0,    0,\n",
       "          0,    0,    0,    0,    0,    0,    0,    0,    0,    0,    0,\n",
       "          0,    0,    0,    0,    0,    0,    0,    0,    0,    0,    0,\n",
       "          0,    0,    0,    0,    0,    0,    0,    0,    0,    0,    0,\n",
       "          0,    0,    0,    0,    0,    0,    0,    0,    0,    0,    0,\n",
       "          0,    0,    0,    0,    0,    0,    0,    0,    0,    0,    0,\n",
       "          0,    0,    0,    0,    0,    0,    0,    0,    0,    0,    0,\n",
       "          0,    0,    0,    0,    0,    0,    0,    0,    0,    0,    0,\n",
       "          0,    0,    0,    0,    0,    0,    0,    0,    0,    0,    0,\n",
       "          0,    0,    0,    0,    0,    0,    0,    0,    0,    0,    0,\n",
       "          0,    0,    0,    0,    0,    0,    0,    0,    0,    0,    0,\n",
       "          0,    0,    0,    0,    0,    0,    0,    0,    0,    0,    0,\n",
       "          0,    0,    0,    0,    0,    0,    0,    0,    0,    0,    0,\n",
       "          0,    0,    0,    0,    0,    0,    0,    0,    0,    0,    0,\n",
       "          0,    0,    0,    0,    0,    0,    0,    0,    0,    0,    0,\n",
       "          0,    0,    0,    0,    0,    0,    0,    0,    0,    0,    0,\n",
       "          0,    0,    0,    0,    0,    0,    0,    0,    0,    0,    0,\n",
       "          0,    0,    0,    0,    0,    0,    0,    0,    0,    0,    0,\n",
       "          0,    0,    0,    0,    0,    0,    0,    0,    0,    0,    0,\n",
       "          0,    0,    0,    0,    0,    0,    0,    0,    0,    0,    0,\n",
       "          0,    0,    0,    0,    0,    0,    0,    0,    0,    0,    0,\n",
       "          0,    0,    0,    0,    0,    0,    0,    0,    0,    0,    0,\n",
       "          0,    0,    0,    0,    0,    0,    0,    0,    0,    0,    0,\n",
       "          0,    0,    0,    0,    0,    0,    0,    0,    0,    0,    0,\n",
       "          0,    0,    0,    0,    0,    0,    0,    0,    0,    0,    0,\n",
       "          0,    0,    0,    0,    0,    0,    0,    0,    0,    0,    0,\n",
       "          0,    0,    0,    0,    0,    0,    0,    0,    0,    0,    0,\n",
       "          0,    0,    0,    0,    0,    0,    0,    0,    0,    0,    0,\n",
       "          0,    0,    0,    0,    0,    0,    0,    0,    0,    0,    0,\n",
       "          0,    0,    0,    0,    0,    0,    0,    0,    0,    0,    0,\n",
       "          0,    0,    0,    0,    0,    0,    0,    0,    0,    0,    0,\n",
       "          0,    0,    0,    0,    0,    0,    0,    0,    0,    0,    0,\n",
       "          0,    0,    0,    0,    0,    0,    0,    0,    0,    0,    0,\n",
       "          0,    0,    0,    0,    0,    0,    0,    0,    0,    0,    0,\n",
       "          0,    0,    0,    0,    0,    0,    0,    0,    0,    0,    0,\n",
       "          0,    0,    0,    0,    0,    0,    0,    0,    0,    0,    0,\n",
       "          0,    0,    0,    0,    0,    0,    0,    0,    0,    0,    0,\n",
       "          0,    0,    0,    0,    0,    0,    0,    0,    0,    0,    0,\n",
       "          0,    0,    0,    0,    0,    0,    0,    0,    0,    0,    0,\n",
       "          0,    0,    0,    0,    0,    0,    0,    0,    0,    0,    0,\n",
       "          0,    0,    0,    0,    0,    0,    0,    0,    0,    0,    0,\n",
       "          0,    0,    0,    0,    0,    0,    0,    0,    0,    0,    0,\n",
       "          0,    0,    0,    0,    0,    0,    0,    0,    0,    0,    0,\n",
       "          0,    0,    0,    0,    0,    0,    0,    0,    0,    0,    0,\n",
       "          0,    0,    0,    0,    0,    0,    0,    0,    0,    0,    0,\n",
       "          0,    0,    0,    0,    0,    0,    0,    0,    0,    0,    0,\n",
       "          0,    0,    0,    0,    0,    0,    0,    0,    0,    0,    0,\n",
       "          0,    0,    0,    0,    0,    0,    0,    0,    0,    0,    0,\n",
       "          0,    0,    0,    0,    0,    0,    0,    0,    0,    0,    0,\n",
       "          0,    0,    0,    0,    0,    0,    0,    0,    0,    0,    0,\n",
       "          0,    0,    0,    0,    0,    0,    0,    0,    0,    0,    0,\n",
       "          0,    0,    0,    0,    0,    0,    0,    0,    0,    0,    0,\n",
       "          0,    0,    0,    0,    0,    0,    0,    0,    0,    0,    0,\n",
       "          0,    0,    0,    0,    0,    0,    0,    0,    0,    0,    0,\n",
       "          0,    0,    0,    0,    0,    0,    0,    0,    0,    0,    0,\n",
       "          0,    0,    0,    0,    0,    0,    0,    0,    0,    0,    0,\n",
       "          0,    0,    0,    0,    0,    0,    0,    0,    0,    0,    0,\n",
       "          0,    0,    0,    0,    0,    0,    0,    0,    0,    0,    0,\n",
       "          0,    0,    0,    0,    0,    0,    0,    0,    0,    0,    0,\n",
       "          0,    0,    0,    0,    0,    0,    0,    0,    0,    0,    0,\n",
       "          0,    0,    0,    0,    0,    0,    0,    0,    0,    0,    0,\n",
       "          0,    0,    0,    0,    0,    0,    0,    0,    0,    0,    0,\n",
       "          0,    0,    0,    0,    0,    0,    0,    0,    0,    0,    0,\n",
       "          0,    0,    0,    0,    0,    0,    0,    0,    0,    0,    0,\n",
       "          0,    0,    0,    0,    0,    0,    0,    0,    0,    0,    0,\n",
       "          0,    0,    0,    0,    0,    0,    0,    0,    0,    0,    0,\n",
       "          0,    0,    0,    0,    0,    0,    0,    0,    0,    0,    0,\n",
       "          0,    0,    0,    0,    0,    0,    0,    0,    0,    0,    0,\n",
       "          0,    0,    0,    0,    0,    0,    0,    0,    0,    0,    0,\n",
       "          0,    0,    0,    0,    0,    0,    0,    0,    0,    0,    0,\n",
       "          0,    0,    0,    0,    0,    0,    0,    0,    0,    0,    0,\n",
       "          0,    0,    0,    0,    0,    0,    0,    0,    0,    0,    0,\n",
       "          0,    0,    0,    0,    0,    0,    0,    0,    0,    0,    0,\n",
       "          0,    0,    0,    0,    0,    0,    0,    0,    0,    0,    0,\n",
       "          0,    0,    0,    0,    0,    0,    0,    0,    0,    0,    0,\n",
       "          0,    0,    0,    0,    0,    0,    0,    0,    0,    0,    0,\n",
       "          0,    0,    0,    0,    0,    0,    0,    0,    0,    0,    0,\n",
       "          0,    0,    0,    0,    0,    0,    0,    0,    0,    0,    0,\n",
       "          0,    0,    0,    0,    0,    0,    0,    0,    0,    0,    0,\n",
       "          0,    0,    0,    0,    0,    0,    0,    0,    0,    0,    0,\n",
       "          0,    0,    0,    0,    0,    0,    0,    0,    0,    0,    0,\n",
       "          0,    0,    0,    0,    0,    0,    0,    0,    0,    0,    0,\n",
       "          0,    0,    0,    0,    0,    0,    0,    0,    0,    0,    0,\n",
       "          0,    0,    0,    0,    0,    0,    0,    0,    0,    0],\n",
       "      dtype=int32)"
      ]
     },
     "execution_count": 89,
     "metadata": {},
     "output_type": "execute_result"
    }
   ],
   "source": [
    "x_sentences[0]"
   ]
  },
  {
   "attachments": {},
   "cell_type": "markdown",
   "metadata": {},
   "source": [
    "## Création de la matrice d'embedding"
   ]
  },
  {
   "cell_type": "code",
   "execution_count": 47,
   "metadata": {},
   "outputs": [
    {
     "name": "stdout",
     "output_type": "stream",
     "text": [
      "Create Embedding matrix ...\n",
      "Word embedding rate :  0.2767\n",
      "Embedding matrix: (48456, 300)\n"
     ]
    }
   ],
   "source": [
    "# Création de la matrice d'embedding\n",
    "\n",
    "print(\"Create Embedding matrix ...\")\n",
    "w2v_size = 300\n",
    "word_index = tokenizer.word_index\n",
    "vocab_size = len(word_index) + 1\n",
    "embedding_matrix = np.zeros((vocab_size, w2v_size))\n",
    "i=0\n",
    "j=0\n",
    "    \n",
    "for word, idx in word_index.items():\n",
    "    i +=1\n",
    "    if word in w2v_words:\n",
    "        j +=1\n",
    "        embedding_vector = model_vectors[word]\n",
    "        if embedding_vector is not None:\n",
    "            embedding_matrix[idx] = model_vectors[word]\n",
    "            \n",
    "word_rate = np.round(j/i,4)\n",
    "print(\"Word embedding rate : \", word_rate)\n",
    "print(\"Embedding matrix: %s\" % str(embedding_matrix.shape))"
   ]
  },
  {
   "attachments": {},
   "cell_type": "markdown",
   "metadata": {},
   "source": [
    "## Création du modèle d'embedding"
   ]
  },
  {
   "cell_type": "code",
   "execution_count": 49,
   "metadata": {},
   "outputs": [
    {
     "name": "stdout",
     "output_type": "stream",
     "text": [
      "Model: \"model_1\"\n",
      "_________________________________________________________________\n",
      " Layer (type)                Output Shape              Param #   \n",
      "=================================================================\n",
      " input_4 (InputLayer)        [(None, 1000)]            0         \n",
      "                                                                 \n",
      " embedding_1 (Embedding)     (None, 1000, 300)         14536800  \n",
      "                                                                 \n",
      " global_average_pooling1d_1   (None, 300)              0         \n",
      " (GlobalAveragePooling1D)                                        \n",
      "                                                                 \n",
      "=================================================================\n",
      "Total params: 14,536,800\n",
      "Trainable params: 14,536,800\n",
      "Non-trainable params: 0\n",
      "_________________________________________________________________\n"
     ]
    }
   ],
   "source": [
    "# Création du modèle\n",
    "\n",
    "input=Input(shape=(len(x_sentences),maxlen),dtype='float64')\n",
    "word_input=Input(shape=(maxlen,),dtype='float64')  \n",
    "word_embedding=Embedding(input_dim=vocab_size,\n",
    "                         output_dim=w2v_size,\n",
    "                         weights = [embedding_matrix],\n",
    "                         input_length=maxlen)(word_input)\n",
    "word_vec=GlobalAveragePooling1D()(word_embedding)  \n",
    "embed_model = Model([word_input],word_vec)\n",
    "\n",
    "embed_model.summary()"
   ]
  },
  {
   "cell_type": "code",
   "execution_count": null,
   "metadata": {},
   "outputs": [],
   "source": []
  },
  {
   "attachments": {},
   "cell_type": "markdown",
   "metadata": {},
   "source": [
    "## Exécution du modèle"
   ]
  },
  {
   "cell_type": "code",
   "execution_count": 50,
   "metadata": {},
   "outputs": [
    {
     "name": "stderr",
     "output_type": "stream",
     "text": [
      "2023-02-14 10:33:34.132032: W tensorflow/tsl/framework/cpu_allocator_impl.cc:82] Allocation of 127712000 exceeds 10% of free system memory.\n"
     ]
    },
    {
     "name": "stdout",
     "output_type": "stream",
     "text": [
      "998/998 [==============================] - 22s 22ms/step\n"
     ]
    },
    {
     "data": {
      "text/plain": [
       "(31928, 300)"
      ]
     },
     "execution_count": 50,
     "metadata": {},
     "output_type": "execute_result"
    }
   ],
   "source": [
    "embeddings = embed_model.predict(x_sentences)\n",
    "embeddings.shape"
   ]
  },
  {
   "cell_type": "code",
   "execution_count": 52,
   "metadata": {},
   "outputs": [],
   "source": [
    "X = embeddings"
   ]
  },
  {
   "cell_type": "code",
   "execution_count": 53,
   "metadata": {},
   "outputs": [],
   "source": [
    "columns_tags = ['tag_'+tag for tag in tag_list]\n",
    "y = df[columns_tags]"
   ]
  },
  {
   "cell_type": "code",
   "execution_count": 54,
   "metadata": {},
   "outputs": [
    {
     "data": {
      "text/html": [
       "<div>\n",
       "<style scoped>\n",
       "    .dataframe tbody tr th:only-of-type {\n",
       "        vertical-align: middle;\n",
       "    }\n",
       "\n",
       "    .dataframe tbody tr th {\n",
       "        vertical-align: top;\n",
       "    }\n",
       "\n",
       "    .dataframe thead th {\n",
       "        text-align: right;\n",
       "    }\n",
       "</style>\n",
       "<table border=\"1\" class=\"dataframe\">\n",
       "  <thead>\n",
       "    <tr style=\"text-align: right;\">\n",
       "      <th></th>\n",
       "      <th>tag_c#</th>\n",
       "      <th>tag_java</th>\n",
       "      <th>tag_javascript</th>\n",
       "      <th>tag_python</th>\n",
       "      <th>tag_c++</th>\n",
       "      <th>tag_ios</th>\n",
       "      <th>tag_android</th>\n",
       "      <th>tag_.net</th>\n",
       "      <th>tag_html</th>\n",
       "      <th>tag_php</th>\n",
       "    </tr>\n",
       "    <tr>\n",
       "      <th>Id</th>\n",
       "      <th></th>\n",
       "      <th></th>\n",
       "      <th></th>\n",
       "      <th></th>\n",
       "      <th></th>\n",
       "      <th></th>\n",
       "      <th></th>\n",
       "      <th></th>\n",
       "      <th></th>\n",
       "      <th></th>\n",
       "    </tr>\n",
       "  </thead>\n",
       "  <tbody>\n",
       "    <tr>\n",
       "      <th>4</th>\n",
       "      <td>1</td>\n",
       "      <td>0</td>\n",
       "      <td>0</td>\n",
       "      <td>0</td>\n",
       "      <td>0</td>\n",
       "      <td>0</td>\n",
       "      <td>0</td>\n",
       "      <td>0</td>\n",
       "      <td>0</td>\n",
       "      <td>0</td>\n",
       "    </tr>\n",
       "    <tr>\n",
       "      <th>11</th>\n",
       "      <td>1</td>\n",
       "      <td>0</td>\n",
       "      <td>0</td>\n",
       "      <td>0</td>\n",
       "      <td>0</td>\n",
       "      <td>0</td>\n",
       "      <td>0</td>\n",
       "      <td>0</td>\n",
       "      <td>0</td>\n",
       "      <td>0</td>\n",
       "    </tr>\n",
       "    <tr>\n",
       "      <th>13</th>\n",
       "      <td>0</td>\n",
       "      <td>0</td>\n",
       "      <td>0</td>\n",
       "      <td>0</td>\n",
       "      <td>0</td>\n",
       "      <td>0</td>\n",
       "      <td>0</td>\n",
       "      <td>0</td>\n",
       "      <td>1</td>\n",
       "      <td>0</td>\n",
       "    </tr>\n",
       "    <tr>\n",
       "      <th>25</th>\n",
       "      <td>0</td>\n",
       "      <td>0</td>\n",
       "      <td>0</td>\n",
       "      <td>0</td>\n",
       "      <td>1</td>\n",
       "      <td>0</td>\n",
       "      <td>0</td>\n",
       "      <td>0</td>\n",
       "      <td>0</td>\n",
       "      <td>0</td>\n",
       "    </tr>\n",
       "    <tr>\n",
       "      <th>109</th>\n",
       "      <td>1</td>\n",
       "      <td>0</td>\n",
       "      <td>0</td>\n",
       "      <td>0</td>\n",
       "      <td>0</td>\n",
       "      <td>0</td>\n",
       "      <td>0</td>\n",
       "      <td>0</td>\n",
       "      <td>0</td>\n",
       "      <td>0</td>\n",
       "    </tr>\n",
       "    <tr>\n",
       "      <th>...</th>\n",
       "      <td>...</td>\n",
       "      <td>...</td>\n",
       "      <td>...</td>\n",
       "      <td>...</td>\n",
       "      <td>...</td>\n",
       "      <td>...</td>\n",
       "      <td>...</td>\n",
       "      <td>...</td>\n",
       "      <td>...</td>\n",
       "      <td>...</td>\n",
       "    </tr>\n",
       "    <tr>\n",
       "      <th>75115453</th>\n",
       "      <td>0</td>\n",
       "      <td>0</td>\n",
       "      <td>0</td>\n",
       "      <td>1</td>\n",
       "      <td>0</td>\n",
       "      <td>0</td>\n",
       "      <td>0</td>\n",
       "      <td>0</td>\n",
       "      <td>0</td>\n",
       "      <td>0</td>\n",
       "    </tr>\n",
       "    <tr>\n",
       "      <th>75120349</th>\n",
       "      <td>0</td>\n",
       "      <td>1</td>\n",
       "      <td>0</td>\n",
       "      <td>0</td>\n",
       "      <td>0</td>\n",
       "      <td>0</td>\n",
       "      <td>0</td>\n",
       "      <td>0</td>\n",
       "      <td>0</td>\n",
       "      <td>0</td>\n",
       "    </tr>\n",
       "    <tr>\n",
       "      <th>75128330</th>\n",
       "      <td>0</td>\n",
       "      <td>0</td>\n",
       "      <td>1</td>\n",
       "      <td>1</td>\n",
       "      <td>0</td>\n",
       "      <td>0</td>\n",
       "      <td>0</td>\n",
       "      <td>0</td>\n",
       "      <td>0</td>\n",
       "      <td>0</td>\n",
       "    </tr>\n",
       "    <tr>\n",
       "      <th>75202703</th>\n",
       "      <td>0</td>\n",
       "      <td>0</td>\n",
       "      <td>0</td>\n",
       "      <td>0</td>\n",
       "      <td>1</td>\n",
       "      <td>0</td>\n",
       "      <td>0</td>\n",
       "      <td>0</td>\n",
       "      <td>0</td>\n",
       "      <td>0</td>\n",
       "    </tr>\n",
       "    <tr>\n",
       "      <th>75216821</th>\n",
       "      <td>0</td>\n",
       "      <td>0</td>\n",
       "      <td>0</td>\n",
       "      <td>0</td>\n",
       "      <td>1</td>\n",
       "      <td>0</td>\n",
       "      <td>0</td>\n",
       "      <td>0</td>\n",
       "      <td>0</td>\n",
       "      <td>0</td>\n",
       "    </tr>\n",
       "  </tbody>\n",
       "</table>\n",
       "<p>31928 rows × 10 columns</p>\n",
       "</div>"
      ],
      "text/plain": [
       "          tag_c#  tag_java  tag_javascript  tag_python  tag_c++  tag_ios  \\\n",
       "Id                                                                         \n",
       "4              1         0               0           0        0        0   \n",
       "11             1         0               0           0        0        0   \n",
       "13             0         0               0           0        0        0   \n",
       "25             0         0               0           0        1        0   \n",
       "109            1         0               0           0        0        0   \n",
       "...          ...       ...             ...         ...      ...      ...   \n",
       "75115453       0         0               0           1        0        0   \n",
       "75120349       0         1               0           0        0        0   \n",
       "75128330       0         0               1           1        0        0   \n",
       "75202703       0         0               0           0        1        0   \n",
       "75216821       0         0               0           0        1        0   \n",
       "\n",
       "          tag_android  tag_.net  tag_html  tag_php  \n",
       "Id                                                  \n",
       "4                   0         0         0        0  \n",
       "11                  0         0         0        0  \n",
       "13                  0         0         1        0  \n",
       "25                  0         0         0        0  \n",
       "109                 0         0         0        0  \n",
       "...               ...       ...       ...      ...  \n",
       "75115453            0         0         0        0  \n",
       "75120349            0         0         0        0  \n",
       "75128330            0         0         0        0  \n",
       "75202703            0         0         0        0  \n",
       "75216821            0         0         0        0  \n",
       "\n",
       "[31928 rows x 10 columns]"
      ]
     },
     "execution_count": 54,
     "metadata": {},
     "output_type": "execute_result"
    }
   ],
   "source": [
    "y"
   ]
  },
  {
   "cell_type": "code",
   "execution_count": 58,
   "metadata": {},
   "outputs": [
    {
     "name": "stdout",
     "output_type": "stream",
     "text": [
      "fit time: 342.1377854347229 secs.\n",
      "predict time: 5.711252927780151 secs.\n"
     ]
    }
   ],
   "source": [
    "\n",
    "X_train, X_test, y_train, y_test = train_test_split(\n",
    "    X,y, test_size=0.33, random_state=5\n",
    ")\n",
    "\n",
    "cl = OneVsRestClassifier(RandomForestClassifier(random_state=1))\n",
    "\n",
    "start = time.time()\n",
    "cl.fit(X_train,y_train)\n",
    "finish = time.time()\n",
    "print(f'fit time: {finish - start} secs.')\n",
    "\n",
    "start = time.time()\n",
    "y_pred_train = cl.predict_proba(X_train) > 0.5\n",
    "finish = time.time()\n",
    "print(f'predict time: {finish - start} secs.')\n",
    "\n",
    "y_pred_test = cl.predict(X_test)\n"
   ]
  },
  {
   "cell_type": "markdown",
   "metadata": {},
   "source": [
    "See scikit-learns's module on [Multiclass and multilabel classification](https://scikit-learn.org/stable/modules/model_evaluation.html#multiclass-and-multilabel-classification)"
   ]
  },
  {
   "cell_type": "code",
   "execution_count": 65,
   "metadata": {},
   "outputs": [
    {
     "data": {
      "text/html": [
       "<div>\n",
       "<style scoped>\n",
       "    .dataframe tbody tr th:only-of-type {\n",
       "        vertical-align: middle;\n",
       "    }\n",
       "\n",
       "    .dataframe tbody tr th {\n",
       "        vertical-align: top;\n",
       "    }\n",
       "\n",
       "    .dataframe thead th {\n",
       "        text-align: right;\n",
       "    }\n",
       "</style>\n",
       "<table border=\"1\" class=\"dataframe\">\n",
       "  <thead>\n",
       "    <tr style=\"text-align: right;\">\n",
       "      <th></th>\n",
       "      <th>tag</th>\n",
       "      <th>precision</th>\n",
       "      <th>recall</th>\n",
       "      <th>f1_score</th>\n",
       "      <th>accuracy</th>\n",
       "      <th>support</th>\n",
       "      <th>support_not_tag</th>\n",
       "    </tr>\n",
       "  </thead>\n",
       "  <tbody>\n",
       "    <tr>\n",
       "      <th>0</th>\n",
       "      <td>c#</td>\n",
       "      <td>0.999971</td>\n",
       "      <td>0.999876</td>\n",
       "      <td>0.999923</td>\n",
       "      <td>0.999953</td>\n",
       "      <td>17372</td>\n",
       "      <td>4019</td>\n",
       "    </tr>\n",
       "    <tr>\n",
       "      <th>1</th>\n",
       "      <td>java</td>\n",
       "      <td>0.999861</td>\n",
       "      <td>0.999972</td>\n",
       "      <td>0.999916</td>\n",
       "      <td>0.999953</td>\n",
       "      <td>17807</td>\n",
       "      <td>3584</td>\n",
       "    </tr>\n",
       "    <tr>\n",
       "      <th>2</th>\n",
       "      <td>javascript</td>\n",
       "      <td>1.000000</td>\n",
       "      <td>1.000000</td>\n",
       "      <td>1.000000</td>\n",
       "      <td>1.000000</td>\n",
       "      <td>18272</td>\n",
       "      <td>3119</td>\n",
       "    </tr>\n",
       "    <tr>\n",
       "      <th>3</th>\n",
       "      <td>python</td>\n",
       "      <td>1.000000</td>\n",
       "      <td>1.000000</td>\n",
       "      <td>1.000000</td>\n",
       "      <td>1.000000</td>\n",
       "      <td>18299</td>\n",
       "      <td>3092</td>\n",
       "    </tr>\n",
       "    <tr>\n",
       "      <th>4</th>\n",
       "      <td>c++</td>\n",
       "      <td>0.999947</td>\n",
       "      <td>0.999599</td>\n",
       "      <td>0.999773</td>\n",
       "      <td>0.999907</td>\n",
       "      <td>18895</td>\n",
       "      <td>2496</td>\n",
       "    </tr>\n",
       "    <tr>\n",
       "      <th>5</th>\n",
       "      <td>ios</td>\n",
       "      <td>0.999974</td>\n",
       "      <td>0.999774</td>\n",
       "      <td>0.999874</td>\n",
       "      <td>0.999953</td>\n",
       "      <td>19183</td>\n",
       "      <td>2208</td>\n",
       "    </tr>\n",
       "    <tr>\n",
       "      <th>6</th>\n",
       "      <td>android</td>\n",
       "      <td>1.000000</td>\n",
       "      <td>1.000000</td>\n",
       "      <td>1.000000</td>\n",
       "      <td>1.000000</td>\n",
       "      <td>19463</td>\n",
       "      <td>1928</td>\n",
       "    </tr>\n",
       "    <tr>\n",
       "      <th>7</th>\n",
       "      <td>.net</td>\n",
       "      <td>1.000000</td>\n",
       "      <td>1.000000</td>\n",
       "      <td>1.000000</td>\n",
       "      <td>1.000000</td>\n",
       "      <td>19331</td>\n",
       "      <td>2060</td>\n",
       "    </tr>\n",
       "    <tr>\n",
       "      <th>8</th>\n",
       "      <td>html</td>\n",
       "      <td>0.999975</td>\n",
       "      <td>0.999638</td>\n",
       "      <td>0.999807</td>\n",
       "      <td>0.999953</td>\n",
       "      <td>20009</td>\n",
       "      <td>1382</td>\n",
       "    </tr>\n",
       "    <tr>\n",
       "      <th>9</th>\n",
       "      <td>php</td>\n",
       "      <td>1.000000</td>\n",
       "      <td>1.000000</td>\n",
       "      <td>1.000000</td>\n",
       "      <td>1.000000</td>\n",
       "      <td>20074</td>\n",
       "      <td>1317</td>\n",
       "    </tr>\n",
       "  </tbody>\n",
       "</table>\n",
       "</div>"
      ],
      "text/plain": [
       "          tag  precision    recall  f1_score  accuracy  support  \\\n",
       "0          c#   0.999971  0.999876  0.999923  0.999953    17372   \n",
       "1        java   0.999861  0.999972  0.999916  0.999953    17807   \n",
       "2  javascript   1.000000  1.000000  1.000000  1.000000    18272   \n",
       "3      python   1.000000  1.000000  1.000000  1.000000    18299   \n",
       "4         c++   0.999947  0.999599  0.999773  0.999907    18895   \n",
       "5         ios   0.999974  0.999774  0.999874  0.999953    19183   \n",
       "6     android   1.000000  1.000000  1.000000  1.000000    19463   \n",
       "7        .net   1.000000  1.000000  1.000000  1.000000    19331   \n",
       "8        html   0.999975  0.999638  0.999807  0.999953    20009   \n",
       "9         php   1.000000  1.000000  1.000000  1.000000    20074   \n",
       "\n",
       "   support_not_tag  \n",
       "0             4019  \n",
       "1             3584  \n",
       "2             3119  \n",
       "3             3092  \n",
       "4             2496  \n",
       "5             2208  \n",
       "6             1928  \n",
       "7             2060  \n",
       "8             1382  \n",
       "9             1317  "
      ]
     },
     "execution_count": 65,
     "metadata": {},
     "output_type": "execute_result"
    }
   ],
   "source": [
    "classif_report, avg_metrics = classif_report_per_tag(tag_list,y_train,y_pred_train)\n",
    "classif_report"
   ]
  },
  {
   "cell_type": "code",
   "execution_count": null,
   "metadata": {},
   "outputs": [],
   "source": []
  },
  {
   "cell_type": "code",
   "execution_count": 80,
   "metadata": {},
   "outputs": [
    {
     "name": "stdout",
     "output_type": "stream",
     "text": [
      "              precision    recall  f1-score   support\n",
      "\n",
      "           0       1.00      1.00      1.00      4019\n",
      "           1       1.00      1.00      1.00      3584\n",
      "           2       1.00      1.00      1.00      3119\n",
      "           3       1.00      1.00      1.00      3092\n",
      "           4       1.00      1.00      1.00      2496\n",
      "           5       1.00      1.00      1.00      2208\n",
      "           6       1.00      1.00      1.00      1928\n",
      "           7       1.00      1.00      1.00      2060\n",
      "           8       1.00      1.00      1.00      1382\n",
      "           9       1.00      1.00      1.00      1317\n",
      "\n",
      "   micro avg       1.00      1.00      1.00     25205\n",
      "   macro avg       1.00      1.00      1.00     25205\n",
      "weighted avg       1.00      1.00      1.00     25205\n",
      " samples avg       1.00      1.00      1.00     25205\n",
      "\n"
     ]
    },
    {
     "name": "stderr",
     "output_type": "stream",
     "text": [
      "/home/ana/.local/lib/python3.10/site-packages/sklearn/metrics/_classification.py:1334: UndefinedMetricWarning: Precision and F-score are ill-defined and being set to 0.0 in samples with no predicted labels. Use `zero_division` parameter to control this behavior.\n",
      "  _warn_prf(average, modifier, msg_start, len(result))\n"
     ]
    }
   ],
   "source": [
    "classif_rep_c = classification_report(\n",
    "    y_train, \n",
    "    y_pred_train,\n",
    "    output_dict=False)\n",
    "print(classif_rep_c)"
   ]
  },
  {
   "cell_type": "code",
   "execution_count": 78,
   "metadata": {},
   "outputs": [
    {
     "name": "stdout",
     "output_type": "stream",
     "text": [
      "              precision    recall  f1-score   support\n",
      "\n",
      "           0       0.84      0.28      0.42      1920\n",
      "           1       0.96      0.34      0.51      1761\n",
      "           2       0.82      0.32      0.46      1592\n",
      "           3       0.97      0.37      0.54      1430\n",
      "           4       0.93      0.46      0.61      1276\n",
      "           5       0.94      0.41      0.58      1123\n",
      "           6       0.96      0.29      0.45       974\n",
      "           7       0.68      0.04      0.08      1002\n",
      "           8       0.75      0.21      0.33       745\n",
      "           9       0.97      0.09      0.16       634\n",
      "\n",
      "   micro avg       0.90      0.30      0.45     12457\n",
      "   macro avg       0.88      0.28      0.41     12457\n",
      "weighted avg       0.88      0.30      0.44     12457\n",
      " samples avg       0.34      0.32      0.33     12457\n",
      "\n"
     ]
    },
    {
     "name": "stderr",
     "output_type": "stream",
     "text": [
      "/home/ana/.local/lib/python3.10/site-packages/sklearn/metrics/_classification.py:1334: UndefinedMetricWarning: Precision and F-score are ill-defined and being set to 0.0 in samples with no predicted labels. Use `zero_division` parameter to control this behavior.\n",
      "  _warn_prf(average, modifier, msg_start, len(result))\n"
     ]
    }
   ],
   "source": [
    "classif_rep_c = classification_report(\n",
    "    y_test, \n",
    "    y_pred_test,\n",
    "    output_dict=False)\n",
    "print(classif_rep_c)"
   ]
  },
  {
   "cell_type": "code",
   "execution_count": 66,
   "metadata": {},
   "outputs": [
    {
     "name": "stdout",
     "output_type": "stream",
     "text": [
      "Global average metrics:\n",
      "precision 1.0\n",
      "recall 1.0\n",
      "f1_score 1.0\n",
      "accuracy 1.0\n"
     ]
    },
    {
     "data": {
      "image/png": "[encoded data removed]",
      "text/plain": [
       "<Figure size 720x432 with 1 Axes>"
      ]
     },
     "metadata": {
      "needs_background": "light"
     },
     "output_type": "display_data"
    }
   ],
   "source": [
    "model_name = 'RandomForestClassifier'\n",
    "\n",
    "print('Global average metrics:')\n",
    "for met in avg_metrics.index:\n",
    "    print(met, avg_metrics[met].round(3))\n",
    "    \n",
    "plot_classif_report_per_tag(classif_report,model_name,'train')"
   ]
  },
  {
   "cell_type": "code",
   "execution_count": 67,
   "metadata": {},
   "outputs": [],
   "source": [
    "classif_report, avg_metrics = classif_report_per_tag(tag_list,y_test,y_pred_test)"
   ]
  },
  {
   "cell_type": "code",
   "execution_count": 68,
   "metadata": {},
   "outputs": [
    {
     "data": {
      "text/html": [
       "<div>\n",
       "<style scoped>\n",
       "    .dataframe tbody tr th:only-of-type {\n",
       "        vertical-align: middle;\n",
       "    }\n",
       "\n",
       "    .dataframe tbody tr th {\n",
       "        vertical-align: top;\n",
       "    }\n",
       "\n",
       "    .dataframe thead th {\n",
       "        text-align: right;\n",
       "    }\n",
       "</style>\n",
       "<table border=\"1\" class=\"dataframe\">\n",
       "  <thead>\n",
       "    <tr style=\"text-align: right;\">\n",
       "      <th></th>\n",
       "      <th>tag</th>\n",
       "      <th>precision</th>\n",
       "      <th>recall</th>\n",
       "      <th>f1_score</th>\n",
       "      <th>accuracy</th>\n",
       "      <th>support</th>\n",
       "      <th>support_not_tag</th>\n",
       "    </tr>\n",
       "  </thead>\n",
       "  <tbody>\n",
       "    <tr>\n",
       "      <th>0</th>\n",
       "      <td>c#</td>\n",
       "      <td>0.847885</td>\n",
       "      <td>0.634937</td>\n",
       "      <td>0.670853</td>\n",
       "      <td>0.859068</td>\n",
       "      <td>8617</td>\n",
       "      <td>1920</td>\n",
       "    </tr>\n",
       "    <tr>\n",
       "      <th>1</th>\n",
       "      <td>java</td>\n",
       "      <td>0.922735</td>\n",
       "      <td>0.670978</td>\n",
       "      <td>0.722235</td>\n",
       "      <td>0.888203</td>\n",
       "      <td>8776</td>\n",
       "      <td>1761</td>\n",
       "    </tr>\n",
       "    <tr>\n",
       "      <th>2</th>\n",
       "      <td>javascript</td>\n",
       "      <td>0.857113</td>\n",
       "      <td>0.654655</td>\n",
       "      <td>0.699707</td>\n",
       "      <td>0.887065</td>\n",
       "      <td>8945</td>\n",
       "      <td>1592</td>\n",
       "    </tr>\n",
       "    <tr>\n",
       "      <th>3</th>\n",
       "      <td>python</td>\n",
       "      <td>0.938102</td>\n",
       "      <td>0.686369</td>\n",
       "      <td>0.746111</td>\n",
       "      <td>0.913353</td>\n",
       "      <td>9107</td>\n",
       "      <td>1430</td>\n",
       "    </tr>\n",
       "    <tr>\n",
       "      <th>4</th>\n",
       "      <td>c++</td>\n",
       "      <td>0.928567</td>\n",
       "      <td>0.726357</td>\n",
       "      <td>0.787150</td>\n",
       "      <td>0.929961</td>\n",
       "      <td>9261</td>\n",
       "      <td>1276</td>\n",
       "    </tr>\n",
       "    <tr>\n",
       "      <th>5</th>\n",
       "      <td>ios</td>\n",
       "      <td>0.937042</td>\n",
       "      <td>0.705887</td>\n",
       "      <td>0.770176</td>\n",
       "      <td>0.934801</td>\n",
       "      <td>9414</td>\n",
       "      <td>1123</td>\n",
       "    </tr>\n",
       "    <tr>\n",
       "      <th>6</th>\n",
       "      <td>android</td>\n",
       "      <td>0.947780</td>\n",
       "      <td>0.645729</td>\n",
       "      <td>0.706736</td>\n",
       "      <td>0.933567</td>\n",
       "      <td>9563</td>\n",
       "      <td>974</td>\n",
       "    </tr>\n",
       "    <tr>\n",
       "      <th>7</th>\n",
       "      <td>.net</td>\n",
       "      <td>0.792721</td>\n",
       "      <td>0.520855</td>\n",
       "      <td>0.516771</td>\n",
       "      <td>0.907089</td>\n",
       "      <td>9535</td>\n",
       "      <td>1002</td>\n",
       "    </tr>\n",
       "    <tr>\n",
       "      <th>8</th>\n",
       "      <td>html</td>\n",
       "      <td>0.845497</td>\n",
       "      <td>0.604625</td>\n",
       "      <td>0.650957</td>\n",
       "      <td>0.939357</td>\n",
       "      <td>9792</td>\n",
       "      <td>745</td>\n",
       "    </tr>\n",
       "    <tr>\n",
       "      <th>9</th>\n",
       "      <td>php</td>\n",
       "      <td>0.955517</td>\n",
       "      <td>0.544852</td>\n",
       "      <td>0.568047</td>\n",
       "      <td>0.945051</td>\n",
       "      <td>9903</td>\n",
       "      <td>634</td>\n",
       "    </tr>\n",
       "  </tbody>\n",
       "</table>\n",
       "</div>"
      ],
      "text/plain": [
       "          tag  precision    recall  f1_score  accuracy  support  \\\n",
       "0          c#   0.847885  0.634937  0.670853  0.859068     8617   \n",
       "1        java   0.922735  0.670978  0.722235  0.888203     8776   \n",
       "2  javascript   0.857113  0.654655  0.699707  0.887065     8945   \n",
       "3      python   0.938102  0.686369  0.746111  0.913353     9107   \n",
       "4         c++   0.928567  0.726357  0.787150  0.929961     9261   \n",
       "5         ios   0.937042  0.705887  0.770176  0.934801     9414   \n",
       "6     android   0.947780  0.645729  0.706736  0.933567     9563   \n",
       "7        .net   0.792721  0.520855  0.516771  0.907089     9535   \n",
       "8        html   0.845497  0.604625  0.650957  0.939357     9792   \n",
       "9         php   0.955517  0.544852  0.568047  0.945051     9903   \n",
       "\n",
       "   support_not_tag  \n",
       "0             1920  \n",
       "1             1761  \n",
       "2             1592  \n",
       "3             1430  \n",
       "4             1276  \n",
       "5             1123  \n",
       "6              974  \n",
       "7             1002  \n",
       "8              745  \n",
       "9              634  "
      ]
     },
     "execution_count": 68,
     "metadata": {},
     "output_type": "execute_result"
    }
   ],
   "source": [
    "classif_report"
   ]
  },
  {
   "cell_type": "code",
   "execution_count": 69,
   "metadata": {},
   "outputs": [
    {
     "name": "stdout",
     "output_type": "stream",
     "text": [
      "Global average metrics:\n",
      "precision 0.9\n",
      "recall 0.64\n",
      "f1_score 0.68\n",
      "accuracy 0.91\n"
     ]
    },
    {
     "data": {
      "image/png": "[encoded data removed]",
      "text/plain": [
       "<Figure size 720x432 with 1 Axes>"
      ]
     },
     "metadata": {
      "needs_background": "light"
     },
     "output_type": "display_data"
    }
   ],
   "source": [
    "model_name = 'RandomForestClassifier'\n",
    "\n",
    "print('Global average metrics:')\n",
    "for met in avg_metrics.index:\n",
    "    print(met, avg_metrics[met].round(2))\n",
    "    \n",
    "plot_classif_report_per_tag(classif_report,model_name,'test')"
   ]
  },
  {
   "cell_type": "markdown",
   "metadata": {},
   "source": [
    "See scikit-learn's module on [Jaccard similarity coefficient score](https://scikit-learn.org/stable/modules/model_evaluation.html#jaccard-similarity-coefficient-score)"
   ]
  },
  {
   "cell_type": "code",
   "execution_count": 70,
   "metadata": {},
   "outputs": [
    {
     "data": {
      "text/plain": [
       "0.31679636835278857"
      ]
     },
     "execution_count": 70,
     "metadata": {},
     "output_type": "execute_result"
    }
   ],
   "source": [
    "from sklearn.metrics import jaccard_score\n",
    "\n",
    "jaccard_score(y_test,y_pred_test, average='samples')"
   ]
  },
  {
   "cell_type": "code",
   "execution_count": 71,
   "metadata": {},
   "outputs": [
    {
     "data": {
      "text/plain": [
       "0.2746320877234375"
      ]
     },
     "execution_count": 71,
     "metadata": {},
     "output_type": "execute_result"
    }
   ],
   "source": [
    "jaccard_score(y_test,y_pred_test, average='macro')"
   ]
  },
  {
   "cell_type": "code",
   "execution_count": 72,
   "metadata": {},
   "outputs": [
    {
     "data": {
      "text/plain": [
       "array([0.26739023, 0.34005602, 0.30082256, 0.36991028, 0.44175492,\n",
       "       0.40416305, 0.2893401 , 0.04301075, 0.20025031, 0.08962264])"
      ]
     },
     "execution_count": 72,
     "metadata": {},
     "output_type": "execute_result"
    }
   ],
   "source": [
    "jaccard_score(y_test,y_pred_test, average=None)"
   ]
  },
  {
   "cell_type": "code",
   "execution_count": 73,
   "metadata": {},
   "outputs": [
    {
     "data": {
      "text/plain": [
       "0.9997662568369875"
      ]
     },
     "execution_count": 73,
     "metadata": {},
     "output_type": "execute_result"
    }
   ],
   "source": [
    "cl.score(X_train,y_train)"
   ]
  },
  {
   "cell_type": "code",
   "execution_count": 74,
   "metadata": {},
   "outputs": [
    {
     "data": {
      "text/plain": [
       "0.2851855366802695"
      ]
     },
     "execution_count": 74,
     "metadata": {},
     "output_type": "execute_result"
    }
   ],
   "source": [
    "cl.score(X_test,y_test)"
   ]
  },
  {
   "cell_type": "code",
   "execution_count": null,
   "metadata": {},
   "outputs": [],
   "source": []
  }
 ],
 "metadata": {
  "kernelspec": {
   "display_name": "Python 3",
   "language": "python",
   "name": "python3"
  },
  "language_info": {
   "codemirror_mode": {
    "name": "ipython",
    "version": 3
   },
   "file_extension": ".py",
   "mimetype": "text/x-python",
   "name": "python",
   "nbconvert_exporter": "python",
   "pygments_lexer": "ipython3",
   "version": "3.10.6"
  },
  "orig_nbformat": 4,
  "vscode": {
   "interpreter": {
    "hash": "767d51c1340bd893661ea55ea3124f6de3c7a262a8b4abca0554b478b1e2ff90"
   }
  }
 },
 "nbformat": 4,
 "nbformat_minor": 2
}
