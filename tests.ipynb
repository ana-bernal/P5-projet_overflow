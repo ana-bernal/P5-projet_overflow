{
 "cells": [
  {
   "attachments": {},
   "cell_type": "markdown",
   "metadata": {},
   "source": [
    "# Libraries"
   ]
  },
  {
   "cell_type": "code",
   "execution_count": 2,
   "metadata": {},
   "outputs": [],
   "source": [
    "import numpy as np\n",
    "import pandas as pd"
   ]
  },
  {
   "attachments": {},
   "cell_type": "markdown",
   "metadata": {},
   "source": [
    "# Data"
   ]
  },
  {
   "cell_type": "code",
   "execution_count": 3,
   "metadata": {},
   "outputs": [],
   "source": [
    "path = './data/'\n",
    "filename = 'processed_data_v01.csv'\n",
    "\n",
    "df = pd.read_csv(path + filename, converters={'Tags': pd.eval})\n",
    "df.set_index('Id', inplace=True)\n",
    "\n",
    "tag_list = [tag[4:] for tag in list(df.columns) if 'tag' in tag]"
   ]
  },
  {
   "cell_type": "code",
   "execution_count": 5,
   "metadata": {},
   "outputs": [
    {
     "data": {
      "text/html": [
       "<div>\n",
       "<style scoped>\n",
       "    .dataframe tbody tr th:only-of-type {\n",
       "        vertical-align: middle;\n",
       "    }\n",
       "\n",
       "    .dataframe tbody tr th {\n",
       "        vertical-align: top;\n",
       "    }\n",
       "\n",
       "    .dataframe thead th {\n",
       "        text-align: right;\n",
       "    }\n",
       "</style>\n",
       "<table border=\"1\" class=\"dataframe\">\n",
       "  <thead>\n",
       "    <tr style=\"text-align: right;\">\n",
       "      <th></th>\n",
       "      <th>processed_text</th>\n",
       "      <th>text</th>\n",
       "      <th>Title</th>\n",
       "      <th>Body</th>\n",
       "      <th>Score</th>\n",
       "      <th>ViewCount</th>\n",
       "      <th>AnswerCount</th>\n",
       "      <th>Tags</th>\n",
       "      <th>tag_c#</th>\n",
       "      <th>tag_java</th>\n",
       "      <th>tag_javascript</th>\n",
       "      <th>tag_python</th>\n",
       "      <th>tag_c++</th>\n",
       "      <th>tag_ios</th>\n",
       "      <th>tag_android</th>\n",
       "      <th>tag_.net</th>\n",
       "      <th>tag_html</th>\n",
       "      <th>tag_php</th>\n",
       "    </tr>\n",
       "    <tr>\n",
       "      <th>Id</th>\n",
       "      <th></th>\n",
       "      <th></th>\n",
       "      <th></th>\n",
       "      <th></th>\n",
       "      <th></th>\n",
       "      <th></th>\n",
       "      <th></th>\n",
       "      <th></th>\n",
       "      <th></th>\n",
       "      <th></th>\n",
       "      <th></th>\n",
       "      <th></th>\n",
       "      <th></th>\n",
       "      <th></th>\n",
       "      <th></th>\n",
       "      <th></th>\n",
       "      <th></th>\n",
       "      <th></th>\n",
       "    </tr>\n",
       "  </thead>\n",
       "  <tbody>\n",
       "    <tr>\n",
       "      <th>4</th>\n",
       "      <td>decimal c# variable opacity app error type</td>\n",
       "      <td>How to convert Decimal to Double in C#? &lt;p&gt;I w...</td>\n",
       "      <td>How to convert Decimal to Double in C#?</td>\n",
       "      <td>&lt;p&gt;I want to assign the decimal variable &amp;quot...</td>\n",
       "      <td>792</td>\n",
       "      <td>70052</td>\n",
       "      <td>14</td>\n",
       "      <td>[c#]</td>\n",
       "      <td>1</td>\n",
       "      <td>0</td>\n",
       "      <td>0</td>\n",
       "      <td>0</td>\n",
       "      <td>0</td>\n",
       "      <td>0</td>\n",
       "      <td>0</td>\n",
       "      <td>0</td>\n",
       "      <td>0</td>\n",
       "      <td>0</td>\n",
       "    </tr>\n",
       "    <tr>\n",
       "      <th>11</th>\n",
       "      <td>time c# value time</td>\n",
       "      <td>Calculate relative time in C# &lt;p&gt;Given a speci...</td>\n",
       "      <td>Calculate relative time in C#</td>\n",
       "      <td>&lt;p&gt;Given a specific &lt;code&gt;DateTime&lt;/code&gt; valu...</td>\n",
       "      <td>1644</td>\n",
       "      <td>196587</td>\n",
       "      <td>41</td>\n",
       "      <td>[c#]</td>\n",
       "      <td>1</td>\n",
       "      <td>0</td>\n",
       "      <td>0</td>\n",
       "      <td>0</td>\n",
       "      <td>0</td>\n",
       "      <td>0</td>\n",
       "      <td>0</td>\n",
       "      <td>0</td>\n",
       "      <td>0</td>\n",
       "      <td>0</td>\n",
       "    </tr>\n",
       "    <tr>\n",
       "      <th>13</th>\n",
       "      <td>user timezone way web server user timezone web...</td>\n",
       "      <td>Determine a user's timezone &lt;p&gt;Is there a stan...</td>\n",
       "      <td>Determine a user's timezone</td>\n",
       "      <td>&lt;p&gt;Is there a standard way for a web server to...</td>\n",
       "      <td>698</td>\n",
       "      <td>274233</td>\n",
       "      <td>27</td>\n",
       "      <td>[html]</td>\n",
       "      <td>0</td>\n",
       "      <td>0</td>\n",
       "      <td>0</td>\n",
       "      <td>0</td>\n",
       "      <td>0</td>\n",
       "      <td>0</td>\n",
       "      <td>0</td>\n",
       "      <td>0</td>\n",
       "      <td>1</td>\n",
       "      <td>0</td>\n",
       "    </tr>\n",
       "    <tr>\n",
       "      <th>25</th>\n",
       "      <td>c socket api c++ z os issue c socket api c++ z...</td>\n",
       "      <td>How to use the C socket API in C++ on z/OS &lt;p&gt;...</td>\n",
       "      <td>How to use the C socket API in C++ on z/OS</td>\n",
       "      <td>&lt;p&gt;I'm having issues getting the C sockets API...</td>\n",
       "      <td>175</td>\n",
       "      <td>15797</td>\n",
       "      <td>9</td>\n",
       "      <td>[c++]</td>\n",
       "      <td>0</td>\n",
       "      <td>0</td>\n",
       "      <td>0</td>\n",
       "      <td>0</td>\n",
       "      <td>1</td>\n",
       "      <td>0</td>\n",
       "      <td>0</td>\n",
       "      <td>0</td>\n",
       "      <td>0</td>\n",
       "      <td>0</td>\n",
       "    </tr>\n",
       "    <tr>\n",
       "      <th>109</th>\n",
       "      <td>t sql cast c#/vb.net site resurgence asprox sq...</td>\n",
       "      <td>Decoding T-SQL CAST in C#/VB.NET &lt;p&gt;Recently o...</td>\n",
       "      <td>Decoding T-SQL CAST in C#/VB.NET</td>\n",
       "      <td>&lt;p&gt;Recently our site has been deluged with the...</td>\n",
       "      <td>69</td>\n",
       "      <td>6068</td>\n",
       "      <td>2</td>\n",
       "      <td>[c#]</td>\n",
       "      <td>1</td>\n",
       "      <td>0</td>\n",
       "      <td>0</td>\n",
       "      <td>0</td>\n",
       "      <td>0</td>\n",
       "      <td>0</td>\n",
       "      <td>0</td>\n",
       "      <td>0</td>\n",
       "      <td>0</td>\n",
       "      <td>0</td>\n",
       "    </tr>\n",
       "  </tbody>\n",
       "</table>\n",
       "</div>"
      ],
      "text/plain": [
       "                                        processed_text  \\\n",
       "Id                                                       \n",
       "4           decimal c# variable opacity app error type   \n",
       "11                                  time c# value time   \n",
       "13   user timezone way web server user timezone web...   \n",
       "25   c socket api c++ z os issue c socket api c++ z...   \n",
       "109  t sql cast c#/vb.net site resurgence asprox sq...   \n",
       "\n",
       "                                                  text  \\\n",
       "Id                                                       \n",
       "4    How to convert Decimal to Double in C#? <p>I w...   \n",
       "11   Calculate relative time in C# <p>Given a speci...   \n",
       "13   Determine a user's timezone <p>Is there a stan...   \n",
       "25   How to use the C socket API in C++ on z/OS <p>...   \n",
       "109  Decoding T-SQL CAST in C#/VB.NET <p>Recently o...   \n",
       "\n",
       "                                          Title  \\\n",
       "Id                                                \n",
       "4       How to convert Decimal to Double in C#?   \n",
       "11                Calculate relative time in C#   \n",
       "13                  Determine a user's timezone   \n",
       "25   How to use the C socket API in C++ on z/OS   \n",
       "109            Decoding T-SQL CAST in C#/VB.NET   \n",
       "\n",
       "                                                  Body  Score  ViewCount  \\\n",
       "Id                                                                         \n",
       "4    <p>I want to assign the decimal variable &quot...    792      70052   \n",
       "11   <p>Given a specific <code>DateTime</code> valu...   1644     196587   \n",
       "13   <p>Is there a standard way for a web server to...    698     274233   \n",
       "25   <p>I'm having issues getting the C sockets API...    175      15797   \n",
       "109  <p>Recently our site has been deluged with the...     69       6068   \n",
       "\n",
       "     AnswerCount    Tags  tag_c#  tag_java  tag_javascript  tag_python  \\\n",
       "Id                                                                       \n",
       "4             14    [c#]       1         0               0           0   \n",
       "11            41    [c#]       1         0               0           0   \n",
       "13            27  [html]       0         0               0           0   \n",
       "25             9   [c++]       0         0               0           0   \n",
       "109            2    [c#]       1         0               0           0   \n",
       "\n",
       "     tag_c++  tag_ios  tag_android  tag_.net  tag_html  tag_php  \n",
       "Id                                                               \n",
       "4          0        0            0         0         0        0  \n",
       "11         0        0            0         0         0        0  \n",
       "13         0        0            0         0         1        0  \n",
       "25         1        0            0         0         0        0  \n",
       "109        0        0            0         0         0        0  "
      ]
     },
     "execution_count": 5,
     "metadata": {},
     "output_type": "execute_result"
    }
   ],
   "source": [
    "df.head()"
   ]
  },
  {
   "cell_type": "code",
   "execution_count": 6,
   "metadata": {},
   "outputs": [
    {
     "data": {
      "text/html": [
       "<div>\n",
       "<style scoped>\n",
       "    .dataframe tbody tr th:only-of-type {\n",
       "        vertical-align: middle;\n",
       "    }\n",
       "\n",
       "    .dataframe tbody tr th {\n",
       "        vertical-align: top;\n",
       "    }\n",
       "\n",
       "    .dataframe thead th {\n",
       "        text-align: right;\n",
       "    }\n",
       "</style>\n",
       "<table border=\"1\" class=\"dataframe\">\n",
       "  <thead>\n",
       "    <tr style=\"text-align: right;\">\n",
       "      <th></th>\n",
       "      <th>processed_text</th>\n",
       "      <th>text</th>\n",
       "      <th>Title</th>\n",
       "      <th>Body</th>\n",
       "      <th>Score</th>\n",
       "      <th>ViewCount</th>\n",
       "      <th>AnswerCount</th>\n",
       "      <th>Tags</th>\n",
       "      <th>tag_c#</th>\n",
       "      <th>tag_java</th>\n",
       "      <th>tag_javascript</th>\n",
       "      <th>tag_python</th>\n",
       "      <th>tag_c++</th>\n",
       "      <th>tag_ios</th>\n",
       "      <th>tag_android</th>\n",
       "      <th>tag_.net</th>\n",
       "      <th>tag_html</th>\n",
       "      <th>tag_php</th>\n",
       "    </tr>\n",
       "    <tr>\n",
       "      <th>Id</th>\n",
       "      <th></th>\n",
       "      <th></th>\n",
       "      <th></th>\n",
       "      <th></th>\n",
       "      <th></th>\n",
       "      <th></th>\n",
       "      <th></th>\n",
       "      <th></th>\n",
       "      <th></th>\n",
       "      <th></th>\n",
       "      <th></th>\n",
       "      <th></th>\n",
       "      <th></th>\n",
       "      <th></th>\n",
       "      <th></th>\n",
       "      <th></th>\n",
       "      <th></th>\n",
       "      <th></th>\n",
       "    </tr>\n",
       "  </thead>\n",
       "  <tbody>\n",
       "    <tr>\n",
       "      <th>14269587</th>\n",
       "      <td>NaN</td>\n",
       "      <td>How to execute &lt;script&gt; code in a javascript a...</td>\n",
       "      <td>How to execute &lt;script&gt; code in a javascript a...</td>\n",
       "      <td>&lt;p&gt;I'm working with a plugin that is only Java...</td>\n",
       "      <td>15</td>\n",
       "      <td>30125</td>\n",
       "      <td>6</td>\n",
       "      <td>[javascript, html]</td>\n",
       "      <td>0</td>\n",
       "      <td>0</td>\n",
       "      <td>1</td>\n",
       "      <td>0</td>\n",
       "      <td>0</td>\n",
       "      <td>0</td>\n",
       "      <td>0</td>\n",
       "      <td>0</td>\n",
       "      <td>1</td>\n",
       "      <td>0</td>\n",
       "    </tr>\n",
       "  </tbody>\n",
       "</table>\n",
       "</div>"
      ],
      "text/plain": [
       "         processed_text                                               text  \\\n",
       "Id                                                                           \n",
       "14269587            NaN  How to execute <script> code in a javascript a...   \n",
       "\n",
       "                                                      Title  \\\n",
       "Id                                                            \n",
       "14269587  How to execute <script> code in a javascript a...   \n",
       "\n",
       "                                                       Body  Score  ViewCount  \\\n",
       "Id                                                                              \n",
       "14269587  <p>I'm working with a plugin that is only Java...     15      30125   \n",
       "\n",
       "          AnswerCount                Tags  tag_c#  tag_java  tag_javascript  \\\n",
       "Id                                                                            \n",
       "14269587            6  [javascript, html]       0         0               1   \n",
       "\n",
       "          tag_python  tag_c++  tag_ios  tag_android  tag_.net  tag_html  \\\n",
       "Id                                                                        \n",
       "14269587           0        0        0            0         0         1   \n",
       "\n",
       "          tag_php  \n",
       "Id                 \n",
       "14269587        0  "
      ]
     },
     "execution_count": 6,
     "metadata": {},
     "output_type": "execute_result"
    }
   ],
   "source": [
    "df.loc[df.processed_text.isna()]"
   ]
  },
  {
   "cell_type": "code",
   "execution_count": 7,
   "metadata": {},
   "outputs": [],
   "source": [
    "df.drop(index=14269587, inplace=True)"
   ]
  },
  {
   "attachments": {},
   "cell_type": "markdown",
   "metadata": {},
   "source": [
    "# Bag of words"
   ]
  },
  {
   "cell_type": "code",
   "execution_count": 8,
   "metadata": {},
   "outputs": [],
   "source": [
    "from sklearn.feature_extraction.text import CountVectorizer\n",
    "\n",
    "# Instantiate the vectorizer\n",
    "cv = CountVectorizer(max_df=0.8,\n",
    "                     min_df=0.001\n",
    "                     )\n",
    "\n",
    "# Vectorize the processed text\n",
    "X = cv.fit_transform(df.processed_text)"
   ]
  },
  {
   "cell_type": "code",
   "execution_count": 9,
   "metadata": {},
   "outputs": [
    {
     "data": {
      "text/plain": [
       "(31928, 1973)"
      ]
     },
     "execution_count": 9,
     "metadata": {},
     "output_type": "execute_result"
    }
   ],
   "source": [
    "X.shape"
   ]
  },
  {
   "cell_type": "code",
   "execution_count": 10,
   "metadata": {},
   "outputs": [
    {
     "data": {
      "text/plain": [
       "1973"
      ]
     },
     "execution_count": 10,
     "metadata": {},
     "output_type": "execute_result"
    }
   ],
   "source": [
    "len(cv.get_feature_names_out())"
   ]
  },
  {
   "cell_type": "code",
   "execution_count": 11,
   "metadata": {},
   "outputs": [
    {
     "data": {
      "text/plain": [
       "array(['abc', 'ability', 'abstraction', 'access', 'accessing', 'account',\n",
       "       'accuracy', 'action', 'active', 'activity', 'ad', 'adapter', 'add',\n",
       "       'addition', 'address', 'admin', 'administrator', 'ado', 'adobe',\n",
       "       'advance', 'advantage', 'advice', 'aes', 'afaik', 'afnetworking',\n",
       "       'age', 'agent', 'aim', 'air', 'ajax', 'alert', 'algorithm', 'alia',\n",
       "       'alias', 'alignment', 'allocation', 'allocator', 'allow', 'alpha',\n",
       "       'alternative', 'amazon', 'ambiguity', 'amd', 'amount', 'anaconda',\n",
       "       'analysis', 'analytics', 'anchor', 'and', 'android'], dtype=object)"
      ]
     },
     "execution_count": 11,
     "metadata": {},
     "output_type": "execute_result"
    }
   ],
   "source": [
    "cv.get_feature_names_out()[:50]"
   ]
  },
  {
   "cell_type": "code",
   "execution_count": 12,
   "metadata": {},
   "outputs": [
    {
     "data": {
      "text/plain": [
       "matrix([[0, 0, 0, ..., 0, 0, 0],\n",
       "        [0, 0, 0, ..., 0, 0, 0],\n",
       "        [0, 0, 0, ..., 0, 0, 0],\n",
       "        ...,\n",
       "        [0, 0, 0, ..., 0, 0, 0],\n",
       "        [0, 0, 0, ..., 0, 0, 0],\n",
       "        [0, 0, 0, ..., 0, 0, 0]])"
      ]
     },
     "execution_count": 12,
     "metadata": {},
     "output_type": "execute_result"
    }
   ],
   "source": [
    "X.todense()"
   ]
  },
  {
   "cell_type": "code",
   "execution_count": 13,
   "metadata": {},
   "outputs": [
    {
     "data": {
      "text/plain": [
       "matrix([[0, 0, 0, ..., 0, 0, 0]])"
      ]
     },
     "execution_count": 13,
     "metadata": {},
     "output_type": "execute_result"
    }
   ],
   "source": [
    "X[0].todense()"
   ]
  },
  {
   "attachments": {},
   "cell_type": "markdown",
   "metadata": {},
   "source": [
    "Modelisation, multi output"
   ]
  },
  {
   "cell_type": "code",
   "execution_count": 14,
   "metadata": {},
   "outputs": [],
   "source": [
    "columns_tags = ['tag_'+tag for tag in tag_list]\n",
    "y = df[columns_tags]"
   ]
  },
  {
   "cell_type": "code",
   "execution_count": 15,
   "metadata": {},
   "outputs": [
    {
     "data": {
      "text/html": [
       "<div>\n",
       "<style scoped>\n",
       "    .dataframe tbody tr th:only-of-type {\n",
       "        vertical-align: middle;\n",
       "    }\n",
       "\n",
       "    .dataframe tbody tr th {\n",
       "        vertical-align: top;\n",
       "    }\n",
       "\n",
       "    .dataframe thead th {\n",
       "        text-align: right;\n",
       "    }\n",
       "</style>\n",
       "<table border=\"1\" class=\"dataframe\">\n",
       "  <thead>\n",
       "    <tr style=\"text-align: right;\">\n",
       "      <th></th>\n",
       "      <th>tag_c#</th>\n",
       "      <th>tag_java</th>\n",
       "      <th>tag_javascript</th>\n",
       "      <th>tag_python</th>\n",
       "      <th>tag_c++</th>\n",
       "      <th>tag_ios</th>\n",
       "      <th>tag_android</th>\n",
       "      <th>tag_.net</th>\n",
       "      <th>tag_html</th>\n",
       "      <th>tag_php</th>\n",
       "    </tr>\n",
       "    <tr>\n",
       "      <th>Id</th>\n",
       "      <th></th>\n",
       "      <th></th>\n",
       "      <th></th>\n",
       "      <th></th>\n",
       "      <th></th>\n",
       "      <th></th>\n",
       "      <th></th>\n",
       "      <th></th>\n",
       "      <th></th>\n",
       "      <th></th>\n",
       "    </tr>\n",
       "  </thead>\n",
       "  <tbody>\n",
       "    <tr>\n",
       "      <th>4</th>\n",
       "      <td>1</td>\n",
       "      <td>0</td>\n",
       "      <td>0</td>\n",
       "      <td>0</td>\n",
       "      <td>0</td>\n",
       "      <td>0</td>\n",
       "      <td>0</td>\n",
       "      <td>0</td>\n",
       "      <td>0</td>\n",
       "      <td>0</td>\n",
       "    </tr>\n",
       "    <tr>\n",
       "      <th>11</th>\n",
       "      <td>1</td>\n",
       "      <td>0</td>\n",
       "      <td>0</td>\n",
       "      <td>0</td>\n",
       "      <td>0</td>\n",
       "      <td>0</td>\n",
       "      <td>0</td>\n",
       "      <td>0</td>\n",
       "      <td>0</td>\n",
       "      <td>0</td>\n",
       "    </tr>\n",
       "    <tr>\n",
       "      <th>13</th>\n",
       "      <td>0</td>\n",
       "      <td>0</td>\n",
       "      <td>0</td>\n",
       "      <td>0</td>\n",
       "      <td>0</td>\n",
       "      <td>0</td>\n",
       "      <td>0</td>\n",
       "      <td>0</td>\n",
       "      <td>1</td>\n",
       "      <td>0</td>\n",
       "    </tr>\n",
       "    <tr>\n",
       "      <th>25</th>\n",
       "      <td>0</td>\n",
       "      <td>0</td>\n",
       "      <td>0</td>\n",
       "      <td>0</td>\n",
       "      <td>1</td>\n",
       "      <td>0</td>\n",
       "      <td>0</td>\n",
       "      <td>0</td>\n",
       "      <td>0</td>\n",
       "      <td>0</td>\n",
       "    </tr>\n",
       "    <tr>\n",
       "      <th>109</th>\n",
       "      <td>1</td>\n",
       "      <td>0</td>\n",
       "      <td>0</td>\n",
       "      <td>0</td>\n",
       "      <td>0</td>\n",
       "      <td>0</td>\n",
       "      <td>0</td>\n",
       "      <td>0</td>\n",
       "      <td>0</td>\n",
       "      <td>0</td>\n",
       "    </tr>\n",
       "    <tr>\n",
       "      <th>...</th>\n",
       "      <td>...</td>\n",
       "      <td>...</td>\n",
       "      <td>...</td>\n",
       "      <td>...</td>\n",
       "      <td>...</td>\n",
       "      <td>...</td>\n",
       "      <td>...</td>\n",
       "      <td>...</td>\n",
       "      <td>...</td>\n",
       "      <td>...</td>\n",
       "    </tr>\n",
       "    <tr>\n",
       "      <th>75115453</th>\n",
       "      <td>0</td>\n",
       "      <td>0</td>\n",
       "      <td>0</td>\n",
       "      <td>1</td>\n",
       "      <td>0</td>\n",
       "      <td>0</td>\n",
       "      <td>0</td>\n",
       "      <td>0</td>\n",
       "      <td>0</td>\n",
       "      <td>0</td>\n",
       "    </tr>\n",
       "    <tr>\n",
       "      <th>75120349</th>\n",
       "      <td>0</td>\n",
       "      <td>1</td>\n",
       "      <td>0</td>\n",
       "      <td>0</td>\n",
       "      <td>0</td>\n",
       "      <td>0</td>\n",
       "      <td>0</td>\n",
       "      <td>0</td>\n",
       "      <td>0</td>\n",
       "      <td>0</td>\n",
       "    </tr>\n",
       "    <tr>\n",
       "      <th>75128330</th>\n",
       "      <td>0</td>\n",
       "      <td>0</td>\n",
       "      <td>1</td>\n",
       "      <td>1</td>\n",
       "      <td>0</td>\n",
       "      <td>0</td>\n",
       "      <td>0</td>\n",
       "      <td>0</td>\n",
       "      <td>0</td>\n",
       "      <td>0</td>\n",
       "    </tr>\n",
       "    <tr>\n",
       "      <th>75202703</th>\n",
       "      <td>0</td>\n",
       "      <td>0</td>\n",
       "      <td>0</td>\n",
       "      <td>0</td>\n",
       "      <td>1</td>\n",
       "      <td>0</td>\n",
       "      <td>0</td>\n",
       "      <td>0</td>\n",
       "      <td>0</td>\n",
       "      <td>0</td>\n",
       "    </tr>\n",
       "    <tr>\n",
       "      <th>75216821</th>\n",
       "      <td>0</td>\n",
       "      <td>0</td>\n",
       "      <td>0</td>\n",
       "      <td>0</td>\n",
       "      <td>1</td>\n",
       "      <td>0</td>\n",
       "      <td>0</td>\n",
       "      <td>0</td>\n",
       "      <td>0</td>\n",
       "      <td>0</td>\n",
       "    </tr>\n",
       "  </tbody>\n",
       "</table>\n",
       "<p>31928 rows × 10 columns</p>\n",
       "</div>"
      ],
      "text/plain": [
       "          tag_c#  tag_java  tag_javascript  tag_python  tag_c++  tag_ios  \\\n",
       "Id                                                                         \n",
       "4              1         0               0           0        0        0   \n",
       "11             1         0               0           0        0        0   \n",
       "13             0         0               0           0        0        0   \n",
       "25             0         0               0           0        1        0   \n",
       "109            1         0               0           0        0        0   \n",
       "...          ...       ...             ...         ...      ...      ...   \n",
       "75115453       0         0               0           1        0        0   \n",
       "75120349       0         1               0           0        0        0   \n",
       "75128330       0         0               1           1        0        0   \n",
       "75202703       0         0               0           0        1        0   \n",
       "75216821       0         0               0           0        1        0   \n",
       "\n",
       "          tag_android  tag_.net  tag_html  tag_php  \n",
       "Id                                                  \n",
       "4                   0         0         0        0  \n",
       "11                  0         0         0        0  \n",
       "13                  0         0         1        0  \n",
       "25                  0         0         0        0  \n",
       "109                 0         0         0        0  \n",
       "...               ...       ...       ...      ...  \n",
       "75115453            0         0         0        0  \n",
       "75120349            0         0         0        0  \n",
       "75128330            0         0         0        0  \n",
       "75202703            0         0         0        0  \n",
       "75216821            0         0         0        0  \n",
       "\n",
       "[31928 rows x 10 columns]"
      ]
     },
     "execution_count": 15,
     "metadata": {},
     "output_type": "execute_result"
    }
   ],
   "source": [
    "y"
   ]
  },
  {
   "cell_type": "code",
   "execution_count": 16,
   "metadata": {},
   "outputs": [],
   "source": [
    "from sklearn.model_selection import train_test_split\n",
    "\n"
   ]
  },
  {
   "cell_type": "code",
   "execution_count": 84,
   "metadata": {},
   "outputs": [
    {
     "name": "stdout",
     "output_type": "stream",
     "text": [
      "fit time: 122.61611843109131 secs.\n",
      "predict time: 7.727133274078369 secs.\n"
     ]
    }
   ],
   "source": [
    "from sklearn.multioutput import MultiOutputClassifier\n",
    "from sklearn.ensemble import RandomForestClassifier\n",
    "import time\n",
    "\n",
    "X_train, X_test, y_train, y_test = train_test_split(\n",
    "    X,y, test_size=0.33, random_state=5\n",
    ")\n",
    "\n",
    "forest = RandomForestClassifier(random_state=1)\n",
    "multi_target_forest = MultiOutputClassifier(forest)\n",
    "\n",
    "start = time.time()\n",
    "multi_target_forest.fit(X_train,y_train)\n",
    "finish = time.time()\n",
    "print(f'fit time: {finish - start} secs.')\n",
    "\n",
    "start = time.time()\n",
    "y_pred_train = multi_target_forest.predict(X_train)\n",
    "finish = time.time()\n",
    "print(f'predict time: {finish - start} secs.')\n",
    "\n",
    "y_pred_test = multi_target_forest.predict(X_test)\n"
   ]
  },
  {
   "cell_type": "code",
   "execution_count": 51,
   "metadata": {},
   "outputs": [],
   "source": [
    "def classif_report_per_tag(tag_list,y_test,y_pred):\n",
    "    \n",
    "    reports = {}\n",
    "\n",
    "    for idx,tag in enumerate(tag_list):\n",
    "        reports[tag] = classification_report(\n",
    "            y_test.values[:,idx], \n",
    "            y_pred[:,idx], \n",
    "            target_names=[tag, f'not_{tag}'],\n",
    "            output_dict=True)\n",
    "    \n",
    "    precision = [reports[rep]['macro avg']['precision'] for rep in reports]\n",
    "    recall = [reports[rep]['macro avg']['recall'] for rep in reports]\n",
    "    f1_score = [reports[rep]['macro avg']['f1-score'] for rep in reports]\n",
    "    accuracy = [reports[rep]['accuracy'] for rep in reports]\n",
    "    support = [reports[tag][tag]['support'] for tag in tag_list]\n",
    "    support_not_tag = [reports[tag][f'not_{tag}']['support'] for tag in tag_list]\n",
    "\n",
    "    report = pd.DataFrame({'tag': tag_list,\n",
    "                           'precision': precision,\n",
    "                           'recall' : recall,\n",
    "                           'f1_score' : f1_score,\n",
    "                           'accuracy' : accuracy, \n",
    "                           'support' : support, \n",
    "                           'support_not_tag' : support_not_tag\n",
    "                           }\n",
    "                          )\n",
    "\n",
    "    return report\n"
   ]
  },
  {
   "attachments": {},
   "cell_type": "markdown",
   "metadata": {},
   "source": [
    "See scikit-learns's module on [Multiclass and multilabel classification](https://scikit-learn.org/stable/modules/model_evaluation.html#multiclass-and-multilabel-classification)"
   ]
  },
  {
   "cell_type": "code",
   "execution_count": 52,
   "metadata": {},
   "outputs": [
    {
     "data": {
      "text/html": [
       "<div>\n",
       "<style scoped>\n",
       "    .dataframe tbody tr th:only-of-type {\n",
       "        vertical-align: middle;\n",
       "    }\n",
       "\n",
       "    .dataframe tbody tr th {\n",
       "        vertical-align: top;\n",
       "    }\n",
       "\n",
       "    .dataframe thead th {\n",
       "        text-align: right;\n",
       "    }\n",
       "</style>\n",
       "<table border=\"1\" class=\"dataframe\">\n",
       "  <thead>\n",
       "    <tr style=\"text-align: right;\">\n",
       "      <th></th>\n",
       "      <th>tag</th>\n",
       "      <th>precision</th>\n",
       "      <th>recall</th>\n",
       "      <th>f1_score</th>\n",
       "      <th>accuracy</th>\n",
       "      <th>support</th>\n",
       "      <th>support_not_tag</th>\n",
       "    </tr>\n",
       "  </thead>\n",
       "  <tbody>\n",
       "    <tr>\n",
       "      <th>0</th>\n",
       "      <td>c#</td>\n",
       "      <td>0.849904</td>\n",
       "      <td>0.752448</td>\n",
       "      <td>0.787820</td>\n",
       "      <td>0.890386</td>\n",
       "      <td>8617</td>\n",
       "      <td>1920</td>\n",
       "    </tr>\n",
       "    <tr>\n",
       "      <th>1</th>\n",
       "      <td>java</td>\n",
       "      <td>0.917451</td>\n",
       "      <td>0.848863</td>\n",
       "      <td>0.878246</td>\n",
       "      <td>0.937648</td>\n",
       "      <td>8776</td>\n",
       "      <td>1761</td>\n",
       "    </tr>\n",
       "    <tr>\n",
       "      <th>2</th>\n",
       "      <td>javascript</td>\n",
       "      <td>0.894315</td>\n",
       "      <td>0.842770</td>\n",
       "      <td>0.865764</td>\n",
       "      <td>0.935560</td>\n",
       "      <td>8945</td>\n",
       "      <td>1592</td>\n",
       "    </tr>\n",
       "    <tr>\n",
       "      <th>3</th>\n",
       "      <td>python</td>\n",
       "      <td>0.962648</td>\n",
       "      <td>0.910692</td>\n",
       "      <td>0.934467</td>\n",
       "      <td>0.970959</td>\n",
       "      <td>9107</td>\n",
       "      <td>1430</td>\n",
       "    </tr>\n",
       "    <tr>\n",
       "      <th>4</th>\n",
       "      <td>c++</td>\n",
       "      <td>0.928275</td>\n",
       "      <td>0.773866</td>\n",
       "      <td>0.828703</td>\n",
       "      <td>0.939831</td>\n",
       "      <td>9261</td>\n",
       "      <td>1276</td>\n",
       "    </tr>\n",
       "    <tr>\n",
       "      <th>5</th>\n",
       "      <td>ios</td>\n",
       "      <td>0.945541</td>\n",
       "      <td>0.875803</td>\n",
       "      <td>0.906827</td>\n",
       "      <td>0.967258</td>\n",
       "      <td>9414</td>\n",
       "      <td>1123</td>\n",
       "    </tr>\n",
       "    <tr>\n",
       "      <th>6</th>\n",
       "      <td>android</td>\n",
       "      <td>0.945567</td>\n",
       "      <td>0.888380</td>\n",
       "      <td>0.914521</td>\n",
       "      <td>0.973142</td>\n",
       "      <td>9563</td>\n",
       "      <td>974</td>\n",
       "    </tr>\n",
       "    <tr>\n",
       "      <th>7</th>\n",
       "      <td>.net</td>\n",
       "      <td>0.783170</td>\n",
       "      <td>0.566374</td>\n",
       "      <td>0.592073</td>\n",
       "      <td>0.911075</td>\n",
       "      <td>9535</td>\n",
       "      <td>1002</td>\n",
       "    </tr>\n",
       "    <tr>\n",
       "      <th>8</th>\n",
       "      <td>html</td>\n",
       "      <td>0.838452</td>\n",
       "      <td>0.648009</td>\n",
       "      <td>0.699697</td>\n",
       "      <td>0.942773</td>\n",
       "      <td>9792</td>\n",
       "      <td>745</td>\n",
       "    </tr>\n",
       "    <tr>\n",
       "      <th>9</th>\n",
       "      <td>php</td>\n",
       "      <td>0.938332</td>\n",
       "      <td>0.870939</td>\n",
       "      <td>0.901417</td>\n",
       "      <td>0.979406</td>\n",
       "      <td>9903</td>\n",
       "      <td>634</td>\n",
       "    </tr>\n",
       "  </tbody>\n",
       "</table>\n",
       "</div>"
      ],
      "text/plain": [
       "          tag  precision    recall  f1_score  accuracy  support  \\\n",
       "0          c#   0.849904  0.752448  0.787820  0.890386     8617   \n",
       "1        java   0.917451  0.848863  0.878246  0.937648     8776   \n",
       "2  javascript   0.894315  0.842770  0.865764  0.935560     8945   \n",
       "3      python   0.962648  0.910692  0.934467  0.970959     9107   \n",
       "4         c++   0.928275  0.773866  0.828703  0.939831     9261   \n",
       "5         ios   0.945541  0.875803  0.906827  0.967258     9414   \n",
       "6     android   0.945567  0.888380  0.914521  0.973142     9563   \n",
       "7        .net   0.783170  0.566374  0.592073  0.911075     9535   \n",
       "8        html   0.838452  0.648009  0.699697  0.942773     9792   \n",
       "9         php   0.938332  0.870939  0.901417  0.979406     9903   \n",
       "\n",
       "   support_not_tag  \n",
       "0             1920  \n",
       "1             1761  \n",
       "2             1592  \n",
       "3             1430  \n",
       "4             1276  \n",
       "5             1123  \n",
       "6              974  \n",
       "7             1002  \n",
       "8              745  \n",
       "9              634  "
      ]
     },
     "execution_count": 52,
     "metadata": {},
     "output_type": "execute_result"
    }
   ],
   "source": [
    "classif_report_per_tag(tag_list,y_train,y_pred_train)"
   ]
  },
  {
   "cell_type": "code",
   "execution_count": null,
   "metadata": {},
   "outputs": [],
   "source": [
    "classif_report_per_tag(tag_list,y_test,y_pred_test)"
   ]
  },
  {
   "cell_type": "code",
   "execution_count": 82,
   "metadata": {},
   "outputs": [],
   "source": [
    "import matplotlib.pyplot as plt\n",
    "\n",
    "def plot_classif_report_per_tag(classif_report,model_name, dataset):\n",
    "\n",
    "    plot_data = classif_report\n",
    "\n",
    "    fig = plt.figure(figsize=(10, 6))\n",
    "    plt.grid(True)\n",
    "    plt.xticks(plot_data.index+1,plot_data.tag)\n",
    "    # fig.set_xticklabels(plot_data.tag)\n",
    "    colors = ['blueviolet', 'deeppink', 'dodgerblue', 'darkorange']\n",
    "\n",
    "    for metric,color in zip(['precision', 'recall', 'f1_score', 'accuracy'], colors):\n",
    "        plt.scatter(plot_data.index+1,plot_data[metric],label=metric, c=color)\n",
    "    plt.legend()\n",
    "    plt.ylim(0,1.3)\n",
    "    plt.title(f'Some metrics by tag\\nModel: {model_name}, set: {dataset}')\n",
    "    plt.show()"
   ]
  },
  {
   "cell_type": "code",
   "execution_count": 73,
   "metadata": {},
   "outputs": [
    {
     "data": {
      "image/png": "[encoded data removed]",
      "text/plain": [
       "<Figure size 720x432 with 1 Axes>"
      ]
     },
     "metadata": {
      "needs_background": "light"
     },
     "output_type": "display_data"
    }
   ],
   "source": [
    "classif_report = classif_report_per_tag(tag_list,y_test,y_pred)\n",
    "model_name = 'RandomForestClassifier'\n",
    "\n",
    "plot_classif_report_per_tag(classif_report,model_name,'test')"
   ]
  },
  {
   "cell_type": "code",
   "execution_count": 75,
   "metadata": {},
   "outputs": [
    {
     "data": {
      "text/html": [
       "<div>\n",
       "<style scoped>\n",
       "    .dataframe tbody tr th:only-of-type {\n",
       "        vertical-align: middle;\n",
       "    }\n",
       "\n",
       "    .dataframe tbody tr th {\n",
       "        vertical-align: top;\n",
       "    }\n",
       "\n",
       "    .dataframe thead th {\n",
       "        text-align: right;\n",
       "    }\n",
       "</style>\n",
       "<table border=\"1\" class=\"dataframe\">\n",
       "  <thead>\n",
       "    <tr style=\"text-align: right;\">\n",
       "      <th></th>\n",
       "      <th>tag</th>\n",
       "      <th>precision</th>\n",
       "      <th>recall</th>\n",
       "      <th>f1_score</th>\n",
       "      <th>accuracy</th>\n",
       "      <th>support</th>\n",
       "      <th>support_not_tag</th>\n",
       "    </tr>\n",
       "  </thead>\n",
       "  <tbody>\n",
       "    <tr>\n",
       "      <th>0</th>\n",
       "      <td>c#</td>\n",
       "      <td>0.999971</td>\n",
       "      <td>0.999876</td>\n",
       "      <td>0.999923</td>\n",
       "      <td>0.999953</td>\n",
       "      <td>17372</td>\n",
       "      <td>4019</td>\n",
       "    </tr>\n",
       "    <tr>\n",
       "      <th>1</th>\n",
       "      <td>java</td>\n",
       "      <td>0.999916</td>\n",
       "      <td>0.999581</td>\n",
       "      <td>0.999749</td>\n",
       "      <td>0.999860</td>\n",
       "      <td>17807</td>\n",
       "      <td>3584</td>\n",
       "    </tr>\n",
       "    <tr>\n",
       "      <th>2</th>\n",
       "      <td>javascript</td>\n",
       "      <td>0.999945</td>\n",
       "      <td>0.999679</td>\n",
       "      <td>0.999812</td>\n",
       "      <td>0.999907</td>\n",
       "      <td>18272</td>\n",
       "      <td>3119</td>\n",
       "    </tr>\n",
       "    <tr>\n",
       "      <th>3</th>\n",
       "      <td>python</td>\n",
       "      <td>0.999973</td>\n",
       "      <td>0.999838</td>\n",
       "      <td>0.999905</td>\n",
       "      <td>0.999953</td>\n",
       "      <td>18299</td>\n",
       "      <td>3092</td>\n",
       "    </tr>\n",
       "    <tr>\n",
       "      <th>4</th>\n",
       "      <td>c++</td>\n",
       "      <td>0.999800</td>\n",
       "      <td>0.999974</td>\n",
       "      <td>0.999887</td>\n",
       "      <td>0.999953</td>\n",
       "      <td>18895</td>\n",
       "      <td>2496</td>\n",
       "    </tr>\n",
       "    <tr>\n",
       "      <th>5</th>\n",
       "      <td>ios</td>\n",
       "      <td>1.000000</td>\n",
       "      <td>1.000000</td>\n",
       "      <td>1.000000</td>\n",
       "      <td>1.000000</td>\n",
       "      <td>19183</td>\n",
       "      <td>2208</td>\n",
       "    </tr>\n",
       "    <tr>\n",
       "      <th>6</th>\n",
       "      <td>android</td>\n",
       "      <td>0.999974</td>\n",
       "      <td>0.999741</td>\n",
       "      <td>0.999857</td>\n",
       "      <td>0.999953</td>\n",
       "      <td>19463</td>\n",
       "      <td>1928</td>\n",
       "    </tr>\n",
       "    <tr>\n",
       "      <th>7</th>\n",
       "      <td>.net</td>\n",
       "      <td>1.000000</td>\n",
       "      <td>1.000000</td>\n",
       "      <td>1.000000</td>\n",
       "      <td>1.000000</td>\n",
       "      <td>19331</td>\n",
       "      <td>2060</td>\n",
       "    </tr>\n",
       "    <tr>\n",
       "      <th>8</th>\n",
       "      <td>html</td>\n",
       "      <td>0.999975</td>\n",
       "      <td>0.999638</td>\n",
       "      <td>0.999807</td>\n",
       "      <td>0.999953</td>\n",
       "      <td>20009</td>\n",
       "      <td>1382</td>\n",
       "    </tr>\n",
       "    <tr>\n",
       "      <th>9</th>\n",
       "      <td>php</td>\n",
       "      <td>1.000000</td>\n",
       "      <td>1.000000</td>\n",
       "      <td>1.000000</td>\n",
       "      <td>1.000000</td>\n",
       "      <td>20074</td>\n",
       "      <td>1317</td>\n",
       "    </tr>\n",
       "  </tbody>\n",
       "</table>\n",
       "</div>"
      ],
      "text/plain": [
       "          tag  precision    recall  f1_score  accuracy  support  \\\n",
       "0          c#   0.999971  0.999876  0.999923  0.999953    17372   \n",
       "1        java   0.999916  0.999581  0.999749  0.999860    17807   \n",
       "2  javascript   0.999945  0.999679  0.999812  0.999907    18272   \n",
       "3      python   0.999973  0.999838  0.999905  0.999953    18299   \n",
       "4         c++   0.999800  0.999974  0.999887  0.999953    18895   \n",
       "5         ios   1.000000  1.000000  1.000000  1.000000    19183   \n",
       "6     android   0.999974  0.999741  0.999857  0.999953    19463   \n",
       "7        .net   1.000000  1.000000  1.000000  1.000000    19331   \n",
       "8        html   0.999975  0.999638  0.999807  0.999953    20009   \n",
       "9         php   1.000000  1.000000  1.000000  1.000000    20074   \n",
       "\n",
       "   support_not_tag  \n",
       "0             4019  \n",
       "1             3584  \n",
       "2             3119  \n",
       "3             3092  \n",
       "4             2496  \n",
       "5             2208  \n",
       "6             1928  \n",
       "7             2060  \n",
       "8             1382  \n",
       "9             1317  "
      ]
     },
     "execution_count": 75,
     "metadata": {},
     "output_type": "execute_result"
    }
   ],
   "source": [
    "classif_report"
   ]
  },
  {
   "cell_type": "code",
   "execution_count": 83,
   "metadata": {},
   "outputs": [
    {
     "data": {
      "image/png": "[encoded data removed]",
      "text/plain": [
       "<Figure size 720x432 with 1 Axes>"
      ]
     },
     "metadata": {
      "needs_background": "light"
     },
     "output_type": "display_data"
    }
   ],
   "source": [
    "y_pred = multi_target_forest.predict(X_train)\n",
    "classif_report = classif_report_per_tag(tag_list,y_train,y_pred)\n",
    "model_name = 'RandomForestClassifier'\n",
    "\n",
    "plot_classif_report_per_tag(classif_report,model_name,'train')"
   ]
  },
  {
   "attachments": {},
   "cell_type": "markdown",
   "metadata": {},
   "source": [
    "See scikit-learn's module on [Jaccard similarity coefficient score](https://scikit-learn.org/stable/modules/model_evaluation.html#jaccard-similarity-coefficient-score)"
   ]
  },
  {
   "cell_type": "code",
   "execution_count": 54,
   "metadata": {},
   "outputs": [
    {
     "data": {
      "text/plain": [
       "0.6323147005789123"
      ]
     },
     "execution_count": 54,
     "metadata": {},
     "output_type": "execute_result"
    }
   ],
   "source": [
    "from sklearn.metrics import jaccard_score\n",
    "\n",
    "jaccard_score(y_test,y_pred, average='samples')"
   ]
  },
  {
   "cell_type": "code",
   "execution_count": 55,
   "metadata": {},
   "outputs": [
    {
     "data": {
      "text/plain": [
       "0.5607022824731206"
      ]
     },
     "execution_count": 55,
     "metadata": {},
     "output_type": "execute_result"
    }
   ],
   "source": [
    "jaccard_score(y_test,y_pred, average='macro')"
   ]
  },
  {
   "cell_type": "code",
   "execution_count": 59,
   "metadata": {},
   "outputs": [
    {
     "data": {
      "text/plain": [
       "array([0.47091159, 0.657277  , 0.62465451, 0.79463087, 0.52757079,\n",
       "       0.71202003, 0.72970392, 0.13079777, 0.27349398, 0.68596237])"
      ]
     },
     "execution_count": 59,
     "metadata": {},
     "output_type": "execute_result"
    }
   ],
   "source": [
    "jaccard_score(y_test,y_pred, average=None)"
   ]
  },
  {
   "cell_type": "code",
   "execution_count": 137,
   "metadata": {},
   "outputs": [
    {
     "name": "stdout",
     "output_type": "stream",
     "text": [
      "              precision    recall  f1-score   support\n",
      "\n",
      "          c#       0.90      0.97      0.94      8617\n",
      "       notc#       0.80      0.54      0.64      1920\n",
      "\n",
      "    accuracy                           0.89     10537\n",
      "   macro avg       0.85      0.75      0.79     10537\n",
      "weighted avg       0.88      0.89      0.88     10537\n",
      "\n"
     ]
    }
   ],
   "source": [
    "classif_rep_c = classification_report(\n",
    "    y_test.values[:,0], \n",
    "    multi_target_forest.predict(X_test)[:,0], \n",
    "    target_names=['c#', 'notc#'],\n",
    "    output_dict=False)\n",
    "print(classif_rep_c)"
   ]
  },
  {
   "cell_type": "code",
   "execution_count": 126,
   "metadata": {},
   "outputs": [
    {
     "data": {
      "text/plain": [
       "0.99962601093918"
      ]
     },
     "execution_count": 126,
     "metadata": {},
     "output_type": "execute_result"
    }
   ],
   "source": [
    "multi_target_forest.score(X_train,y_train)"
   ]
  },
  {
   "cell_type": "code",
   "execution_count": 128,
   "metadata": {},
   "outputs": [
    {
     "data": {
      "text/plain": [
       "0.5636329125937174"
      ]
     },
     "execution_count": 128,
     "metadata": {},
     "output_type": "execute_result"
    }
   ],
   "source": [
    "multi_target_forest.score(X_test,y_test)"
   ]
  }
 ],
 "metadata": {
  "kernelspec": {
   "display_name": "Python 3",
   "language": "python",
   "name": "python3"
  },
  "language_info": {
   "codemirror_mode": {
    "name": "ipython",
    "version": 3
   },
   "file_extension": ".py",
   "mimetype": "text/x-python",
   "name": "python",
   "nbconvert_exporter": "python",
   "pygments_lexer": "ipython3",
   "version": "3.10.6"
  },
  "orig_nbformat": 4,
  "vscode": {
   "interpreter": {
    "hash": "767d51c1340bd893661ea55ea3124f6de3c7a262a8b4abca0554b478b1e2ff90"
   }
  }
 },
 "nbformat": 4,
 "nbformat_minor": 2
}
