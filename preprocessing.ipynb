{
 "cells": [
  {
   "attachments": {},
   "cell_type": "markdown",
   "metadata": {},
   "source": [
    "# 🛒 Tag suggestion\n",
    "\n",
    "|   |   |\n",
    "|---|---|\n",
    "| Project  |    [nom du proj](#https://openclassrooms.com/fr/paths/148/projects/630/assignment)         |\n",
    "| Date   |   February 2023   |\n",
    "| Autor  | Ana Bernal                                                    |\n",
    "| Data source | |\n",
    "| Mentor | Samir Tanfous | \n",
    "| Notebook number  | _ of _                                                     |\n",
    "\n",
    "**Description:** blabla"
   ]
  },
  {
   "attachments": {},
   "cell_type": "markdown",
   "metadata": {},
   "source": [
    "# Preliminaries\n",
    "## Imports"
   ]
  },
  {
   "cell_type": "code",
   "execution_count": 1,
   "metadata": {},
   "outputs": [],
   "source": [
    "# Built in\n",
    "import re\n",
    "import time\n",
    "\n",
    "# Data\n",
    "import pandas as pd\n",
    "\n",
    "# Linear alg.\n",
    "import numpy as np\n",
    "\n",
    "# Graphics\n",
    "import seaborn as sns\n",
    "import matplotlib.pyplot as plt\n",
    "\n",
    "# ML\n",
    "from sklearn.preprocessing import MultiLabelBinarizer\n",
    "\n",
    "# Language/text\n",
    "import spacy\n",
    "from bs4 import BeautifulSoup\n",
    "from spacy.symbols import ORTH\n"
   ]
  },
  {
   "attachments": {},
   "cell_type": "markdown",
   "metadata": {},
   "source": [
    "## Graphics and options"
   ]
  },
  {
   "cell_type": "code",
   "execution_count": 2,
   "metadata": {},
   "outputs": [],
   "source": [
    "sns.set_style(\"whitegrid\")\n",
    "\n",
    "# Notes\n",
    "# re.search(re.escape('c++'), 'hola como estan c++')"
   ]
  },
  {
   "attachments": {},
   "cell_type": "markdown",
   "metadata": {},
   "source": [
    "## Data"
   ]
  },
  {
   "cell_type": "code",
   "execution_count": 3,
   "metadata": {},
   "outputs": [],
   "source": [
    "path = './data/'\n",
    "filename = 'QueryResults.csv'\n",
    "\n",
    "df = pd.read_csv(path + filename)"
   ]
  },
  {
   "cell_type": "code",
   "execution_count": 4,
   "metadata": {},
   "outputs": [
    {
     "data": {
      "text/plain": [
       "(50000, 7)"
      ]
     },
     "execution_count": 4,
     "metadata": {},
     "output_type": "execute_result"
    }
   ],
   "source": [
    "df.shape"
   ]
  },
  {
   "cell_type": "code",
   "execution_count": 5,
   "metadata": {},
   "outputs": [
    {
     "data": {
      "text/html": [
       "<div>\n",
       "<style scoped>\n",
       "    .dataframe tbody tr th:only-of-type {\n",
       "        vertical-align: middle;\n",
       "    }\n",
       "\n",
       "    .dataframe tbody tr th {\n",
       "        vertical-align: top;\n",
       "    }\n",
       "\n",
       "    .dataframe thead th {\n",
       "        text-align: right;\n",
       "    }\n",
       "</style>\n",
       "<table border=\"1\" class=\"dataframe\">\n",
       "  <thead>\n",
       "    <tr style=\"text-align: right;\">\n",
       "      <th></th>\n",
       "      <th>Title</th>\n",
       "      <th>Body</th>\n",
       "      <th>Tags</th>\n",
       "      <th>Id</th>\n",
       "      <th>Score</th>\n",
       "      <th>ViewCount</th>\n",
       "      <th>AnswerCount</th>\n",
       "    </tr>\n",
       "  </thead>\n",
       "  <tbody>\n",
       "    <tr>\n",
       "      <th>0</th>\n",
       "      <td>Multithreading in a stateless session bean?</td>\n",
       "      <td>&lt;p&gt;The EJB 3.0 specification does not allow a ...</td>\n",
       "      <td>&lt;java&gt;&lt;multithreading&gt;&lt;jakarta-ee&gt;&lt;ejb-3.0&gt;&lt;ejb&gt;</td>\n",
       "      <td>3816286</td>\n",
       "      <td>9</td>\n",
       "      <td>13503</td>\n",
       "      <td>4</td>\n",
       "    </tr>\n",
       "    <tr>\n",
       "      <th>1</th>\n",
       "      <td>base64 JSON encoded strings in nodejs</td>\n",
       "      <td>&lt;p&gt;How do I create a base64 JSON encoded strin...</td>\n",
       "      <td>&lt;javascript&gt;&lt;json&gt;&lt;node.js&gt;&lt;base64&gt;&lt;buffer&gt;</td>\n",
       "      <td>22515180</td>\n",
       "      <td>14</td>\n",
       "      <td>23710</td>\n",
       "      <td>3</td>\n",
       "    </tr>\n",
       "    <tr>\n",
       "      <th>2</th>\n",
       "      <td>How do you get a directory listing in C?</td>\n",
       "      <td>&lt;p&gt;How do you scan a directory for folders and...</td>\n",
       "      <td>&lt;c&gt;&lt;file&gt;&lt;directory&gt;&lt;cross-platform&gt;&lt;common-ta...</td>\n",
       "      <td>12489</td>\n",
       "      <td>69</td>\n",
       "      <td>142856</td>\n",
       "      <td>9</td>\n",
       "    </tr>\n",
       "    <tr>\n",
       "      <th>3</th>\n",
       "      <td>Link error: \"Cannot find -ltinfo\" on Ubuntu 12...</td>\n",
       "      <td>&lt;p&gt;I get the following link error when I'm com...</td>\n",
       "      <td>&lt;c++&gt;&lt;ubuntu&gt;&lt;arm&gt;&lt;static-libraries&gt;&lt;ubuntu-12...</td>\n",
       "      <td>21137879</td>\n",
       "      <td>21</td>\n",
       "      <td>17090</td>\n",
       "      <td>2</td>\n",
       "    </tr>\n",
       "    <tr>\n",
       "      <th>4</th>\n",
       "      <td>Android In App Updates - Not able to detect th...</td>\n",
       "      <td>&lt;p&gt;Some log statements are thrown when we use,...</td>\n",
       "      <td>&lt;android&gt;&lt;google-play&gt;&lt;google-play-services&gt;&lt;a...</td>\n",
       "      <td>56581300</td>\n",
       "      <td>9</td>\n",
       "      <td>5122</td>\n",
       "      <td>3</td>\n",
       "    </tr>\n",
       "  </tbody>\n",
       "</table>\n",
       "</div>"
      ],
      "text/plain": [
       "                                               Title  \\\n",
       "0        Multithreading in a stateless session bean?   \n",
       "1              base64 JSON encoded strings in nodejs   \n",
       "2           How do you get a directory listing in C?   \n",
       "3  Link error: \"Cannot find -ltinfo\" on Ubuntu 12...   \n",
       "4  Android In App Updates - Not able to detect th...   \n",
       "\n",
       "                                                Body  \\\n",
       "0  <p>The EJB 3.0 specification does not allow a ...   \n",
       "1  <p>How do I create a base64 JSON encoded strin...   \n",
       "2  <p>How do you scan a directory for folders and...   \n",
       "3  <p>I get the following link error when I'm com...   \n",
       "4  <p>Some log statements are thrown when we use,...   \n",
       "\n",
       "                                                Tags        Id  Score  \\\n",
       "0   <java><multithreading><jakarta-ee><ejb-3.0><ejb>   3816286      9   \n",
       "1        <javascript><json><node.js><base64><buffer>  22515180     14   \n",
       "2  <c><file><directory><cross-platform><common-ta...     12489     69   \n",
       "3  <c++><ubuntu><arm><static-libraries><ubuntu-12...  21137879     21   \n",
       "4  <android><google-play><google-play-services><a...  56581300      9   \n",
       "\n",
       "   ViewCount  AnswerCount  \n",
       "0      13503            4  \n",
       "1      23710            3  \n",
       "2     142856            9  \n",
       "3      17090            2  \n",
       "4       5122            3  "
      ]
     },
     "execution_count": 5,
     "metadata": {},
     "output_type": "execute_result"
    }
   ],
   "source": [
    "df.head()"
   ]
  },
  {
   "cell_type": "code",
   "execution_count": 6,
   "metadata": {},
   "outputs": [
    {
     "name": "stdout",
     "output_type": "stream",
     "text": [
      "<class 'pandas.core.frame.DataFrame'>\n",
      "RangeIndex: 50000 entries, 0 to 49999\n",
      "Data columns (total 7 columns):\n",
      " #   Column       Non-Null Count  Dtype \n",
      "---  ------       --------------  ----- \n",
      " 0   Title        50000 non-null  object\n",
      " 1   Body         50000 non-null  object\n",
      " 2   Tags         50000 non-null  object\n",
      " 3   Id           50000 non-null  int64 \n",
      " 4   Score        50000 non-null  int64 \n",
      " 5   ViewCount    50000 non-null  int64 \n",
      " 6   AnswerCount  50000 non-null  int64 \n",
      "dtypes: int64(4), object(3)\n",
      "memory usage: 2.7+ MB\n"
     ]
    }
   ],
   "source": [
    "df.info()"
   ]
  },
  {
   "cell_type": "code",
   "execution_count": 7,
   "metadata": {},
   "outputs": [
    {
     "data": {
      "text/plain": [
       "50000"
      ]
     },
     "execution_count": 7,
     "metadata": {},
     "output_type": "execute_result"
    }
   ],
   "source": [
    "df['Id'].nunique()"
   ]
  },
  {
   "cell_type": "code",
   "execution_count": 8,
   "metadata": {},
   "outputs": [],
   "source": [
    "df.set_index('Id', inplace=True)"
   ]
  },
  {
   "cell_type": "code",
   "execution_count": 9,
   "metadata": {},
   "outputs": [
    {
     "data": {
      "text/html": [
       "<div>\n",
       "<style scoped>\n",
       "    .dataframe tbody tr th:only-of-type {\n",
       "        vertical-align: middle;\n",
       "    }\n",
       "\n",
       "    .dataframe tbody tr th {\n",
       "        vertical-align: top;\n",
       "    }\n",
       "\n",
       "    .dataframe thead th {\n",
       "        text-align: right;\n",
       "    }\n",
       "</style>\n",
       "<table border=\"1\" class=\"dataframe\">\n",
       "  <thead>\n",
       "    <tr style=\"text-align: right;\">\n",
       "      <th></th>\n",
       "      <th>Title</th>\n",
       "      <th>Body</th>\n",
       "      <th>Tags</th>\n",
       "      <th>Score</th>\n",
       "      <th>ViewCount</th>\n",
       "      <th>AnswerCount</th>\n",
       "    </tr>\n",
       "    <tr>\n",
       "      <th>Id</th>\n",
       "      <th></th>\n",
       "      <th></th>\n",
       "      <th></th>\n",
       "      <th></th>\n",
       "      <th></th>\n",
       "      <th></th>\n",
       "    </tr>\n",
       "  </thead>\n",
       "  <tbody>\n",
       "    <tr>\n",
       "      <th>3816286</th>\n",
       "      <td>Multithreading in a stateless session bean?</td>\n",
       "      <td>&lt;p&gt;The EJB 3.0 specification does not allow a ...</td>\n",
       "      <td>&lt;java&gt;&lt;multithreading&gt;&lt;jakarta-ee&gt;&lt;ejb-3.0&gt;&lt;ejb&gt;</td>\n",
       "      <td>9</td>\n",
       "      <td>13503</td>\n",
       "      <td>4</td>\n",
       "    </tr>\n",
       "    <tr>\n",
       "      <th>22515180</th>\n",
       "      <td>base64 JSON encoded strings in nodejs</td>\n",
       "      <td>&lt;p&gt;How do I create a base64 JSON encoded strin...</td>\n",
       "      <td>&lt;javascript&gt;&lt;json&gt;&lt;node.js&gt;&lt;base64&gt;&lt;buffer&gt;</td>\n",
       "      <td>14</td>\n",
       "      <td>23710</td>\n",
       "      <td>3</td>\n",
       "    </tr>\n",
       "    <tr>\n",
       "      <th>12489</th>\n",
       "      <td>How do you get a directory listing in C?</td>\n",
       "      <td>&lt;p&gt;How do you scan a directory for folders and...</td>\n",
       "      <td>&lt;c&gt;&lt;file&gt;&lt;directory&gt;&lt;cross-platform&gt;&lt;common-ta...</td>\n",
       "      <td>69</td>\n",
       "      <td>142856</td>\n",
       "      <td>9</td>\n",
       "    </tr>\n",
       "  </tbody>\n",
       "</table>\n",
       "</div>"
      ],
      "text/plain": [
       "                                                Title  \\\n",
       "Id                                                      \n",
       "3816286   Multithreading in a stateless session bean?   \n",
       "22515180        base64 JSON encoded strings in nodejs   \n",
       "12489        How do you get a directory listing in C?   \n",
       "\n",
       "                                                       Body  \\\n",
       "Id                                                            \n",
       "3816286   <p>The EJB 3.0 specification does not allow a ...   \n",
       "22515180  <p>How do I create a base64 JSON encoded strin...   \n",
       "12489     <p>How do you scan a directory for folders and...   \n",
       "\n",
       "                                                       Tags  Score  ViewCount  \\\n",
       "Id                                                                              \n",
       "3816286    <java><multithreading><jakarta-ee><ejb-3.0><ejb>      9      13503   \n",
       "22515180        <javascript><json><node.js><base64><buffer>     14      23710   \n",
       "12489     <c><file><directory><cross-platform><common-ta...     69     142856   \n",
       "\n",
       "          AnswerCount  \n",
       "Id                     \n",
       "3816286             4  \n",
       "22515180            3  \n",
       "12489               9  "
      ]
     },
     "execution_count": 9,
     "metadata": {},
     "output_type": "execute_result"
    }
   ],
   "source": [
    "df.head(3)"
   ]
  },
  {
   "attachments": {},
   "cell_type": "markdown",
   "metadata": {},
   "source": [
    "# Cleaning Tags column, counting tags"
   ]
  },
  {
   "cell_type": "code",
   "execution_count": 10,
   "metadata": {},
   "outputs": [],
   "source": [
    "def simple_tokenize_tags(tag):\n",
    "    '''\n",
    "    Returns a list with more readable original \n",
    "    tags from StackOverflow. \n",
    "\n",
    "    Parameters:\n",
    "        - tag: str\n",
    "\n",
    "    ----------------------------------------------------------\n",
    "    Example:\n",
    "    tag = '<java><multithreading><jakarta-ee><ejb-3.0><ejb>'\n",
    "\n",
    "    simple_tokenize_tags(tag) returns the list\n",
    "    ['java', 'multithreading', 'jakarta-ee', 'ejb-3.0', 'ejb']\n",
    "    ----------------------------------------------------------\n",
    "\n",
    "    '''\n",
    "    return tag.replace('><', ' ')[1:-1].split()"
   ]
  },
  {
   "attachments": {},
   "cell_type": "markdown",
   "metadata": {},
   "source": [
    "# Defining tags set\n",
    "\n",
    "We define a tag set to work with. We would like to keep a limited number of the most popular tags."
   ]
  },
  {
   "cell_type": "code",
   "execution_count": 11,
   "metadata": {},
   "outputs": [
    {
     "data": {
      "text/html": [
       "<div>\n",
       "<style scoped>\n",
       "    .dataframe tbody tr th:only-of-type {\n",
       "        vertical-align: middle;\n",
       "    }\n",
       "\n",
       "    .dataframe tbody tr th {\n",
       "        vertical-align: top;\n",
       "    }\n",
       "\n",
       "    .dataframe thead th {\n",
       "        text-align: right;\n",
       "    }\n",
       "</style>\n",
       "<table border=\"1\" class=\"dataframe\">\n",
       "  <thead>\n",
       "    <tr style=\"text-align: right;\">\n",
       "      <th></th>\n",
       "      <th>Title</th>\n",
       "      <th>Body</th>\n",
       "      <th>Tags</th>\n",
       "      <th>Score</th>\n",
       "      <th>ViewCount</th>\n",
       "      <th>AnswerCount</th>\n",
       "    </tr>\n",
       "    <tr>\n",
       "      <th>Id</th>\n",
       "      <th></th>\n",
       "      <th></th>\n",
       "      <th></th>\n",
       "      <th></th>\n",
       "      <th></th>\n",
       "      <th></th>\n",
       "    </tr>\n",
       "  </thead>\n",
       "  <tbody>\n",
       "    <tr>\n",
       "      <th>3816286</th>\n",
       "      <td>Multithreading in a stateless session bean?</td>\n",
       "      <td>&lt;p&gt;The EJB 3.0 specification does not allow a ...</td>\n",
       "      <td>&lt;java&gt;&lt;multithreading&gt;&lt;jakarta-ee&gt;&lt;ejb-3.0&gt;&lt;ejb&gt;</td>\n",
       "      <td>9</td>\n",
       "      <td>13503</td>\n",
       "      <td>4</td>\n",
       "    </tr>\n",
       "    <tr>\n",
       "      <th>22515180</th>\n",
       "      <td>base64 JSON encoded strings in nodejs</td>\n",
       "      <td>&lt;p&gt;How do I create a base64 JSON encoded strin...</td>\n",
       "      <td>&lt;javascript&gt;&lt;json&gt;&lt;node.js&gt;&lt;base64&gt;&lt;buffer&gt;</td>\n",
       "      <td>14</td>\n",
       "      <td>23710</td>\n",
       "      <td>3</td>\n",
       "    </tr>\n",
       "    <tr>\n",
       "      <th>12489</th>\n",
       "      <td>How do you get a directory listing in C?</td>\n",
       "      <td>&lt;p&gt;How do you scan a directory for folders and...</td>\n",
       "      <td>&lt;c&gt;&lt;file&gt;&lt;directory&gt;&lt;cross-platform&gt;&lt;common-ta...</td>\n",
       "      <td>69</td>\n",
       "      <td>142856</td>\n",
       "      <td>9</td>\n",
       "    </tr>\n",
       "  </tbody>\n",
       "</table>\n",
       "</div>"
      ],
      "text/plain": [
       "                                                Title  \\\n",
       "Id                                                      \n",
       "3816286   Multithreading in a stateless session bean?   \n",
       "22515180        base64 JSON encoded strings in nodejs   \n",
       "12489        How do you get a directory listing in C?   \n",
       "\n",
       "                                                       Body  \\\n",
       "Id                                                            \n",
       "3816286   <p>The EJB 3.0 specification does not allow a ...   \n",
       "22515180  <p>How do I create a base64 JSON encoded strin...   \n",
       "12489     <p>How do you scan a directory for folders and...   \n",
       "\n",
       "                                                       Tags  Score  ViewCount  \\\n",
       "Id                                                                              \n",
       "3816286    <java><multithreading><jakarta-ee><ejb-3.0><ejb>      9      13503   \n",
       "22515180        <javascript><json><node.js><base64><buffer>     14      23710   \n",
       "12489     <c><file><directory><cross-platform><common-ta...     69     142856   \n",
       "\n",
       "          AnswerCount  \n",
       "Id                     \n",
       "3816286             4  \n",
       "22515180            3  \n",
       "12489               9  "
      ]
     },
     "execution_count": 11,
     "metadata": {},
     "output_type": "execute_result"
    }
   ],
   "source": [
    "df.head(3)"
   ]
  },
  {
   "cell_type": "code",
   "execution_count": 12,
   "metadata": {},
   "outputs": [],
   "source": [
    "def clean_tags_column(df, old_tags_col):\n",
    "    '''\n",
    "    Adds a column to df with the clean tag form (as list)\n",
    "    of the tags string in column old_tags_col.\n",
    "    Removes the old tags column\n",
    "\n",
    "    Parameters:\n",
    "        - df: pandas.DataFrame\n",
    "        - old_tags_col: str\n",
    "            the label of the column containing string with tags.\n",
    "    '''\n",
    "    df['clean_Tags'] = df[old_tags_col].apply(lambda txt:simple_tokenize_tags(txt))\n",
    "    df.drop(columns=old_tags_col, inplace=True)\n",
    "    df.rename(columns={'clean_Tags' : 'Tags'}, inplace=True)"
   ]
  },
  {
   "cell_type": "code",
   "execution_count": 13,
   "metadata": {},
   "outputs": [],
   "source": [
    "# Adding a column of clean_Tags which is a list of tags\n",
    "clean_tags_column(df, 'Tags')"
   ]
  },
  {
   "cell_type": "code",
   "execution_count": 14,
   "metadata": {},
   "outputs": [
    {
     "data": {
      "text/html": [
       "<div>\n",
       "<style scoped>\n",
       "    .dataframe tbody tr th:only-of-type {\n",
       "        vertical-align: middle;\n",
       "    }\n",
       "\n",
       "    .dataframe tbody tr th {\n",
       "        vertical-align: top;\n",
       "    }\n",
       "\n",
       "    .dataframe thead th {\n",
       "        text-align: right;\n",
       "    }\n",
       "</style>\n",
       "<table border=\"1\" class=\"dataframe\">\n",
       "  <thead>\n",
       "    <tr style=\"text-align: right;\">\n",
       "      <th></th>\n",
       "      <th>Title</th>\n",
       "      <th>Body</th>\n",
       "      <th>Score</th>\n",
       "      <th>ViewCount</th>\n",
       "      <th>AnswerCount</th>\n",
       "      <th>Tags</th>\n",
       "    </tr>\n",
       "    <tr>\n",
       "      <th>Id</th>\n",
       "      <th></th>\n",
       "      <th></th>\n",
       "      <th></th>\n",
       "      <th></th>\n",
       "      <th></th>\n",
       "      <th></th>\n",
       "    </tr>\n",
       "  </thead>\n",
       "  <tbody>\n",
       "    <tr>\n",
       "      <th>3816286</th>\n",
       "      <td>Multithreading in a stateless session bean?</td>\n",
       "      <td>&lt;p&gt;The EJB 3.0 specification does not allow a ...</td>\n",
       "      <td>9</td>\n",
       "      <td>13503</td>\n",
       "      <td>4</td>\n",
       "      <td>[java, multithreading, jakarta-ee, ejb-3.0, ejb]</td>\n",
       "    </tr>\n",
       "    <tr>\n",
       "      <th>22515180</th>\n",
       "      <td>base64 JSON encoded strings in nodejs</td>\n",
       "      <td>&lt;p&gt;How do I create a base64 JSON encoded strin...</td>\n",
       "      <td>14</td>\n",
       "      <td>23710</td>\n",
       "      <td>3</td>\n",
       "      <td>[javascript, json, node.js, base64, buffer]</td>\n",
       "    </tr>\n",
       "    <tr>\n",
       "      <th>12489</th>\n",
       "      <td>How do you get a directory listing in C?</td>\n",
       "      <td>&lt;p&gt;How do you scan a directory for folders and...</td>\n",
       "      <td>69</td>\n",
       "      <td>142856</td>\n",
       "      <td>9</td>\n",
       "      <td>[c, file, directory, cross-platform, common-ta...</td>\n",
       "    </tr>\n",
       "  </tbody>\n",
       "</table>\n",
       "</div>"
      ],
      "text/plain": [
       "                                                Title  \\\n",
       "Id                                                      \n",
       "3816286   Multithreading in a stateless session bean?   \n",
       "22515180        base64 JSON encoded strings in nodejs   \n",
       "12489        How do you get a directory listing in C?   \n",
       "\n",
       "                                                       Body  Score  ViewCount  \\\n",
       "Id                                                                              \n",
       "3816286   <p>The EJB 3.0 specification does not allow a ...      9      13503   \n",
       "22515180  <p>How do I create a base64 JSON encoded strin...     14      23710   \n",
       "12489     <p>How do you scan a directory for folders and...     69     142856   \n",
       "\n",
       "          AnswerCount                                               Tags  \n",
       "Id                                                                        \n",
       "3816286             4   [java, multithreading, jakarta-ee, ejb-3.0, ejb]  \n",
       "22515180            3        [javascript, json, node.js, base64, buffer]  \n",
       "12489               9  [c, file, directory, cross-platform, common-ta...  "
      ]
     },
     "execution_count": 14,
     "metadata": {},
     "output_type": "execute_result"
    }
   ],
   "source": [
    "df.head(3)"
   ]
  },
  {
   "attachments": {},
   "cell_type": "markdown",
   "metadata": {},
   "source": [
    "We study some statistics in the whole set of tags to understand."
   ]
  },
  {
   "cell_type": "code",
   "execution_count": 19,
   "metadata": {},
   "outputs": [],
   "source": [
    "# Creating the set of all tags appearing in the sample of\n",
    "# size 50 000\n",
    "all_tags = set()\n",
    "\n",
    "for tags in df['Tags']:\n",
    "    all_tags = all_tags.union(set(tags))"
   ]
  },
  {
   "cell_type": "code",
   "execution_count": 20,
   "metadata": {},
   "outputs": [
    {
     "name": "stdout",
     "output_type": "stream",
     "text": [
      "There are 18409 different tags.\n",
      "The mean of # of questions per tag is: 13.58042261937096\n",
      "The minimum # of questions per tag is: 1.0 (by constr.)\n",
      "The max # of questions per tag is: 6226.0.\n",
      "25% of tags appear in 1.0 question.\n",
      "50% of tags appear in 2.0 questions or less.\n",
      "75% of tags appear in 6.0 questions or less.\n"
     ]
    }
   ],
   "source": [
    "# Different tags as a list\n",
    "all_tags = list(all_tags)\n",
    "\n",
    "# Counting questions per tag\n",
    "all_tags_count = dict(zip(all_tags,np.zeros(len(all_tags))))\n",
    "\n",
    "for tags in df['Tags']:\n",
    "    for tag in tags:\n",
    "        all_tags_count[tag] += 1\n",
    "\n",
    "# Array counting # of questions per tag\n",
    "tags_count = np.array(list(all_tags_count.values()))\n",
    "\n",
    "print(f'There are {len(all_tags)} different tags.')\n",
    "print(f'The mean of # of questions per tag is: {np.mean(tags_count)}')\n",
    "print(f'The minimum # of questions per tag is: {np.min(tags_count)} (by constr.)')\n",
    "print(f'The max # of questions per tag is: {np.max(tags_count)}.')\n",
    "print(f'25% of tags appear in {np.quantile(tags_count, 0.25)} question.')\n",
    "print(f'50% of tags appear in {np.quantile(tags_count, 0.5)} questions or less.')\n",
    "print(f'75% of tags appear in {np.quantile(tags_count, 0.75)} questions or less.')\n"
   ]
  },
  {
   "cell_type": "code",
   "execution_count": 21,
   "metadata": {},
   "outputs": [
    {
     "data": {
      "text/html": [
       "<div>\n",
       "<style scoped>\n",
       "    .dataframe tbody tr th:only-of-type {\n",
       "        vertical-align: middle;\n",
       "    }\n",
       "\n",
       "    .dataframe tbody tr th {\n",
       "        vertical-align: top;\n",
       "    }\n",
       "\n",
       "    .dataframe thead th {\n",
       "        text-align: right;\n",
       "    }\n",
       "</style>\n",
       "<table border=\"1\" class=\"dataframe\">\n",
       "  <thead>\n",
       "    <tr style=\"text-align: right;\">\n",
       "      <th></th>\n",
       "      <th>Title</th>\n",
       "      <th>Body</th>\n",
       "      <th>Score</th>\n",
       "      <th>ViewCount</th>\n",
       "      <th>AnswerCount</th>\n",
       "      <th>Tags</th>\n",
       "    </tr>\n",
       "    <tr>\n",
       "      <th>Id</th>\n",
       "      <th></th>\n",
       "      <th></th>\n",
       "      <th></th>\n",
       "      <th></th>\n",
       "      <th></th>\n",
       "      <th></th>\n",
       "    </tr>\n",
       "  </thead>\n",
       "  <tbody>\n",
       "    <tr>\n",
       "      <th>3816286</th>\n",
       "      <td>Multithreading in a stateless session bean?</td>\n",
       "      <td>&lt;p&gt;The EJB 3.0 specification does not allow a ...</td>\n",
       "      <td>9</td>\n",
       "      <td>13503</td>\n",
       "      <td>4</td>\n",
       "      <td>[java, multithreading, jakarta-ee, ejb-3.0, ejb]</td>\n",
       "    </tr>\n",
       "    <tr>\n",
       "      <th>22515180</th>\n",
       "      <td>base64 JSON encoded strings in nodejs</td>\n",
       "      <td>&lt;p&gt;How do I create a base64 JSON encoded strin...</td>\n",
       "      <td>14</td>\n",
       "      <td>23710</td>\n",
       "      <td>3</td>\n",
       "      <td>[javascript, json, node.js, base64, buffer]</td>\n",
       "    </tr>\n",
       "    <tr>\n",
       "      <th>12489</th>\n",
       "      <td>How do you get a directory listing in C?</td>\n",
       "      <td>&lt;p&gt;How do you scan a directory for folders and...</td>\n",
       "      <td>69</td>\n",
       "      <td>142856</td>\n",
       "      <td>9</td>\n",
       "      <td>[c, file, directory, cross-platform, common-ta...</td>\n",
       "    </tr>\n",
       "    <tr>\n",
       "      <th>21137879</th>\n",
       "      <td>Link error: \"Cannot find -ltinfo\" on Ubuntu 12...</td>\n",
       "      <td>&lt;p&gt;I get the following link error when I'm com...</td>\n",
       "      <td>21</td>\n",
       "      <td>17090</td>\n",
       "      <td>2</td>\n",
       "      <td>[c++, ubuntu, arm, static-libraries, ubuntu-12...</td>\n",
       "    </tr>\n",
       "    <tr>\n",
       "      <th>56581300</th>\n",
       "      <td>Android In App Updates - Not able to detect th...</td>\n",
       "      <td>&lt;p&gt;Some log statements are thrown when we use,...</td>\n",
       "      <td>9</td>\n",
       "      <td>5122</td>\n",
       "      <td>3</td>\n",
       "      <td>[android, google-play, google-play-services, a...</td>\n",
       "    </tr>\n",
       "  </tbody>\n",
       "</table>\n",
       "</div>"
      ],
      "text/plain": [
       "                                                      Title  \\\n",
       "Id                                                            \n",
       "3816286         Multithreading in a stateless session bean?   \n",
       "22515180              base64 JSON encoded strings in nodejs   \n",
       "12489              How do you get a directory listing in C?   \n",
       "21137879  Link error: \"Cannot find -ltinfo\" on Ubuntu 12...   \n",
       "56581300  Android In App Updates - Not able to detect th...   \n",
       "\n",
       "                                                       Body  Score  ViewCount  \\\n",
       "Id                                                                              \n",
       "3816286   <p>The EJB 3.0 specification does not allow a ...      9      13503   \n",
       "22515180  <p>How do I create a base64 JSON encoded strin...     14      23710   \n",
       "12489     <p>How do you scan a directory for folders and...     69     142856   \n",
       "21137879  <p>I get the following link error when I'm com...     21      17090   \n",
       "56581300  <p>Some log statements are thrown when we use,...      9       5122   \n",
       "\n",
       "          AnswerCount                                               Tags  \n",
       "Id                                                                        \n",
       "3816286             4   [java, multithreading, jakarta-ee, ejb-3.0, ejb]  \n",
       "22515180            3        [javascript, json, node.js, base64, buffer]  \n",
       "12489               9  [c, file, directory, cross-platform, common-ta...  \n",
       "21137879            2  [c++, ubuntu, arm, static-libraries, ubuntu-12...  \n",
       "56581300            3  [android, google-play, google-play-services, a...  "
      ]
     },
     "execution_count": 21,
     "metadata": {},
     "output_type": "execute_result"
    }
   ],
   "source": [
    "df.head()"
   ]
  },
  {
   "attachments": {},
   "cell_type": "markdown",
   "metadata": {},
   "source": [
    "We now choose the more popular tags"
   ]
  },
  {
   "cell_type": "code",
   "execution_count": 27,
   "metadata": {},
   "outputs": [
    {
     "name": "stdout",
     "output_type": "stream",
     "text": [
      "The total # of popular tags is 10\n",
      "(appearing in more than 1900 questions)\n",
      "-----------------------------------\n",
      "Tag \t\t # of quest\n",
      "-----------------------------------\n",
      "        c# \t 6226.0\n",
      "      java \t 5880.0\n",
      "javascript \t 4920.0\n",
      "    python \t 4747.0\n",
      "       c++ \t 3904.0\n",
      "       ios \t 3449.0\n",
      "   android \t 3223.0\n",
      "      .net \t 3164.0\n",
      "      html \t 2197.0\n",
      "       php \t 2050.0\n"
     ]
    }
   ],
   "source": [
    "# Fixing a minimal number of questions for considering\n",
    "# a tag \"popular\"\n",
    "numb_quest = 1900\n",
    "popular_tags = { key:value for (key,value) in all_tags_count.items() if value >numb_quest}\n",
    "\n",
    "# Sorting popular tags decreasingly\n",
    "popular_tags = {k: v for k, v in sorted(popular_tags.items(), key=lambda item: item[1], reverse=True)}\n",
    "\n",
    "print(f'The total # of popular tags is {len(popular_tags)}')\n",
    "print(f'(appearing in more than {numb_quest} questions)')\n",
    "print('-'*35)\n",
    "print('Tag \\t\\t # of quest')\n",
    "print('-'*35)\n",
    "for (key,value) in popular_tags.items():\n",
    "    print(f'{key:>10} \\t {value}')\n"
   ]
  },
  {
   "cell_type": "code",
   "execution_count": 28,
   "metadata": {},
   "outputs": [],
   "source": [
    "def plot_numb_popular_tags(popular_tags,n):\n",
    "        '''\n",
    "        Bar plot illustrating the number of questions\n",
    "        per each popular tag, for n the most popular tags.\n",
    "\n",
    "        Parameters:\n",
    "                - popular_tags : dict\n",
    "                        keys: the labels of popular tags\n",
    "                        values: number of questions tagged with tag.\n",
    "                - n : int\n",
    "        '''\n",
    "        \n",
    "        fig, ax = plt.subplots()\n",
    "        ax.barh(width=list(popular_tags.values())[:n],\n",
    "                y=range(n)[::-1],\n",
    "                color='blueviolet',\n",
    "                alpha=0.7,\n",
    "                tick_label=list(popular_tags.keys())[:n]\n",
    "                )\n",
    "        plt.title(f'Most popular {n} tags', fontsize=13)\n",
    "        plt.xlabel('# of questions containing tag')\n",
    "        ax.grid(axis='y')\n",
    "\n",
    "        plt.show()\n"
   ]
  },
  {
   "cell_type": "code",
   "execution_count": 29,
   "metadata": {},
   "outputs": [
    {
     "data": {
      "image/png": "[encoded data removed]",
      "text/plain": [
       "<Figure size 432x288 with 1 Axes>"
      ]
     },
     "metadata": {},
     "output_type": "display_data"
    }
   ],
   "source": [
    "# Plotting the 10 most popular tags\n",
    "plot_numb_popular_tags(popular_tags, 10)"
   ]
  },
  {
   "attachments": {},
   "cell_type": "markdown",
   "metadata": {},
   "source": [
    "## Mini-example"
   ]
  },
  {
   "cell_type": "code",
   "execution_count": 30,
   "metadata": {},
   "outputs": [],
   "source": [
    "df_ex = df.sample(3)"
   ]
  },
  {
   "cell_type": "code",
   "execution_count": 31,
   "metadata": {},
   "outputs": [
    {
     "data": {
      "text/html": [
       "<div>\n",
       "<style scoped>\n",
       "    .dataframe tbody tr th:only-of-type {\n",
       "        vertical-align: middle;\n",
       "    }\n",
       "\n",
       "    .dataframe tbody tr th {\n",
       "        vertical-align: top;\n",
       "    }\n",
       "\n",
       "    .dataframe thead th {\n",
       "        text-align: right;\n",
       "    }\n",
       "</style>\n",
       "<table border=\"1\" class=\"dataframe\">\n",
       "  <thead>\n",
       "    <tr style=\"text-align: right;\">\n",
       "      <th></th>\n",
       "      <th>Title</th>\n",
       "      <th>Body</th>\n",
       "      <th>Score</th>\n",
       "      <th>ViewCount</th>\n",
       "      <th>AnswerCount</th>\n",
       "      <th>Tags</th>\n",
       "    </tr>\n",
       "    <tr>\n",
       "      <th>Id</th>\n",
       "      <th></th>\n",
       "      <th></th>\n",
       "      <th></th>\n",
       "      <th></th>\n",
       "      <th></th>\n",
       "      <th></th>\n",
       "    </tr>\n",
       "  </thead>\n",
       "  <tbody>\n",
       "    <tr>\n",
       "      <th>2949992</th>\n",
       "      <td>How do I remove separation between rows in a H...</td>\n",
       "      <td>&lt;p&gt;I have a html table with 3 rows and 1 colum...</td>\n",
       "      <td>8</td>\n",
       "      <td>43738</td>\n",
       "      <td>6</td>\n",
       "      <td>[html, image, html-table, margin, padding]</td>\n",
       "    </tr>\n",
       "    <tr>\n",
       "      <th>24659814</th>\n",
       "      <td>How to write a numpy array to a csv file?</td>\n",
       "      <td>&lt;p&gt;I want to open up a new text file and then ...</td>\n",
       "      <td>8</td>\n",
       "      <td>28814</td>\n",
       "      <td>1</td>\n",
       "      <td>[python, arrays, csv, numpy, python-3.4]</td>\n",
       "    </tr>\n",
       "    <tr>\n",
       "      <th>8333507</th>\n",
       "      <td>How to copy and paste files in Compile Sources...</td>\n",
       "      <td>&lt;p&gt;I have a main target that have certain file...</td>\n",
       "      <td>17</td>\n",
       "      <td>6391</td>\n",
       "      <td>3</td>\n",
       "      <td>[xcode, build, compilation, include, target]</td>\n",
       "    </tr>\n",
       "  </tbody>\n",
       "</table>\n",
       "</div>"
      ],
      "text/plain": [
       "                                                      Title  \\\n",
       "Id                                                            \n",
       "2949992   How do I remove separation between rows in a H...   \n",
       "24659814          How to write a numpy array to a csv file?   \n",
       "8333507   How to copy and paste files in Compile Sources...   \n",
       "\n",
       "                                                       Body  Score  ViewCount  \\\n",
       "Id                                                                              \n",
       "2949992   <p>I have a html table with 3 rows and 1 colum...      8      43738   \n",
       "24659814  <p>I want to open up a new text file and then ...      8      28814   \n",
       "8333507   <p>I have a main target that have certain file...     17       6391   \n",
       "\n",
       "          AnswerCount                                          Tags  \n",
       "Id                                                                   \n",
       "2949992             6    [html, image, html-table, margin, padding]  \n",
       "24659814            1      [python, arrays, csv, numpy, python-3.4]  \n",
       "8333507             3  [xcode, build, compilation, include, target]  "
      ]
     },
     "execution_count": 31,
     "metadata": {},
     "output_type": "execute_result"
    }
   ],
   "source": [
    "df_ex"
   ]
  },
  {
   "cell_type": "code",
   "execution_count": 32,
   "metadata": {},
   "outputs": [
    {
     "name": "stdout",
     "output_type": "stream",
     "text": [
      "['html', 'image', 'html-table', 'margin', 'padding']\n",
      "['python', 'arrays', 'csv', 'numpy', 'python-3.4']\n",
      "['xcode', 'build', 'compilation', 'include', 'target']\n"
     ]
    }
   ],
   "source": [
    "for tags in df_ex['Tags']:\n",
    "    print(tags)"
   ]
  },
  {
   "cell_type": "code",
   "execution_count": 33,
   "metadata": {},
   "outputs": [],
   "source": [
    "my_list = ['html', 'padding','python', 'csv', 'xcode' ]"
   ]
  },
  {
   "cell_type": "code",
   "execution_count": 34,
   "metadata": {},
   "outputs": [
    {
     "data": {
      "text/plain": [
       "Id\n",
       "2949992            html\n",
       "2949992           image\n",
       "2949992      html-table\n",
       "2949992          margin\n",
       "2949992         padding\n",
       "24659814         python\n",
       "24659814         arrays\n",
       "24659814            csv\n",
       "24659814          numpy\n",
       "24659814     python-3.4\n",
       "8333507           xcode\n",
       "8333507           build\n",
       "8333507     compilation\n",
       "8333507         include\n",
       "8333507          target\n",
       "Name: Tags, dtype: object"
      ]
     },
     "execution_count": 34,
     "metadata": {},
     "output_type": "execute_result"
    }
   ],
   "source": [
    "df_ex.Tags.explode()"
   ]
  },
  {
   "cell_type": "code",
   "execution_count": 35,
   "metadata": {},
   "outputs": [
    {
     "data": {
      "text/plain": [
       "Id\n",
       "2949992      True\n",
       "2949992     False\n",
       "2949992     False\n",
       "2949992     False\n",
       "2949992      True\n",
       "24659814     True\n",
       "24659814    False\n",
       "24659814     True\n",
       "24659814    False\n",
       "24659814    False\n",
       "8333507      True\n",
       "8333507     False\n",
       "8333507     False\n",
       "8333507     False\n",
       "8333507     False\n",
       "Name: Tags, dtype: bool"
      ]
     },
     "execution_count": 35,
     "metadata": {},
     "output_type": "execute_result"
    }
   ],
   "source": [
    "df_ex.Tags.explode().isin(my_list)"
   ]
  },
  {
   "cell_type": "code",
   "execution_count": 36,
   "metadata": {},
   "outputs": [
    {
     "data": {
      "text/plain": [
       "Id\n",
       "2949992        html\n",
       "2949992     padding\n",
       "24659814     python\n",
       "24659814        csv\n",
       "8333507       xcode\n",
       "Name: Tags, dtype: object"
      ]
     },
     "execution_count": 36,
     "metadata": {},
     "output_type": "execute_result"
    }
   ],
   "source": [
    "df_ex.Tags.explode()[df_ex.Tags.explode().isin(my_list)]"
   ]
  },
  {
   "cell_type": "code",
   "execution_count": 43,
   "metadata": {},
   "outputs": [],
   "source": [
    "my_series = df_ex.Tags.explode()[df_ex.Tags.explode().isin(my_list)]\n",
    "my_series = my_series.groupby(by=my_series.index).apply(list)"
   ]
  },
  {
   "cell_type": "code",
   "execution_count": 44,
   "metadata": {},
   "outputs": [
    {
     "data": {
      "text/plain": [
       "Id\n",
       "2949992     [html, padding]\n",
       "8333507             [xcode]\n",
       "24659814      [python, csv]\n",
       "Name: Tags, dtype: object"
      ]
     },
     "execution_count": 44,
     "metadata": {},
     "output_type": "execute_result"
    }
   ],
   "source": [
    "my_series"
   ]
  },
  {
   "cell_type": "code",
   "execution_count": 45,
   "metadata": {},
   "outputs": [
    {
     "data": {
      "text/plain": [
       "list"
      ]
     },
     "execution_count": 45,
     "metadata": {},
     "output_type": "execute_result"
    }
   ],
   "source": [
    "type(my_series[2949992])"
   ]
  },
  {
   "cell_type": "code",
   "execution_count": 120,
   "metadata": {},
   "outputs": [
    {
     "data": {
      "text/html": [
       "<div>\n",
       "<style scoped>\n",
       "    .dataframe tbody tr th:only-of-type {\n",
       "        vertical-align: middle;\n",
       "    }\n",
       "\n",
       "    .dataframe tbody tr th {\n",
       "        vertical-align: top;\n",
       "    }\n",
       "\n",
       "    .dataframe thead th {\n",
       "        text-align: right;\n",
       "    }\n",
       "</style>\n",
       "<table border=\"1\" class=\"dataframe\">\n",
       "  <thead>\n",
       "    <tr style=\"text-align: right;\">\n",
       "      <th></th>\n",
       "      <th>Title</th>\n",
       "      <th>Body</th>\n",
       "      <th>Score</th>\n",
       "      <th>ViewCount</th>\n",
       "      <th>AnswerCount</th>\n",
       "      <th>Tags_original</th>\n",
       "      <th>text</th>\n",
       "      <th>processed_text</th>\n",
       "      <th>Tags</th>\n",
       "    </tr>\n",
       "    <tr>\n",
       "      <th>Id</th>\n",
       "      <th></th>\n",
       "      <th></th>\n",
       "      <th></th>\n",
       "      <th></th>\n",
       "      <th></th>\n",
       "      <th></th>\n",
       "      <th></th>\n",
       "      <th></th>\n",
       "      <th></th>\n",
       "    </tr>\n",
       "  </thead>\n",
       "  <tbody>\n",
       "    <tr>\n",
       "      <th>8741000</th>\n",
       "      <td>HTML5 Web SQL Transactions skipped without err...</td>\n",
       "      <td>&lt;p&gt;I'm experiencing problems making database t...</td>\n",
       "      <td>11</td>\n",
       "      <td>5617</td>\n",
       "      <td>2</td>\n",
       "      <td>[javascript, ios, html]</td>\n",
       "      <td>HTML5 Web SQL Transactions skipped without err...</td>\n",
       "      <td>html web sql transactions error touch ios prob...</td>\n",
       "      <td>[javascript, ios, html]</td>\n",
       "    </tr>\n",
       "    <tr>\n",
       "      <th>19543997</th>\n",
       "      <td>Why does the string returned by ctime() contai...</td>\n",
       "      <td>&lt;p&gt;Why does the string returned by &lt;code&gt;ctime...</td>\n",
       "      <td>51</td>\n",
       "      <td>5887</td>\n",
       "      <td>6</td>\n",
       "      <td>[c++]</td>\n",
       "      <td>Why does the string returned by ctime() contai...</td>\n",
       "      <td>string ctime line feed string line feed charac...</td>\n",
       "      <td>[c++]</td>\n",
       "    </tr>\n",
       "    <tr>\n",
       "      <th>31593119</th>\n",
       "      <td>vshost.exe not terminating properly in Visual ...</td>\n",
       "      <td>&lt;p&gt;I am in charge of testing VS 2015 and how i...</td>\n",
       "      <td>11</td>\n",
       "      <td>3685</td>\n",
       "      <td>2</td>\n",
       "      <td>[c#]</td>\n",
       "      <td>vshost.exe not terminating properly in Visual ...</td>\n",
       "      <td>visual studio charge vs application employer v...</td>\n",
       "      <td>[c#]</td>\n",
       "    </tr>\n",
       "  </tbody>\n",
       "</table>\n",
       "</div>"
      ],
      "text/plain": [
       "                                                      Title  \\\n",
       "Id                                                            \n",
       "8741000   HTML5 Web SQL Transactions skipped without err...   \n",
       "19543997  Why does the string returned by ctime() contai...   \n",
       "31593119  vshost.exe not terminating properly in Visual ...   \n",
       "\n",
       "                                                       Body  Score  ViewCount  \\\n",
       "Id                                                                              \n",
       "8741000   <p>I'm experiencing problems making database t...     11       5617   \n",
       "19543997  <p>Why does the string returned by <code>ctime...     51       5887   \n",
       "31593119  <p>I am in charge of testing VS 2015 and how i...     11       3685   \n",
       "\n",
       "          AnswerCount            Tags_original  \\\n",
       "Id                                               \n",
       "8741000             2  [javascript, ios, html]   \n",
       "19543997            6                    [c++]   \n",
       "31593119            2                     [c#]   \n",
       "\n",
       "                                                       text  \\\n",
       "Id                                                            \n",
       "8741000   HTML5 Web SQL Transactions skipped without err...   \n",
       "19543997  Why does the string returned by ctime() contai...   \n",
       "31593119  vshost.exe not terminating properly in Visual ...   \n",
       "\n",
       "                                             processed_text  \\\n",
       "Id                                                            \n",
       "8741000   html web sql transactions error touch ios prob...   \n",
       "19543997  string ctime line feed string line feed charac...   \n",
       "31593119  visual studio charge vs application employer v...   \n",
       "\n",
       "                             Tags  \n",
       "Id                                 \n",
       "8741000   [javascript, ios, html]  \n",
       "19543997                    [c++]  \n",
       "31593119                     [c#]  "
      ]
     },
     "execution_count": 120,
     "metadata": {},
     "output_type": "execute_result"
    }
   ],
   "source": [
    "pd.merge(left=df_ex, right=my_series, how='right', left_index=True, right_index=True, suffixes=('_original',None))"
   ]
  },
  {
   "cell_type": "code",
   "execution_count": 55,
   "metadata": {},
   "outputs": [],
   "source": [
    "def filter_popular_tags(df,tags,pop_tags):\n",
    "    '''\n",
    "    Returns a dataframe with filtered tags:\n",
    "    it keeps only tags in the list pop_tags and\n",
    "    removes the rest of the tags. Removes rows without\n",
    "    popular tags.\n",
    "\n",
    "    Parameters:\n",
    "        - df: pd.DataFrame\n",
    "        - pop_tags: list of str\n",
    "            list of popular tags to keep.\n",
    "        - tags: str\n",
    "            label of the tags column in df.\n",
    "    '''\n",
    "    # Exploding series of tags as rows (preserves the index)\n",
    "    tags_series = df[tags].explode()\n",
    "\n",
    "    # Boolean of preceding series: True if tag is popular\n",
    "    is_pop_tag = tags_series.isin(pop_tags)\n",
    "\n",
    "    # Series of tags for which True\n",
    "    pop_tags_series = tags_series[is_pop_tag]\n",
    "\n",
    "    # Groupby of this series to go back to a list of tags\n",
    "    pop_tags_series = pop_tags_series.groupby(by=pop_tags_series.index).agg(list)\n",
    "\n",
    "    # Merge with dataframe to keep only popular tags\n",
    "    pop_tags_df = pd.merge(left=df, \n",
    "                           right=pop_tags_series, \n",
    "                           how='right', \n",
    "                           left_index=True, \n",
    "                           right_index=True, \n",
    "                           suffixes=('_old',None))\n",
    "    pop_tags_df.drop(columns=[tags+'_old'], inplace=True)\n",
    "\n",
    "    return pop_tags_df"
   ]
  },
  {
   "cell_type": "code",
   "execution_count": 54,
   "metadata": {},
   "outputs": [
    {
     "data": {
      "text/html": [
       "<div>\n",
       "<style scoped>\n",
       "    .dataframe tbody tr th:only-of-type {\n",
       "        vertical-align: middle;\n",
       "    }\n",
       "\n",
       "    .dataframe tbody tr th {\n",
       "        vertical-align: top;\n",
       "    }\n",
       "\n",
       "    .dataframe thead th {\n",
       "        text-align: right;\n",
       "    }\n",
       "</style>\n",
       "<table border=\"1\" class=\"dataframe\">\n",
       "  <thead>\n",
       "    <tr style=\"text-align: right;\">\n",
       "      <th></th>\n",
       "      <th>Title</th>\n",
       "      <th>Body</th>\n",
       "      <th>Score</th>\n",
       "      <th>ViewCount</th>\n",
       "      <th>AnswerCount</th>\n",
       "      <th>Tags</th>\n",
       "    </tr>\n",
       "    <tr>\n",
       "      <th>Id</th>\n",
       "      <th></th>\n",
       "      <th></th>\n",
       "      <th></th>\n",
       "      <th></th>\n",
       "      <th></th>\n",
       "      <th></th>\n",
       "    </tr>\n",
       "  </thead>\n",
       "  <tbody>\n",
       "    <tr>\n",
       "      <th>2949992</th>\n",
       "      <td>How do I remove separation between rows in a H...</td>\n",
       "      <td>&lt;p&gt;I have a html table with 3 rows and 1 colum...</td>\n",
       "      <td>8</td>\n",
       "      <td>43738</td>\n",
       "      <td>6</td>\n",
       "      <td>[html, padding]</td>\n",
       "    </tr>\n",
       "    <tr>\n",
       "      <th>8333507</th>\n",
       "      <td>How to copy and paste files in Compile Sources...</td>\n",
       "      <td>&lt;p&gt;I have a main target that have certain file...</td>\n",
       "      <td>17</td>\n",
       "      <td>6391</td>\n",
       "      <td>3</td>\n",
       "      <td>[xcode]</td>\n",
       "    </tr>\n",
       "    <tr>\n",
       "      <th>24659814</th>\n",
       "      <td>How to write a numpy array to a csv file?</td>\n",
       "      <td>&lt;p&gt;I want to open up a new text file and then ...</td>\n",
       "      <td>8</td>\n",
       "      <td>28814</td>\n",
       "      <td>1</td>\n",
       "      <td>[python, csv]</td>\n",
       "    </tr>\n",
       "  </tbody>\n",
       "</table>\n",
       "</div>"
      ],
      "text/plain": [
       "                                                      Title  \\\n",
       "Id                                                            \n",
       "2949992   How do I remove separation between rows in a H...   \n",
       "8333507   How to copy and paste files in Compile Sources...   \n",
       "24659814          How to write a numpy array to a csv file?   \n",
       "\n",
       "                                                       Body  Score  ViewCount  \\\n",
       "Id                                                                              \n",
       "2949992   <p>I have a html table with 3 rows and 1 colum...      8      43738   \n",
       "8333507   <p>I have a main target that have certain file...     17       6391   \n",
       "24659814  <p>I want to open up a new text file and then ...      8      28814   \n",
       "\n",
       "          AnswerCount             Tags  \n",
       "Id                                      \n",
       "2949992             6  [html, padding]  \n",
       "8333507             3          [xcode]  \n",
       "24659814            1    [python, csv]  "
      ]
     },
     "execution_count": 54,
     "metadata": {},
     "output_type": "execute_result"
    }
   ],
   "source": [
    "# Testing function\n",
    "filter_popular_tags(df_ex,'Tags',my_list)"
   ]
  },
  {
   "attachments": {},
   "cell_type": "markdown",
   "metadata": {},
   "source": [
    "We now filter our dataset to keep only popular tags"
   ]
  },
  {
   "cell_type": "code",
   "execution_count": 56,
   "metadata": {},
   "outputs": [
    {
     "name": "stdout",
     "output_type": "stream",
     "text": [
      "Dataset shape before filter : (50000, 6)\n",
      "Dataset shape after filter : (33729, 6)\n"
     ]
    }
   ],
   "source": [
    "print(f'Dataset shape before filter : {df.shape}')\n",
    "\n",
    "# Filtering popular tags\n",
    "popular_tags = list(popular_tags.keys())\n",
    "df = filter_popular_tags(df,'Tags',popular_tags)\n",
    "\n",
    "print(f'Dataset shape after filter : {df.shape}')"
   ]
  },
  {
   "attachments": {},
   "cell_type": "markdown",
   "metadata": {},
   "source": [
    "## Creating target columns\n",
    "\n",
    "We now encode the tags into columns: one column for each one of the popular tags. In each column there are binary values: 1 if the corresponding tag is in the document and 0 otherwise."
   ]
  },
  {
   "cell_type": "code",
   "execution_count": 12,
   "metadata": {},
   "outputs": [
    {
     "name": "stdout",
     "output_type": "stream",
     "text": [
      "['c#', 'java', 'javascript', 'python', 'c++', 'ios', 'android', '.net', 'html', 'php']\n"
     ]
    }
   ],
   "source": [
    "print(popular_tags)"
   ]
  },
  {
   "cell_type": "code",
   "execution_count": 11,
   "metadata": {},
   "outputs": [],
   "source": [
    "# popular_tags = ['c#','java','javascript','python','c++','ios','android','.net','html','php']  "
   ]
  },
  {
   "cell_type": "code",
   "execution_count": 15,
   "metadata": {},
   "outputs": [
    {
     "data": {
      "text/plain": [
       "list"
      ]
     },
     "execution_count": 15,
     "metadata": {},
     "output_type": "execute_result"
    }
   ],
   "source": [
    "type(popular_tags)"
   ]
  },
  {
   "cell_type": "code",
   "execution_count": 59,
   "metadata": {},
   "outputs": [
    {
     "data": {
      "text/html": [
       "<style>#sk-container-id-1 {color: black;background-color: white;}#sk-container-id-1 pre{padding: 0;}#sk-container-id-1 div.sk-toggleable {background-color: white;}#sk-container-id-1 label.sk-toggleable__label {cursor: pointer;display: block;width: 100%;margin-bottom: 0;padding: 0.3em;box-sizing: border-box;text-align: center;}#sk-container-id-1 label.sk-toggleable__label-arrow:before {content: \"▸\";float: left;margin-right: 0.25em;color: #696969;}#sk-container-id-1 label.sk-toggleable__label-arrow:hover:before {color: black;}#sk-container-id-1 div.sk-estimator:hover label.sk-toggleable__label-arrow:before {color: black;}#sk-container-id-1 div.sk-toggleable__content {max-height: 0;max-width: 0;overflow: hidden;text-align: left;background-color: #f0f8ff;}#sk-container-id-1 div.sk-toggleable__content pre {margin: 0.2em;color: black;border-radius: 0.25em;background-color: #f0f8ff;}#sk-container-id-1 input.sk-toggleable__control:checked~div.sk-toggleable__content {max-height: 200px;max-width: 100%;overflow: auto;}#sk-container-id-1 input.sk-toggleable__control:checked~label.sk-toggleable__label-arrow:before {content: \"▾\";}#sk-container-id-1 div.sk-estimator input.sk-toggleable__control:checked~label.sk-toggleable__label {background-color: #d4ebff;}#sk-container-id-1 div.sk-label input.sk-toggleable__control:checked~label.sk-toggleable__label {background-color: #d4ebff;}#sk-container-id-1 input.sk-hidden--visually {border: 0;clip: rect(1px 1px 1px 1px);clip: rect(1px, 1px, 1px, 1px);height: 1px;margin: -1px;overflow: hidden;padding: 0;position: absolute;width: 1px;}#sk-container-id-1 div.sk-estimator {font-family: monospace;background-color: #f0f8ff;border: 1px dotted black;border-radius: 0.25em;box-sizing: border-box;margin-bottom: 0.5em;}#sk-container-id-1 div.sk-estimator:hover {background-color: #d4ebff;}#sk-container-id-1 div.sk-parallel-item::after {content: \"\";width: 100%;border-bottom: 1px solid gray;flex-grow: 1;}#sk-container-id-1 div.sk-label:hover label.sk-toggleable__label {background-color: #d4ebff;}#sk-container-id-1 div.sk-serial::before {content: \"\";position: absolute;border-left: 1px solid gray;box-sizing: border-box;top: 0;bottom: 0;left: 50%;z-index: 0;}#sk-container-id-1 div.sk-serial {display: flex;flex-direction: column;align-items: center;background-color: white;padding-right: 0.2em;padding-left: 0.2em;position: relative;}#sk-container-id-1 div.sk-item {position: relative;z-index: 1;}#sk-container-id-1 div.sk-parallel {display: flex;align-items: stretch;justify-content: center;background-color: white;position: relative;}#sk-container-id-1 div.sk-item::before, #sk-container-id-1 div.sk-parallel-item::before {content: \"\";position: absolute;border-left: 1px solid gray;box-sizing: border-box;top: 0;bottom: 0;left: 50%;z-index: -1;}#sk-container-id-1 div.sk-parallel-item {display: flex;flex-direction: column;z-index: 1;position: relative;background-color: white;}#sk-container-id-1 div.sk-parallel-item:first-child::after {align-self: flex-end;width: 50%;}#sk-container-id-1 div.sk-parallel-item:last-child::after {align-self: flex-start;width: 50%;}#sk-container-id-1 div.sk-parallel-item:only-child::after {width: 0;}#sk-container-id-1 div.sk-dashed-wrapped {border: 1px dashed gray;margin: 0 0.4em 0.5em 0.4em;box-sizing: border-box;padding-bottom: 0.4em;background-color: white;}#sk-container-id-1 div.sk-label label {font-family: monospace;font-weight: bold;display: inline-block;line-height: 1.2em;}#sk-container-id-1 div.sk-label-container {text-align: center;}#sk-container-id-1 div.sk-container {/* jupyter's `normalize.less` sets `[hidden] { display: none; }` but bootstrap.min.css set `[hidden] { display: none !important; }` so we also need the `!important` here to be able to override the default hidden behavior on the sphinx rendered scikit-learn.org. See: https://github.com/scikit-learn/scikit-learn/issues/21755 */display: inline-block !important;position: relative;}#sk-container-id-1 div.sk-text-repr-fallback {display: none;}</style><div id=\"sk-container-id-1\" class=\"sk-top-container\"><div class=\"sk-text-repr-fallback\"><pre>MultiLabelBinarizer(classes=[&#x27;c#&#x27;, &#x27;java&#x27;, &#x27;javascript&#x27;, &#x27;python&#x27;, &#x27;c++&#x27;, &#x27;ios&#x27;,\n",
       "                             &#x27;android&#x27;, &#x27;.net&#x27;, &#x27;html&#x27;, &#x27;php&#x27;])</pre><b>In a Jupyter environment, please rerun this cell to show the HTML representation or trust the notebook. <br />On GitHub, the HTML representation is unable to render, please try loading this page with nbviewer.org.</b></div><div class=\"sk-container\" hidden><div class=\"sk-item\"><div class=\"sk-estimator sk-toggleable\"><input class=\"sk-toggleable__control sk-hidden--visually\" id=\"sk-estimator-id-1\" type=\"checkbox\" checked><label for=\"sk-estimator-id-1\" class=\"sk-toggleable__label sk-toggleable__label-arrow\">MultiLabelBinarizer</label><div class=\"sk-toggleable__content\"><pre>MultiLabelBinarizer(classes=[&#x27;c#&#x27;, &#x27;java&#x27;, &#x27;javascript&#x27;, &#x27;python&#x27;, &#x27;c++&#x27;, &#x27;ios&#x27;,\n",
       "                             &#x27;android&#x27;, &#x27;.net&#x27;, &#x27;html&#x27;, &#x27;php&#x27;])</pre></div></div></div></div></div>"
      ],
      "text/plain": [
       "MultiLabelBinarizer(classes=['c#', 'java', 'javascript', 'python', 'c++', 'ios',\n",
       "                             'android', '.net', 'html', 'php'])"
      ]
     },
     "execution_count": 59,
     "metadata": {},
     "output_type": "execute_result"
    }
   ],
   "source": [
    "mlb = MultiLabelBinarizer(classes=popular_tags)\n",
    "mlb.fit([popular_tags])"
   ]
  },
  {
   "cell_type": "code",
   "execution_count": 60,
   "metadata": {},
   "outputs": [
    {
     "data": {
      "text/plain": [
       "array(['c#', 'java', 'javascript', 'python', 'c++', 'ios', 'android',\n",
       "       '.net', 'html', 'php'], dtype=object)"
      ]
     },
     "execution_count": 60,
     "metadata": {},
     "output_type": "execute_result"
    }
   ],
   "source": [
    "mlb.classes_"
   ]
  },
  {
   "cell_type": "code",
   "execution_count": 61,
   "metadata": {},
   "outputs": [],
   "source": [
    "# Appending columns of binarized tags\n",
    "col_names = ['tag_'+tag for tag in mlb.classes_]\n",
    "df[col_names] = mlb.transform(df['Tags'])"
   ]
  },
  {
   "cell_type": "code",
   "execution_count": 71,
   "metadata": {},
   "outputs": [
    {
     "data": {
      "text/html": [
       "<div>\n",
       "<style scoped>\n",
       "    .dataframe tbody tr th:only-of-type {\n",
       "        vertical-align: middle;\n",
       "    }\n",
       "\n",
       "    .dataframe tbody tr th {\n",
       "        vertical-align: top;\n",
       "    }\n",
       "\n",
       "    .dataframe thead th {\n",
       "        text-align: right;\n",
       "    }\n",
       "</style>\n",
       "<table border=\"1\" class=\"dataframe\">\n",
       "  <thead>\n",
       "    <tr style=\"text-align: right;\">\n",
       "      <th></th>\n",
       "      <th>Title</th>\n",
       "      <th>Body</th>\n",
       "      <th>Score</th>\n",
       "      <th>ViewCount</th>\n",
       "      <th>AnswerCount</th>\n",
       "      <th>Tags</th>\n",
       "      <th>tag_c#</th>\n",
       "      <th>tag_java</th>\n",
       "      <th>tag_javascript</th>\n",
       "      <th>tag_python</th>\n",
       "      <th>tag_c++</th>\n",
       "      <th>tag_ios</th>\n",
       "      <th>tag_android</th>\n",
       "      <th>tag_.net</th>\n",
       "      <th>tag_html</th>\n",
       "      <th>tag_php</th>\n",
       "    </tr>\n",
       "    <tr>\n",
       "      <th>Id</th>\n",
       "      <th></th>\n",
       "      <th></th>\n",
       "      <th></th>\n",
       "      <th></th>\n",
       "      <th></th>\n",
       "      <th></th>\n",
       "      <th></th>\n",
       "      <th></th>\n",
       "      <th></th>\n",
       "      <th></th>\n",
       "      <th></th>\n",
       "      <th></th>\n",
       "      <th></th>\n",
       "      <th></th>\n",
       "      <th></th>\n",
       "      <th></th>\n",
       "    </tr>\n",
       "  </thead>\n",
       "  <tbody>\n",
       "    <tr>\n",
       "      <th>37285366</th>\n",
       "      <td>Green threads in .NET</td>\n",
       "      <td>&lt;p&gt;Green threads were introduced in Erlang and...</td>\n",
       "      <td>26</td>\n",
       "      <td>5415</td>\n",
       "      <td>3</td>\n",
       "      <td>[.net]</td>\n",
       "      <td>0</td>\n",
       "      <td>0</td>\n",
       "      <td>0</td>\n",
       "      <td>0</td>\n",
       "      <td>0</td>\n",
       "      <td>0</td>\n",
       "      <td>0</td>\n",
       "      <td>1</td>\n",
       "      <td>0</td>\n",
       "      <td>0</td>\n",
       "    </tr>\n",
       "    <tr>\n",
       "      <th>48267256</th>\n",
       "      <td>Google Tag Manager with Comodo SSL Trusted Sit...</td>\n",
       "      <td>&lt;p&gt;I'm currently in the process making Google ...</td>\n",
       "      <td>6</td>\n",
       "      <td>274</td>\n",
       "      <td>1</td>\n",
       "      <td>[javascript, html]</td>\n",
       "      <td>0</td>\n",
       "      <td>0</td>\n",
       "      <td>1</td>\n",
       "      <td>0</td>\n",
       "      <td>0</td>\n",
       "      <td>0</td>\n",
       "      <td>0</td>\n",
       "      <td>0</td>\n",
       "      <td>1</td>\n",
       "      <td>0</td>\n",
       "    </tr>\n",
       "    <tr>\n",
       "      <th>37488090</th>\n",
       "      <td>Create keystore file with one command</td>\n",
       "      <td>&lt;p&gt;I have a script which creates and signs a k...</td>\n",
       "      <td>21</td>\n",
       "      <td>49317</td>\n",
       "      <td>1</td>\n",
       "      <td>[java, android]</td>\n",
       "      <td>0</td>\n",
       "      <td>1</td>\n",
       "      <td>0</td>\n",
       "      <td>0</td>\n",
       "      <td>0</td>\n",
       "      <td>0</td>\n",
       "      <td>1</td>\n",
       "      <td>0</td>\n",
       "      <td>0</td>\n",
       "      <td>0</td>\n",
       "    </tr>\n",
       "    <tr>\n",
       "      <th>21811789</th>\n",
       "      <td>Android connection to localhost</td>\n",
       "      <td>&lt;p&gt;I'm trying to connect my android applicatio...</td>\n",
       "      <td>22</td>\n",
       "      <td>76524</td>\n",
       "      <td>9</td>\n",
       "      <td>[java, android]</td>\n",
       "      <td>0</td>\n",
       "      <td>1</td>\n",
       "      <td>0</td>\n",
       "      <td>0</td>\n",
       "      <td>0</td>\n",
       "      <td>0</td>\n",
       "      <td>1</td>\n",
       "      <td>0</td>\n",
       "      <td>0</td>\n",
       "      <td>0</td>\n",
       "    </tr>\n",
       "  </tbody>\n",
       "</table>\n",
       "</div>"
      ],
      "text/plain": [
       "                                                      Title  \\\n",
       "Id                                                            \n",
       "37285366                              Green threads in .NET   \n",
       "48267256  Google Tag Manager with Comodo SSL Trusted Sit...   \n",
       "37488090              Create keystore file with one command   \n",
       "21811789                    Android connection to localhost   \n",
       "\n",
       "                                                       Body  Score  ViewCount  \\\n",
       "Id                                                                              \n",
       "37285366  <p>Green threads were introduced in Erlang and...     26       5415   \n",
       "48267256  <p>I'm currently in the process making Google ...      6        274   \n",
       "37488090  <p>I have a script which creates and signs a k...     21      49317   \n",
       "21811789  <p>I'm trying to connect my android applicatio...     22      76524   \n",
       "\n",
       "          AnswerCount                Tags  tag_c#  tag_java  tag_javascript  \\\n",
       "Id                                                                            \n",
       "37285366            3              [.net]       0         0               0   \n",
       "48267256            1  [javascript, html]       0         0               1   \n",
       "37488090            1     [java, android]       0         1               0   \n",
       "21811789            9     [java, android]       0         1               0   \n",
       "\n",
       "          tag_python  tag_c++  tag_ios  tag_android  tag_.net  tag_html  \\\n",
       "Id                                                                        \n",
       "37285366           0        0        0            0         1         0   \n",
       "48267256           0        0        0            0         0         1   \n",
       "37488090           0        0        0            1         0         0   \n",
       "21811789           0        0        0            1         0         0   \n",
       "\n",
       "          tag_php  \n",
       "Id                 \n",
       "37285366        0  \n",
       "48267256        0  \n",
       "37488090        0  \n",
       "21811789        0  "
      ]
     },
     "execution_count": 71,
     "metadata": {},
     "output_type": "execute_result"
    }
   ],
   "source": [
    "df.sample(4)"
   ]
  },
  {
   "attachments": {},
   "cell_type": "markdown",
   "metadata": {},
   "source": [
    "# Processing title and body text"
   ]
  },
  {
   "cell_type": "code",
   "execution_count": 73,
   "metadata": {},
   "outputs": [],
   "source": [
    "def remove_code(text):\n",
    "    \"\"\"\n",
    "    Removes \"<code> some text </code>\" from a text.\n",
    "\n",
    "    Parameters\n",
    "        - text : str\n",
    "    \"\"\"\n",
    "    soup = BeautifulSoup(text,'lxml')\n",
    "    code_to_remove = soup.findAll('code')\n",
    "    for code in code_to_remove:\n",
    "        code.replace_with(' ')\n",
    "    return str(soup)"
   ]
  },
  {
   "attachments": {},
   "cell_type": "markdown",
   "metadata": {},
   "source": [
    "We now add stopwords to the default english tokenizer stopword set. Our set of stopwords can be find in this [github repository](#https://github.com/Alir3z4/stop-words/blob/master/english.txt)."
   ]
  },
  {
   "cell_type": "code",
   "execution_count": 75,
   "metadata": {},
   "outputs": [
    {
     "name": "stdout",
     "output_type": "stream",
     "text": [
      "The default spacy stopwords set contains 326 stopwords.\n",
      "This file contains 1298 stopwords.\n",
      "The first 10 stopwords are:\n",
      "['provides', 'ill', 'sa', 'through', 'downed', 'something', 'facts', 'thick', 'do', 'length']\n"
     ]
    }
   ],
   "source": [
    "# Instantiating language model, english\n",
    "nlp = spacy.load(\"en_core_web_sm\")\n",
    "\n",
    "# Importing stopwords\n",
    "with open('./stopwords/stopwords.txt') as file:\n",
    "    my_stopwords = {line.rstrip() for line in file}\n",
    "\n",
    "# print # of stopwords\n",
    "print(f'The default spacy stopwords set contains {len(nlp.Defaults.stop_words)} stopwords.')\n",
    "print(f'This file contains {len(my_stopwords)} stopwords.')\n",
    "print('The first 10 stopwords are:')\n",
    "print(list(my_stopwords)[:10])\n"
   ]
  },
  {
   "cell_type": "code",
   "execution_count": 32,
   "metadata": {},
   "outputs": [
    {
     "name": "stdout",
     "output_type": "stream",
     "text": [
      "we use 1317 in total.\n"
     ]
    }
   ],
   "source": [
    "# Adding my_stopwords to spacy stopwords\n",
    "nlp.Defaults.stop_words = nlp.Defaults.stop_words.union(my_stopwords)\n",
    "\n",
    "# Checking new size of stopwords\n",
    "print(f'we use {len(nlp.Defaults.stop_words)} in total.')"
   ]
  },
  {
   "cell_type": "code",
   "execution_count": 76,
   "metadata": {},
   "outputs": [],
   "source": [
    "def clean(text,tokenize=False,strict=False, **kwargs):\n",
    "    \"\"\"\n",
    "    Returns a dictionnary with keys 'text' or 'tokens', where\n",
    "    'tokens' corresponds tothe list of lemmatized tokens from\n",
    "    the string text. Ommiting stopwords and punctuation, and the text is\n",
    "    the joint text.\n",
    "\n",
    "    Parameters:\n",
    "        - text: str\n",
    "        - tokenize: bool\n",
    "            If True returns list of tokens, if False returns string.\n",
    "        - strict: bool\n",
    "            If true only keeps nouns\n",
    "    \"\"\"\n",
    "\n",
    "\n",
    "    # Removing <code>some code</code>\n",
    "    clean_txt = remove_code(text)\n",
    "\n",
    "    # Removing HTML tags\n",
    "    soup = BeautifulSoup(clean_txt, features='html.parser')\n",
    "    clean_txt = soup.get_text()\n",
    "\n",
    "    # Removing new line character: \\n\n",
    "    clean_txt = clean_txt.replace('\\n', ' ')\n",
    "\n",
    "    # Removing unicode characters\n",
    "    clean_txt = clean_txt.encode(\"ascii\", \"ignore\").decode()\n",
    "    \n",
    "    # Removing digits\n",
    "    clean_txt = ''.join(char for char in clean_txt if not char.isdigit())\n",
    "\n",
    "    # Replacing 'c ++' and 'c #' for 'c++' and 'c#'\n",
    "    clean_txt = clean_txt.replace('c ++', 'c++')\n",
    "    clean_txt = clean_txt.replace('c #', 'c#')\n",
    "    clean_txt = clean_txt.replace('C ++', 'c++')\n",
    "    clean_txt = clean_txt.replace('C #', 'c#')\n",
    "    clean_txt = clean_txt.replace('C#', 'c#')\n",
    "    clean_txt = clean_txt.replace('C ++', 'c++')\n",
    "\n",
    "    # Adding special case rule\n",
    "    special_case = [{ORTH: \"c#\"}] \n",
    "    nlp.tokenizer.add_special_case(\"c#\", special_case)\n",
    "    \n",
    "    # Tokenize with spacy\n",
    "    doc = nlp(clean_txt)\n",
    "\n",
    "    # Tokenize properties\n",
    "    if strict == True:\n",
    "        tokens = [token.lemma_.lower() for token in doc\n",
    "                    if token.pos_ in ['NOUN', 'PROPN'] and\n",
    "                        (not (token.is_stop or \n",
    "                              token.is_punct or\n",
    "                              token.is_space\n",
    "                              )\n",
    "                        )\n",
    "                 ]    \n",
    "    else:\n",
    "        tokens = [token.lemma_.lower() for token in doc\n",
    "                    if not (token.is_stop or \n",
    "                            token.is_punct or\n",
    "                            token.is_space\n",
    "                            )\n",
    "                 ]\n",
    "\n",
    "    clean_txt = ' '.join(tokens)\n",
    "    \n",
    "    # Ask if return text or tokens\n",
    "    if tokenize == True:\n",
    "        result = tokens\n",
    "    else:\n",
    "        result = clean_txt\n",
    "\n",
    "    # Option for list of entities in output\n",
    "    if 'ent' in kwargs:\n",
    "        result = {'output':result, 'ents': doc.ents}\n",
    "\n",
    "    return result"
   ]
  },
  {
   "cell_type": "code",
   "execution_count": 77,
   "metadata": {},
   "outputs": [
    {
     "data": {
      "text/plain": [
       "'hi currently study c++ c# c# love .net'"
      ]
     },
     "execution_count": 77,
     "metadata": {},
     "output_type": "execute_result"
    }
   ],
   "source": [
    "clean(\"Hi i'm currently studying c++, c#, sometimes c # and i love .net\", tokenize=False, strict=False)"
   ]
  },
  {
   "attachments": {},
   "cell_type": "markdown",
   "metadata": {},
   "source": [
    "Let us test this function with two examples:\n",
    "\n",
    "**Example 1:**"
   ]
  },
  {
   "cell_type": "code",
   "execution_count": 46,
   "metadata": {},
   "outputs": [
    {
     "data": {
      "text/plain": [
       "'<p>Given a specific <code>DateTime</code> value, how do I display relative time, like:</p>\\n<ul>\\n<li><code>2 hours ago</code></li>\\n<li><code>3 days ago</code></li>\\n<li><code>a month ago</code></li>\\n</ul>\\n'"
      ]
     },
     "execution_count": 46,
     "metadata": {},
     "output_type": "execute_result"
    }
   ],
   "source": [
    "# Sample text\n",
    "sample_text = df.loc[11, 'Body']\n",
    "sample_text"
   ]
  },
  {
   "cell_type": "code",
   "execution_count": 47,
   "metadata": {},
   "outputs": [
    {
     "data": {
      "text/plain": [
       "'give specific value display relative time like'"
      ]
     },
     "execution_count": 47,
     "metadata": {},
     "output_type": "execute_result"
    }
   ],
   "source": [
    "clean(sample_text, tokenize=False, strict=False)"
   ]
  },
  {
   "cell_type": "code",
   "execution_count": 48,
   "metadata": {},
   "outputs": [
    {
     "name": "stdout",
     "output_type": "stream",
     "text": [
      "['give', 'specific', 'value', 'display', 'relative', 'time', 'like']\n"
     ]
    }
   ],
   "source": [
    "print(clean(sample_text, tokenize=True, strict=False))"
   ]
  },
  {
   "attachments": {},
   "cell_type": "markdown",
   "metadata": {},
   "source": [
    "Tokens:"
   ]
  },
  {
   "attachments": {},
   "cell_type": "markdown",
   "metadata": {},
   "source": [
    "Using the `strict=True` condition"
   ]
  },
  {
   "cell_type": "code",
   "execution_count": 51,
   "metadata": {},
   "outputs": [
    {
     "data": {
      "text/plain": [
       "'value time'"
      ]
     },
     "execution_count": 51,
     "metadata": {},
     "output_type": "execute_result"
    }
   ],
   "source": [
    "clean(sample_text, tokenize=False, strict=True)"
   ]
  },
  {
   "cell_type": "code",
   "execution_count": 52,
   "metadata": {},
   "outputs": [
    {
     "name": "stdout",
     "output_type": "stream",
     "text": [
      "['value', 'time']\n"
     ]
    }
   ],
   "source": [
    "print(clean(sample_text, tokenize=True, strict=True))"
   ]
  },
  {
   "attachments": {},
   "cell_type": "markdown",
   "metadata": {},
   "source": [
    "Entities: (NER)"
   ]
  },
  {
   "cell_type": "code",
   "execution_count": 53,
   "metadata": {},
   "outputs": [
    {
     "data": {
      "text/plain": [
       "()"
      ]
     },
     "execution_count": 53,
     "metadata": {},
     "output_type": "execute_result"
    }
   ],
   "source": [
    "clean(sample_text, tokenize=True, ent=True, strict=False)['ents']"
   ]
  },
  {
   "attachments": {},
   "cell_type": "markdown",
   "metadata": {},
   "source": [
    "**Example 3** An example with code on the body"
   ]
  },
  {
   "cell_type": "code",
   "execution_count": 54,
   "metadata": {},
   "outputs": [
    {
     "data": {
      "text/plain": [
       "'<p>I\\'m using Odoo 8 version.</p>\\n\\n<p>I have created a new model called <em>enquiry_customer_date</em></p>\\n\\n<p>In that model, I have set following four fields. </p>\\n\\n<ul>\\n<li>partner_id (many2one), </li>\\n<li>enquiry_date (date),</li>\\n<li>file_name (char) and</li>\\n<li>excel_file (binary)</li>\\n</ul>\\n\\n<p>I have given mention model one2many relationship with <em>res.partner</em> model</p>\\n\\n<p>I have used below code for display records.</p>\\n\\n<pre><code>&lt;field name=\"enquiry_from_customer_ids\"&gt;\\n    &lt;tree string=\"Enquiry Lines\"&gt;\\n        &lt;field name=\"enquiry_date\"/&gt;\\n        &lt;field name=\"file_name\" invisible=\"1\"/&gt;\\n        &lt;field name=\"excel_file\" filename=\"file_name\"/&gt;\\n    &lt;/tree&gt;    \\n&lt;/field&gt;\\n</code></pre>\\n\\n<p>This will display correct file name in list view.</p>\\n\\n<p><strong>Face Problem:</strong></p>\\n\\n<p>When I download link, it stores with file name = base64 with <em>.bin</em> extension.</p>\\n\\n<p><strong>Question</strong>:</p>\\n\\n<p>How to get working download link same as uploaded file name with extension in <em>one2many</em> field?</p>\\n\\n<p><strong>UPDATED</strong></p>\\n\\n<p>I have tried with @danidee answer. </p>\\n\\n<p>System configuration parameter:</p>\\n\\n<p><a href=\"https://i.stack.imgur.com/Vdha2.png\" rel=\"nofollow noreferrer\"><img src=\"https://i.stack.imgur.com/Vdha2.png\" alt=\"System configuration parameter\"></a></p>\\n\\n<p>Treeview/Listview one2many field</p>\\n\\n<p><a href=\"https://i.stack.imgur.com/k26Hj.png\" rel=\"nofollow noreferrer\"><img src=\"https://i.stack.imgur.com/k26Hj.png\" alt=\"Treeview/Listview one2many field\"></a></p>\\n\\n<p>OUTPUT:</p>\\n\\n<p><a href=\"https://i.stack.imgur.com/90ICB.png\" rel=\"nofollow noreferrer\"><img src=\"https://i.stack.imgur.com/90ICB.png\" alt=\"enter image description here\"></a></p>\\n\\n<p>Expected Output:</p>\\n\\n<p>File should be downloaded with <em>\"Openerp_Customization_Needed.txt\"</em></p>\\n'"
      ]
     },
     "execution_count": 54,
     "metadata": {},
     "output_type": "execute_result"
    }
   ],
   "source": [
    "sample_text = df.loc[37242063, 'Body']\n",
    "sample_text"
   ]
  },
  {
   "cell_type": "code",
   "execution_count": 55,
   "metadata": {},
   "outputs": [
    {
     "data": {
      "text/plain": [
       "'odoo version create new model call enquiry_customer_date model set follow field partner_id manyone enquiry_date date file_name char excel_file binary give mention model onemany relationship res.partner model code display record display correct file list view face problem download link store file = base .bin extension question work download link uploaded file extension onemany field update try @danidee answer system configuration parameter treeview listview onemany field output expect output file download openerp_customization_needed.txt'"
      ]
     },
     "execution_count": 55,
     "metadata": {},
     "output_type": "execute_result"
    }
   ],
   "source": [
    "clean(sample_text, tokenize=False,strict=False)"
   ]
  },
  {
   "cell_type": "code",
   "execution_count": 56,
   "metadata": {},
   "outputs": [
    {
     "data": {
      "text/plain": [
       "'odoo version model enquiry_customer_date model field partner_id manyone enquiry_date date file_name char binary mention model onemany relationship res.partner model code display record file list view problem link file = base .bin extension question download link file extension onemany field @danidee answer system configuration parameter treeview listview onemany field output output file openerp_customization_needed.txt'"
      ]
     },
     "execution_count": 56,
     "metadata": {},
     "output_type": "execute_result"
    }
   ],
   "source": [
    "clean(sample_text, tokenize=False,strict=True)"
   ]
  },
  {
   "attachments": {},
   "cell_type": "markdown",
   "metadata": {},
   "source": [
    "## Processing text\n",
    "\n",
    "We first create a column of text concatenating the title and the body. And then we process that column with our `clean` function to finally process the text."
   ]
  },
  {
   "cell_type": "code",
   "execution_count": 58,
   "metadata": {},
   "outputs": [
    {
     "data": {
      "text/html": [
       "<div>\n",
       "<style scoped>\n",
       "    .dataframe tbody tr th:only-of-type {\n",
       "        vertical-align: middle;\n",
       "    }\n",
       "\n",
       "    .dataframe tbody tr th {\n",
       "        vertical-align: top;\n",
       "    }\n",
       "\n",
       "    .dataframe thead th {\n",
       "        text-align: right;\n",
       "    }\n",
       "</style>\n",
       "<table border=\"1\" class=\"dataframe\">\n",
       "  <thead>\n",
       "    <tr style=\"text-align: right;\">\n",
       "      <th></th>\n",
       "      <th>Title</th>\n",
       "      <th>Body</th>\n",
       "      <th>Score</th>\n",
       "      <th>ViewCount</th>\n",
       "      <th>AnswerCount</th>\n",
       "      <th>Tags</th>\n",
       "      <th>text</th>\n",
       "    </tr>\n",
       "    <tr>\n",
       "      <th>Id</th>\n",
       "      <th></th>\n",
       "      <th></th>\n",
       "      <th></th>\n",
       "      <th></th>\n",
       "      <th></th>\n",
       "      <th></th>\n",
       "      <th></th>\n",
       "    </tr>\n",
       "  </thead>\n",
       "  <tbody>\n",
       "    <tr>\n",
       "      <th>4</th>\n",
       "      <td>How to convert Decimal to Double in C#?</td>\n",
       "      <td>&lt;p&gt;I want to assign the decimal variable &amp;quot...</td>\n",
       "      <td>792</td>\n",
       "      <td>70052</td>\n",
       "      <td>14</td>\n",
       "      <td>[c#]</td>\n",
       "      <td>How to convert Decimal to Double in C#? &lt;p&gt;I w...</td>\n",
       "    </tr>\n",
       "    <tr>\n",
       "      <th>11</th>\n",
       "      <td>Calculate relative time in C#</td>\n",
       "      <td>&lt;p&gt;Given a specific &lt;code&gt;DateTime&lt;/code&gt; valu...</td>\n",
       "      <td>1644</td>\n",
       "      <td>196587</td>\n",
       "      <td>41</td>\n",
       "      <td>[c#]</td>\n",
       "      <td>Calculate relative time in C# &lt;p&gt;Given a speci...</td>\n",
       "    </tr>\n",
       "    <tr>\n",
       "      <th>13</th>\n",
       "      <td>Determine a user's timezone</td>\n",
       "      <td>&lt;p&gt;Is there a standard way for a web server to...</td>\n",
       "      <td>698</td>\n",
       "      <td>274233</td>\n",
       "      <td>27</td>\n",
       "      <td>[html]</td>\n",
       "      <td>Determine a user's timezone &lt;p&gt;Is there a stan...</td>\n",
       "    </tr>\n",
       "    <tr>\n",
       "      <th>25</th>\n",
       "      <td>How to use the C socket API in C++ on z/OS</td>\n",
       "      <td>&lt;p&gt;I'm having issues getting the C sockets API...</td>\n",
       "      <td>175</td>\n",
       "      <td>15797</td>\n",
       "      <td>9</td>\n",
       "      <td>[c++]</td>\n",
       "      <td>How to use the C socket API in C++ on z/OS &lt;p&gt;...</td>\n",
       "    </tr>\n",
       "    <tr>\n",
       "      <th>109</th>\n",
       "      <td>Decoding T-SQL CAST in C#/VB.NET</td>\n",
       "      <td>&lt;p&gt;Recently our site has been deluged with the...</td>\n",
       "      <td>69</td>\n",
       "      <td>6068</td>\n",
       "      <td>2</td>\n",
       "      <td>[c#]</td>\n",
       "      <td>Decoding T-SQL CAST in C#/VB.NET &lt;p&gt;Recently o...</td>\n",
       "    </tr>\n",
       "  </tbody>\n",
       "</table>\n",
       "</div>"
      ],
      "text/plain": [
       "                                          Title  \\\n",
       "Id                                                \n",
       "4       How to convert Decimal to Double in C#?   \n",
       "11                Calculate relative time in C#   \n",
       "13                  Determine a user's timezone   \n",
       "25   How to use the C socket API in C++ on z/OS   \n",
       "109            Decoding T-SQL CAST in C#/VB.NET   \n",
       "\n",
       "                                                  Body  Score  ViewCount  \\\n",
       "Id                                                                         \n",
       "4    <p>I want to assign the decimal variable &quot...    792      70052   \n",
       "11   <p>Given a specific <code>DateTime</code> valu...   1644     196587   \n",
       "13   <p>Is there a standard way for a web server to...    698     274233   \n",
       "25   <p>I'm having issues getting the C sockets API...    175      15797   \n",
       "109  <p>Recently our site has been deluged with the...     69       6068   \n",
       "\n",
       "     AnswerCount    Tags                                               text  \n",
       "Id                                                                           \n",
       "4             14    [c#]  How to convert Decimal to Double in C#? <p>I w...  \n",
       "11            41    [c#]  Calculate relative time in C# <p>Given a speci...  \n",
       "13            27  [html]  Determine a user's timezone <p>Is there a stan...  \n",
       "25             9   [c++]  How to use the C socket API in C++ on z/OS <p>...  \n",
       "109            2    [c#]  Decoding T-SQL CAST in C#/VB.NET <p>Recently o...  "
      ]
     },
     "execution_count": 58,
     "metadata": {},
     "output_type": "execute_result"
    }
   ],
   "source": [
    "df.head()"
   ]
  },
  {
   "cell_type": "code",
   "execution_count": 85,
   "metadata": {},
   "outputs": [],
   "source": [
    "# Concatenating title and body\n",
    "df.insert(0,'text',df['Title'] + ' ' + df['Body'])"
   ]
  },
  {
   "attachments": {},
   "cell_type": "markdown",
   "metadata": {},
   "source": [
    "Let us see the lengths of the text to be processed and based on the distribution of the lengths, restrict ourselves to posts up to a certain length of characters."
   ]
  },
  {
   "cell_type": "code",
   "execution_count": 79,
   "metadata": {},
   "outputs": [
    {
     "data": {
      "text/plain": [
       "count    33729.000000\n",
       "mean      1790.281627\n",
       "std       2169.692069\n",
       "min         57.000000\n",
       "25%        679.000000\n",
       "50%       1174.000000\n",
       "75%       2075.000000\n",
       "max      37387.000000\n",
       "Name: text, dtype: float64"
      ]
     },
     "execution_count": 79,
     "metadata": {},
     "output_type": "execute_result"
    }
   ],
   "source": [
    "# Statistics for the length of text (title+body)\n",
    "df.text.str.len().describe()"
   ]
  },
  {
   "cell_type": "code",
   "execution_count": 80,
   "metadata": {},
   "outputs": [
    {
     "data": {
      "image/png": "[encoded data removed]",
      "text/plain": [
       "<Figure size 432x288 with 1 Axes>"
      ]
     },
     "metadata": {},
     "output_type": "display_data"
    }
   ],
   "source": [
    "# Plotting distribution of length of text\n",
    "h = sns.histplot(df.text.str.len())\n",
    "plt.title('Distribution of # of characters in text (title+body)', size=14)\n",
    "plt.xlabel('Length of text (in # of characters)')\n",
    "h.set_xlim(-1000,30000)\n",
    "h.set_xticks(range(0,30000,5000))\n",
    "plt.show()"
   ]
  },
  {
   "attachments": {},
   "cell_type": "markdown",
   "metadata": {},
   "source": [
    "To keep a set of documents which is more uniform, we keep only text with a number of characters between 1 and 5000."
   ]
  },
  {
   "cell_type": "code",
   "execution_count": 81,
   "metadata": {},
   "outputs": [
    {
     "data": {
      "text/plain": [
       "(31929, 17)"
      ]
     },
     "execution_count": 81,
     "metadata": {},
     "output_type": "execute_result"
    }
   ],
   "source": [
    "df.loc[df.text.str.len() <= 5000].shape\n"
   ]
  },
  {
   "cell_type": "code",
   "execution_count": 82,
   "metadata": {},
   "outputs": [
    {
     "name": "stdout",
     "output_type": "stream",
     "text": [
      "Shape of dataset before filter: (33729, 17)\n",
      "Shape of dataset after filter: (31929, 17)\n",
      "Number of deleted rows: -1800\n"
     ]
    }
   ],
   "source": [
    "shape_before = df.shape\n",
    "print(f'Shape of dataset before filter: {shape_before}')\n",
    "df = df.loc[df.text.str.len() <= 5000]\n",
    "shape_after = df.shape\n",
    "print(f'Shape of dataset after filter: {shape_after}')\n",
    "print(f'Number of deleted rows: {shape_before[0] - shape_after[0]}')"
   ]
  },
  {
   "cell_type": "code",
   "execution_count": 89,
   "metadata": {},
   "outputs": [
    {
     "name": "stdout",
     "output_type": "stream",
     "text": [
      "Total time to process text: 867.8656282424927 seconds. (= 14.464427137374878 minutes)\n"
     ]
    }
   ],
   "source": [
    "# Cleaning/tokenizing the text\n",
    "start = time.time()\n",
    "processed_text = df['text'].apply(lambda txt:clean(txt, tokenize=False, strict=True))\n",
    "end = time.time()\n",
    "df.insert(0,'processed_text', processed_text)\n",
    "total_time = end - start\n",
    "print(f'Total time to process text: {total_time} seconds. (= {total_time/60} minutes)')"
   ]
  },
  {
   "cell_type": "code",
   "execution_count": 90,
   "metadata": {},
   "outputs": [
    {
     "data": {
      "text/html": [
       "<div>\n",
       "<style scoped>\n",
       "    .dataframe tbody tr th:only-of-type {\n",
       "        vertical-align: middle;\n",
       "    }\n",
       "\n",
       "    .dataframe tbody tr th {\n",
       "        vertical-align: top;\n",
       "    }\n",
       "\n",
       "    .dataframe thead th {\n",
       "        text-align: right;\n",
       "    }\n",
       "</style>\n",
       "<table border=\"1\" class=\"dataframe\">\n",
       "  <thead>\n",
       "    <tr style=\"text-align: right;\">\n",
       "      <th></th>\n",
       "      <th>processed_text</th>\n",
       "      <th>text</th>\n",
       "      <th>Title</th>\n",
       "      <th>Body</th>\n",
       "      <th>Score</th>\n",
       "      <th>ViewCount</th>\n",
       "      <th>AnswerCount</th>\n",
       "      <th>Tags</th>\n",
       "      <th>tag_c#</th>\n",
       "      <th>tag_java</th>\n",
       "      <th>tag_javascript</th>\n",
       "      <th>tag_python</th>\n",
       "      <th>tag_c++</th>\n",
       "      <th>tag_ios</th>\n",
       "      <th>tag_android</th>\n",
       "      <th>tag_.net</th>\n",
       "      <th>tag_html</th>\n",
       "      <th>tag_php</th>\n",
       "    </tr>\n",
       "    <tr>\n",
       "      <th>Id</th>\n",
       "      <th></th>\n",
       "      <th></th>\n",
       "      <th></th>\n",
       "      <th></th>\n",
       "      <th></th>\n",
       "      <th></th>\n",
       "      <th></th>\n",
       "      <th></th>\n",
       "      <th></th>\n",
       "      <th></th>\n",
       "      <th></th>\n",
       "      <th></th>\n",
       "      <th></th>\n",
       "      <th></th>\n",
       "      <th></th>\n",
       "      <th></th>\n",
       "      <th></th>\n",
       "      <th></th>\n",
       "    </tr>\n",
       "  </thead>\n",
       "  <tbody>\n",
       "    <tr>\n",
       "      <th>4</th>\n",
       "      <td>decimal c# variable opacity app error type</td>\n",
       "      <td>How to convert Decimal to Double in C#? &lt;p&gt;I w...</td>\n",
       "      <td>How to convert Decimal to Double in C#?</td>\n",
       "      <td>&lt;p&gt;I want to assign the decimal variable &amp;quot...</td>\n",
       "      <td>792</td>\n",
       "      <td>70052</td>\n",
       "      <td>14</td>\n",
       "      <td>[c#]</td>\n",
       "      <td>1</td>\n",
       "      <td>0</td>\n",
       "      <td>0</td>\n",
       "      <td>0</td>\n",
       "      <td>0</td>\n",
       "      <td>0</td>\n",
       "      <td>0</td>\n",
       "      <td>0</td>\n",
       "      <td>0</td>\n",
       "      <td>0</td>\n",
       "    </tr>\n",
       "    <tr>\n",
       "      <th>11</th>\n",
       "      <td>time c# value time</td>\n",
       "      <td>Calculate relative time in C# &lt;p&gt;Given a speci...</td>\n",
       "      <td>Calculate relative time in C#</td>\n",
       "      <td>&lt;p&gt;Given a specific &lt;code&gt;DateTime&lt;/code&gt; valu...</td>\n",
       "      <td>1644</td>\n",
       "      <td>196587</td>\n",
       "      <td>41</td>\n",
       "      <td>[c#]</td>\n",
       "      <td>1</td>\n",
       "      <td>0</td>\n",
       "      <td>0</td>\n",
       "      <td>0</td>\n",
       "      <td>0</td>\n",
       "      <td>0</td>\n",
       "      <td>0</td>\n",
       "      <td>0</td>\n",
       "      <td>0</td>\n",
       "      <td>0</td>\n",
       "    </tr>\n",
       "    <tr>\n",
       "      <th>13</th>\n",
       "      <td>user timezone way web server user timezone web...</td>\n",
       "      <td>Determine a user's timezone &lt;p&gt;Is there a stan...</td>\n",
       "      <td>Determine a user's timezone</td>\n",
       "      <td>&lt;p&gt;Is there a standard way for a web server to...</td>\n",
       "      <td>698</td>\n",
       "      <td>274233</td>\n",
       "      <td>27</td>\n",
       "      <td>[html]</td>\n",
       "      <td>0</td>\n",
       "      <td>0</td>\n",
       "      <td>0</td>\n",
       "      <td>0</td>\n",
       "      <td>0</td>\n",
       "      <td>0</td>\n",
       "      <td>0</td>\n",
       "      <td>0</td>\n",
       "      <td>1</td>\n",
       "      <td>0</td>\n",
       "    </tr>\n",
       "    <tr>\n",
       "      <th>25</th>\n",
       "      <td>c socket api c++ z os issue c socket api c++ z...</td>\n",
       "      <td>How to use the C socket API in C++ on z/OS &lt;p&gt;...</td>\n",
       "      <td>How to use the C socket API in C++ on z/OS</td>\n",
       "      <td>&lt;p&gt;I'm having issues getting the C sockets API...</td>\n",
       "      <td>175</td>\n",
       "      <td>15797</td>\n",
       "      <td>9</td>\n",
       "      <td>[c++]</td>\n",
       "      <td>0</td>\n",
       "      <td>0</td>\n",
       "      <td>0</td>\n",
       "      <td>0</td>\n",
       "      <td>1</td>\n",
       "      <td>0</td>\n",
       "      <td>0</td>\n",
       "      <td>0</td>\n",
       "      <td>0</td>\n",
       "      <td>0</td>\n",
       "    </tr>\n",
       "    <tr>\n",
       "      <th>109</th>\n",
       "      <td>t sql cast c#/vb.net site resurgence asprox sq...</td>\n",
       "      <td>Decoding T-SQL CAST in C#/VB.NET &lt;p&gt;Recently o...</td>\n",
       "      <td>Decoding T-SQL CAST in C#/VB.NET</td>\n",
       "      <td>&lt;p&gt;Recently our site has been deluged with the...</td>\n",
       "      <td>69</td>\n",
       "      <td>6068</td>\n",
       "      <td>2</td>\n",
       "      <td>[c#]</td>\n",
       "      <td>1</td>\n",
       "      <td>0</td>\n",
       "      <td>0</td>\n",
       "      <td>0</td>\n",
       "      <td>0</td>\n",
       "      <td>0</td>\n",
       "      <td>0</td>\n",
       "      <td>0</td>\n",
       "      <td>0</td>\n",
       "      <td>0</td>\n",
       "    </tr>\n",
       "  </tbody>\n",
       "</table>\n",
       "</div>"
      ],
      "text/plain": [
       "                                        processed_text  \\\n",
       "Id                                                       \n",
       "4           decimal c# variable opacity app error type   \n",
       "11                                  time c# value time   \n",
       "13   user timezone way web server user timezone web...   \n",
       "25   c socket api c++ z os issue c socket api c++ z...   \n",
       "109  t sql cast c#/vb.net site resurgence asprox sq...   \n",
       "\n",
       "                                                  text  \\\n",
       "Id                                                       \n",
       "4    How to convert Decimal to Double in C#? <p>I w...   \n",
       "11   Calculate relative time in C# <p>Given a speci...   \n",
       "13   Determine a user's timezone <p>Is there a stan...   \n",
       "25   How to use the C socket API in C++ on z/OS <p>...   \n",
       "109  Decoding T-SQL CAST in C#/VB.NET <p>Recently o...   \n",
       "\n",
       "                                          Title  \\\n",
       "Id                                                \n",
       "4       How to convert Decimal to Double in C#?   \n",
       "11                Calculate relative time in C#   \n",
       "13                  Determine a user's timezone   \n",
       "25   How to use the C socket API in C++ on z/OS   \n",
       "109            Decoding T-SQL CAST in C#/VB.NET   \n",
       "\n",
       "                                                  Body  Score  ViewCount  \\\n",
       "Id                                                                         \n",
       "4    <p>I want to assign the decimal variable &quot...    792      70052   \n",
       "11   <p>Given a specific <code>DateTime</code> valu...   1644     196587   \n",
       "13   <p>Is there a standard way for a web server to...    698     274233   \n",
       "25   <p>I'm having issues getting the C sockets API...    175      15797   \n",
       "109  <p>Recently our site has been deluged with the...     69       6068   \n",
       "\n",
       "     AnswerCount    Tags  tag_c#  tag_java  tag_javascript  tag_python  \\\n",
       "Id                                                                       \n",
       "4             14    [c#]       1         0               0           0   \n",
       "11            41    [c#]       1         0               0           0   \n",
       "13            27  [html]       0         0               0           0   \n",
       "25             9   [c++]       0         0               0           0   \n",
       "109            2    [c#]       1         0               0           0   \n",
       "\n",
       "     tag_c++  tag_ios  tag_android  tag_.net  tag_html  tag_php  \n",
       "Id                                                               \n",
       "4          0        0            0         0         0        0  \n",
       "11         0        0            0         0         0        0  \n",
       "13         0        0            0         0         1        0  \n",
       "25         1        0            0         0         0        0  \n",
       "109        0        0            0         0         0        0  "
      ]
     },
     "execution_count": 90,
     "metadata": {},
     "output_type": "execute_result"
    }
   ],
   "source": [
    "df.head()"
   ]
  },
  {
   "attachments": {},
   "cell_type": "markdown",
   "metadata": {},
   "source": [
    "# Export processed data"
   ]
  },
  {
   "cell_type": "code",
   "execution_count": 92,
   "metadata": {},
   "outputs": [],
   "source": [
    "# Export processed data\n",
    "path = './data/'\n",
    "filename = 'processed_data_v01.csv'\n",
    "\n",
    "df.to_csv(path + filename)"
   ]
  },
  {
   "cell_type": "code",
   "execution_count": null,
   "metadata": {},
   "outputs": [],
   "source": []
  }
 ],
 "metadata": {
  "kernelspec": {
   "display_name": "Python 3",
   "language": "python",
   "name": "python3"
  },
  "language_info": {
   "codemirror_mode": {
    "name": "ipython",
    "version": 3
   },
   "file_extension": ".py",
   "mimetype": "text/x-python",
   "name": "python",
   "nbconvert_exporter": "python",
   "pygments_lexer": "ipython3",
   "version": "3.10.6"
  },
  "orig_nbformat": 4,
  "vscode": {
   "interpreter": {
    "hash": "767d51c1340bd893661ea55ea3124f6de3c7a262a8b4abca0554b478b1e2ff90"
   }
  }
 },
 "nbformat": 4,
 "nbformat_minor": 2
}
