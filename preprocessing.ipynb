{
 "cells": [
  {
   "attachments": {},
   "cell_type": "markdown",
   "metadata": {},
   "source": [
    "# 🛒 Tag suggestion\n",
    "\n",
    "|   |   |\n",
    "|---|---|\n",
    "| Project  |    [nom du proj](#https://openclassrooms.com/fr/paths/148/projects/630/assignment)         |\n",
    "| Date   |   February 2023   |\n",
    "| Autor  | Ana Bernal                                                    |\n",
    "| Data source | |\n",
    "| Mentor | Samir Tanfous | \n",
    "| Notebook number  | _ of _                                                     |\n",
    "\n",
    "**Description:** blabla"
   ]
  },
  {
   "attachments": {},
   "cell_type": "markdown",
   "metadata": {},
   "source": [
    "# Preliminaries\n",
    "## Imports"
   ]
  },
  {
   "cell_type": "code",
   "execution_count": 154,
   "metadata": {},
   "outputs": [],
   "source": [
    "import pandas as pd\n",
    "import numpy as np\n",
    "\n",
    "import seaborn as sns\n",
    "import matplotlib.pyplot as plt\n"
   ]
  },
  {
   "attachments": {},
   "cell_type": "markdown",
   "metadata": {},
   "source": [
    "## Graphics and options"
   ]
  },
  {
   "cell_type": "code",
   "execution_count": 153,
   "metadata": {},
   "outputs": [],
   "source": [
    "sns.set_style(\"whitegrid\")"
   ]
  },
  {
   "attachments": {},
   "cell_type": "markdown",
   "metadata": {},
   "source": [
    "## Data"
   ]
  },
  {
   "cell_type": "code",
   "execution_count": 136,
   "metadata": {},
   "outputs": [],
   "source": [
    "path = './data/'\n",
    "filename = 'QueryResults.csv'\n",
    "\n",
    "df = pd.read_csv(path + filename)"
   ]
  },
  {
   "cell_type": "code",
   "execution_count": 137,
   "metadata": {},
   "outputs": [
    {
     "data": {
      "text/plain": [
       "(50000, 7)"
      ]
     },
     "execution_count": 137,
     "metadata": {},
     "output_type": "execute_result"
    }
   ],
   "source": [
    "df.shape"
   ]
  },
  {
   "cell_type": "code",
   "execution_count": 138,
   "metadata": {},
   "outputs": [
    {
     "data": {
      "text/html": [
       "<div>\n",
       "<style scoped>\n",
       "    .dataframe tbody tr th:only-of-type {\n",
       "        vertical-align: middle;\n",
       "    }\n",
       "\n",
       "    .dataframe tbody tr th {\n",
       "        vertical-align: top;\n",
       "    }\n",
       "\n",
       "    .dataframe thead th {\n",
       "        text-align: right;\n",
       "    }\n",
       "</style>\n",
       "<table border=\"1\" class=\"dataframe\">\n",
       "  <thead>\n",
       "    <tr style=\"text-align: right;\">\n",
       "      <th></th>\n",
       "      <th>Title</th>\n",
       "      <th>Body</th>\n",
       "      <th>Tags</th>\n",
       "      <th>Id</th>\n",
       "      <th>Score</th>\n",
       "      <th>ViewCount</th>\n",
       "      <th>AnswerCount</th>\n",
       "    </tr>\n",
       "  </thead>\n",
       "  <tbody>\n",
       "    <tr>\n",
       "      <th>0</th>\n",
       "      <td>Multithreading in a stateless session bean?</td>\n",
       "      <td>&lt;p&gt;The EJB 3.0 specification does not allow a ...</td>\n",
       "      <td>&lt;java&gt;&lt;multithreading&gt;&lt;jakarta-ee&gt;&lt;ejb-3.0&gt;&lt;ejb&gt;</td>\n",
       "      <td>3816286</td>\n",
       "      <td>9</td>\n",
       "      <td>13503</td>\n",
       "      <td>4</td>\n",
       "    </tr>\n",
       "    <tr>\n",
       "      <th>1</th>\n",
       "      <td>base64 JSON encoded strings in nodejs</td>\n",
       "      <td>&lt;p&gt;How do I create a base64 JSON encoded strin...</td>\n",
       "      <td>&lt;javascript&gt;&lt;json&gt;&lt;node.js&gt;&lt;base64&gt;&lt;buffer&gt;</td>\n",
       "      <td>22515180</td>\n",
       "      <td>14</td>\n",
       "      <td>23710</td>\n",
       "      <td>3</td>\n",
       "    </tr>\n",
       "    <tr>\n",
       "      <th>2</th>\n",
       "      <td>How do you get a directory listing in C?</td>\n",
       "      <td>&lt;p&gt;How do you scan a directory for folders and...</td>\n",
       "      <td>&lt;c&gt;&lt;file&gt;&lt;directory&gt;&lt;cross-platform&gt;&lt;common-ta...</td>\n",
       "      <td>12489</td>\n",
       "      <td>69</td>\n",
       "      <td>142856</td>\n",
       "      <td>9</td>\n",
       "    </tr>\n",
       "    <tr>\n",
       "      <th>3</th>\n",
       "      <td>Link error: \"Cannot find -ltinfo\" on Ubuntu 12...</td>\n",
       "      <td>&lt;p&gt;I get the following link error when I'm com...</td>\n",
       "      <td>&lt;c++&gt;&lt;ubuntu&gt;&lt;arm&gt;&lt;static-libraries&gt;&lt;ubuntu-12...</td>\n",
       "      <td>21137879</td>\n",
       "      <td>21</td>\n",
       "      <td>17090</td>\n",
       "      <td>2</td>\n",
       "    </tr>\n",
       "    <tr>\n",
       "      <th>4</th>\n",
       "      <td>Android In App Updates - Not able to detect th...</td>\n",
       "      <td>&lt;p&gt;Some log statements are thrown when we use,...</td>\n",
       "      <td>&lt;android&gt;&lt;google-play&gt;&lt;google-play-services&gt;&lt;a...</td>\n",
       "      <td>56581300</td>\n",
       "      <td>9</td>\n",
       "      <td>5122</td>\n",
       "      <td>3</td>\n",
       "    </tr>\n",
       "  </tbody>\n",
       "</table>\n",
       "</div>"
      ],
      "text/plain": [
       "                                               Title  \\\n",
       "0        Multithreading in a stateless session bean?   \n",
       "1              base64 JSON encoded strings in nodejs   \n",
       "2           How do you get a directory listing in C?   \n",
       "3  Link error: \"Cannot find -ltinfo\" on Ubuntu 12...   \n",
       "4  Android In App Updates - Not able to detect th...   \n",
       "\n",
       "                                                Body  \\\n",
       "0  <p>The EJB 3.0 specification does not allow a ...   \n",
       "1  <p>How do I create a base64 JSON encoded strin...   \n",
       "2  <p>How do you scan a directory for folders and...   \n",
       "3  <p>I get the following link error when I'm com...   \n",
       "4  <p>Some log statements are thrown when we use,...   \n",
       "\n",
       "                                                Tags        Id  Score  \\\n",
       "0   <java><multithreading><jakarta-ee><ejb-3.0><ejb>   3816286      9   \n",
       "1        <javascript><json><node.js><base64><buffer>  22515180     14   \n",
       "2  <c><file><directory><cross-platform><common-ta...     12489     69   \n",
       "3  <c++><ubuntu><arm><static-libraries><ubuntu-12...  21137879     21   \n",
       "4  <android><google-play><google-play-services><a...  56581300      9   \n",
       "\n",
       "   ViewCount  AnswerCount  \n",
       "0      13503            4  \n",
       "1      23710            3  \n",
       "2     142856            9  \n",
       "3      17090            2  \n",
       "4       5122            3  "
      ]
     },
     "execution_count": 138,
     "metadata": {},
     "output_type": "execute_result"
    }
   ],
   "source": [
    "df.head()"
   ]
  },
  {
   "cell_type": "code",
   "execution_count": 139,
   "metadata": {},
   "outputs": [
    {
     "name": "stdout",
     "output_type": "stream",
     "text": [
      "<class 'pandas.core.frame.DataFrame'>\n",
      "RangeIndex: 50000 entries, 0 to 49999\n",
      "Data columns (total 7 columns):\n",
      " #   Column       Non-Null Count  Dtype \n",
      "---  ------       --------------  ----- \n",
      " 0   Title        50000 non-null  object\n",
      " 1   Body         50000 non-null  object\n",
      " 2   Tags         50000 non-null  object\n",
      " 3   Id           50000 non-null  int64 \n",
      " 4   Score        50000 non-null  int64 \n",
      " 5   ViewCount    50000 non-null  int64 \n",
      " 6   AnswerCount  50000 non-null  int64 \n",
      "dtypes: int64(4), object(3)\n",
      "memory usage: 2.7+ MB\n"
     ]
    }
   ],
   "source": [
    "df.info()"
   ]
  },
  {
   "cell_type": "code",
   "execution_count": 140,
   "metadata": {},
   "outputs": [
    {
     "data": {
      "text/plain": [
       "50000"
      ]
     },
     "execution_count": 140,
     "metadata": {},
     "output_type": "execute_result"
    }
   ],
   "source": [
    "df['Id'].nunique()"
   ]
  },
  {
   "cell_type": "code",
   "execution_count": 141,
   "metadata": {},
   "outputs": [],
   "source": [
    "df.set_index('Id', inplace=True)"
   ]
  },
  {
   "cell_type": "code",
   "execution_count": 142,
   "metadata": {},
   "outputs": [
    {
     "data": {
      "text/html": [
       "<div>\n",
       "<style scoped>\n",
       "    .dataframe tbody tr th:only-of-type {\n",
       "        vertical-align: middle;\n",
       "    }\n",
       "\n",
       "    .dataframe tbody tr th {\n",
       "        vertical-align: top;\n",
       "    }\n",
       "\n",
       "    .dataframe thead th {\n",
       "        text-align: right;\n",
       "    }\n",
       "</style>\n",
       "<table border=\"1\" class=\"dataframe\">\n",
       "  <thead>\n",
       "    <tr style=\"text-align: right;\">\n",
       "      <th></th>\n",
       "      <th>Title</th>\n",
       "      <th>Body</th>\n",
       "      <th>Tags</th>\n",
       "      <th>Score</th>\n",
       "      <th>ViewCount</th>\n",
       "      <th>AnswerCount</th>\n",
       "    </tr>\n",
       "    <tr>\n",
       "      <th>Id</th>\n",
       "      <th></th>\n",
       "      <th></th>\n",
       "      <th></th>\n",
       "      <th></th>\n",
       "      <th></th>\n",
       "      <th></th>\n",
       "    </tr>\n",
       "  </thead>\n",
       "  <tbody>\n",
       "    <tr>\n",
       "      <th>3816286</th>\n",
       "      <td>Multithreading in a stateless session bean?</td>\n",
       "      <td>&lt;p&gt;The EJB 3.0 specification does not allow a ...</td>\n",
       "      <td>&lt;java&gt;&lt;multithreading&gt;&lt;jakarta-ee&gt;&lt;ejb-3.0&gt;&lt;ejb&gt;</td>\n",
       "      <td>9</td>\n",
       "      <td>13503</td>\n",
       "      <td>4</td>\n",
       "    </tr>\n",
       "    <tr>\n",
       "      <th>22515180</th>\n",
       "      <td>base64 JSON encoded strings in nodejs</td>\n",
       "      <td>&lt;p&gt;How do I create a base64 JSON encoded strin...</td>\n",
       "      <td>&lt;javascript&gt;&lt;json&gt;&lt;node.js&gt;&lt;base64&gt;&lt;buffer&gt;</td>\n",
       "      <td>14</td>\n",
       "      <td>23710</td>\n",
       "      <td>3</td>\n",
       "    </tr>\n",
       "    <tr>\n",
       "      <th>12489</th>\n",
       "      <td>How do you get a directory listing in C?</td>\n",
       "      <td>&lt;p&gt;How do you scan a directory for folders and...</td>\n",
       "      <td>&lt;c&gt;&lt;file&gt;&lt;directory&gt;&lt;cross-platform&gt;&lt;common-ta...</td>\n",
       "      <td>69</td>\n",
       "      <td>142856</td>\n",
       "      <td>9</td>\n",
       "    </tr>\n",
       "  </tbody>\n",
       "</table>\n",
       "</div>"
      ],
      "text/plain": [
       "                                                Title  \\\n",
       "Id                                                      \n",
       "3816286   Multithreading in a stateless session bean?   \n",
       "22515180        base64 JSON encoded strings in nodejs   \n",
       "12489        How do you get a directory listing in C?   \n",
       "\n",
       "                                                       Body  \\\n",
       "Id                                                            \n",
       "3816286   <p>The EJB 3.0 specification does not allow a ...   \n",
       "22515180  <p>How do I create a base64 JSON encoded strin...   \n",
       "12489     <p>How do you scan a directory for folders and...   \n",
       "\n",
       "                                                       Tags  Score  ViewCount  \\\n",
       "Id                                                                              \n",
       "3816286    <java><multithreading><jakarta-ee><ejb-3.0><ejb>      9      13503   \n",
       "22515180        <javascript><json><node.js><base64><buffer>     14      23710   \n",
       "12489     <c><file><directory><cross-platform><common-ta...     69     142856   \n",
       "\n",
       "          AnswerCount  \n",
       "Id                     \n",
       "3816286             4  \n",
       "22515180            3  \n",
       "12489               9  "
      ]
     },
     "execution_count": 142,
     "metadata": {},
     "output_type": "execute_result"
    }
   ],
   "source": [
    "df.head(3)"
   ]
  },
  {
   "attachments": {},
   "cell_type": "markdown",
   "metadata": {},
   "source": [
    "# Cleaning Tags column, counting tags"
   ]
  },
  {
   "cell_type": "code",
   "execution_count": 143,
   "metadata": {},
   "outputs": [],
   "source": [
    "def simple_tokenize_tags(tag):\n",
    "    '''\n",
    "    Returns a list with more readable original \n",
    "    tags from StackOverflow. \n",
    "\n",
    "    Parameters:\n",
    "        - tag: str\n",
    "\n",
    "    ----------------------------------------------------------\n",
    "    Example:\n",
    "    tag = '<java><multithreading><jakarta-ee><ejb-3.0><ejb>'\n",
    "\n",
    "    simple_tokenize_tags(tag) returns the list\n",
    "    ['java', 'multithreading', 'jakarta-ee', 'ejb-3.0', 'ejb']\n",
    "    ----------------------------------------------------------\n",
    "\n",
    "    '''\n",
    "    return tag.replace('><', ' ')[1:-1].split()"
   ]
  },
  {
   "attachments": {},
   "cell_type": "markdown",
   "metadata": {},
   "source": [
    "# Defining tags set\n",
    "\n",
    "We define a tag set to work with. We would like to keep a limited number of the most popular tags."
   ]
  },
  {
   "cell_type": "code",
   "execution_count": 144,
   "metadata": {},
   "outputs": [
    {
     "data": {
      "text/html": [
       "<div>\n",
       "<style scoped>\n",
       "    .dataframe tbody tr th:only-of-type {\n",
       "        vertical-align: middle;\n",
       "    }\n",
       "\n",
       "    .dataframe tbody tr th {\n",
       "        vertical-align: top;\n",
       "    }\n",
       "\n",
       "    .dataframe thead th {\n",
       "        text-align: right;\n",
       "    }\n",
       "</style>\n",
       "<table border=\"1\" class=\"dataframe\">\n",
       "  <thead>\n",
       "    <tr style=\"text-align: right;\">\n",
       "      <th></th>\n",
       "      <th>Title</th>\n",
       "      <th>Body</th>\n",
       "      <th>Tags</th>\n",
       "      <th>Score</th>\n",
       "      <th>ViewCount</th>\n",
       "      <th>AnswerCount</th>\n",
       "    </tr>\n",
       "    <tr>\n",
       "      <th>Id</th>\n",
       "      <th></th>\n",
       "      <th></th>\n",
       "      <th></th>\n",
       "      <th></th>\n",
       "      <th></th>\n",
       "      <th></th>\n",
       "    </tr>\n",
       "  </thead>\n",
       "  <tbody>\n",
       "    <tr>\n",
       "      <th>3816286</th>\n",
       "      <td>Multithreading in a stateless session bean?</td>\n",
       "      <td>&lt;p&gt;The EJB 3.0 specification does not allow a ...</td>\n",
       "      <td>&lt;java&gt;&lt;multithreading&gt;&lt;jakarta-ee&gt;&lt;ejb-3.0&gt;&lt;ejb&gt;</td>\n",
       "      <td>9</td>\n",
       "      <td>13503</td>\n",
       "      <td>4</td>\n",
       "    </tr>\n",
       "    <tr>\n",
       "      <th>22515180</th>\n",
       "      <td>base64 JSON encoded strings in nodejs</td>\n",
       "      <td>&lt;p&gt;How do I create a base64 JSON encoded strin...</td>\n",
       "      <td>&lt;javascript&gt;&lt;json&gt;&lt;node.js&gt;&lt;base64&gt;&lt;buffer&gt;</td>\n",
       "      <td>14</td>\n",
       "      <td>23710</td>\n",
       "      <td>3</td>\n",
       "    </tr>\n",
       "    <tr>\n",
       "      <th>12489</th>\n",
       "      <td>How do you get a directory listing in C?</td>\n",
       "      <td>&lt;p&gt;How do you scan a directory for folders and...</td>\n",
       "      <td>&lt;c&gt;&lt;file&gt;&lt;directory&gt;&lt;cross-platform&gt;&lt;common-ta...</td>\n",
       "      <td>69</td>\n",
       "      <td>142856</td>\n",
       "      <td>9</td>\n",
       "    </tr>\n",
       "  </tbody>\n",
       "</table>\n",
       "</div>"
      ],
      "text/plain": [
       "                                                Title  \\\n",
       "Id                                                      \n",
       "3816286   Multithreading in a stateless session bean?   \n",
       "22515180        base64 JSON encoded strings in nodejs   \n",
       "12489        How do you get a directory listing in C?   \n",
       "\n",
       "                                                       Body  \\\n",
       "Id                                                            \n",
       "3816286   <p>The EJB 3.0 specification does not allow a ...   \n",
       "22515180  <p>How do I create a base64 JSON encoded strin...   \n",
       "12489     <p>How do you scan a directory for folders and...   \n",
       "\n",
       "                                                       Tags  Score  ViewCount  \\\n",
       "Id                                                                              \n",
       "3816286    <java><multithreading><jakarta-ee><ejb-3.0><ejb>      9      13503   \n",
       "22515180        <javascript><json><node.js><base64><buffer>     14      23710   \n",
       "12489     <c><file><directory><cross-platform><common-ta...     69     142856   \n",
       "\n",
       "          AnswerCount  \n",
       "Id                     \n",
       "3816286             4  \n",
       "22515180            3  \n",
       "12489               9  "
      ]
     },
     "execution_count": 144,
     "metadata": {},
     "output_type": "execute_result"
    }
   ],
   "source": [
    "df.head(3)"
   ]
  },
  {
   "cell_type": "code",
   "execution_count": 145,
   "metadata": {},
   "outputs": [],
   "source": [
    "def clean_tags_column(df, old_tags_col):\n",
    "    '''\n",
    "    Adds a column to df with the clean tag form (as list)\n",
    "    of the tags string in column old_tags_col.\n",
    "    Removes the old tags column\n",
    "\n",
    "    Parameters:\n",
    "        - df: pandas.DataFrame\n",
    "        - old_tags_col: str\n",
    "            the label of the column containing string with tags.\n",
    "    '''\n",
    "    df['clean_Tags'] = df[old_tags_col].apply(lambda txt:simple_tokenize_tags(txt))\n",
    "    df.drop(columns=old_tags_col, inplace=True)\n",
    "    df.rename(columns={'clean_Tags' : 'Tags'}, inplace=True)"
   ]
  },
  {
   "cell_type": "code",
   "execution_count": 146,
   "metadata": {},
   "outputs": [],
   "source": [
    "# Adding a column of clean_Tags which is a list of tags\n",
    "clean_tags_column(df, 'Tags')"
   ]
  },
  {
   "cell_type": "code",
   "execution_count": 147,
   "metadata": {},
   "outputs": [
    {
     "data": {
      "text/html": [
       "<div>\n",
       "<style scoped>\n",
       "    .dataframe tbody tr th:only-of-type {\n",
       "        vertical-align: middle;\n",
       "    }\n",
       "\n",
       "    .dataframe tbody tr th {\n",
       "        vertical-align: top;\n",
       "    }\n",
       "\n",
       "    .dataframe thead th {\n",
       "        text-align: right;\n",
       "    }\n",
       "</style>\n",
       "<table border=\"1\" class=\"dataframe\">\n",
       "  <thead>\n",
       "    <tr style=\"text-align: right;\">\n",
       "      <th></th>\n",
       "      <th>Title</th>\n",
       "      <th>Body</th>\n",
       "      <th>Score</th>\n",
       "      <th>ViewCount</th>\n",
       "      <th>AnswerCount</th>\n",
       "      <th>Tags</th>\n",
       "    </tr>\n",
       "    <tr>\n",
       "      <th>Id</th>\n",
       "      <th></th>\n",
       "      <th></th>\n",
       "      <th></th>\n",
       "      <th></th>\n",
       "      <th></th>\n",
       "      <th></th>\n",
       "    </tr>\n",
       "  </thead>\n",
       "  <tbody>\n",
       "    <tr>\n",
       "      <th>3816286</th>\n",
       "      <td>Multithreading in a stateless session bean?</td>\n",
       "      <td>&lt;p&gt;The EJB 3.0 specification does not allow a ...</td>\n",
       "      <td>9</td>\n",
       "      <td>13503</td>\n",
       "      <td>4</td>\n",
       "      <td>[java, multithreading, jakarta-ee, ejb-3.0, ejb]</td>\n",
       "    </tr>\n",
       "    <tr>\n",
       "      <th>22515180</th>\n",
       "      <td>base64 JSON encoded strings in nodejs</td>\n",
       "      <td>&lt;p&gt;How do I create a base64 JSON encoded strin...</td>\n",
       "      <td>14</td>\n",
       "      <td>23710</td>\n",
       "      <td>3</td>\n",
       "      <td>[javascript, json, node.js, base64, buffer]</td>\n",
       "    </tr>\n",
       "    <tr>\n",
       "      <th>12489</th>\n",
       "      <td>How do you get a directory listing in C?</td>\n",
       "      <td>&lt;p&gt;How do you scan a directory for folders and...</td>\n",
       "      <td>69</td>\n",
       "      <td>142856</td>\n",
       "      <td>9</td>\n",
       "      <td>[c, file, directory, cross-platform, common-ta...</td>\n",
       "    </tr>\n",
       "  </tbody>\n",
       "</table>\n",
       "</div>"
      ],
      "text/plain": [
       "                                                Title  \\\n",
       "Id                                                      \n",
       "3816286   Multithreading in a stateless session bean?   \n",
       "22515180        base64 JSON encoded strings in nodejs   \n",
       "12489        How do you get a directory listing in C?   \n",
       "\n",
       "                                                       Body  Score  ViewCount  \\\n",
       "Id                                                                              \n",
       "3816286   <p>The EJB 3.0 specification does not allow a ...      9      13503   \n",
       "22515180  <p>How do I create a base64 JSON encoded strin...     14      23710   \n",
       "12489     <p>How do you scan a directory for folders and...     69     142856   \n",
       "\n",
       "          AnswerCount                                               Tags  \n",
       "Id                                                                        \n",
       "3816286             4   [java, multithreading, jakarta-ee, ejb-3.0, ejb]  \n",
       "22515180            3        [javascript, json, node.js, base64, buffer]  \n",
       "12489               9  [c, file, directory, cross-platform, common-ta...  "
      ]
     },
     "execution_count": 147,
     "metadata": {},
     "output_type": "execute_result"
    }
   ],
   "source": [
    "df.head(3)"
   ]
  },
  {
   "attachments": {},
   "cell_type": "markdown",
   "metadata": {},
   "source": [
    "We study some statistics in the whole set of tags to understand."
   ]
  },
  {
   "cell_type": "code",
   "execution_count": 149,
   "metadata": {},
   "outputs": [],
   "source": [
    "# Creating the set of all tags appearing in the sample of\n",
    "# size 50 000\n",
    "all_tags = set()\n",
    "\n",
    "for tags in df['Tags']:\n",
    "    all_tags = all_tags.union(set(tags))"
   ]
  },
  {
   "cell_type": "code",
   "execution_count": 150,
   "metadata": {},
   "outputs": [
    {
     "name": "stdout",
     "output_type": "stream",
     "text": [
      "There are 18409 different tags.\n",
      "The mean of # of questions per tag is: 13.58042261937096\n",
      "The minimum # of questions per tag is: 1.0 (by constr.)\n",
      "The max # of questions per tag is: 6226.0.\n",
      "25% of tags appear in 1.0 question.\n",
      "50% of tags appear in 2.0 questions or less.\n",
      "75% of tags appear in 6.0 questions or less.\n"
     ]
    }
   ],
   "source": [
    "# Different tags as a list\n",
    "all_tags = list(all_tags)\n",
    "\n",
    "# Counting questions per tag\n",
    "all_tags_count = dict(zip(all_tags,np.zeros(len(all_tags))))\n",
    "\n",
    "for tags in df['Tags']:\n",
    "    for tag in tags:\n",
    "        all_tags_count[tag] += 1\n",
    "\n",
    "# Array counting # of questions per tag\n",
    "tags_count = np.array(list(all_tags_count.values()))\n",
    "\n",
    "print(f'There are {len(all_tags)} different tags.')\n",
    "print(f'The mean of # of questions per tag is: {np.mean(tags_count)}')\n",
    "print(f'The minimum # of questions per tag is: {np.min(tags_count)} (by constr.)')\n",
    "print(f'The max # of questions per tag is: {np.max(tags_count)}.')\n",
    "print(f'25% of tags appear in {np.quantile(tags_count, 0.25)} question.')\n",
    "print(f'50% of tags appear in {np.quantile(tags_count, 0.5)} questions or less.')\n",
    "print(f'75% of tags appear in {np.quantile(tags_count, 0.75)} questions or less.')\n"
   ]
  },
  {
   "attachments": {},
   "cell_type": "markdown",
   "metadata": {},
   "source": [
    "We now choose the more popular tags"
   ]
  },
  {
   "cell_type": "code",
   "execution_count": 249,
   "metadata": {},
   "outputs": [
    {
     "name": "stdout",
     "output_type": "stream",
     "text": [
      "The total # of popular tags is 10\n",
      "(appearing in more than 1900 questions)\n",
      "-----------------------------------\n",
      "Tag \t\t # of quest\n",
      "-----------------------------------\n",
      "        c# \t 6226.0\n",
      "      java \t 5880.0\n",
      "javascript \t 4920.0\n",
      "    python \t 4747.0\n",
      "       c++ \t 3904.0\n",
      "       ios \t 3449.0\n",
      "   android \t 3223.0\n",
      "      .net \t 3164.0\n",
      "      html \t 2197.0\n",
      "       php \t 2050.0\n"
     ]
    }
   ],
   "source": [
    "# Fixing a minimal number of questions for considering\n",
    "# a tag \"popular\"\n",
    "numb_quest = 1900\n",
    "popular_tags = { key:value for (key,value) in all_tags_count.items() if value >numb_quest}\n",
    "\n",
    "# Sorting popular tags decreasingly\n",
    "popular_tags = {k: v for k, v in sorted(popular_tags.items(), key=lambda item: item[1], reverse=True)}\n",
    "\n",
    "print(f'The total # of popular tags is {len(popular_tags)}')\n",
    "print(f'(appearing in more than {numb_quest} questions)')\n",
    "print('-'*35)\n",
    "print('Tag \\t\\t # of quest')\n",
    "print('-'*35)\n",
    "for (key,value) in popular_tags.items():\n",
    "    print(f'{key:>10} \\t {value}')\n"
   ]
  },
  {
   "cell_type": "code",
   "execution_count": 189,
   "metadata": {},
   "outputs": [],
   "source": [
    "def plot_numb_popular_tags(popular_tags,n):\n",
    "        '''\n",
    "        Bar plot illustrating the number of questions\n",
    "        per each popular tag, for n the most popular tags.\n",
    "\n",
    "        Parameters:\n",
    "                - popular_tags : dict\n",
    "                        keys: the labels of popular tags\n",
    "                        values: number of questions tagged with tag.\n",
    "                - n : int\n",
    "        '''\n",
    "        \n",
    "        fig, ax = plt.subplots()\n",
    "        ax.barh(width=list(popular_tags.values())[:n],\n",
    "                y=range(n)[::-1],\n",
    "                color='blueviolet',\n",
    "                alpha=0.7,\n",
    "                tick_label=list(popular_tags.keys())[:n]\n",
    "                )\n",
    "        plt.title(f'Most popular {n} tags', fontsize=13)\n",
    "        plt.xlabel('# of questions containing tag')\n",
    "        ax.grid(axis='y')\n",
    "\n",
    "        plt.show()\n"
   ]
  },
  {
   "cell_type": "code",
   "execution_count": 250,
   "metadata": {},
   "outputs": [
    {
     "data": {
      "image/png": "[encoded data removed]",
      "text/plain": [
       "<Figure size 432x288 with 1 Axes>"
      ]
     },
     "metadata": {},
     "output_type": "display_data"
    }
   ],
   "source": [
    "# Plotting the 10 most popular tags\n",
    "plot_numb_popular_tags(popular_tags, 10)"
   ]
  },
  {
   "attachments": {},
   "cell_type": "markdown",
   "metadata": {},
   "source": [
    "## Mini-example"
   ]
  },
  {
   "cell_type": "code",
   "execution_count": 191,
   "metadata": {},
   "outputs": [],
   "source": [
    "df_ex = df.head(3)"
   ]
  },
  {
   "cell_type": "code",
   "execution_count": 192,
   "metadata": {},
   "outputs": [
    {
     "data": {
      "text/html": [
       "<div>\n",
       "<style scoped>\n",
       "    .dataframe tbody tr th:only-of-type {\n",
       "        vertical-align: middle;\n",
       "    }\n",
       "\n",
       "    .dataframe tbody tr th {\n",
       "        vertical-align: top;\n",
       "    }\n",
       "\n",
       "    .dataframe thead th {\n",
       "        text-align: right;\n",
       "    }\n",
       "</style>\n",
       "<table border=\"1\" class=\"dataframe\">\n",
       "  <thead>\n",
       "    <tr style=\"text-align: right;\">\n",
       "      <th></th>\n",
       "      <th>Title</th>\n",
       "      <th>Body</th>\n",
       "      <th>Score</th>\n",
       "      <th>ViewCount</th>\n",
       "      <th>AnswerCount</th>\n",
       "      <th>Tags</th>\n",
       "    </tr>\n",
       "    <tr>\n",
       "      <th>Id</th>\n",
       "      <th></th>\n",
       "      <th></th>\n",
       "      <th></th>\n",
       "      <th></th>\n",
       "      <th></th>\n",
       "      <th></th>\n",
       "    </tr>\n",
       "  </thead>\n",
       "  <tbody>\n",
       "    <tr>\n",
       "      <th>3816286</th>\n",
       "      <td>Multithreading in a stateless session bean?</td>\n",
       "      <td>&lt;p&gt;The EJB 3.0 specification does not allow a ...</td>\n",
       "      <td>9</td>\n",
       "      <td>13503</td>\n",
       "      <td>4</td>\n",
       "      <td>[java, multithreading, jakarta-ee, ejb-3.0, ejb]</td>\n",
       "    </tr>\n",
       "    <tr>\n",
       "      <th>22515180</th>\n",
       "      <td>base64 JSON encoded strings in nodejs</td>\n",
       "      <td>&lt;p&gt;How do I create a base64 JSON encoded strin...</td>\n",
       "      <td>14</td>\n",
       "      <td>23710</td>\n",
       "      <td>3</td>\n",
       "      <td>[javascript, json, node.js, base64, buffer]</td>\n",
       "    </tr>\n",
       "    <tr>\n",
       "      <th>12489</th>\n",
       "      <td>How do you get a directory listing in C?</td>\n",
       "      <td>&lt;p&gt;How do you scan a directory for folders and...</td>\n",
       "      <td>69</td>\n",
       "      <td>142856</td>\n",
       "      <td>9</td>\n",
       "      <td>[c, file, directory, cross-platform, common-ta...</td>\n",
       "    </tr>\n",
       "  </tbody>\n",
       "</table>\n",
       "</div>"
      ],
      "text/plain": [
       "                                                Title  \\\n",
       "Id                                                      \n",
       "3816286   Multithreading in a stateless session bean?   \n",
       "22515180        base64 JSON encoded strings in nodejs   \n",
       "12489        How do you get a directory listing in C?   \n",
       "\n",
       "                                                       Body  Score  ViewCount  \\\n",
       "Id                                                                              \n",
       "3816286   <p>The EJB 3.0 specification does not allow a ...      9      13503   \n",
       "22515180  <p>How do I create a base64 JSON encoded strin...     14      23710   \n",
       "12489     <p>How do you scan a directory for folders and...     69     142856   \n",
       "\n",
       "          AnswerCount                                               Tags  \n",
       "Id                                                                        \n",
       "3816286             4   [java, multithreading, jakarta-ee, ejb-3.0, ejb]  \n",
       "22515180            3        [javascript, json, node.js, base64, buffer]  \n",
       "12489               9  [c, file, directory, cross-platform, common-ta...  "
      ]
     },
     "execution_count": 192,
     "metadata": {},
     "output_type": "execute_result"
    }
   ],
   "source": [
    "df_ex"
   ]
  },
  {
   "cell_type": "code",
   "execution_count": 193,
   "metadata": {},
   "outputs": [
    {
     "name": "stdout",
     "output_type": "stream",
     "text": [
      "['java', 'multithreading', 'jakarta-ee', 'ejb-3.0', 'ejb']\n",
      "['javascript', 'json', 'node.js', 'base64', 'buffer']\n",
      "['c', 'file', 'directory', 'cross-platform', 'common-tasks']\n"
     ]
    }
   ],
   "source": [
    "for tags in df_ex['Tags']:\n",
    "    print(tags)"
   ]
  },
  {
   "cell_type": "code",
   "execution_count": 198,
   "metadata": {},
   "outputs": [],
   "source": [
    "my_list = ['java', 'ejb', 'javascript']"
   ]
  },
  {
   "cell_type": "code",
   "execution_count": 201,
   "metadata": {},
   "outputs": [
    {
     "data": {
      "text/plain": [
       "Id\n",
       "3816286               java\n",
       "3816286     multithreading\n",
       "3816286         jakarta-ee\n",
       "3816286            ejb-3.0\n",
       "3816286                ejb\n",
       "22515180        javascript\n",
       "22515180              json\n",
       "22515180           node.js\n",
       "22515180            base64\n",
       "22515180            buffer\n",
       "12489                    c\n",
       "12489                 file\n",
       "12489            directory\n",
       "12489       cross-platform\n",
       "12489         common-tasks\n",
       "Name: Tags, dtype: object"
      ]
     },
     "execution_count": 201,
     "metadata": {},
     "output_type": "execute_result"
    }
   ],
   "source": [
    "df_ex.Tags.explode()"
   ]
  },
  {
   "cell_type": "code",
   "execution_count": 203,
   "metadata": {},
   "outputs": [
    {
     "data": {
      "text/plain": [
       "Id\n",
       "3816286      True\n",
       "3816286     False\n",
       "3816286     False\n",
       "3816286     False\n",
       "3816286      True\n",
       "22515180     True\n",
       "22515180    False\n",
       "22515180    False\n",
       "22515180    False\n",
       "22515180    False\n",
       "12489       False\n",
       "12489       False\n",
       "12489       False\n",
       "12489       False\n",
       "12489       False\n",
       "Name: Tags, dtype: bool"
      ]
     },
     "execution_count": 203,
     "metadata": {},
     "output_type": "execute_result"
    }
   ],
   "source": [
    "df_ex.Tags.explode().isin(my_list)"
   ]
  },
  {
   "cell_type": "code",
   "execution_count": 233,
   "metadata": {},
   "outputs": [
    {
     "data": {
      "text/plain": [
       "Id\n",
       "3816286           java\n",
       "3816286            ejb\n",
       "22515180    javascript\n",
       "Name: Tags, dtype: object"
      ]
     },
     "execution_count": 233,
     "metadata": {},
     "output_type": "execute_result"
    }
   ],
   "source": [
    "df_ex.Tags.explode()[df_ex.Tags.explode().isin(my_list)]"
   ]
  },
  {
   "cell_type": "code",
   "execution_count": 234,
   "metadata": {},
   "outputs": [],
   "source": [
    "my_series = df_ex.Tags.explode()[df_ex.Tags.explode().isin(my_list)]\n",
    "my_series = my_series.groupby(by=my_series.index).apply(list)"
   ]
  },
  {
   "cell_type": "code",
   "execution_count": 235,
   "metadata": {},
   "outputs": [
    {
     "data": {
      "text/plain": [
       "Id\n",
       "3816286      [java, ejb]\n",
       "22515180    [javascript]\n",
       "Name: Tags, dtype: object"
      ]
     },
     "execution_count": 235,
     "metadata": {},
     "output_type": "execute_result"
    }
   ],
   "source": [
    "my_series"
   ]
  },
  {
   "cell_type": "code",
   "execution_count": 236,
   "metadata": {},
   "outputs": [
    {
     "data": {
      "text/html": [
       "<div>\n",
       "<style scoped>\n",
       "    .dataframe tbody tr th:only-of-type {\n",
       "        vertical-align: middle;\n",
       "    }\n",
       "\n",
       "    .dataframe tbody tr th {\n",
       "        vertical-align: top;\n",
       "    }\n",
       "\n",
       "    .dataframe thead th {\n",
       "        text-align: right;\n",
       "    }\n",
       "</style>\n",
       "<table border=\"1\" class=\"dataframe\">\n",
       "  <thead>\n",
       "    <tr style=\"text-align: right;\">\n",
       "      <th></th>\n",
       "      <th>Title</th>\n",
       "      <th>Body</th>\n",
       "      <th>Score</th>\n",
       "      <th>ViewCount</th>\n",
       "      <th>AnswerCount</th>\n",
       "      <th>Tags_original</th>\n",
       "      <th>Tags</th>\n",
       "    </tr>\n",
       "    <tr>\n",
       "      <th>Id</th>\n",
       "      <th></th>\n",
       "      <th></th>\n",
       "      <th></th>\n",
       "      <th></th>\n",
       "      <th></th>\n",
       "      <th></th>\n",
       "      <th></th>\n",
       "    </tr>\n",
       "  </thead>\n",
       "  <tbody>\n",
       "    <tr>\n",
       "      <th>3816286</th>\n",
       "      <td>Multithreading in a stateless session bean?</td>\n",
       "      <td>&lt;p&gt;The EJB 3.0 specification does not allow a ...</td>\n",
       "      <td>9</td>\n",
       "      <td>13503</td>\n",
       "      <td>4</td>\n",
       "      <td>[java, multithreading, jakarta-ee, ejb-3.0, ejb]</td>\n",
       "      <td>[java, ejb]</td>\n",
       "    </tr>\n",
       "    <tr>\n",
       "      <th>22515180</th>\n",
       "      <td>base64 JSON encoded strings in nodejs</td>\n",
       "      <td>&lt;p&gt;How do I create a base64 JSON encoded strin...</td>\n",
       "      <td>14</td>\n",
       "      <td>23710</td>\n",
       "      <td>3</td>\n",
       "      <td>[javascript, json, node.js, base64, buffer]</td>\n",
       "      <td>[javascript]</td>\n",
       "    </tr>\n",
       "  </tbody>\n",
       "</table>\n",
       "</div>"
      ],
      "text/plain": [
       "                                                Title  \\\n",
       "Id                                                      \n",
       "3816286   Multithreading in a stateless session bean?   \n",
       "22515180        base64 JSON encoded strings in nodejs   \n",
       "\n",
       "                                                       Body  Score  ViewCount  \\\n",
       "Id                                                                              \n",
       "3816286   <p>The EJB 3.0 specification does not allow a ...      9      13503   \n",
       "22515180  <p>How do I create a base64 JSON encoded strin...     14      23710   \n",
       "\n",
       "          AnswerCount                                     Tags_original  \\\n",
       "Id                                                                        \n",
       "3816286             4  [java, multithreading, jakarta-ee, ejb-3.0, ejb]   \n",
       "22515180            3       [javascript, json, node.js, base64, buffer]   \n",
       "\n",
       "                  Tags  \n",
       "Id                      \n",
       "3816286    [java, ejb]  \n",
       "22515180  [javascript]  "
      ]
     },
     "execution_count": 236,
     "metadata": {},
     "output_type": "execute_result"
    }
   ],
   "source": [
    "pd.merge(left=df_ex, right=my_series, how='right', left_index=True, right_index=True, suffixes=('_original',None))"
   ]
  },
  {
   "cell_type": "code",
   "execution_count": 237,
   "metadata": {},
   "outputs": [],
   "source": [
    "def filter_popular_tags(df,tags,pop_tags):\n",
    "    '''\n",
    "    Returns a dataframe with filtered tags:\n",
    "    it keeps only tags in the list pop_tags and\n",
    "    removes the rest of the tags. Removes rows without\n",
    "    popular tags.\n",
    "\n",
    "    Parameters:\n",
    "        - df: pd.DataFrame\n",
    "        - pop_tags: list of str\n",
    "            list of popular tags to keep.\n",
    "        - tags: str\n",
    "            label of the tags column in df.\n",
    "    '''\n",
    "    # Exploding series of tags as rows (preserves the index)\n",
    "    tags_series = df[tags].explode()\n",
    "\n",
    "    # Boolean of preceding series: True if tag is popular\n",
    "    is_pop_tag = tags_series.isin(pop_tags)\n",
    "\n",
    "    # Series of tags for which True\n",
    "    pop_tags_series = tags_series[is_pop_tag]\n",
    "\n",
    "    # Groupby of this series to go back to a list of tags\n",
    "    pop_tags_series = pop_tags_series.groupby(by=pop_tags_series.index).apply(list)\n",
    "\n",
    "    # Merge with dataframe to keep only popular tags\n",
    "    pop_tags_df = pd.merge(left=df, \n",
    "                           right=pop_tags_series, \n",
    "                           how='right', \n",
    "                           left_index=True, \n",
    "                           right_index=True, \n",
    "                           suffixes=('_old',None))\n",
    "    pop_tags_df.drop(columns=[tags+'_old'], inplace=True)\n",
    "\n",
    "    return pop_tags_df"
   ]
  },
  {
   "cell_type": "code",
   "execution_count": 241,
   "metadata": {},
   "outputs": [
    {
     "data": {
      "text/html": [
       "<div>\n",
       "<style scoped>\n",
       "    .dataframe tbody tr th:only-of-type {\n",
       "        vertical-align: middle;\n",
       "    }\n",
       "\n",
       "    .dataframe tbody tr th {\n",
       "        vertical-align: top;\n",
       "    }\n",
       "\n",
       "    .dataframe thead th {\n",
       "        text-align: right;\n",
       "    }\n",
       "</style>\n",
       "<table border=\"1\" class=\"dataframe\">\n",
       "  <thead>\n",
       "    <tr style=\"text-align: right;\">\n",
       "      <th></th>\n",
       "      <th>Title</th>\n",
       "      <th>Body</th>\n",
       "      <th>Score</th>\n",
       "      <th>ViewCount</th>\n",
       "      <th>AnswerCount</th>\n",
       "      <th>Tags</th>\n",
       "    </tr>\n",
       "    <tr>\n",
       "      <th>Id</th>\n",
       "      <th></th>\n",
       "      <th></th>\n",
       "      <th></th>\n",
       "      <th></th>\n",
       "      <th></th>\n",
       "      <th></th>\n",
       "    </tr>\n",
       "  </thead>\n",
       "  <tbody>\n",
       "    <tr>\n",
       "      <th>3816286</th>\n",
       "      <td>Multithreading in a stateless session bean?</td>\n",
       "      <td>&lt;p&gt;The EJB 3.0 specification does not allow a ...</td>\n",
       "      <td>9</td>\n",
       "      <td>13503</td>\n",
       "      <td>4</td>\n",
       "      <td>[java, ejb]</td>\n",
       "    </tr>\n",
       "    <tr>\n",
       "      <th>22515180</th>\n",
       "      <td>base64 JSON encoded strings in nodejs</td>\n",
       "      <td>&lt;p&gt;How do I create a base64 JSON encoded strin...</td>\n",
       "      <td>14</td>\n",
       "      <td>23710</td>\n",
       "      <td>3</td>\n",
       "      <td>[javascript]</td>\n",
       "    </tr>\n",
       "  </tbody>\n",
       "</table>\n",
       "</div>"
      ],
      "text/plain": [
       "                                                Title  \\\n",
       "Id                                                      \n",
       "3816286   Multithreading in a stateless session bean?   \n",
       "22515180        base64 JSON encoded strings in nodejs   \n",
       "\n",
       "                                                       Body  Score  ViewCount  \\\n",
       "Id                                                                              \n",
       "3816286   <p>The EJB 3.0 specification does not allow a ...      9      13503   \n",
       "22515180  <p>How do I create a base64 JSON encoded strin...     14      23710   \n",
       "\n",
       "          AnswerCount          Tags  \n",
       "Id                                   \n",
       "3816286             4   [java, ejb]  \n",
       "22515180            3  [javascript]  "
      ]
     },
     "execution_count": 241,
     "metadata": {},
     "output_type": "execute_result"
    }
   ],
   "source": [
    "# Testing function\n",
    "filter_popular_tags(df_ex,'Tags',my_list)"
   ]
  },
  {
   "attachments": {},
   "cell_type": "markdown",
   "metadata": {},
   "source": [
    "We now filter our dataset to keep only popular tags"
   ]
  },
  {
   "cell_type": "code",
   "execution_count": 251,
   "metadata": {},
   "outputs": [
    {
     "name": "stdout",
     "output_type": "stream",
     "text": [
      "Dataset shape before filter :(50000, 6)\n",
      "Dataset shape after filter :(33729, 6)\n"
     ]
    }
   ],
   "source": [
    "print(f'Dataset shape before filter : {df.shape}')\n",
    "\n",
    "# Filtering popular tags\n",
    "popular_tags = list(popular_tags.keys())\n",
    "df = filter_popular_tags(df,'Tags',popular_tags)\n",
    "\n",
    "print(f'Dataset shape after filter : {df.shape}')"
   ]
  },
  {
   "attachments": {},
   "cell_type": "markdown",
   "metadata": {},
   "source": [
    "# Processing title and body text"
   ]
  },
  {
   "cell_type": "code",
   "execution_count": 252,
   "metadata": {},
   "outputs": [],
   "source": [
    "import spacy\n",
    "\n"
   ]
  },
  {
   "cell_type": "code",
   "execution_count": 253,
   "metadata": {},
   "outputs": [],
   "source": [
    "from bs4 import BeautifulSoup"
   ]
  },
  {
   "cell_type": "code",
   "execution_count": 254,
   "metadata": {},
   "outputs": [],
   "source": [
    "def remove_code(text):\n",
    "    \"\"\"\n",
    "    Removes \"<code> some text </code>\" from a text.\n",
    "\n",
    "    Parameters\n",
    "        - text : str\n",
    "    \"\"\"\n",
    "    soup = BeautifulSoup(text,'lxml')\n",
    "    code_to_remove = soup.findAll('code')\n",
    "    for code in code_to_remove:\n",
    "        code.replace_with(' ')\n",
    "    return str(soup)"
   ]
  },
  {
   "cell_type": "code",
   "execution_count": 317,
   "metadata": {},
   "outputs": [],
   "source": [
    "import spacy\n",
    "from spacy.symbols import ORTH"
   ]
  },
  {
   "attachments": {},
   "cell_type": "markdown",
   "metadata": {},
   "source": [
    "We now add stopwords to the default english tokenizer stopword set. Our set of stopwords can be find in this [github repository](#https://github.com/Alir3z4/stop-words/blob/master/english.txt)."
   ]
  },
  {
   "cell_type": "code",
   "execution_count": 309,
   "metadata": {},
   "outputs": [
    {
     "name": "stdout",
     "output_type": "stream",
     "text": [
      "The default spacy stopwords set contains 326 stopwords.\n",
      "This file contains 1298 stopwords.\n",
      "The first 10 stopwords are:\n",
      "['obtained', 'dear', 'dont', 'yourselves', 'that', 'open', 'will', 'et-al', 'doesnt', 'affects']\n"
     ]
    }
   ],
   "source": [
    "# Importing stopwords\n",
    "with open('./stopwords/stopwords.txt') as file:\n",
    "    my_stopwords = {line.rstrip() for line in file}\n",
    "\n",
    "# print # of stopwords\n",
    "print(f'The default spacy stopwords set contains {len(nlp.Defaults.stop_words)} stopwords.')\n",
    "print(f'This file contains {len(my_stopwords)} stopwords.')\n",
    "print('The first 10 stopwords are:')\n",
    "print(list(my_stopwords)[:10])\n"
   ]
  },
  {
   "cell_type": "code",
   "execution_count": 313,
   "metadata": {},
   "outputs": [
    {
     "name": "stdout",
     "output_type": "stream",
     "text": [
      "we use 1317 in total\n"
     ]
    }
   ],
   "source": [
    "# Instantiating language model, english\n",
    "nlp = spacy.load(\"en_core_web_sm\")\n",
    "\n",
    "# Adding my_stopwords to spacy stopwords\n",
    "nlp.Defaults.stop_words = nlp.Defaults.stop_words.union(my_stopwords)\n",
    "\n",
    "# Checking new size of stopwords\n",
    "print(f'we use {len(nlp.Defaults.stop_words)} in total.')"
   ]
  },
  {
   "cell_type": "code",
   "execution_count": 316,
   "metadata": {},
   "outputs": [],
   "source": [
    "def clean(text,tokenize,strict, **kwargs):\n",
    "    \"\"\"\n",
    "    Returns a dictionnary with keys 'text' or 'tokens', where\n",
    "    'tokens' corresponds tothe list of lemmatized tokens from\n",
    "    the string text. Ommiting stopwords and punctuation, and the text is\n",
    "    the joint text.\n",
    "\n",
    "    Parameters:\n",
    "        - text: str\n",
    "        - tokenize: bool\n",
    "            If True returns list of tokens, if False returns string.\n",
    "        - strict: bool\n",
    "            If true only keeps nouns\n",
    "    \"\"\"\n",
    "\n",
    "\n",
    "    # Removing <code>some code</code>\n",
    "    clean_txt = remove_code(text)\n",
    "\n",
    "    # Removing HTML tags\n",
    "    soup = BeautifulSoup(clean_txt, features='html.parser')\n",
    "    clean_txt = soup.get_text()\n",
    "\n",
    "    # Removing new line character: \\n\n",
    "    clean_txt = clean_txt.replace('\\n', ' ')\n",
    "\n",
    "    # Removing unicode characters\n",
    "    clean_txt = clean_txt.encode(\"ascii\", \"ignore\").decode()\n",
    "    \n",
    "    # Removing digits\n",
    "    clean_txt = ''.join(char for char in clean_txt if not char.isdigit())\n",
    "\n",
    "    # Replacing 'c ++' and 'c #' for 'c++' and 'c#'\n",
    "    clean_txt = clean_txt.replace('c ++', 'c++')\n",
    "    clean_txt = clean_txt.replace('c #', 'c#')\n",
    "\n",
    "    # Adding special case rule\n",
    "    special_case = [{ORTH: \"c#\"}] \n",
    "    nlp.tokenizer.add_special_case(\"c#\", special_case)\n",
    "    \n",
    "    # Tokenize with spacy\n",
    "    doc = nlp(clean_txt)\n",
    "\n",
    "    # Tokenize properties\n",
    "    if strict == True:\n",
    "        tokens = [token.lemma_.lower() for token in doc\n",
    "                    if token.pos_ in ['NOUN', 'PROPN'] and\n",
    "                        (not (token.is_stop or \n",
    "                              token.is_punct or\n",
    "                              token.is_space\n",
    "                              )\n",
    "                        )\n",
    "                 ]    \n",
    "    else:\n",
    "        tokens = [token.lemma_.lower() for token in doc\n",
    "                    if not (token.is_stop or \n",
    "                            token.is_punct or\n",
    "                            token.is_space\n",
    "                            )\n",
    "                 ]\n",
    "\n",
    "    clean_txt = ' '.join(tokens)\n",
    "    \n",
    "    # Ask if return text or tokens\n",
    "    if tokenize == True:\n",
    "        result = tokens\n",
    "    else:\n",
    "        result = clean_txt\n",
    "\n",
    "    # Option for list of entities in output\n",
    "    if 'ent' in kwargs:\n",
    "        result = {'output':result, 'ents': doc.ents}\n",
    "\n",
    "    return result"
   ]
  },
  {
   "cell_type": "code",
   "execution_count": 318,
   "metadata": {},
   "outputs": [
    {
     "data": {
      "text/plain": [
       "'study c++ c# c# love .net'"
      ]
     },
     "execution_count": 318,
     "metadata": {},
     "output_type": "execute_result"
    }
   ],
   "source": [
    "clean(\"Hi i'm currently studying c++, c#, sometimes c # and i love .net\", tokenize=False, strict=False)"
   ]
  },
  {
   "attachments": {},
   "cell_type": "markdown",
   "metadata": {},
   "source": [
    "Let us test this function with two examples:\n",
    "\n",
    "**Example 1:**"
   ]
  },
  {
   "cell_type": "code",
   "execution_count": 88,
   "metadata": {},
   "outputs": [
    {
     "data": {
      "text/plain": [
       "\"<p>I've noticed that a few Wordpress blogs have query statistics present in their footer that simply state the number of queries and the total time required to process them for the particular page, reading something like:</p>\\n\\n<blockquote>\\n  <p>23 queries. 0.448 seconds</p>\\n</blockquote>\\n\\n<p>I was wondering how this is accomplished.  Is it through the use of a particular Wordpress plug-in or perhaps from using some particular php function in the page's code?</p>\\n\""
      ]
     },
     "execution_count": 88,
     "metadata": {},
     "output_type": "execute_result"
    }
   ],
   "source": [
    "# Text for example\n",
    "text_ex = df.loc[37,'Body']\n",
    "text_ex"
   ]
  },
  {
   "cell_type": "code",
   "execution_count": 77,
   "metadata": {},
   "outputs": [
    {
     "data": {
      "text/plain": [
       "'notice wordpress blog query statistic present footer simply state number total time require process particular page read like second wonder accomplish use plug php function code'"
      ]
     },
     "execution_count": 77,
     "metadata": {},
     "output_type": "execute_result"
    }
   ],
   "source": [
    "clean(text_ex, tokenize=False, strict=False)"
   ]
  },
  {
   "cell_type": "code",
   "execution_count": 78,
   "metadata": {},
   "outputs": [
    {
     "name": "stdout",
     "output_type": "stream",
     "text": [
      "{'notice': 'VERB', 'wordpress': 'ADJ', 'blog': 'NOUN', 'query': 'NOUN', 'statistic': 'NOUN', 'present': 'ADJ', 'footer': 'NOUN', 'simply': 'ADV', 'state': 'VERB', 'number': 'NOUN', 'total': 'ADJ', 'time': 'NOUN', 'require': 'VERB', 'process': 'VERB', 'particular': 'ADJ', 'page': 'NOUN', 'read': 'VERB', 'like': 'ADP', 'second': 'NOUN', 'wonder': 'VERB', 'accomplish': 'VERB', 'use': 'NOUN', 'plug': 'NOUN', 'php': 'NOUN', 'function': 'NOUN', 'code': 'NOUN'}\n"
     ]
    }
   ],
   "source": [
    "print(clean(text_ex, tokenize=True, strict=False))"
   ]
  },
  {
   "attachments": {},
   "cell_type": "markdown",
   "metadata": {},
   "source": [
    "Tokens:"
   ]
  },
  {
   "cell_type": "code",
   "execution_count": 79,
   "metadata": {},
   "outputs": [
    {
     "data": {
      "text/plain": [
       "dict_keys(['notice', 'wordpress', 'blog', 'query', 'statistic', 'present', 'footer', 'simply', 'state', 'number', 'total', 'time', 'require', 'process', 'particular', 'page', 'read', 'like', 'second', 'wonder', 'accomplish', 'use', 'plug', 'php', 'function', 'code'])"
      ]
     },
     "execution_count": 79,
     "metadata": {},
     "output_type": "execute_result"
    }
   ],
   "source": [
    "clean(text_ex, tokenize=True, strict=False).keys()"
   ]
  },
  {
   "attachments": {},
   "cell_type": "markdown",
   "metadata": {},
   "source": [
    "Using the `strict=True` condition"
   ]
  },
  {
   "cell_type": "code",
   "execution_count": 84,
   "metadata": {},
   "outputs": [
    {
     "data": {
      "text/plain": [
       "'blog query statistic footer number time page second use plug php function code'"
      ]
     },
     "execution_count": 84,
     "metadata": {},
     "output_type": "execute_result"
    }
   ],
   "source": [
    "clean(text_ex, tokenize=False, strict=True)"
   ]
  },
  {
   "cell_type": "code",
   "execution_count": 86,
   "metadata": {},
   "outputs": [
    {
     "name": "stdout",
     "output_type": "stream",
     "text": [
      "{'blog': 'NOUN', 'query': 'NOUN', 'statistic': 'NOUN', 'footer': 'NOUN', 'number': 'NOUN', 'time': 'NOUN', 'page': 'NOUN', 'second': 'NOUN', 'use': 'NOUN', 'plug': 'NOUN', 'php': 'NOUN', 'function': 'NOUN', 'code': 'NOUN'}\n"
     ]
    }
   ],
   "source": [
    "print(clean(text_ex, tokenize=True, strict=True))"
   ]
  },
  {
   "cell_type": "code",
   "execution_count": 87,
   "metadata": {},
   "outputs": [
    {
     "data": {
      "text/plain": [
       "dict_keys(['blog', 'query', 'statistic', 'footer', 'number', 'time', 'page', 'second', 'use', 'plug', 'php', 'function', 'code'])"
      ]
     },
     "execution_count": 87,
     "metadata": {},
     "output_type": "execute_result"
    }
   ],
   "source": [
    "clean(text_ex, tokenize=True, strict=True).keys()"
   ]
  },
  {
   "attachments": {},
   "cell_type": "markdown",
   "metadata": {},
   "source": [
    "**Example 2:**"
   ]
  },
  {
   "cell_type": "code",
   "execution_count": 89,
   "metadata": {},
   "outputs": [
    {
     "data": {
      "text/plain": [
       "'<p>I\\'m learning Scala with the aim of writing agent based simulations using actor concurrency.  I currently know very little about OpenCL, and before I dive in can anyone tell me if it is likely to be appropriate/compatible with agent based simulations?  </p>\\n\\n<p>If so, then <a href=\"http://ochafik.free.fr/blog/?p=207\" rel=\"nofollow noreferrer\">ScalaCL</a> looks very attractive.</p>\\n'"
      ]
     },
     "execution_count": 89,
     "metadata": {},
     "output_type": "execute_result"
    }
   ],
   "source": [
    "# Sample text\n",
    "sample_text = df.loc[10787,'Body']\n",
    "sample_text"
   ]
  },
  {
   "cell_type": "code",
   "execution_count": 93,
   "metadata": {},
   "outputs": [
    {
     "data": {
      "text/plain": [
       "'learn scala aim write agent base simulation actor concurrency currently know little opencl dive tell likely appropriate compatible scalacl look attractive'"
      ]
     },
     "execution_count": 93,
     "metadata": {},
     "output_type": "execute_result"
    }
   ],
   "source": [
    "clean(sample_text, tokenize=False, strict=False)"
   ]
  },
  {
   "cell_type": "code",
   "execution_count": 94,
   "metadata": {},
   "outputs": [
    {
     "name": "stdout",
     "output_type": "stream",
     "text": [
      "{'learn': 'VERB', 'scala': 'PROPN', 'aim': 'NOUN', 'write': 'VERB', 'agent': 'NOUN', 'base': 'VERB', 'simulation': 'NOUN', 'actor': 'NOUN', 'concurrency': 'NOUN', 'currently': 'ADV', 'know': 'VERB', 'little': 'ADJ', 'opencl': 'PROPN', 'dive': 'VERB', 'tell': 'VERB', 'likely': 'ADJ', 'appropriate': 'ADJ', 'compatible': 'ADJ', 'scalacl': 'NOUN', 'look': 'VERB', 'attractive': 'ADJ'}\n"
     ]
    }
   ],
   "source": [
    "print(clean(sample_text, tokenize=True, strict=False))"
   ]
  },
  {
   "attachments": {},
   "cell_type": "markdown",
   "metadata": {},
   "source": [
    "Tokens:"
   ]
  },
  {
   "cell_type": "code",
   "execution_count": 95,
   "metadata": {},
   "outputs": [
    {
     "data": {
      "text/plain": [
       "dict_keys(['learn', 'scala', 'aim', 'write', 'agent', 'base', 'simulation', 'actor', 'concurrency', 'currently', 'know', 'little', 'opencl', 'dive', 'tell', 'likely', 'appropriate', 'compatible', 'scalacl', 'look', 'attractive'])"
      ]
     },
     "execution_count": 95,
     "metadata": {},
     "output_type": "execute_result"
    }
   ],
   "source": [
    "clean(sample_text, tokenize=True, strict=False).keys()"
   ]
  },
  {
   "attachments": {},
   "cell_type": "markdown",
   "metadata": {},
   "source": [
    "Using the `strict=True` condition"
   ]
  },
  {
   "cell_type": "code",
   "execution_count": 96,
   "metadata": {},
   "outputs": [
    {
     "data": {
      "text/plain": [
       "'scala aim agent simulation actor concurrency opencl scalacl'"
      ]
     },
     "execution_count": 96,
     "metadata": {},
     "output_type": "execute_result"
    }
   ],
   "source": [
    "clean(sample_text, tokenize=False, strict=True)"
   ]
  },
  {
   "cell_type": "code",
   "execution_count": 97,
   "metadata": {},
   "outputs": [
    {
     "name": "stdout",
     "output_type": "stream",
     "text": [
      "{'scala': 'PROPN', 'aim': 'NOUN', 'agent': 'NOUN', 'simulation': 'NOUN', 'actor': 'NOUN', 'concurrency': 'NOUN', 'opencl': 'PROPN', 'scalacl': 'NOUN'}\n"
     ]
    }
   ],
   "source": [
    "print(clean(sample_text, tokenize=True, strict=True))"
   ]
  },
  {
   "cell_type": "code",
   "execution_count": 98,
   "metadata": {},
   "outputs": [
    {
     "data": {
      "text/plain": [
       "dict_keys(['scala', 'aim', 'agent', 'simulation', 'actor', 'concurrency', 'opencl', 'scalacl'])"
      ]
     },
     "execution_count": 98,
     "metadata": {},
     "output_type": "execute_result"
    }
   ],
   "source": [
    "clean(sample_text, tokenize=True, strict=True).keys()"
   ]
  },
  {
   "attachments": {},
   "cell_type": "markdown",
   "metadata": {},
   "source": [
    "Entities: (NER)"
   ]
  },
  {
   "cell_type": "code",
   "execution_count": 92,
   "metadata": {},
   "outputs": [
    {
     "data": {
      "text/plain": [
       "(Scala,)"
      ]
     },
     "execution_count": 92,
     "metadata": {},
     "output_type": "execute_result"
    }
   ],
   "source": [
    "clean(sample_text, tokenize=True, ent=True, strict=False)['ents']"
   ]
  },
  {
   "attachments": {},
   "cell_type": "markdown",
   "metadata": {},
   "source": [
    "**Example 3** An example with code on the body"
   ]
  },
  {
   "cell_type": "code",
   "execution_count": 324,
   "metadata": {},
   "outputs": [
    {
     "data": {
      "text/plain": [
       "'<p>I\\'m using Odoo 8 version.</p>\\n\\n<p>I have created a new model called <em>enquiry_customer_date</em></p>\\n\\n<p>In that model, I have set following four fields. </p>\\n\\n<ul>\\n<li>partner_id (many2one), </li>\\n<li>enquiry_date (date),</li>\\n<li>file_name (char) and</li>\\n<li>excel_file (binary)</li>\\n</ul>\\n\\n<p>I have given mention model one2many relationship with <em>res.partner</em> model</p>\\n\\n<p>I have used below code for display records.</p>\\n\\n<pre><code>&lt;field name=\"enquiry_from_customer_ids\"&gt;\\n    &lt;tree string=\"Enquiry Lines\"&gt;\\n        &lt;field name=\"enquiry_date\"/&gt;\\n        &lt;field name=\"file_name\" invisible=\"1\"/&gt;\\n        &lt;field name=\"excel_file\" filename=\"file_name\"/&gt;\\n    &lt;/tree&gt;    \\n&lt;/field&gt;\\n</code></pre>\\n\\n<p>This will display correct file name in list view.</p>\\n\\n<p><strong>Face Problem:</strong></p>\\n\\n<p>When I download link, it stores with file name = base64 with <em>.bin</em> extension.</p>\\n\\n<p><strong>Question</strong>:</p>\\n\\n<p>How to get working download link same as uploaded file name with extension in <em>one2many</em> field?</p>\\n\\n<p><strong>UPDATED</strong></p>\\n\\n<p>I have tried with @danidee answer. </p>\\n\\n<p>System configuration parameter:</p>\\n\\n<p><a href=\"https://i.stack.imgur.com/Vdha2.png\" rel=\"nofollow noreferrer\"><img src=\"https://i.stack.imgur.com/Vdha2.png\" alt=\"System configuration parameter\"></a></p>\\n\\n<p>Treeview/Listview one2many field</p>\\n\\n<p><a href=\"https://i.stack.imgur.com/k26Hj.png\" rel=\"nofollow noreferrer\"><img src=\"https://i.stack.imgur.com/k26Hj.png\" alt=\"Treeview/Listview one2many field\"></a></p>\\n\\n<p>OUTPUT:</p>\\n\\n<p><a href=\"https://i.stack.imgur.com/90ICB.png\" rel=\"nofollow noreferrer\"><img src=\"https://i.stack.imgur.com/90ICB.png\" alt=\"enter image description here\"></a></p>\\n\\n<p>Expected Output:</p>\\n\\n<p>File should be downloaded with <em>\"Openerp_Customization_Needed.txt\"</em></p>\\n'"
      ]
     },
     "execution_count": 324,
     "metadata": {},
     "output_type": "execute_result"
    }
   ],
   "source": [
    "sample_text = df.loc[37242063, 'Body']\n",
    "sample_text"
   ]
  },
  {
   "cell_type": "code",
   "execution_count": 325,
   "metadata": {},
   "outputs": [
    {
     "data": {
      "text/plain": [
       "'odoo version create model call enquiry_customer_date model set field partner_id manyone enquiry_date file_name char excel_file binary mention model onemany relationship res.partner model code display record display correct file list view download link store file = base .bin extension question download link uploaded file extension onemany field update @danidee answer configuration parameter treeview listview onemany field output expect output file download openerp_customization_needed.txt'"
      ]
     },
     "execution_count": 325,
     "metadata": {},
     "output_type": "execute_result"
    }
   ],
   "source": [
    "clean(sample_text, tokenize=False,strict=False)"
   ]
  },
  {
   "cell_type": "code",
   "execution_count": 327,
   "metadata": {},
   "outputs": [
    {
     "data": {
      "text/plain": [
       "'odoo version model enquiry_customer_date model field partner_id manyone enquiry_date file_name char binary mention model onemany relationship res.partner model code display record file list view link file = base .bin extension question download link file extension onemany field @danidee answer configuration parameter treeview listview onemany field output output file openerp_customization_needed.txt'"
      ]
     },
     "execution_count": 327,
     "metadata": {},
     "output_type": "execute_result"
    }
   ],
   "source": [
    "clean(sample_text, tokenize=False,strict=True)"
   ]
  },
  {
   "cell_type": "code",
   "execution_count": 88,
   "metadata": {},
   "outputs": [
    {
     "data": {
      "text/plain": [
       "'<p>I have a page which does AJAX validation of an email before continuing on to the next page, using the HTML5 setCustomValidity() method [using the webshims library for older browsers].</p>\\n\\n<p>For this to work, I set the async option to false in the $.ajax() call to make it synchronous, blocking the page pending the AJAX response, as otherwise the form submits before the ajax call returns, rendering the validation ineffectual.</p>\\n\\n<pre><code>&lt;script&gt;\\n  function validateEmailRegistered(input) {\\n    if (input.setCustomValidity === undefined) return;\\n    var err = \\'Email address not found\\';\\n    $.ajax({\\n      url: \\'email-is-registered.php\\', \\n      data: { email: input.value }, \\n      async: false, \\n      success: function(data) {\\n        var ok = data==\\'true\\';\\n        input.setCustomValidity(ok ? \\'\\' : err)\\n      }\\n    });\\n  }\\n&lt;/script&gt;\\n\\n&lt;form method=\"get\" action=\"nextpage.php\"&gt;\\n  &lt;input name=\"email\" id=\"email\" type=\"email\" required\\n    onChange=\"validateEmailRegistered(this)\"&gt;\\n  &lt;button type=\"submit\"&gt;go&lt;/button&gt;\\n&lt;form&gt;\\n</code></pre>\\n\\n<p>I see that the async option is to be deprecated as of jQuery 1.8.</p>\\n\\n<p>How can I achieve this blocking action without the async option?</p>\\n'"
      ]
     },
     "execution_count": 88,
     "metadata": {},
     "output_type": "execute_result"
    }
   ],
   "source": [
    "sample_text = df.loc[30799,'Body']\n",
    "sample_text"
   ]
  },
  {
   "cell_type": "code",
   "execution_count": 89,
   "metadata": {},
   "outputs": [
    {
     "data": {
      "text/plain": [
       "'page validation email html setcustomvalidity method webshims library browser async option false .ajax ajax response form return jquery action'"
      ]
     },
     "execution_count": 89,
     "metadata": {},
     "output_type": "execute_result"
    }
   ],
   "source": [
    "clean(sample_text, tokenize=False,strict=True)"
   ]
  },
  {
   "cell_type": "code",
   "execution_count": 274,
   "metadata": {},
   "outputs": [
    {
     "data": {
      "text/plain": [
       "'hi currently study c++ c love .net'"
      ]
     },
     "execution_count": 274,
     "metadata": {},
     "output_type": "execute_result"
    }
   ],
   "source": [
    "clean(\"Hi i'm currently studying c++, c# and i love .net\", tokenize=False, strict=False)"
   ]
  },
  {
   "cell_type": "code",
   "execution_count": 268,
   "metadata": {},
   "outputs": [],
   "source": [
    "doc = nlp(\"Hi i'm currently studyinc c++, c# and i love .net\")"
   ]
  },
  {
   "cell_type": "code",
   "execution_count": 269,
   "metadata": {},
   "outputs": [
    {
     "name": "stdout",
     "output_type": "stream",
     "text": [
      "Hi False\n",
      "i False\n",
      "'m False\n",
      "currently False\n",
      "studyinc False\n",
      "c++ False\n",
      ", True\n",
      "c False\n",
      "# True\n",
      "and False\n",
      "i False\n",
      "love False\n",
      ".net False\n"
     ]
    }
   ],
   "source": [
    "for token in doc:\n",
    "    print(token, token.is_punct)"
   ]
  },
  {
   "cell_type": "code",
   "execution_count": 272,
   "metadata": {},
   "outputs": [],
   "source": [
    "# Construction 1\n",
    "doc = nlp(\"Some text\")\n",
    "\n",
    "# Construction 2\n",
    "from spacy.tokens import Doc\n",
    "\n",
    "words = [\"hello\", \"world\", \"!\"]\n",
    "spaces = [True, False, False]\n",
    "doc = Doc(nlp.vocab, words=words, spaces=spaces)"
   ]
  },
  {
   "cell_type": "code",
   "execution_count": 273,
   "metadata": {},
   "outputs": [
    {
     "name": "stdout",
     "output_type": "stream",
     "text": [
      "hello\n",
      "world\n",
      "!\n"
     ]
    }
   ],
   "source": [
    "for token in doc:\n",
    "    print(token)"
   ]
  },
  {
   "attachments": {},
   "cell_type": "markdown",
   "metadata": {},
   "source": [
    "Adding clean column for title, body and tags"
   ]
  },
  {
   "cell_type": "code",
   "execution_count": 77,
   "metadata": {},
   "outputs": [
    {
     "data": {
      "text/html": [
       "<div>\n",
       "<style scoped>\n",
       "    .dataframe tbody tr th:only-of-type {\n",
       "        vertical-align: middle;\n",
       "    }\n",
       "\n",
       "    .dataframe tbody tr th {\n",
       "        vertical-align: top;\n",
       "    }\n",
       "\n",
       "    .dataframe thead th {\n",
       "        text-align: right;\n",
       "    }\n",
       "</style>\n",
       "<table border=\"1\" class=\"dataframe\">\n",
       "  <thead>\n",
       "    <tr style=\"text-align: right;\">\n",
       "      <th></th>\n",
       "      <th>Title</th>\n",
       "      <th>Body</th>\n",
       "      <th>Id</th>\n",
       "      <th>Score</th>\n",
       "      <th>ViewCount</th>\n",
       "      <th>AnswerCount</th>\n",
       "      <th>nb_tags</th>\n",
       "      <th>clean_Tags</th>\n",
       "      <th>popular_tags</th>\n",
       "    </tr>\n",
       "  </thead>\n",
       "  <tbody>\n",
       "    <tr>\n",
       "      <th>0</th>\n",
       "      <td>Multithreading in a stateless session bean?</td>\n",
       "      <td>&lt;p&gt;The EJB 3.0 specification does not allow a ...</td>\n",
       "      <td>3816286</td>\n",
       "      <td>9</td>\n",
       "      <td>13503</td>\n",
       "      <td>4</td>\n",
       "      <td>5</td>\n",
       "      <td>[java, multithreading, jakarta-ee, ejb-3.0, ejb]</td>\n",
       "      <td>[java, multithreading]</td>\n",
       "    </tr>\n",
       "    <tr>\n",
       "      <th>1</th>\n",
       "      <td>base64 JSON encoded strings in nodejs</td>\n",
       "      <td>&lt;p&gt;How do I create a base64 JSON encoded strin...</td>\n",
       "      <td>22515180</td>\n",
       "      <td>14</td>\n",
       "      <td>23710</td>\n",
       "      <td>3</td>\n",
       "      <td>5</td>\n",
       "      <td>[javascript, json, node.js, base64, buffer]</td>\n",
       "      <td>[javascript, json, node.js]</td>\n",
       "    </tr>\n",
       "    <tr>\n",
       "      <th>2</th>\n",
       "      <td>How do you get a directory listing in C?</td>\n",
       "      <td>&lt;p&gt;How do you scan a directory for folders and...</td>\n",
       "      <td>12489</td>\n",
       "      <td>69</td>\n",
       "      <td>142856</td>\n",
       "      <td>9</td>\n",
       "      <td>5</td>\n",
       "      <td>[c, file, directory, cross-platform, common-ta...</td>\n",
       "      <td>[c]</td>\n",
       "    </tr>\n",
       "  </tbody>\n",
       "</table>\n",
       "</div>"
      ],
      "text/plain": [
       "                                         Title  \\\n",
       "0  Multithreading in a stateless session bean?   \n",
       "1        base64 JSON encoded strings in nodejs   \n",
       "2     How do you get a directory listing in C?   \n",
       "\n",
       "                                                Body        Id  Score  \\\n",
       "0  <p>The EJB 3.0 specification does not allow a ...   3816286      9   \n",
       "1  <p>How do I create a base64 JSON encoded strin...  22515180     14   \n",
       "2  <p>How do you scan a directory for folders and...     12489     69   \n",
       "\n",
       "   ViewCount  AnswerCount  nb_tags  \\\n",
       "0      13503            4        5   \n",
       "1      23710            3        5   \n",
       "2     142856            9        5   \n",
       "\n",
       "                                          clean_Tags  \\\n",
       "0   [java, multithreading, jakarta-ee, ejb-3.0, ejb]   \n",
       "1        [javascript, json, node.js, base64, buffer]   \n",
       "2  [c, file, directory, cross-platform, common-ta...   \n",
       "\n",
       "                  popular_tags  \n",
       "0       [java, multithreading]  \n",
       "1  [javascript, json, node.js]  \n",
       "2                          [c]  "
      ]
     },
     "execution_count": 77,
     "metadata": {},
     "output_type": "execute_result"
    }
   ],
   "source": [
    "df.head(3)"
   ]
  },
  {
   "cell_type": "code",
   "execution_count": 78,
   "metadata": {},
   "outputs": [
    {
     "name": "stderr",
     "output_type": "stream",
     "text": [
      "/tmp/ipykernel_31045/1036730226.py:1: SettingWithCopyWarning: \n",
      "A value is trying to be set on a copy of a slice from a DataFrame.\n",
      "Try using .loc[row_indexer,col_indexer] = value instead\n",
      "\n",
      "See the caveats in the documentation: https://pandas.pydata.org/pandas-docs/stable/user_guide/indexing.html#returning-a-view-versus-a-copy\n",
      "  df['clean_Title'] = df['Title'].apply(lambda txt:clean(txt, tokenize=False, strict=True))\n"
     ]
    }
   ],
   "source": [
    "df['clean_Title'] = df['Title'].apply(lambda txt:clean(txt, tokenize=False, strict=True))"
   ]
  },
  {
   "cell_type": "code",
   "execution_count": 79,
   "metadata": {},
   "outputs": [
    {
     "data": {
      "text/html": [
       "<div>\n",
       "<style scoped>\n",
       "    .dataframe tbody tr th:only-of-type {\n",
       "        vertical-align: middle;\n",
       "    }\n",
       "\n",
       "    .dataframe tbody tr th {\n",
       "        vertical-align: top;\n",
       "    }\n",
       "\n",
       "    .dataframe thead th {\n",
       "        text-align: right;\n",
       "    }\n",
       "</style>\n",
       "<table border=\"1\" class=\"dataframe\">\n",
       "  <thead>\n",
       "    <tr style=\"text-align: right;\">\n",
       "      <th></th>\n",
       "      <th>Title</th>\n",
       "      <th>Body</th>\n",
       "      <th>Id</th>\n",
       "      <th>Score</th>\n",
       "      <th>ViewCount</th>\n",
       "      <th>AnswerCount</th>\n",
       "      <th>nb_tags</th>\n",
       "      <th>clean_Tags</th>\n",
       "      <th>popular_tags</th>\n",
       "      <th>clean_Title</th>\n",
       "    </tr>\n",
       "  </thead>\n",
       "  <tbody>\n",
       "    <tr>\n",
       "      <th>0</th>\n",
       "      <td>Multithreading in a stateless session bean?</td>\n",
       "      <td>&lt;p&gt;The EJB 3.0 specification does not allow a ...</td>\n",
       "      <td>3816286</td>\n",
       "      <td>9</td>\n",
       "      <td>13503</td>\n",
       "      <td>4</td>\n",
       "      <td>5</td>\n",
       "      <td>[java, multithreading, jakarta-ee, ejb-3.0, ejb]</td>\n",
       "      <td>[java, multithreading]</td>\n",
       "      <td>session bean</td>\n",
       "    </tr>\n",
       "    <tr>\n",
       "      <th>1</th>\n",
       "      <td>base64 JSON encoded strings in nodejs</td>\n",
       "      <td>&lt;p&gt;How do I create a base64 JSON encoded strin...</td>\n",
       "      <td>22515180</td>\n",
       "      <td>14</td>\n",
       "      <td>23710</td>\n",
       "      <td>3</td>\n",
       "      <td>5</td>\n",
       "      <td>[javascript, json, node.js, base64, buffer]</td>\n",
       "      <td>[javascript, json, node.js]</td>\n",
       "      <td>base json string</td>\n",
       "    </tr>\n",
       "    <tr>\n",
       "      <th>2</th>\n",
       "      <td>How do you get a directory listing in C?</td>\n",
       "      <td>&lt;p&gt;How do you scan a directory for folders and...</td>\n",
       "      <td>12489</td>\n",
       "      <td>69</td>\n",
       "      <td>142856</td>\n",
       "      <td>9</td>\n",
       "      <td>5</td>\n",
       "      <td>[c, file, directory, cross-platform, common-ta...</td>\n",
       "      <td>[c]</td>\n",
       "      <td>directory listing c</td>\n",
       "    </tr>\n",
       "    <tr>\n",
       "      <th>3</th>\n",
       "      <td>Link error: \"Cannot find -ltinfo\" on Ubuntu 12...</td>\n",
       "      <td>&lt;p&gt;I get the following link error when I'm com...</td>\n",
       "      <td>21137879</td>\n",
       "      <td>21</td>\n",
       "      <td>17090</td>\n",
       "      <td>2</td>\n",
       "      <td>5</td>\n",
       "      <td>[c++, ubuntu, arm, static-libraries, ubuntu-12...</td>\n",
       "      <td>[c++]</td>\n",
       "      <td>link error ubuntu -bit arm processor</td>\n",
       "    </tr>\n",
       "    <tr>\n",
       "      <th>4</th>\n",
       "      <td>Android In App Updates - Not able to detect th...</td>\n",
       "      <td>&lt;p&gt;Some log statements are thrown when we use,...</td>\n",
       "      <td>56581300</td>\n",
       "      <td>9</td>\n",
       "      <td>5122</td>\n",
       "      <td>3</td>\n",
       "      <td>5</td>\n",
       "      <td>[android, google-play, google-play-services, a...</td>\n",
       "      <td>[android]</td>\n",
       "      <td>android app updates update appupdateinfo</td>\n",
       "    </tr>\n",
       "  </tbody>\n",
       "</table>\n",
       "</div>"
      ],
      "text/plain": [
       "                                               Title  \\\n",
       "0        Multithreading in a stateless session bean?   \n",
       "1              base64 JSON encoded strings in nodejs   \n",
       "2           How do you get a directory listing in C?   \n",
       "3  Link error: \"Cannot find -ltinfo\" on Ubuntu 12...   \n",
       "4  Android In App Updates - Not able to detect th...   \n",
       "\n",
       "                                                Body        Id  Score  \\\n",
       "0  <p>The EJB 3.0 specification does not allow a ...   3816286      9   \n",
       "1  <p>How do I create a base64 JSON encoded strin...  22515180     14   \n",
       "2  <p>How do you scan a directory for folders and...     12489     69   \n",
       "3  <p>I get the following link error when I'm com...  21137879     21   \n",
       "4  <p>Some log statements are thrown when we use,...  56581300      9   \n",
       "\n",
       "   ViewCount  AnswerCount  nb_tags  \\\n",
       "0      13503            4        5   \n",
       "1      23710            3        5   \n",
       "2     142856            9        5   \n",
       "3      17090            2        5   \n",
       "4       5122            3        5   \n",
       "\n",
       "                                          clean_Tags  \\\n",
       "0   [java, multithreading, jakarta-ee, ejb-3.0, ejb]   \n",
       "1        [javascript, json, node.js, base64, buffer]   \n",
       "2  [c, file, directory, cross-platform, common-ta...   \n",
       "3  [c++, ubuntu, arm, static-libraries, ubuntu-12...   \n",
       "4  [android, google-play, google-play-services, a...   \n",
       "\n",
       "                  popular_tags                               clean_Title  \n",
       "0       [java, multithreading]                              session bean  \n",
       "1  [javascript, json, node.js]                          base json string  \n",
       "2                          [c]                       directory listing c  \n",
       "3                        [c++]      link error ubuntu -bit arm processor  \n",
       "4                    [android]  android app updates update appupdateinfo  "
      ]
     },
     "execution_count": 79,
     "metadata": {},
     "output_type": "execute_result"
    }
   ],
   "source": [
    "df.head()"
   ]
  },
  {
   "cell_type": "code",
   "execution_count": 90,
   "metadata": {},
   "outputs": [
    {
     "name": "stderr",
     "output_type": "stream",
     "text": [
      "/tmp/ipykernel_31045/3792181271.py:1: SettingWithCopyWarning: \n",
      "A value is trying to be set on a copy of a slice from a DataFrame.\n",
      "Try using .loc[row_indexer,col_indexer] = value instead\n",
      "\n",
      "See the caveats in the documentation: https://pandas.pydata.org/pandas-docs/stable/user_guide/indexing.html#returning-a-view-versus-a-copy\n",
      "  df['clean_Body'] = df['Body'].apply(lambda txt:clean(txt, tokenize=False, strict=True))\n"
     ]
    }
   ],
   "source": [
    "df['clean_Body'] = df['Body'].apply(lambda txt:clean(txt, tokenize=False, strict=True))"
   ]
  },
  {
   "cell_type": "code",
   "execution_count": 91,
   "metadata": {},
   "outputs": [
    {
     "data": {
      "text/html": [
       "<div>\n",
       "<style scoped>\n",
       "    .dataframe tbody tr th:only-of-type {\n",
       "        vertical-align: middle;\n",
       "    }\n",
       "\n",
       "    .dataframe tbody tr th {\n",
       "        vertical-align: top;\n",
       "    }\n",
       "\n",
       "    .dataframe thead th {\n",
       "        text-align: right;\n",
       "    }\n",
       "</style>\n",
       "<table border=\"1\" class=\"dataframe\">\n",
       "  <thead>\n",
       "    <tr style=\"text-align: right;\">\n",
       "      <th></th>\n",
       "      <th>Title</th>\n",
       "      <th>Body</th>\n",
       "      <th>Id</th>\n",
       "      <th>Score</th>\n",
       "      <th>ViewCount</th>\n",
       "      <th>AnswerCount</th>\n",
       "      <th>nb_tags</th>\n",
       "      <th>clean_Tags</th>\n",
       "      <th>popular_tags</th>\n",
       "      <th>clean_Title</th>\n",
       "      <th>clean_Body</th>\n",
       "    </tr>\n",
       "  </thead>\n",
       "  <tbody>\n",
       "    <tr>\n",
       "      <th>0</th>\n",
       "      <td>Multithreading in a stateless session bean?</td>\n",
       "      <td>&lt;p&gt;The EJB 3.0 specification does not allow a ...</td>\n",
       "      <td>3816286</td>\n",
       "      <td>9</td>\n",
       "      <td>13503</td>\n",
       "      <td>4</td>\n",
       "      <td>5</td>\n",
       "      <td>[java, multithreading, jakarta-ee, ejb-3.0, ejb]</td>\n",
       "      <td>[java, multithreading]</td>\n",
       "      <td>session bean</td>\n",
       "      <td>ejb specification business method session bean...</td>\n",
       "    </tr>\n",
       "    <tr>\n",
       "      <th>1</th>\n",
       "      <td>base64 JSON encoded strings in nodejs</td>\n",
       "      <td>&lt;p&gt;How do I create a base64 JSON encoded strin...</td>\n",
       "      <td>22515180</td>\n",
       "      <td>14</td>\n",
       "      <td>23710</td>\n",
       "      <td>3</td>\n",
       "      <td>5</td>\n",
       "      <td>[javascript, json, node.js, base64, buffer]</td>\n",
       "      <td>[javascript, json, node.js]</td>\n",
       "      <td>base json string</td>\n",
       "      <td>base json string</td>\n",
       "    </tr>\n",
       "    <tr>\n",
       "      <th>2</th>\n",
       "      <td>How do you get a directory listing in C?</td>\n",
       "      <td>&lt;p&gt;How do you scan a directory for folders and...</td>\n",
       "      <td>12489</td>\n",
       "      <td>69</td>\n",
       "      <td>142856</td>\n",
       "      <td>9</td>\n",
       "      <td>5</td>\n",
       "      <td>[c, file, directory, cross-platform, common-ta...</td>\n",
       "      <td>[c]</td>\n",
       "      <td>directory listing c</td>\n",
       "      <td>directory folder file c platform</td>\n",
       "    </tr>\n",
       "    <tr>\n",
       "      <th>3</th>\n",
       "      <td>Link error: \"Cannot find -ltinfo\" on Ubuntu 12...</td>\n",
       "      <td>&lt;p&gt;I get the following link error when I'm com...</td>\n",
       "      <td>21137879</td>\n",
       "      <td>21</td>\n",
       "      <td>17090</td>\n",
       "      <td>2</td>\n",
       "      <td>5</td>\n",
       "      <td>[c++, ubuntu, arm, static-libraries, ubuntu-12...</td>\n",
       "      <td>[c++]</td>\n",
       "      <td>link error ubuntu -bit arm processor</td>\n",
       "      <td>link error function ncurse ubuntu arm lot hint...</td>\n",
       "    </tr>\n",
       "    <tr>\n",
       "      <th>4</th>\n",
       "      <td>Android In App Updates - Not able to detect th...</td>\n",
       "      <td>&lt;p&gt;Some log statements are thrown when we use,...</td>\n",
       "      <td>56581300</td>\n",
       "      <td>9</td>\n",
       "      <td>5122</td>\n",
       "      <td>3</td>\n",
       "      <td>5</td>\n",
       "      <td>[android, google-play, google-play-services, a...</td>\n",
       "      <td>[android]</td>\n",
       "      <td>android app updates update appupdateinfo</td>\n",
       "      <td>log statement signing key play store facebook ...</td>\n",
       "    </tr>\n",
       "  </tbody>\n",
       "</table>\n",
       "</div>"
      ],
      "text/plain": [
       "                                               Title  \\\n",
       "0        Multithreading in a stateless session bean?   \n",
       "1              base64 JSON encoded strings in nodejs   \n",
       "2           How do you get a directory listing in C?   \n",
       "3  Link error: \"Cannot find -ltinfo\" on Ubuntu 12...   \n",
       "4  Android In App Updates - Not able to detect th...   \n",
       "\n",
       "                                                Body        Id  Score  \\\n",
       "0  <p>The EJB 3.0 specification does not allow a ...   3816286      9   \n",
       "1  <p>How do I create a base64 JSON encoded strin...  22515180     14   \n",
       "2  <p>How do you scan a directory for folders and...     12489     69   \n",
       "3  <p>I get the following link error when I'm com...  21137879     21   \n",
       "4  <p>Some log statements are thrown when we use,...  56581300      9   \n",
       "\n",
       "   ViewCount  AnswerCount  nb_tags  \\\n",
       "0      13503            4        5   \n",
       "1      23710            3        5   \n",
       "2     142856            9        5   \n",
       "3      17090            2        5   \n",
       "4       5122            3        5   \n",
       "\n",
       "                                          clean_Tags  \\\n",
       "0   [java, multithreading, jakarta-ee, ejb-3.0, ejb]   \n",
       "1        [javascript, json, node.js, base64, buffer]   \n",
       "2  [c, file, directory, cross-platform, common-ta...   \n",
       "3  [c++, ubuntu, arm, static-libraries, ubuntu-12...   \n",
       "4  [android, google-play, google-play-services, a...   \n",
       "\n",
       "                  popular_tags                               clean_Title  \\\n",
       "0       [java, multithreading]                              session bean   \n",
       "1  [javascript, json, node.js]                          base json string   \n",
       "2                          [c]                       directory listing c   \n",
       "3                        [c++]      link error ubuntu -bit arm processor   \n",
       "4                    [android]  android app updates update appupdateinfo   \n",
       "\n",
       "                                          clean_Body  \n",
       "0  ejb specification business method session bean...  \n",
       "1                                   base json string  \n",
       "2                   directory folder file c platform  \n",
       "3  link error function ncurse ubuntu arm lot hint...  \n",
       "4  log statement signing key play store facebook ...  "
      ]
     },
     "execution_count": 91,
     "metadata": {},
     "output_type": "execute_result"
    }
   ],
   "source": [
    "df.head()"
   ]
  },
  {
   "cell_type": "code",
   "execution_count": 263,
   "metadata": {},
   "outputs": [
    {
     "data": {
      "text/plain": [
       "<re.Match object; span=(16, 19), match='c++'>"
      ]
     },
     "execution_count": 263,
     "metadata": {},
     "output_type": "execute_result"
    }
   ],
   "source": [
    "import re\n",
    "re.search(re.escape('c++'), 'hola como estan c++')"
   ]
  },
  {
   "cell_type": "code",
   "execution_count": 265,
   "metadata": {},
   "outputs": [
    {
     "data": {
      "text/plain": [
       "['c#',\n",
       " 'java',\n",
       " 'javascript',\n",
       " 'python',\n",
       " 'c++',\n",
       " 'ios',\n",
       " 'android',\n",
       " '.net',\n",
       " 'html',\n",
       " 'php']"
      ]
     },
     "execution_count": 265,
     "metadata": {},
     "output_type": "execute_result"
    }
   ],
   "source": [
    "popular_tags"
   ]
  },
  {
   "cell_type": "code",
   "execution_count": 264,
   "metadata": {},
   "outputs": [
    {
     "data": {
      "text/html": [
       "<div>\n",
       "<style scoped>\n",
       "    .dataframe tbody tr th:only-of-type {\n",
       "        vertical-align: middle;\n",
       "    }\n",
       "\n",
       "    .dataframe tbody tr th {\n",
       "        vertical-align: top;\n",
       "    }\n",
       "\n",
       "    .dataframe thead th {\n",
       "        text-align: right;\n",
       "    }\n",
       "</style>\n",
       "<table border=\"1\" class=\"dataframe\">\n",
       "  <thead>\n",
       "    <tr style=\"text-align: right;\">\n",
       "      <th></th>\n",
       "      <th>Title</th>\n",
       "      <th>Body</th>\n",
       "      <th>Score</th>\n",
       "      <th>ViewCount</th>\n",
       "      <th>AnswerCount</th>\n",
       "      <th>Tags</th>\n",
       "    </tr>\n",
       "    <tr>\n",
       "      <th>Id</th>\n",
       "      <th></th>\n",
       "      <th></th>\n",
       "      <th></th>\n",
       "      <th></th>\n",
       "      <th></th>\n",
       "      <th></th>\n",
       "    </tr>\n",
       "  </thead>\n",
       "  <tbody>\n",
       "    <tr>\n",
       "      <th>100596</th>\n",
       "      <td>Best resources for converting C/C++ dll header...</td>\n",
       "      <td>&lt;p&gt;A rather comprehensive site explaining the ...</td>\n",
       "      <td>15</td>\n",
       "      <td>14446</td>\n",
       "      <td>7</td>\n",
       "      <td>[c++]</td>\n",
       "    </tr>\n",
       "    <tr>\n",
       "      <th>115115</th>\n",
       "      <td>Test Automation with Embedded Hardware</td>\n",
       "      <td>&lt;p&gt;&lt;strong&gt;Has anyone had success automating t...</td>\n",
       "      <td>25</td>\n",
       "      <td>7953</td>\n",
       "      <td>9</td>\n",
       "      <td>[c++]</td>\n",
       "    </tr>\n",
       "    <tr>\n",
       "      <th>169194</th>\n",
       "      <td>How to communicate with an Arduino over its se...</td>\n",
       "      <td>&lt;p&gt;I have an RFID reader connected to an Ardui...</td>\n",
       "      <td>7</td>\n",
       "      <td>11313</td>\n",
       "      <td>4</td>\n",
       "      <td>[c++]</td>\n",
       "    </tr>\n",
       "    <tr>\n",
       "      <th>174612</th>\n",
       "      <td>Cross platform format string for variables of ...</td>\n",
       "      <td>&lt;p&gt;On a cross platform c/c++ project (Win32, L...</td>\n",
       "      <td>31</td>\n",
       "      <td>18063</td>\n",
       "      <td>10</td>\n",
       "      <td>[c++]</td>\n",
       "    </tr>\n",
       "    <tr>\n",
       "      <th>309672</th>\n",
       "      <td>Can I use boost on uclibc linux?</td>\n",
       "      <td>&lt;p&gt;Does anyone have any experience with runnin...</td>\n",
       "      <td>8</td>\n",
       "      <td>4290</td>\n",
       "      <td>5</td>\n",
       "      <td>[c++]</td>\n",
       "    </tr>\n",
       "    <tr>\n",
       "      <th>...</th>\n",
       "      <td>...</td>\n",
       "      <td>...</td>\n",
       "      <td>...</td>\n",
       "      <td>...</td>\n",
       "      <td>...</td>\n",
       "      <td>...</td>\n",
       "    </tr>\n",
       "    <tr>\n",
       "      <th>75005631</th>\n",
       "      <td>What are the actual differences between the pr...</td>\n",
       "      <td>&lt;p&gt;I am trying to create a util for logging.&lt;/...</td>\n",
       "      <td>8</td>\n",
       "      <td>249</td>\n",
       "      <td>1</td>\n",
       "      <td>[ios]</td>\n",
       "    </tr>\n",
       "    <tr>\n",
       "      <th>75082761</th>\n",
       "      <td>The reasoning behind Clang's implementation of...</td>\n",
       "      <td>&lt;p&gt;In &lt;code&gt;libc++&lt;/code&gt;'s implementation of ...</td>\n",
       "      <td>28</td>\n",
       "      <td>1478</td>\n",
       "      <td>1</td>\n",
       "      <td>[c++]</td>\n",
       "    </tr>\n",
       "    <tr>\n",
       "      <th>75202703</th>\n",
       "      <td>thread_local shared_ptr object is causing sigs...</td>\n",
       "      <td>&lt;p&gt;I have a program, which is using &lt;code&gt;thre...</td>\n",
       "      <td>11</td>\n",
       "      <td>129</td>\n",
       "      <td>1</td>\n",
       "      <td>[c++]</td>\n",
       "    </tr>\n",
       "    <tr>\n",
       "      <th>75216821</th>\n",
       "      <td>How can I avoid using #define macros in C++ in...</td>\n",
       "      <td>&lt;p&gt;I would like to remove the reliance of #def...</td>\n",
       "      <td>9</td>\n",
       "      <td>1277</td>\n",
       "      <td>3</td>\n",
       "      <td>[c++]</td>\n",
       "    </tr>\n",
       "    <tr>\n",
       "      <th>75257501</th>\n",
       "      <td>Confusion (or Clang bug?) about incomplete typ...</td>\n",
       "      <td>&lt;p&gt;The C++20 standard &lt;a href=\"https://eel.is/...</td>\n",
       "      <td>6</td>\n",
       "      <td>121</td>\n",
       "      <td>1</td>\n",
       "      <td>[c++]</td>\n",
       "    </tr>\n",
       "  </tbody>\n",
       "</table>\n",
       "<p>480 rows × 6 columns</p>\n",
       "</div>"
      ],
      "text/plain": [
       "                                                      Title  \\\n",
       "Id                                                            \n",
       "100596    Best resources for converting C/C++ dll header...   \n",
       "115115               Test Automation with Embedded Hardware   \n",
       "169194    How to communicate with an Arduino over its se...   \n",
       "174612    Cross platform format string for variables of ...   \n",
       "309672                     Can I use boost on uclibc linux?   \n",
       "...                                                     ...   \n",
       "75005631  What are the actual differences between the pr...   \n",
       "75082761  The reasoning behind Clang's implementation of...   \n",
       "75202703  thread_local shared_ptr object is causing sigs...   \n",
       "75216821  How can I avoid using #define macros in C++ in...   \n",
       "75257501  Confusion (or Clang bug?) about incomplete typ...   \n",
       "\n",
       "                                                       Body  Score  ViewCount  \\\n",
       "Id                                                                              \n",
       "100596    <p>A rather comprehensive site explaining the ...     15      14446   \n",
       "115115    <p><strong>Has anyone had success automating t...     25       7953   \n",
       "169194    <p>I have an RFID reader connected to an Ardui...      7      11313   \n",
       "174612    <p>On a cross platform c/c++ project (Win32, L...     31      18063   \n",
       "309672    <p>Does anyone have any experience with runnin...      8       4290   \n",
       "...                                                     ...    ...        ...   \n",
       "75005631  <p>I am trying to create a util for logging.</...      8        249   \n",
       "75082761  <p>In <code>libc++</code>'s implementation of ...     28       1478   \n",
       "75202703  <p>I have a program, which is using <code>thre...     11        129   \n",
       "75216821  <p>I would like to remove the reliance of #def...      9       1277   \n",
       "75257501  <p>The C++20 standard <a href=\"https://eel.is/...      6        121   \n",
       "\n",
       "          AnswerCount   Tags  \n",
       "Id                            \n",
       "100596              7  [c++]  \n",
       "115115              9  [c++]  \n",
       "169194              4  [c++]  \n",
       "174612             10  [c++]  \n",
       "309672              5  [c++]  \n",
       "...               ...    ...  \n",
       "75005631            1  [ios]  \n",
       "75082761            1  [c++]  \n",
       "75202703            1  [c++]  \n",
       "75216821            3  [c++]  \n",
       "75257501            1  [c++]  \n",
       "\n",
       "[480 rows x 6 columns]"
      ]
     },
     "execution_count": 264,
     "metadata": {},
     "output_type": "execute_result"
    }
   ],
   "source": [
    "df.loc[df['Body'].str.contains(re.escape('c++'))]"
   ]
  },
  {
   "cell_type": "code",
   "execution_count": 92,
   "metadata": {},
   "outputs": [],
   "source": [
    "# Export this sample to work with later\n",
    "path = './data/'\n",
    "filename = 'processed_title_body.csv'\n",
    "\n",
    "df.to_csv(path + filename, index=False)"
   ]
  },
  {
   "attachments": {},
   "cell_type": "markdown",
   "metadata": {},
   "source": [
    "Work with sample of 10 000 questions since I have been having this error that haven't been able to solve:\n",
    "\n",
    "```\n",
    "UnicodeEncodeError: 'utf-8' codec can't encode character '\\ud83d' in position 0: surrogates not allowed\n",
    "```"
   ]
  },
  {
   "cell_type": "code",
   "execution_count": 150,
   "metadata": {},
   "outputs": [],
   "source": [
    "df_popular_tags_sample = df_popular_tags.sample(10000)\n",
    "\n",
    "# Export this sample to work with later\n",
    "path = './data/'\n",
    "filename = 'sample_questions.csv'\n",
    "\n",
    "df_popular_tags_sample.to_csv(path + filename, index=False)"
   ]
  },
  {
   "cell_type": "code",
   "execution_count": null,
   "metadata": {},
   "outputs": [],
   "source": [
    "# Import sample\n",
    "# df_popular_tags_sample = pd.read_csv(path + filename)"
   ]
  },
  {
   "cell_type": "code",
   "execution_count": 93,
   "metadata": {},
   "outputs": [
    {
     "data": {
      "text/html": [
       "<div>\n",
       "<style scoped>\n",
       "    .dataframe tbody tr th:only-of-type {\n",
       "        vertical-align: middle;\n",
       "    }\n",
       "\n",
       "    .dataframe tbody tr th {\n",
       "        vertical-align: top;\n",
       "    }\n",
       "\n",
       "    .dataframe thead th {\n",
       "        text-align: right;\n",
       "    }\n",
       "</style>\n",
       "<table border=\"1\" class=\"dataframe\">\n",
       "  <thead>\n",
       "    <tr style=\"text-align: right;\">\n",
       "      <th></th>\n",
       "      <th>Title</th>\n",
       "      <th>Body</th>\n",
       "      <th>Id</th>\n",
       "      <th>Score</th>\n",
       "      <th>ViewCount</th>\n",
       "      <th>AnswerCount</th>\n",
       "      <th>nb_tags</th>\n",
       "      <th>clean_Tags</th>\n",
       "      <th>popular_tags</th>\n",
       "      <th>clean_Title</th>\n",
       "      <th>clean_Body</th>\n",
       "    </tr>\n",
       "  </thead>\n",
       "  <tbody>\n",
       "    <tr>\n",
       "      <th>0</th>\n",
       "      <td>Multithreading in a stateless session bean?</td>\n",
       "      <td>&lt;p&gt;The EJB 3.0 specification does not allow a ...</td>\n",
       "      <td>3816286</td>\n",
       "      <td>9</td>\n",
       "      <td>13503</td>\n",
       "      <td>4</td>\n",
       "      <td>5</td>\n",
       "      <td>[java, multithreading, jakarta-ee, ejb-3.0, ejb]</td>\n",
       "      <td>[java, multithreading]</td>\n",
       "      <td>session bean</td>\n",
       "      <td>ejb specification business method session bean...</td>\n",
       "    </tr>\n",
       "    <tr>\n",
       "      <th>1</th>\n",
       "      <td>base64 JSON encoded strings in nodejs</td>\n",
       "      <td>&lt;p&gt;How do I create a base64 JSON encoded strin...</td>\n",
       "      <td>22515180</td>\n",
       "      <td>14</td>\n",
       "      <td>23710</td>\n",
       "      <td>3</td>\n",
       "      <td>5</td>\n",
       "      <td>[javascript, json, node.js, base64, buffer]</td>\n",
       "      <td>[javascript, json, node.js]</td>\n",
       "      <td>base json string</td>\n",
       "      <td>base json string</td>\n",
       "    </tr>\n",
       "    <tr>\n",
       "      <th>2</th>\n",
       "      <td>How do you get a directory listing in C?</td>\n",
       "      <td>&lt;p&gt;How do you scan a directory for folders and...</td>\n",
       "      <td>12489</td>\n",
       "      <td>69</td>\n",
       "      <td>142856</td>\n",
       "      <td>9</td>\n",
       "      <td>5</td>\n",
       "      <td>[c, file, directory, cross-platform, common-ta...</td>\n",
       "      <td>[c]</td>\n",
       "      <td>directory listing c</td>\n",
       "      <td>directory folder file c platform</td>\n",
       "    </tr>\n",
       "  </tbody>\n",
       "</table>\n",
       "</div>"
      ],
      "text/plain": [
       "                                         Title  \\\n",
       "0  Multithreading in a stateless session bean?   \n",
       "1        base64 JSON encoded strings in nodejs   \n",
       "2     How do you get a directory listing in C?   \n",
       "\n",
       "                                                Body        Id  Score  \\\n",
       "0  <p>The EJB 3.0 specification does not allow a ...   3816286      9   \n",
       "1  <p>How do I create a base64 JSON encoded strin...  22515180     14   \n",
       "2  <p>How do you scan a directory for folders and...     12489     69   \n",
       "\n",
       "   ViewCount  AnswerCount  nb_tags  \\\n",
       "0      13503            4        5   \n",
       "1      23710            3        5   \n",
       "2     142856            9        5   \n",
       "\n",
       "                                          clean_Tags  \\\n",
       "0   [java, multithreading, jakarta-ee, ejb-3.0, ejb]   \n",
       "1        [javascript, json, node.js, base64, buffer]   \n",
       "2  [c, file, directory, cross-platform, common-ta...   \n",
       "\n",
       "                  popular_tags          clean_Title  \\\n",
       "0       [java, multithreading]         session bean   \n",
       "1  [javascript, json, node.js]     base json string   \n",
       "2                          [c]  directory listing c   \n",
       "\n",
       "                                          clean_Body  \n",
       "0  ejb specification business method session bean...  \n",
       "1                                   base json string  \n",
       "2                   directory folder file c platform  "
      ]
     },
     "execution_count": 93,
     "metadata": {},
     "output_type": "execute_result"
    }
   ],
   "source": [
    "df.head(3)"
   ]
  },
  {
   "cell_type": "code",
   "execution_count": 94,
   "metadata": {},
   "outputs": [
    {
     "data": {
      "text/plain": [
       "(41193, 11)"
      ]
     },
     "execution_count": 94,
     "metadata": {},
     "output_type": "execute_result"
    }
   ],
   "source": [
    "df.shape"
   ]
  },
  {
   "attachments": {},
   "cell_type": "markdown",
   "metadata": {},
   "source": [
    "# Bag of words\n",
    "\n",
    "## Count vectorizer"
   ]
  },
  {
   "cell_type": "code",
   "execution_count": 116,
   "metadata": {},
   "outputs": [],
   "source": [
    "from sklearn.feature_extraction.text import CountVectorizer\n",
    "\n",
    "# Instantiate the vectorizer\n",
    "\n",
    "cv = CountVectorizer(min_df=0.001)\n",
    "\n",
    "# Vectorize the processed text\n",
    "X = cv.fit_transform(df.clean_Title)"
   ]
  },
  {
   "cell_type": "code",
   "execution_count": 117,
   "metadata": {},
   "outputs": [
    {
     "data": {
      "text/plain": [
       "(41193, 639)"
      ]
     },
     "execution_count": 117,
     "metadata": {},
     "output_type": "execute_result"
    }
   ],
   "source": [
    "X.shape"
   ]
  },
  {
   "cell_type": "code",
   "execution_count": 118,
   "metadata": {},
   "outputs": [
    {
     "data": {
      "text/plain": [
       "639"
      ]
     },
     "execution_count": 118,
     "metadata": {},
     "output_type": "execute_result"
    }
   ],
   "source": [
    "len(cv.get_feature_names_out())"
   ]
  },
  {
   "cell_type": "code",
   "execution_count": 119,
   "metadata": {},
   "outputs": [
    {
     "data": {
      "text/plain": [
       "array(['access', 'account', 'action', 'activerecord', 'activity',\n",
       "       'address', 'admin', 'ajax', 'algorithm', 'alternative', 'amazon',\n",
       "       'android', 'angular', 'angularjs', 'animation', 'annotation',\n",
       "       'apache', 'api', 'app', 'apple', 'application', 'arc',\n",
       "       'architecture', 'area', 'argument', 'arm', 'array', 'asp',\n",
       "       'assembly', 'asset', 'async', 'attribute', 'audio', 'auth',\n",
       "       'authentication', 'authorization', 'auto', 'aws', 'azure',\n",
       "       'background', 'bar', 'base', 'bash', 'batch', 'bean', 'behavior',\n",
       "       'behaviour', 'binary', 'binding', 'bit'], dtype=object)"
      ]
     },
     "execution_count": 119,
     "metadata": {},
     "output_type": "execute_result"
    }
   ],
   "source": [
    "cv.get_feature_names_out()[:50]"
   ]
  },
  {
   "cell_type": "code",
   "execution_count": 108,
   "metadata": {},
   "outputs": [
    {
     "data": {
      "text/html": [
       "<div>\n",
       "<style scoped>\n",
       "    .dataframe tbody tr th:only-of-type {\n",
       "        vertical-align: middle;\n",
       "    }\n",
       "\n",
       "    .dataframe tbody tr th {\n",
       "        vertical-align: top;\n",
       "    }\n",
       "\n",
       "    .dataframe thead th {\n",
       "        text-align: right;\n",
       "    }\n",
       "</style>\n",
       "<table border=\"1\" class=\"dataframe\">\n",
       "  <thead>\n",
       "    <tr style=\"text-align: right;\">\n",
       "      <th></th>\n",
       "      <th>Title</th>\n",
       "      <th>Body</th>\n",
       "      <th>Id</th>\n",
       "      <th>Score</th>\n",
       "      <th>ViewCount</th>\n",
       "      <th>AnswerCount</th>\n",
       "      <th>nb_tags</th>\n",
       "      <th>clean_Tags</th>\n",
       "      <th>popular_tags</th>\n",
       "      <th>clean_Title</th>\n",
       "      <th>clean_Body</th>\n",
       "    </tr>\n",
       "  </thead>\n",
       "  <tbody>\n",
       "    <tr>\n",
       "      <th>35141</th>\n",
       "      <td>Spring AbstractRoutingDataSource + Hibernate- ...</td>\n",
       "      <td>&lt;p&gt;I'm using SpringBoot, along with Hibernate ...</td>\n",
       "      <td>37273880</td>\n",
       "      <td>6</td>\n",
       "      <td>1304</td>\n",
       "      <td>1</td>\n",
       "      <td>5</td>\n",
       "      <td>[java, spring, hibernate, spring-mvc, spring-d...</td>\n",
       "      <td>[java, spring]</td>\n",
       "      <td>spring abstractroutingdatasource hibernate- hb...</td>\n",
       "      <td>springboot hibernate persistence provider appl...</td>\n",
       "    </tr>\n",
       "    <tr>\n",
       "      <th>47131</th>\n",
       "      <td>Using AbstractRoutingDataSource to dynamically...</td>\n",
       "      <td>&lt;p&gt;According to &lt;a href=\"http://blog.springsou...</td>\n",
       "      <td>7960397</td>\n",
       "      <td>11</td>\n",
       "      <td>20340</td>\n",
       "      <td>1</td>\n",
       "      <td>5</td>\n",
       "      <td>[java, database, spring, runtime, datasource]</td>\n",
       "      <td>[java, spring]</td>\n",
       "      <td>abstractroutingdatasource database schema catalog</td>\n",
       "      <td>article abstractroutingdatasource spring frame...</td>\n",
       "    </tr>\n",
       "  </tbody>\n",
       "</table>\n",
       "</div>"
      ],
      "text/plain": [
       "                                                   Title  \\\n",
       "35141  Spring AbstractRoutingDataSource + Hibernate- ...   \n",
       "47131  Using AbstractRoutingDataSource to dynamically...   \n",
       "\n",
       "                                                    Body        Id  Score  \\\n",
       "35141  <p>I'm using SpringBoot, along with Hibernate ...  37273880      6   \n",
       "47131  <p>According to <a href=\"http://blog.springsou...   7960397     11   \n",
       "\n",
       "       ViewCount  AnswerCount  nb_tags  \\\n",
       "35141       1304            1        5   \n",
       "47131      20340            1        5   \n",
       "\n",
       "                                              clean_Tags    popular_tags  \\\n",
       "35141  [java, spring, hibernate, spring-mvc, spring-d...  [java, spring]   \n",
       "47131      [java, database, spring, runtime, datasource]  [java, spring]   \n",
       "\n",
       "                                             clean_Title  \\\n",
       "35141  spring abstractroutingdatasource hibernate- hb...   \n",
       "47131  abstractroutingdatasource database schema catalog   \n",
       "\n",
       "                                              clean_Body  \n",
       "35141  springboot hibernate persistence provider appl...  \n",
       "47131  article abstractroutingdatasource spring frame...  "
      ]
     },
     "execution_count": 108,
     "metadata": {},
     "output_type": "execute_result"
    }
   ],
   "source": [
    "df.loc[df.clean_Title.str.contains('abstractroutingdatasource')]"
   ]
  },
  {
   "cell_type": "code",
   "execution_count": 104,
   "metadata": {},
   "outputs": [
    {
     "data": {
      "text/plain": [
       "matrix([[0, 0, 0, ..., 0, 0, 0],\n",
       "        [0, 0, 0, ..., 0, 0, 0],\n",
       "        [0, 0, 0, ..., 0, 0, 0],\n",
       "        ...,\n",
       "        [0, 0, 0, ..., 0, 0, 0],\n",
       "        [0, 0, 0, ..., 0, 0, 0],\n",
       "        [0, 0, 0, ..., 0, 0, 0]])"
      ]
     },
     "execution_count": 104,
     "metadata": {},
     "output_type": "execute_result"
    }
   ],
   "source": [
    "X.todense()"
   ]
  },
  {
   "cell_type": "code",
   "execution_count": 105,
   "metadata": {},
   "outputs": [],
   "source": [
    "# Instantiate new vectorizer, for body text\n",
    "cv_bod = CountVectorizer()\n",
    "\n",
    "X_body = cv_bod.fit_transform(df.clean_Body)"
   ]
  },
  {
   "cell_type": "code",
   "execution_count": 106,
   "metadata": {},
   "outputs": [
    {
     "data": {
      "text/plain": [
       "(41193, 49004)"
      ]
     },
     "execution_count": 106,
     "metadata": {},
     "output_type": "execute_result"
    }
   ],
   "source": [
    "X_body.shape"
   ]
  },
  {
   "cell_type": "code",
   "execution_count": null,
   "metadata": {},
   "outputs": [],
   "source": []
  }
 ],
 "metadata": {
  "kernelspec": {
   "display_name": "Python 3",
   "language": "python",
   "name": "python3"
  },
  "language_info": {
   "codemirror_mode": {
    "name": "ipython",
    "version": 3
   },
   "file_extension": ".py",
   "mimetype": "text/x-python",
   "name": "python",
   "nbconvert_exporter": "python",
   "pygments_lexer": "ipython3",
   "version": "3.10.6"
  },
  "orig_nbformat": 4,
  "vscode": {
   "interpreter": {
    "hash": "767d51c1340bd893661ea55ea3124f6de3c7a262a8b4abca0554b478b1e2ff90"
   }
  }
 },
 "nbformat": 4,
 "nbformat_minor": 2
}
