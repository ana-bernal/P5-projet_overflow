{
 "cells": [
  {
   "cell_type": "markdown",
   "metadata": {},
   "source": [
    "# 🛒 titre\n",
    "\n",
    "|   |   |\n",
    "|---|---|\n",
    "| Project  |    [nom du proj](#https://openclassrooms.com/fr/paths/148/projects/630/assignment)         |\n",
    "| Date   |   February 2023   |\n",
    "| Autor  | Ana Bernal                                                    |\n",
    "| Data source | |\n",
    "| Mentor | Samir Tanfous | \n",
    "| Notebook number  | _ of _                                                     |\n",
    "\n",
    "**Description:** blabla"
   ]
  },
  {
   "attachments": {},
   "cell_type": "markdown",
   "metadata": {},
   "source": [
    "# Preliminaries\n",
    "## Imports"
   ]
  },
  {
   "cell_type": "code",
   "execution_count": 1,
   "metadata": {},
   "outputs": [],
   "source": [
    "import pandas as pd\n",
    "import numpy as np"
   ]
  },
  {
   "attachments": {},
   "cell_type": "markdown",
   "metadata": {},
   "source": [
    "## Graphics and options"
   ]
  },
  {
   "attachments": {},
   "cell_type": "markdown",
   "metadata": {},
   "source": [
    "## Data"
   ]
  },
  {
   "cell_type": "code",
   "execution_count": 2,
   "metadata": {},
   "outputs": [],
   "source": [
    "path = './data/'\n",
    "filename = 'QueryResults.csv'\n",
    "\n",
    "df = pd.read_csv(path + filename)"
   ]
  },
  {
   "cell_type": "code",
   "execution_count": 3,
   "metadata": {},
   "outputs": [
    {
     "data": {
      "text/plain": [
       "(50000, 7)"
      ]
     },
     "execution_count": 3,
     "metadata": {},
     "output_type": "execute_result"
    }
   ],
   "source": [
    "df.shape"
   ]
  },
  {
   "cell_type": "code",
   "execution_count": 4,
   "metadata": {},
   "outputs": [
    {
     "data": {
      "text/html": [
       "<div>\n",
       "<style scoped>\n",
       "    .dataframe tbody tr th:only-of-type {\n",
       "        vertical-align: middle;\n",
       "    }\n",
       "\n",
       "    .dataframe tbody tr th {\n",
       "        vertical-align: top;\n",
       "    }\n",
       "\n",
       "    .dataframe thead th {\n",
       "        text-align: right;\n",
       "    }\n",
       "</style>\n",
       "<table border=\"1\" class=\"dataframe\">\n",
       "  <thead>\n",
       "    <tr style=\"text-align: right;\">\n",
       "      <th></th>\n",
       "      <th>Title</th>\n",
       "      <th>Body</th>\n",
       "      <th>Tags</th>\n",
       "      <th>Id</th>\n",
       "      <th>Score</th>\n",
       "      <th>ViewCount</th>\n",
       "      <th>AnswerCount</th>\n",
       "    </tr>\n",
       "  </thead>\n",
       "  <tbody>\n",
       "    <tr>\n",
       "      <th>0</th>\n",
       "      <td>Multithreading in a stateless session bean?</td>\n",
       "      <td>&lt;p&gt;The EJB 3.0 specification does not allow a ...</td>\n",
       "      <td>&lt;java&gt;&lt;multithreading&gt;&lt;jakarta-ee&gt;&lt;ejb-3.0&gt;&lt;ejb&gt;</td>\n",
       "      <td>3816286</td>\n",
       "      <td>9</td>\n",
       "      <td>13503</td>\n",
       "      <td>4</td>\n",
       "    </tr>\n",
       "    <tr>\n",
       "      <th>1</th>\n",
       "      <td>base64 JSON encoded strings in nodejs</td>\n",
       "      <td>&lt;p&gt;How do I create a base64 JSON encoded strin...</td>\n",
       "      <td>&lt;javascript&gt;&lt;json&gt;&lt;node.js&gt;&lt;base64&gt;&lt;buffer&gt;</td>\n",
       "      <td>22515180</td>\n",
       "      <td>14</td>\n",
       "      <td>23710</td>\n",
       "      <td>3</td>\n",
       "    </tr>\n",
       "    <tr>\n",
       "      <th>2</th>\n",
       "      <td>How do you get a directory listing in C?</td>\n",
       "      <td>&lt;p&gt;How do you scan a directory for folders and...</td>\n",
       "      <td>&lt;c&gt;&lt;file&gt;&lt;directory&gt;&lt;cross-platform&gt;&lt;common-ta...</td>\n",
       "      <td>12489</td>\n",
       "      <td>69</td>\n",
       "      <td>142856</td>\n",
       "      <td>9</td>\n",
       "    </tr>\n",
       "    <tr>\n",
       "      <th>3</th>\n",
       "      <td>Link error: \"Cannot find -ltinfo\" on Ubuntu 12...</td>\n",
       "      <td>&lt;p&gt;I get the following link error when I'm com...</td>\n",
       "      <td>&lt;c++&gt;&lt;ubuntu&gt;&lt;arm&gt;&lt;static-libraries&gt;&lt;ubuntu-12...</td>\n",
       "      <td>21137879</td>\n",
       "      <td>21</td>\n",
       "      <td>17090</td>\n",
       "      <td>2</td>\n",
       "    </tr>\n",
       "    <tr>\n",
       "      <th>4</th>\n",
       "      <td>Android In App Updates - Not able to detect th...</td>\n",
       "      <td>&lt;p&gt;Some log statements are thrown when we use,...</td>\n",
       "      <td>&lt;android&gt;&lt;google-play&gt;&lt;google-play-services&gt;&lt;a...</td>\n",
       "      <td>56581300</td>\n",
       "      <td>9</td>\n",
       "      <td>5122</td>\n",
       "      <td>3</td>\n",
       "    </tr>\n",
       "  </tbody>\n",
       "</table>\n",
       "</div>"
      ],
      "text/plain": [
       "                                               Title  \\\n",
       "0        Multithreading in a stateless session bean?   \n",
       "1              base64 JSON encoded strings in nodejs   \n",
       "2           How do you get a directory listing in C?   \n",
       "3  Link error: \"Cannot find -ltinfo\" on Ubuntu 12...   \n",
       "4  Android In App Updates - Not able to detect th...   \n",
       "\n",
       "                                                Body  \\\n",
       "0  <p>The EJB 3.0 specification does not allow a ...   \n",
       "1  <p>How do I create a base64 JSON encoded strin...   \n",
       "2  <p>How do you scan a directory for folders and...   \n",
       "3  <p>I get the following link error when I'm com...   \n",
       "4  <p>Some log statements are thrown when we use,...   \n",
       "\n",
       "                                                Tags        Id  Score  \\\n",
       "0   <java><multithreading><jakarta-ee><ejb-3.0><ejb>   3816286      9   \n",
       "1        <javascript><json><node.js><base64><buffer>  22515180     14   \n",
       "2  <c><file><directory><cross-platform><common-ta...     12489     69   \n",
       "3  <c++><ubuntu><arm><static-libraries><ubuntu-12...  21137879     21   \n",
       "4  <android><google-play><google-play-services><a...  56581300      9   \n",
       "\n",
       "   ViewCount  AnswerCount  \n",
       "0      13503            4  \n",
       "1      23710            3  \n",
       "2     142856            9  \n",
       "3      17090            2  \n",
       "4       5122            3  "
      ]
     },
     "execution_count": 4,
     "metadata": {},
     "output_type": "execute_result"
    }
   ],
   "source": [
    "df.head()"
   ]
  },
  {
   "attachments": {},
   "cell_type": "markdown",
   "metadata": {},
   "source": [
    "# Cleaning Tags column, counting tags"
   ]
  },
  {
   "cell_type": "code",
   "execution_count": 5,
   "metadata": {},
   "outputs": [],
   "source": [
    "def simple_tokenize_tags(tag):\n",
    "    '''\n",
    "    Returns a list with more readable original \n",
    "    tags from StackOverflow. \n",
    "\n",
    "    Parameters:\n",
    "        - tag: str\n",
    "\n",
    "\n",
    "    Example:\n",
    "    tag = '<java><multithreading><jakarta-ee><ejb-3.0><ejb>'\n",
    "\n",
    "    simple_tokenize_tags(tag)\n",
    "    ['java', 'multithreading', 'jakarta-ee', 'ejb-3.0', 'ejb']\n",
    "\n",
    "    '''\n",
    "    return tag.replace('><', ' ')[1:-1].split()"
   ]
  },
  {
   "cell_type": "code",
   "execution_count": 6,
   "metadata": {},
   "outputs": [],
   "source": [
    "# Adding column counting tags to df\n",
    "df['nb_tags'] = df['Tags'].apply(lambda tags : len(simple_tokenize_tags(tags)))"
   ]
  },
  {
   "cell_type": "code",
   "execution_count": 7,
   "metadata": {},
   "outputs": [
    {
     "data": {
      "text/plain": [
       "count    50000.000000\n",
       "mean         5.000040\n",
       "std          0.006324\n",
       "min          5.000000\n",
       "25%          5.000000\n",
       "50%          5.000000\n",
       "75%          5.000000\n",
       "max          6.000000\n",
       "Name: nb_tags, dtype: float64"
      ]
     },
     "execution_count": 7,
     "metadata": {},
     "output_type": "execute_result"
    }
   ],
   "source": [
    "df.nb_tags.describe()"
   ]
  },
  {
   "cell_type": "code",
   "execution_count": 9,
   "metadata": {},
   "outputs": [
    {
     "data": {
      "text/plain": [
       "(2, 8)"
      ]
     },
     "execution_count": 9,
     "metadata": {},
     "output_type": "execute_result"
    }
   ],
   "source": [
    "df.loc[df.nb_tags == 6].shape"
   ]
  },
  {
   "attachments": {},
   "cell_type": "markdown",
   "metadata": {},
   "source": [
    "We queried questions with more than 5 tags. Since 5 is the maximum number of tags allowed by Stack Overflow per question, we only have (almost) 5 tag questions."
   ]
  },
  {
   "attachments": {},
   "cell_type": "markdown",
   "metadata": {},
   "source": [
    "# Defining tags set"
   ]
  },
  {
   "cell_type": "code",
   "execution_count": 16,
   "metadata": {},
   "outputs": [
    {
     "data": {
      "text/html": [
       "<div>\n",
       "<style scoped>\n",
       "    .dataframe tbody tr th:only-of-type {\n",
       "        vertical-align: middle;\n",
       "    }\n",
       "\n",
       "    .dataframe tbody tr th {\n",
       "        vertical-align: top;\n",
       "    }\n",
       "\n",
       "    .dataframe thead th {\n",
       "        text-align: right;\n",
       "    }\n",
       "</style>\n",
       "<table border=\"1\" class=\"dataframe\">\n",
       "  <thead>\n",
       "    <tr style=\"text-align: right;\">\n",
       "      <th></th>\n",
       "      <th>Title</th>\n",
       "      <th>Body</th>\n",
       "      <th>Tags</th>\n",
       "      <th>Id</th>\n",
       "      <th>Score</th>\n",
       "      <th>ViewCount</th>\n",
       "      <th>AnswerCount</th>\n",
       "      <th>nb_tags</th>\n",
       "    </tr>\n",
       "  </thead>\n",
       "  <tbody>\n",
       "    <tr>\n",
       "      <th>0</th>\n",
       "      <td>Multithreading in a stateless session bean?</td>\n",
       "      <td>&lt;p&gt;The EJB 3.0 specification does not allow a ...</td>\n",
       "      <td>&lt;java&gt;&lt;multithreading&gt;&lt;jakarta-ee&gt;&lt;ejb-3.0&gt;&lt;ejb&gt;</td>\n",
       "      <td>3816286</td>\n",
       "      <td>9</td>\n",
       "      <td>13503</td>\n",
       "      <td>4</td>\n",
       "      <td>5</td>\n",
       "    </tr>\n",
       "    <tr>\n",
       "      <th>1</th>\n",
       "      <td>base64 JSON encoded strings in nodejs</td>\n",
       "      <td>&lt;p&gt;How do I create a base64 JSON encoded strin...</td>\n",
       "      <td>&lt;javascript&gt;&lt;json&gt;&lt;node.js&gt;&lt;base64&gt;&lt;buffer&gt;</td>\n",
       "      <td>22515180</td>\n",
       "      <td>14</td>\n",
       "      <td>23710</td>\n",
       "      <td>3</td>\n",
       "      <td>5</td>\n",
       "    </tr>\n",
       "    <tr>\n",
       "      <th>2</th>\n",
       "      <td>How do you get a directory listing in C?</td>\n",
       "      <td>&lt;p&gt;How do you scan a directory for folders and...</td>\n",
       "      <td>&lt;c&gt;&lt;file&gt;&lt;directory&gt;&lt;cross-platform&gt;&lt;common-ta...</td>\n",
       "      <td>12489</td>\n",
       "      <td>69</td>\n",
       "      <td>142856</td>\n",
       "      <td>9</td>\n",
       "      <td>5</td>\n",
       "    </tr>\n",
       "    <tr>\n",
       "      <th>3</th>\n",
       "      <td>Link error: \"Cannot find -ltinfo\" on Ubuntu 12...</td>\n",
       "      <td>&lt;p&gt;I get the following link error when I'm com...</td>\n",
       "      <td>&lt;c++&gt;&lt;ubuntu&gt;&lt;arm&gt;&lt;static-libraries&gt;&lt;ubuntu-12...</td>\n",
       "      <td>21137879</td>\n",
       "      <td>21</td>\n",
       "      <td>17090</td>\n",
       "      <td>2</td>\n",
       "      <td>5</td>\n",
       "    </tr>\n",
       "    <tr>\n",
       "      <th>4</th>\n",
       "      <td>Android In App Updates - Not able to detect th...</td>\n",
       "      <td>&lt;p&gt;Some log statements are thrown when we use,...</td>\n",
       "      <td>&lt;android&gt;&lt;google-play&gt;&lt;google-play-services&gt;&lt;a...</td>\n",
       "      <td>56581300</td>\n",
       "      <td>9</td>\n",
       "      <td>5122</td>\n",
       "      <td>3</td>\n",
       "      <td>5</td>\n",
       "    </tr>\n",
       "  </tbody>\n",
       "</table>\n",
       "</div>"
      ],
      "text/plain": [
       "                                               Title  \\\n",
       "0        Multithreading in a stateless session bean?   \n",
       "1              base64 JSON encoded strings in nodejs   \n",
       "2           How do you get a directory listing in C?   \n",
       "3  Link error: \"Cannot find -ltinfo\" on Ubuntu 12...   \n",
       "4  Android In App Updates - Not able to detect th...   \n",
       "\n",
       "                                                Body  \\\n",
       "0  <p>The EJB 3.0 specification does not allow a ...   \n",
       "1  <p>How do I create a base64 JSON encoded strin...   \n",
       "2  <p>How do you scan a directory for folders and...   \n",
       "3  <p>I get the following link error when I'm com...   \n",
       "4  <p>Some log statements are thrown when we use,...   \n",
       "\n",
       "                                                Tags        Id  Score  \\\n",
       "0   <java><multithreading><jakarta-ee><ejb-3.0><ejb>   3816286      9   \n",
       "1        <javascript><json><node.js><base64><buffer>  22515180     14   \n",
       "2  <c><file><directory><cross-platform><common-ta...     12489     69   \n",
       "3  <c++><ubuntu><arm><static-libraries><ubuntu-12...  21137879     21   \n",
       "4  <android><google-play><google-play-services><a...  56581300      9   \n",
       "\n",
       "   ViewCount  AnswerCount  nb_tags  \n",
       "0      13503            4        5  \n",
       "1      23710            3        5  \n",
       "2     142856            9        5  \n",
       "3      17090            2        5  \n",
       "4       5122            3        5  "
      ]
     },
     "execution_count": 16,
     "metadata": {},
     "output_type": "execute_result"
    }
   ],
   "source": [
    "df.head(3)"
   ]
  },
  {
   "cell_type": "code",
   "execution_count": 17,
   "metadata": {},
   "outputs": [],
   "source": [
    "df['clean_Tags'] = df['Tags'].apply(lambda txt:simple_tokenize_tags(txt))"
   ]
  },
  {
   "cell_type": "code",
   "execution_count": 18,
   "metadata": {},
   "outputs": [
    {
     "data": {
      "text/html": [
       "<div>\n",
       "<style scoped>\n",
       "    .dataframe tbody tr th:only-of-type {\n",
       "        vertical-align: middle;\n",
       "    }\n",
       "\n",
       "    .dataframe tbody tr th {\n",
       "        vertical-align: top;\n",
       "    }\n",
       "\n",
       "    .dataframe thead th {\n",
       "        text-align: right;\n",
       "    }\n",
       "</style>\n",
       "<table border=\"1\" class=\"dataframe\">\n",
       "  <thead>\n",
       "    <tr style=\"text-align: right;\">\n",
       "      <th></th>\n",
       "      <th>Title</th>\n",
       "      <th>Body</th>\n",
       "      <th>Tags</th>\n",
       "      <th>Id</th>\n",
       "      <th>Score</th>\n",
       "      <th>ViewCount</th>\n",
       "      <th>AnswerCount</th>\n",
       "      <th>nb_tags</th>\n",
       "      <th>clean_Tags</th>\n",
       "    </tr>\n",
       "  </thead>\n",
       "  <tbody>\n",
       "    <tr>\n",
       "      <th>0</th>\n",
       "      <td>Multithreading in a stateless session bean?</td>\n",
       "      <td>&lt;p&gt;The EJB 3.0 specification does not allow a ...</td>\n",
       "      <td>&lt;java&gt;&lt;multithreading&gt;&lt;jakarta-ee&gt;&lt;ejb-3.0&gt;&lt;ejb&gt;</td>\n",
       "      <td>3816286</td>\n",
       "      <td>9</td>\n",
       "      <td>13503</td>\n",
       "      <td>4</td>\n",
       "      <td>5</td>\n",
       "      <td>[java, multithreading, jakarta-ee, ejb-3.0, ejb]</td>\n",
       "    </tr>\n",
       "    <tr>\n",
       "      <th>1</th>\n",
       "      <td>base64 JSON encoded strings in nodejs</td>\n",
       "      <td>&lt;p&gt;How do I create a base64 JSON encoded strin...</td>\n",
       "      <td>&lt;javascript&gt;&lt;json&gt;&lt;node.js&gt;&lt;base64&gt;&lt;buffer&gt;</td>\n",
       "      <td>22515180</td>\n",
       "      <td>14</td>\n",
       "      <td>23710</td>\n",
       "      <td>3</td>\n",
       "      <td>5</td>\n",
       "      <td>[javascript, json, node.js, base64, buffer]</td>\n",
       "    </tr>\n",
       "    <tr>\n",
       "      <th>2</th>\n",
       "      <td>How do you get a directory listing in C?</td>\n",
       "      <td>&lt;p&gt;How do you scan a directory for folders and...</td>\n",
       "      <td>&lt;c&gt;&lt;file&gt;&lt;directory&gt;&lt;cross-platform&gt;&lt;common-ta...</td>\n",
       "      <td>12489</td>\n",
       "      <td>69</td>\n",
       "      <td>142856</td>\n",
       "      <td>9</td>\n",
       "      <td>5</td>\n",
       "      <td>[c, file, directory, cross-platform, common-ta...</td>\n",
       "    </tr>\n",
       "    <tr>\n",
       "      <th>3</th>\n",
       "      <td>Link error: \"Cannot find -ltinfo\" on Ubuntu 12...</td>\n",
       "      <td>&lt;p&gt;I get the following link error when I'm com...</td>\n",
       "      <td>&lt;c++&gt;&lt;ubuntu&gt;&lt;arm&gt;&lt;static-libraries&gt;&lt;ubuntu-12...</td>\n",
       "      <td>21137879</td>\n",
       "      <td>21</td>\n",
       "      <td>17090</td>\n",
       "      <td>2</td>\n",
       "      <td>5</td>\n",
       "      <td>[c++, ubuntu, arm, static-libraries, ubuntu-12...</td>\n",
       "    </tr>\n",
       "    <tr>\n",
       "      <th>4</th>\n",
       "      <td>Android In App Updates - Not able to detect th...</td>\n",
       "      <td>&lt;p&gt;Some log statements are thrown when we use,...</td>\n",
       "      <td>&lt;android&gt;&lt;google-play&gt;&lt;google-play-services&gt;&lt;a...</td>\n",
       "      <td>56581300</td>\n",
       "      <td>9</td>\n",
       "      <td>5122</td>\n",
       "      <td>3</td>\n",
       "      <td>5</td>\n",
       "      <td>[android, google-play, google-play-services, a...</td>\n",
       "    </tr>\n",
       "  </tbody>\n",
       "</table>\n",
       "</div>"
      ],
      "text/plain": [
       "                                               Title  \\\n",
       "0        Multithreading in a stateless session bean?   \n",
       "1              base64 JSON encoded strings in nodejs   \n",
       "2           How do you get a directory listing in C?   \n",
       "3  Link error: \"Cannot find -ltinfo\" on Ubuntu 12...   \n",
       "4  Android In App Updates - Not able to detect th...   \n",
       "\n",
       "                                                Body  \\\n",
       "0  <p>The EJB 3.0 specification does not allow a ...   \n",
       "1  <p>How do I create a base64 JSON encoded strin...   \n",
       "2  <p>How do you scan a directory for folders and...   \n",
       "3  <p>I get the following link error when I'm com...   \n",
       "4  <p>Some log statements are thrown when we use,...   \n",
       "\n",
       "                                                Tags        Id  Score  \\\n",
       "0   <java><multithreading><jakarta-ee><ejb-3.0><ejb>   3816286      9   \n",
       "1        <javascript><json><node.js><base64><buffer>  22515180     14   \n",
       "2  <c><file><directory><cross-platform><common-ta...     12489     69   \n",
       "3  <c++><ubuntu><arm><static-libraries><ubuntu-12...  21137879     21   \n",
       "4  <android><google-play><google-play-services><a...  56581300      9   \n",
       "\n",
       "   ViewCount  AnswerCount  nb_tags  \\\n",
       "0      13503            4        5   \n",
       "1      23710            3        5   \n",
       "2     142856            9        5   \n",
       "3      17090            2        5   \n",
       "4       5122            3        5   \n",
       "\n",
       "                                          clean_Tags  \n",
       "0   [java, multithreading, jakarta-ee, ejb-3.0, ejb]  \n",
       "1        [javascript, json, node.js, base64, buffer]  \n",
       "2  [c, file, directory, cross-platform, common-ta...  \n",
       "3  [c++, ubuntu, arm, static-libraries, ubuntu-12...  \n",
       "4  [android, google-play, google-play-services, a...  "
      ]
     },
     "execution_count": 18,
     "metadata": {},
     "output_type": "execute_result"
    }
   ],
   "source": [
    "df.head(3)"
   ]
  },
  {
   "cell_type": "code",
   "execution_count": 19,
   "metadata": {},
   "outputs": [],
   "source": [
    "# The set of all tags appearing in the sample of\n",
    "# size 50 000\n",
    "all_tags = set()\n",
    "\n",
    "for tags in df['clean_Tags']:\n",
    "    all_tags = all_tags.union(set(tags))"
   ]
  },
  {
   "cell_type": "code",
   "execution_count": 20,
   "metadata": {},
   "outputs": [
    {
     "data": {
      "text/plain": [
       "18409"
      ]
     },
     "execution_count": 20,
     "metadata": {},
     "output_type": "execute_result"
    }
   ],
   "source": [
    "print(f'There are {len(all_tags)} different tags.')"
   ]
  },
  {
   "cell_type": "code",
   "execution_count": 38,
   "metadata": {},
   "outputs": [
    {
     "name": "stdout",
     "output_type": "stream",
     "text": [
      "The mean of # of questions per tag is: 13.58042261937096\n",
      "The minimum # of questions per tag is: 1.0 (by constr.)\n",
      "The max # of questions per tag is: 6226.0.\n",
      "25% of tags appear in 1.0 question.\n",
      "50% of tags appear in 2.0 questions or less.\n",
      "75% of tags appear in 6.0 questions or less.\n"
     ]
    }
   ],
   "source": [
    "# Different tags as a list\n",
    "all_tags = list(all_tags)\n",
    "\n",
    "# Counting questions per tag\n",
    "all_tags_count = dict(zip(all_tags,np.zeros(len(all_tags))))\n",
    "\n",
    "for tags in df['clean_Tags']:\n",
    "    for tag in tags:\n",
    "        all_tags_count[tag] += 1\n",
    "\n",
    "# Array counting # of questions per tag\n",
    "tags_count = np.array(list(all_tags_count.values()))\n",
    "\n",
    "print(f'The mean of # of questions per tag is: {np.mean(tags_count)}')\n",
    "print(f'The minimum # of questions per tag is: {np.min(tags_count)} (by constr.)')\n",
    "print(f'The max # of questions per tag is: {np.max(tags_count)}.')\n",
    "print(f'25% of tags appear in {np.quantile(tags_count, 0.25)} question.')\n",
    "print(f'50% of tags appear in {np.quantile(tags_count, 0.5)} questions or less.')\n",
    "print(f'75% of tags appear in {np.quantile(tags_count, 0.75)} questions or less.')\n"
   ]
  },
  {
   "cell_type": "code",
   "execution_count": 122,
   "metadata": {},
   "outputs": [
    {
     "name": "stdout",
     "output_type": "stream",
     "text": [
      "The total # of popular tags is 30\n",
      "(appearing in more than 800 questions)\n",
      "-----------------------------------\n",
      "Tag \t\t # of quest\n",
      "-----------------------------------\n",
      "        c# \t 6226.0\n",
      "      java \t 5880.0\n",
      "javascript \t 4920.0\n",
      "    python \t 4747.0\n",
      "       c++ \t 3904.0\n",
      "       ios \t 3449.0\n",
      "   android \t 3223.0\n",
      "      .net \t 3164.0\n",
      "      html \t 2197.0\n",
      "       php \t 2050.0\n",
      "objective-c \t 1816.0\n",
      "    jquery \t 1810.0\n",
      "         c \t 1655.0\n",
      "    iphone \t 1592.0\n",
      "       sql \t 1349.0\n",
      "   asp.net \t 1339.0\n",
      "       css \t 1331.0\n",
      "     linux \t 1286.0\n",
      "   node.js \t 1253.0\n",
      "performance \t 1076.0\n",
      "    spring \t 1023.0\n",
      "   windows \t 1012.0\n",
      "     swift \t 986.0\n",
      "     xcode \t 972.0\n",
      "ruby-on-rails \t 956.0\n",
      "     mysql \t 903.0\n",
      "      json \t 866.0\n",
      "sql-server \t 859.0\n",
      "multithreading \t 834.0\n",
      "asp.net-mvc \t 829.0\n"
     ]
    }
   ],
   "source": [
    "numb_quest = 800\n",
    "popular_tags = { key:value for (key,value) in all_tags_count.items() if value >numb_quest}\n",
    "\n",
    "# Sorting popular tags decreasingly\n",
    "popular_tags = {k: v for k, v in sorted(popular_tags.items(), key=lambda item: item[1], reverse=True)}\n",
    "\n",
    "print(f'The total # of popular tags is {len(popular_tags)}')\n",
    "print(f'(appearing in more than {numb_quest} questions)')\n",
    "print('-'*35)\n",
    "print('Tag \\t\\t # of quest')\n",
    "print('-'*35)\n",
    "for (key,value) in popular_tags.items():\n",
    "    print(f'{key:>10} \\t {value}')\n"
   ]
  },
  {
   "cell_type": "code",
   "execution_count": 126,
   "metadata": {},
   "outputs": [
    {
     "data": {
      "text/plain": [
       "dict_keys(['c#', 'java', 'javascript', 'python', 'c++', 'ios', 'android', '.net', 'html', 'php', 'objective-c', 'jquery', 'c', 'iphone', 'sql', 'asp.net', 'css', 'linux', 'node.js', 'performance', 'spring', 'windows', 'swift', 'xcode', 'ruby-on-rails', 'mysql', 'json', 'sql-server', 'multithreading', 'asp.net-mvc'])"
      ]
     },
     "execution_count": 126,
     "metadata": {},
     "output_type": "execute_result"
    }
   ],
   "source": [
    "popular_tags.keys()"
   ]
  },
  {
   "cell_type": "code",
   "execution_count": 138,
   "metadata": {},
   "outputs": [
    {
     "data": {
      "text/plain": [
       "True"
      ]
     },
     "execution_count": 138,
     "metadata": {},
     "output_type": "execute_result"
    }
   ],
   "source": [
    "'java' in popular_tags.keys()"
   ]
  },
  {
   "cell_type": "code",
   "execution_count": 137,
   "metadata": {},
   "outputs": [],
   "source": [
    "# conditions = []\n",
    "# for tag in list(popular_tags.keys()):\n",
    "#     conditions.append(df['Tags'].str.contains(tag))\n",
    "\n",
    "# df.loc['javascript' in df['clean_Tags']]"
   ]
  },
  {
   "cell_type": "code",
   "execution_count": 139,
   "metadata": {},
   "outputs": [],
   "source": [
    "df['contain_pop_tag'] = df.clean_Tags.explode().isin(popular_tags.keys()).groupby(level=0, sort=False).any()\n"
   ]
  },
  {
   "cell_type": "code",
   "execution_count": 141,
   "metadata": {},
   "outputs": [
    {
     "data": {
      "text/plain": [
       "41193"
      ]
     },
     "execution_count": 141,
     "metadata": {},
     "output_type": "execute_result"
    }
   ],
   "source": [
    "df.contain_pop_tag.sum()"
   ]
  },
  {
   "cell_type": "code",
   "execution_count": 144,
   "metadata": {},
   "outputs": [
    {
     "data": {
      "text/plain": [
       "(41193, 11)"
      ]
     },
     "execution_count": 144,
     "metadata": {},
     "output_type": "execute_result"
    }
   ],
   "source": [
    "df.loc[df.contain_pop_tag].shape"
   ]
  },
  {
   "cell_type": "code",
   "execution_count": 140,
   "metadata": {},
   "outputs": [
    {
     "data": {
      "text/html": [
       "<div>\n",
       "<style scoped>\n",
       "    .dataframe tbody tr th:only-of-type {\n",
       "        vertical-align: middle;\n",
       "    }\n",
       "\n",
       "    .dataframe tbody tr th {\n",
       "        vertical-align: top;\n",
       "    }\n",
       "\n",
       "    .dataframe thead th {\n",
       "        text-align: right;\n",
       "    }\n",
       "</style>\n",
       "<table border=\"1\" class=\"dataframe\">\n",
       "  <thead>\n",
       "    <tr style=\"text-align: right;\">\n",
       "      <th></th>\n",
       "      <th>Title</th>\n",
       "      <th>Body</th>\n",
       "      <th>Tags</th>\n",
       "      <th>Id</th>\n",
       "      <th>Score</th>\n",
       "      <th>ViewCount</th>\n",
       "      <th>AnswerCount</th>\n",
       "      <th>nb_tags</th>\n",
       "      <th>clean_Tags</th>\n",
       "      <th>no_emoj_Title</th>\n",
       "      <th>contain_pop_tag</th>\n",
       "    </tr>\n",
       "  </thead>\n",
       "  <tbody>\n",
       "    <tr>\n",
       "      <th>0</th>\n",
       "      <td>Multithreading in a stateless session bean?</td>\n",
       "      <td>&lt;p&gt;The EJB 3.0 specification does not allow a ...</td>\n",
       "      <td>&lt;java&gt;&lt;multithreading&gt;&lt;jakarta-ee&gt;&lt;ejb-3.0&gt;&lt;ejb&gt;</td>\n",
       "      <td>3816286</td>\n",
       "      <td>9</td>\n",
       "      <td>13503</td>\n",
       "      <td>4</td>\n",
       "      <td>5</td>\n",
       "      <td>[java, multithreading, jakarta-ee, ejb-3.0, ejb]</td>\n",
       "      <td>Multithreading in a stateless session bean?</td>\n",
       "      <td>True</td>\n",
       "    </tr>\n",
       "    <tr>\n",
       "      <th>1</th>\n",
       "      <td>base64 JSON encoded strings in nodejs</td>\n",
       "      <td>&lt;p&gt;How do I create a base64 JSON encoded strin...</td>\n",
       "      <td>&lt;javascript&gt;&lt;json&gt;&lt;node.js&gt;&lt;base64&gt;&lt;buffer&gt;</td>\n",
       "      <td>22515180</td>\n",
       "      <td>14</td>\n",
       "      <td>23710</td>\n",
       "      <td>3</td>\n",
       "      <td>5</td>\n",
       "      <td>[javascript, json, node.js, base64, buffer]</td>\n",
       "      <td>base64 JSON encoded strings in nodejs</td>\n",
       "      <td>True</td>\n",
       "    </tr>\n",
       "    <tr>\n",
       "      <th>2</th>\n",
       "      <td>How do you get a directory listing in C?</td>\n",
       "      <td>&lt;p&gt;How do you scan a directory for folders and...</td>\n",
       "      <td>&lt;c&gt;&lt;file&gt;&lt;directory&gt;&lt;cross-platform&gt;&lt;common-ta...</td>\n",
       "      <td>12489</td>\n",
       "      <td>69</td>\n",
       "      <td>142856</td>\n",
       "      <td>9</td>\n",
       "      <td>5</td>\n",
       "      <td>[c, file, directory, cross-platform, common-ta...</td>\n",
       "      <td>How do you get a directory listing in C?</td>\n",
       "      <td>True</td>\n",
       "    </tr>\n",
       "    <tr>\n",
       "      <th>3</th>\n",
       "      <td>Link error: \"Cannot find -ltinfo\" on Ubuntu 12...</td>\n",
       "      <td>&lt;p&gt;I get the following link error when I'm com...</td>\n",
       "      <td>&lt;c++&gt;&lt;ubuntu&gt;&lt;arm&gt;&lt;static-libraries&gt;&lt;ubuntu-12...</td>\n",
       "      <td>21137879</td>\n",
       "      <td>21</td>\n",
       "      <td>17090</td>\n",
       "      <td>2</td>\n",
       "      <td>5</td>\n",
       "      <td>[c++, ubuntu, arm, static-libraries, ubuntu-12...</td>\n",
       "      <td>Link error: \"Cannot find -ltinfo\" on Ubuntu 12...</td>\n",
       "      <td>True</td>\n",
       "    </tr>\n",
       "    <tr>\n",
       "      <th>4</th>\n",
       "      <td>Android In App Updates - Not able to detect th...</td>\n",
       "      <td>&lt;p&gt;Some log statements are thrown when we use,...</td>\n",
       "      <td>&lt;android&gt;&lt;google-play&gt;&lt;google-play-services&gt;&lt;a...</td>\n",
       "      <td>56581300</td>\n",
       "      <td>9</td>\n",
       "      <td>5122</td>\n",
       "      <td>3</td>\n",
       "      <td>5</td>\n",
       "      <td>[android, google-play, google-play-services, a...</td>\n",
       "      <td>Android In App Updates - Not able to detect th...</td>\n",
       "      <td>True</td>\n",
       "    </tr>\n",
       "  </tbody>\n",
       "</table>\n",
       "</div>"
      ],
      "text/plain": [
       "                                               Title  \\\n",
       "0        Multithreading in a stateless session bean?   \n",
       "1              base64 JSON encoded strings in nodejs   \n",
       "2           How do you get a directory listing in C?   \n",
       "3  Link error: \"Cannot find -ltinfo\" on Ubuntu 12...   \n",
       "4  Android In App Updates - Not able to detect th...   \n",
       "\n",
       "                                                Body  \\\n",
       "0  <p>The EJB 3.0 specification does not allow a ...   \n",
       "1  <p>How do I create a base64 JSON encoded strin...   \n",
       "2  <p>How do you scan a directory for folders and...   \n",
       "3  <p>I get the following link error when I'm com...   \n",
       "4  <p>Some log statements are thrown when we use,...   \n",
       "\n",
       "                                                Tags        Id  Score  \\\n",
       "0   <java><multithreading><jakarta-ee><ejb-3.0><ejb>   3816286      9   \n",
       "1        <javascript><json><node.js><base64><buffer>  22515180     14   \n",
       "2  <c><file><directory><cross-platform><common-ta...     12489     69   \n",
       "3  <c++><ubuntu><arm><static-libraries><ubuntu-12...  21137879     21   \n",
       "4  <android><google-play><google-play-services><a...  56581300      9   \n",
       "\n",
       "   ViewCount  AnswerCount  nb_tags  \\\n",
       "0      13503            4        5   \n",
       "1      23710            3        5   \n",
       "2     142856            9        5   \n",
       "3      17090            2        5   \n",
       "4       5122            3        5   \n",
       "\n",
       "                                          clean_Tags  \\\n",
       "0   [java, multithreading, jakarta-ee, ejb-3.0, ejb]   \n",
       "1        [javascript, json, node.js, base64, buffer]   \n",
       "2  [c, file, directory, cross-platform, common-ta...   \n",
       "3  [c++, ubuntu, arm, static-libraries, ubuntu-12...   \n",
       "4  [android, google-play, google-play-services, a...   \n",
       "\n",
       "                                       no_emoj_Title  contain_pop_tag  \n",
       "0        Multithreading in a stateless session bean?             True  \n",
       "1              base64 JSON encoded strings in nodejs             True  \n",
       "2           How do you get a directory listing in C?             True  \n",
       "3  Link error: \"Cannot find -ltinfo\" on Ubuntu 12...             True  \n",
       "4  Android In App Updates - Not able to detect th...             True  "
      ]
     },
     "execution_count": 140,
     "metadata": {},
     "output_type": "execute_result"
    }
   ],
   "source": [
    "df.head()"
   ]
  },
  {
   "attachments": {},
   "cell_type": "markdown",
   "metadata": {},
   "source": [
    "# Processing title and body text"
   ]
  },
  {
   "cell_type": "code",
   "execution_count": null,
   "metadata": {},
   "outputs": [
    {
     "name": "stderr",
     "output_type": "stream",
     "text": [
      "2023-02-06 11:48:57.722275: I tensorflow/core/platform/cpu_feature_guard.cc:193] This TensorFlow binary is optimized with oneAPI Deep Neural Network Library (oneDNN) to use the following CPU instructions in performance-critical operations:  AVX2 FMA\n",
      "To enable them in other operations, rebuild TensorFlow with the appropriate compiler flags.\n",
      "2023-02-06 11:48:57.917117: W tensorflow/compiler/xla/stream_executor/platform/default/dso_loader.cc:64] Could not load dynamic library 'libcudart.so.11.0'; dlerror: libcudart.so.11.0: cannot open shared object file: No such file or directory\n",
      "2023-02-06 11:48:57.917149: I tensorflow/compiler/xla/stream_executor/cuda/cudart_stub.cc:29] Ignore above cudart dlerror if you do not have a GPU set up on your machine.\n",
      "2023-02-06 11:48:58.915138: W tensorflow/compiler/xla/stream_executor/platform/default/dso_loader.cc:64] Could not load dynamic library 'libnvinfer.so.7'; dlerror: libnvinfer.so.7: cannot open shared object file: No such file or directory\n",
      "2023-02-06 11:48:58.915255: W tensorflow/compiler/xla/stream_executor/platform/default/dso_loader.cc:64] Could not load dynamic library 'libnvinfer_plugin.so.7'; dlerror: libnvinfer_plugin.so.7: cannot open shared object file: No such file or directory\n",
      "2023-02-06 11:48:58.915266: W tensorflow/compiler/tf2tensorrt/utils/py_utils.cc:38] TF-TRT Warning: Cannot dlopen some TensorRT libraries. If you would like to use Nvidia GPU with TensorRT, please make sure the missing libraries mentioned above are installed properly.\n",
      "2023-02-06 11:48:59.840161: W tensorflow/compiler/xla/stream_executor/platform/default/dso_loader.cc:64] Could not load dynamic library 'libcuda.so.1'; dlerror: libcuda.so.1: cannot open shared object file: No such file or directory\n",
      "2023-02-06 11:48:59.840193: W tensorflow/compiler/xla/stream_executor/cuda/cuda_driver.cc:265] failed call to cuInit: UNKNOWN ERROR (303)\n",
      "2023-02-06 11:48:59.840224: I tensorflow/compiler/xla/stream_executor/cuda/cuda_diagnostics.cc:156] kernel driver does not appear to be running on this host (nemo): /proc/driver/nvidia/version does not exist\n"
     ]
    }
   ],
   "source": [
    "import spacy\n",
    "\n",
    "# Instantiating language model, english\n",
    "nlp = spacy.load(\"en_core_web_sm\")"
   ]
  },
  {
   "cell_type": "code",
   "execution_count": 59,
   "metadata": {},
   "outputs": [],
   "source": [
    "from bs4 import BeautifulSoup"
   ]
  },
  {
   "cell_type": "code",
   "execution_count": 83,
   "metadata": {},
   "outputs": [],
   "source": [
    "def clean(text,tokenize,strict, **kwargs):\n",
    "    \"\"\"\n",
    "    Returns a dictionnary with keys 'text' or 'tokens', where\n",
    "    'tokens' corresponds tothe list of lemmatized tokens from\n",
    "    the string text. Ommiting stopwords and punctuation, and the text is\n",
    "    the joint text.\n",
    "\n",
    "    Parameters:\n",
    "        - text: str\n",
    "        - tokenize: bool\n",
    "            If True returns list of tokens, if False returns string.\n",
    "        - strict: bool\n",
    "            If true only keeps nouns\n",
    "    \"\"\"\n",
    "\n",
    "    # Removing HTML tags\n",
    "    soup = BeautifulSoup(text, features='html.parser')\n",
    "    clean_txt = soup.get_text()\n",
    "\n",
    "    # Removing new line character: \\n\n",
    "    clean_txt = clean_txt.replace('\\n', ' ')\n",
    "\n",
    "    clean_txt = clean_txt.replace('\\ud83c', ' ')\n",
    "    \n",
    "    # Removing digits\n",
    "    clean_txt = ''.join(char for char in clean_txt if not char.isdigit())\n",
    "\n",
    "    # Tokenize with spacy\n",
    "    doc = nlp(clean_txt)\n",
    "\n",
    "    # Tokenize properties\n",
    "    if strict == True:\n",
    "        tokens = {token.lemma_.lower() :token.pos_ for token in doc\n",
    "                    if token.pos_ in ['NOUN', 'PROPN'] and\n",
    "                        (not (token.is_stop or \n",
    "                              token.is_punct or\n",
    "                              token.is_space\n",
    "                              )\n",
    "                        )\n",
    "                }    \n",
    "    else:\n",
    "        tokens = {token.lemma_.lower() :token.pos_ for token in doc\n",
    "                    if not (token.is_stop or \n",
    "                            token.is_punct or\n",
    "                            token.is_space\n",
    "                            )\n",
    "                }\n",
    "\n",
    "    clean_txt = ' '.join(list(tokens.keys()))\n",
    "    \n",
    "    # Ask if return text or tokens\n",
    "    if tokenize == True:\n",
    "        result = tokens\n",
    "    else:\n",
    "        result = clean_txt\n",
    "\n",
    "    # If list of entities in output\n",
    "    if 'ent' in kwargs:\n",
    "        result = {'output':result, 'ents': doc.ents}\n",
    "\n",
    "    return result"
   ]
  },
  {
   "attachments": {},
   "cell_type": "markdown",
   "metadata": {},
   "source": [
    "Let us test this function with two examples:\n",
    "\n",
    "**Example 1:**"
   ]
  },
  {
   "cell_type": "code",
   "execution_count": 88,
   "metadata": {},
   "outputs": [
    {
     "data": {
      "text/plain": [
       "\"<p>I've noticed that a few Wordpress blogs have query statistics present in their footer that simply state the number of queries and the total time required to process them for the particular page, reading something like:</p>\\n\\n<blockquote>\\n  <p>23 queries. 0.448 seconds</p>\\n</blockquote>\\n\\n<p>I was wondering how this is accomplished.  Is it through the use of a particular Wordpress plug-in or perhaps from using some particular php function in the page's code?</p>\\n\""
      ]
     },
     "execution_count": 88,
     "metadata": {},
     "output_type": "execute_result"
    }
   ],
   "source": [
    "# Text for example\n",
    "text_ex = df.loc[37,'Body']\n",
    "text_ex"
   ]
  },
  {
   "cell_type": "code",
   "execution_count": 77,
   "metadata": {},
   "outputs": [
    {
     "data": {
      "text/plain": [
       "'notice wordpress blog query statistic present footer simply state number total time require process particular page read like second wonder accomplish use plug php function code'"
      ]
     },
     "execution_count": 77,
     "metadata": {},
     "output_type": "execute_result"
    }
   ],
   "source": [
    "clean(text_ex, tokenize=False, strict=False)"
   ]
  },
  {
   "cell_type": "code",
   "execution_count": 78,
   "metadata": {},
   "outputs": [
    {
     "name": "stdout",
     "output_type": "stream",
     "text": [
      "{'notice': 'VERB', 'wordpress': 'ADJ', 'blog': 'NOUN', 'query': 'NOUN', 'statistic': 'NOUN', 'present': 'ADJ', 'footer': 'NOUN', 'simply': 'ADV', 'state': 'VERB', 'number': 'NOUN', 'total': 'ADJ', 'time': 'NOUN', 'require': 'VERB', 'process': 'VERB', 'particular': 'ADJ', 'page': 'NOUN', 'read': 'VERB', 'like': 'ADP', 'second': 'NOUN', 'wonder': 'VERB', 'accomplish': 'VERB', 'use': 'NOUN', 'plug': 'NOUN', 'php': 'NOUN', 'function': 'NOUN', 'code': 'NOUN'}\n"
     ]
    }
   ],
   "source": [
    "print(clean(text_ex, tokenize=True, strict=False))"
   ]
  },
  {
   "attachments": {},
   "cell_type": "markdown",
   "metadata": {},
   "source": [
    "Tokens:"
   ]
  },
  {
   "cell_type": "code",
   "execution_count": 79,
   "metadata": {},
   "outputs": [
    {
     "data": {
      "text/plain": [
       "dict_keys(['notice', 'wordpress', 'blog', 'query', 'statistic', 'present', 'footer', 'simply', 'state', 'number', 'total', 'time', 'require', 'process', 'particular', 'page', 'read', 'like', 'second', 'wonder', 'accomplish', 'use', 'plug', 'php', 'function', 'code'])"
      ]
     },
     "execution_count": 79,
     "metadata": {},
     "output_type": "execute_result"
    }
   ],
   "source": [
    "clean(text_ex, tokenize=True, strict=False).keys()"
   ]
  },
  {
   "attachments": {},
   "cell_type": "markdown",
   "metadata": {},
   "source": [
    "Using the `strict=True` condition"
   ]
  },
  {
   "cell_type": "code",
   "execution_count": 84,
   "metadata": {},
   "outputs": [
    {
     "data": {
      "text/plain": [
       "'blog query statistic footer number time page second use plug php function code'"
      ]
     },
     "execution_count": 84,
     "metadata": {},
     "output_type": "execute_result"
    }
   ],
   "source": [
    "clean(text_ex, tokenize=False, strict=True)"
   ]
  },
  {
   "cell_type": "code",
   "execution_count": 86,
   "metadata": {},
   "outputs": [
    {
     "name": "stdout",
     "output_type": "stream",
     "text": [
      "{'blog': 'NOUN', 'query': 'NOUN', 'statistic': 'NOUN', 'footer': 'NOUN', 'number': 'NOUN', 'time': 'NOUN', 'page': 'NOUN', 'second': 'NOUN', 'use': 'NOUN', 'plug': 'NOUN', 'php': 'NOUN', 'function': 'NOUN', 'code': 'NOUN'}\n"
     ]
    }
   ],
   "source": [
    "print(clean(text_ex, tokenize=True, strict=True))"
   ]
  },
  {
   "cell_type": "code",
   "execution_count": 87,
   "metadata": {},
   "outputs": [
    {
     "data": {
      "text/plain": [
       "dict_keys(['blog', 'query', 'statistic', 'footer', 'number', 'time', 'page', 'second', 'use', 'plug', 'php', 'function', 'code'])"
      ]
     },
     "execution_count": 87,
     "metadata": {},
     "output_type": "execute_result"
    }
   ],
   "source": [
    "clean(text_ex, tokenize=True, strict=True).keys()"
   ]
  },
  {
   "attachments": {},
   "cell_type": "markdown",
   "metadata": {},
   "source": [
    "**Example 2:**"
   ]
  },
  {
   "cell_type": "code",
   "execution_count": 89,
   "metadata": {},
   "outputs": [
    {
     "data": {
      "text/plain": [
       "'<p>I\\'m learning Scala with the aim of writing agent based simulations using actor concurrency.  I currently know very little about OpenCL, and before I dive in can anyone tell me if it is likely to be appropriate/compatible with agent based simulations?  </p>\\n\\n<p>If so, then <a href=\"http://ochafik.free.fr/blog/?p=207\" rel=\"nofollow noreferrer\">ScalaCL</a> looks very attractive.</p>\\n'"
      ]
     },
     "execution_count": 89,
     "metadata": {},
     "output_type": "execute_result"
    }
   ],
   "source": [
    "# Sample text\n",
    "sample_text = df.loc[10787,'Body']\n",
    "sample_text"
   ]
  },
  {
   "cell_type": "code",
   "execution_count": 93,
   "metadata": {},
   "outputs": [
    {
     "data": {
      "text/plain": [
       "'learn scala aim write agent base simulation actor concurrency currently know little opencl dive tell likely appropriate compatible scalacl look attractive'"
      ]
     },
     "execution_count": 93,
     "metadata": {},
     "output_type": "execute_result"
    }
   ],
   "source": [
    "clean(sample_text, tokenize=False, strict=False)"
   ]
  },
  {
   "cell_type": "code",
   "execution_count": 94,
   "metadata": {},
   "outputs": [
    {
     "name": "stdout",
     "output_type": "stream",
     "text": [
      "{'learn': 'VERB', 'scala': 'PROPN', 'aim': 'NOUN', 'write': 'VERB', 'agent': 'NOUN', 'base': 'VERB', 'simulation': 'NOUN', 'actor': 'NOUN', 'concurrency': 'NOUN', 'currently': 'ADV', 'know': 'VERB', 'little': 'ADJ', 'opencl': 'PROPN', 'dive': 'VERB', 'tell': 'VERB', 'likely': 'ADJ', 'appropriate': 'ADJ', 'compatible': 'ADJ', 'scalacl': 'NOUN', 'look': 'VERB', 'attractive': 'ADJ'}\n"
     ]
    }
   ],
   "source": [
    "print(clean(sample_text, tokenize=True, strict=False))"
   ]
  },
  {
   "attachments": {},
   "cell_type": "markdown",
   "metadata": {},
   "source": [
    "Tokens:"
   ]
  },
  {
   "cell_type": "code",
   "execution_count": 95,
   "metadata": {},
   "outputs": [
    {
     "data": {
      "text/plain": [
       "dict_keys(['learn', 'scala', 'aim', 'write', 'agent', 'base', 'simulation', 'actor', 'concurrency', 'currently', 'know', 'little', 'opencl', 'dive', 'tell', 'likely', 'appropriate', 'compatible', 'scalacl', 'look', 'attractive'])"
      ]
     },
     "execution_count": 95,
     "metadata": {},
     "output_type": "execute_result"
    }
   ],
   "source": [
    "clean(sample_text, tokenize=True, strict=False).keys()"
   ]
  },
  {
   "attachments": {},
   "cell_type": "markdown",
   "metadata": {},
   "source": [
    "Using the `strict=True` condition"
   ]
  },
  {
   "cell_type": "code",
   "execution_count": 96,
   "metadata": {},
   "outputs": [
    {
     "data": {
      "text/plain": [
       "'scala aim agent simulation actor concurrency opencl scalacl'"
      ]
     },
     "execution_count": 96,
     "metadata": {},
     "output_type": "execute_result"
    }
   ],
   "source": [
    "clean(sample_text, tokenize=False, strict=True)"
   ]
  },
  {
   "cell_type": "code",
   "execution_count": 97,
   "metadata": {},
   "outputs": [
    {
     "name": "stdout",
     "output_type": "stream",
     "text": [
      "{'scala': 'PROPN', 'aim': 'NOUN', 'agent': 'NOUN', 'simulation': 'NOUN', 'actor': 'NOUN', 'concurrency': 'NOUN', 'opencl': 'PROPN', 'scalacl': 'NOUN'}\n"
     ]
    }
   ],
   "source": [
    "print(clean(sample_text, tokenize=True, strict=True))"
   ]
  },
  {
   "cell_type": "code",
   "execution_count": 98,
   "metadata": {},
   "outputs": [
    {
     "data": {
      "text/plain": [
       "dict_keys(['scala', 'aim', 'agent', 'simulation', 'actor', 'concurrency', 'opencl', 'scalacl'])"
      ]
     },
     "execution_count": 98,
     "metadata": {},
     "output_type": "execute_result"
    }
   ],
   "source": [
    "clean(sample_text, tokenize=True, strict=True).keys()"
   ]
  },
  {
   "attachments": {},
   "cell_type": "markdown",
   "metadata": {},
   "source": [
    "Entities: (NER)"
   ]
  },
  {
   "cell_type": "code",
   "execution_count": 92,
   "metadata": {},
   "outputs": [
    {
     "data": {
      "text/plain": [
       "(Scala,)"
      ]
     },
     "execution_count": 92,
     "metadata": {},
     "output_type": "execute_result"
    }
   ],
   "source": [
    "clean(sample_text, tokenize=True, ent=True, strict=False)['ents']"
   ]
  },
  {
   "attachments": {},
   "cell_type": "markdown",
   "metadata": {},
   "source": [
    "Adding clean column for title, body and tags"
   ]
  },
  {
   "cell_type": "code",
   "execution_count": 100,
   "metadata": {},
   "outputs": [
    {
     "data": {
      "text/html": [
       "<div>\n",
       "<style scoped>\n",
       "    .dataframe tbody tr th:only-of-type {\n",
       "        vertical-align: middle;\n",
       "    }\n",
       "\n",
       "    .dataframe tbody tr th {\n",
       "        vertical-align: top;\n",
       "    }\n",
       "\n",
       "    .dataframe thead th {\n",
       "        text-align: right;\n",
       "    }\n",
       "</style>\n",
       "<table border=\"1\" class=\"dataframe\">\n",
       "  <thead>\n",
       "    <tr style=\"text-align: right;\">\n",
       "      <th></th>\n",
       "      <th>Title</th>\n",
       "      <th>Body</th>\n",
       "      <th>Tags</th>\n",
       "      <th>Id</th>\n",
       "      <th>Score</th>\n",
       "      <th>ViewCount</th>\n",
       "      <th>AnswerCount</th>\n",
       "      <th>nb_tags</th>\n",
       "      <th>clean_Tags</th>\n",
       "    </tr>\n",
       "  </thead>\n",
       "  <tbody>\n",
       "    <tr>\n",
       "      <th>0</th>\n",
       "      <td>Multithreading in a stateless session bean?</td>\n",
       "      <td>&lt;p&gt;The EJB 3.0 specification does not allow a ...</td>\n",
       "      <td>&lt;java&gt;&lt;multithreading&gt;&lt;jakarta-ee&gt;&lt;ejb-3.0&gt;&lt;ejb&gt;</td>\n",
       "      <td>3816286</td>\n",
       "      <td>9</td>\n",
       "      <td>13503</td>\n",
       "      <td>4</td>\n",
       "      <td>5</td>\n",
       "      <td>[java, multithreading, jakarta-ee, ejb-3.0, ejb]</td>\n",
       "    </tr>\n",
       "    <tr>\n",
       "      <th>1</th>\n",
       "      <td>base64 JSON encoded strings in nodejs</td>\n",
       "      <td>&lt;p&gt;How do I create a base64 JSON encoded strin...</td>\n",
       "      <td>&lt;javascript&gt;&lt;json&gt;&lt;node.js&gt;&lt;base64&gt;&lt;buffer&gt;</td>\n",
       "      <td>22515180</td>\n",
       "      <td>14</td>\n",
       "      <td>23710</td>\n",
       "      <td>3</td>\n",
       "      <td>5</td>\n",
       "      <td>[javascript, json, node.js, base64, buffer]</td>\n",
       "    </tr>\n",
       "    <tr>\n",
       "      <th>2</th>\n",
       "      <td>How do you get a directory listing in C?</td>\n",
       "      <td>&lt;p&gt;How do you scan a directory for folders and...</td>\n",
       "      <td>&lt;c&gt;&lt;file&gt;&lt;directory&gt;&lt;cross-platform&gt;&lt;common-ta...</td>\n",
       "      <td>12489</td>\n",
       "      <td>69</td>\n",
       "      <td>142856</td>\n",
       "      <td>9</td>\n",
       "      <td>5</td>\n",
       "      <td>[c, file, directory, cross-platform, common-ta...</td>\n",
       "    </tr>\n",
       "  </tbody>\n",
       "</table>\n",
       "</div>"
      ],
      "text/plain": [
       "                                         Title  \\\n",
       "0  Multithreading in a stateless session bean?   \n",
       "1        base64 JSON encoded strings in nodejs   \n",
       "2     How do you get a directory listing in C?   \n",
       "\n",
       "                                                Body  \\\n",
       "0  <p>The EJB 3.0 specification does not allow a ...   \n",
       "1  <p>How do I create a base64 JSON encoded strin...   \n",
       "2  <p>How do you scan a directory for folders and...   \n",
       "\n",
       "                                                Tags        Id  Score  \\\n",
       "0   <java><multithreading><jakarta-ee><ejb-3.0><ejb>   3816286      9   \n",
       "1        <javascript><json><node.js><base64><buffer>  22515180     14   \n",
       "2  <c><file><directory><cross-platform><common-ta...     12489     69   \n",
       "\n",
       "   ViewCount  AnswerCount  nb_tags  \\\n",
       "0      13503            4        5   \n",
       "1      23710            3        5   \n",
       "2     142856            9        5   \n",
       "\n",
       "                                          clean_Tags  \n",
       "0   [java, multithreading, jakarta-ee, ejb-3.0, ejb]  \n",
       "1        [javascript, json, node.js, base64, buffer]  \n",
       "2  [c, file, directory, cross-platform, common-ta...  "
      ]
     },
     "execution_count": 100,
     "metadata": {},
     "output_type": "execute_result"
    }
   ],
   "source": [
    "df.head(3)"
   ]
  },
  {
   "cell_type": "code",
   "execution_count": 101,
   "metadata": {},
   "outputs": [
    {
     "ename": "UnicodeEncodeError",
     "evalue": "'utf-8' codec can't encode character '\\ud83d' in position 0: surrogates not allowed",
     "output_type": "error",
     "traceback": [
      "\u001b[0;31m---------------------------------------------------------------------------\u001b[0m",
      "\u001b[0;31mUnicodeEncodeError\u001b[0m                        Traceback (most recent call last)",
      "\u001b[0;32m/tmp/ipykernel_21632/1036730226.py\u001b[0m in \u001b[0;36m<module>\u001b[0;34m\u001b[0m\n\u001b[0;32m----> 1\u001b[0;31m \u001b[0mdf\u001b[0m\u001b[0;34m[\u001b[0m\u001b[0;34m'clean_Title'\u001b[0m\u001b[0;34m]\u001b[0m \u001b[0;34m=\u001b[0m \u001b[0mdf\u001b[0m\u001b[0;34m[\u001b[0m\u001b[0;34m'Title'\u001b[0m\u001b[0;34m]\u001b[0m\u001b[0;34m.\u001b[0m\u001b[0mapply\u001b[0m\u001b[0;34m(\u001b[0m\u001b[0;32mlambda\u001b[0m \u001b[0mtxt\u001b[0m\u001b[0;34m:\u001b[0m\u001b[0mclean\u001b[0m\u001b[0;34m(\u001b[0m\u001b[0mtxt\u001b[0m\u001b[0;34m,\u001b[0m \u001b[0mtokenize\u001b[0m\u001b[0;34m=\u001b[0m\u001b[0;32mFalse\u001b[0m\u001b[0;34m,\u001b[0m \u001b[0mstrict\u001b[0m\u001b[0;34m=\u001b[0m\u001b[0;32mTrue\u001b[0m\u001b[0;34m)\u001b[0m\u001b[0;34m)\u001b[0m\u001b[0;34m\u001b[0m\u001b[0;34m\u001b[0m\u001b[0m\n\u001b[0m",
      "\u001b[0;32m~/.local/lib/python3.10/site-packages/pandas/core/series.py\u001b[0m in \u001b[0;36mapply\u001b[0;34m(self, func, convert_dtype, args, **kwargs)\u001b[0m\n\u001b[1;32m   4772\u001b[0m         \u001b[0mdtype\u001b[0m\u001b[0;34m:\u001b[0m \u001b[0mfloat64\u001b[0m\u001b[0;34m\u001b[0m\u001b[0;34m\u001b[0m\u001b[0m\n\u001b[1;32m   4773\u001b[0m         \"\"\"\n\u001b[0;32m-> 4774\u001b[0;31m         \u001b[0;32mreturn\u001b[0m \u001b[0mSeriesApply\u001b[0m\u001b[0;34m(\u001b[0m\u001b[0mself\u001b[0m\u001b[0;34m,\u001b[0m \u001b[0mfunc\u001b[0m\u001b[0;34m,\u001b[0m \u001b[0mconvert_dtype\u001b[0m\u001b[0;34m,\u001b[0m \u001b[0margs\u001b[0m\u001b[0;34m,\u001b[0m \u001b[0mkwargs\u001b[0m\u001b[0;34m)\u001b[0m\u001b[0;34m.\u001b[0m\u001b[0mapply\u001b[0m\u001b[0;34m(\u001b[0m\u001b[0;34m)\u001b[0m\u001b[0;34m\u001b[0m\u001b[0;34m\u001b[0m\u001b[0m\n\u001b[0m\u001b[1;32m   4775\u001b[0m \u001b[0;34m\u001b[0m\u001b[0m\n\u001b[1;32m   4776\u001b[0m     def _reduce(\n",
      "\u001b[0;32m~/.local/lib/python3.10/site-packages/pandas/core/apply.py\u001b[0m in \u001b[0;36mapply\u001b[0;34m(self)\u001b[0m\n\u001b[1;32m   1098\u001b[0m \u001b[0;34m\u001b[0m\u001b[0m\n\u001b[1;32m   1099\u001b[0m         \u001b[0;31m# self.f is Callable\u001b[0m\u001b[0;34m\u001b[0m\u001b[0;34m\u001b[0m\u001b[0m\n\u001b[0;32m-> 1100\u001b[0;31m         \u001b[0;32mreturn\u001b[0m \u001b[0mself\u001b[0m\u001b[0;34m.\u001b[0m\u001b[0mapply_standard\u001b[0m\u001b[0;34m(\u001b[0m\u001b[0;34m)\u001b[0m\u001b[0;34m\u001b[0m\u001b[0;34m\u001b[0m\u001b[0m\n\u001b[0m\u001b[1;32m   1101\u001b[0m \u001b[0;34m\u001b[0m\u001b[0m\n\u001b[1;32m   1102\u001b[0m     \u001b[0;32mdef\u001b[0m \u001b[0magg\u001b[0m\u001b[0;34m(\u001b[0m\u001b[0mself\u001b[0m\u001b[0;34m)\u001b[0m\u001b[0;34m:\u001b[0m\u001b[0;34m\u001b[0m\u001b[0;34m\u001b[0m\u001b[0m\n",
      "\u001b[0;32m~/.local/lib/python3.10/site-packages/pandas/core/apply.py\u001b[0m in \u001b[0;36mapply_standard\u001b[0;34m(self)\u001b[0m\n\u001b[1;32m   1149\u001b[0m             \u001b[0;32melse\u001b[0m\u001b[0;34m:\u001b[0m\u001b[0;34m\u001b[0m\u001b[0;34m\u001b[0m\u001b[0m\n\u001b[1;32m   1150\u001b[0m                 \u001b[0mvalues\u001b[0m \u001b[0;34m=\u001b[0m \u001b[0mobj\u001b[0m\u001b[0;34m.\u001b[0m\u001b[0mastype\u001b[0m\u001b[0;34m(\u001b[0m\u001b[0mobject\u001b[0m\u001b[0;34m)\u001b[0m\u001b[0;34m.\u001b[0m\u001b[0m_values\u001b[0m\u001b[0;34m\u001b[0m\u001b[0;34m\u001b[0m\u001b[0m\n\u001b[0;32m-> 1151\u001b[0;31m                 mapped = lib.map_infer(\n\u001b[0m\u001b[1;32m   1152\u001b[0m                     \u001b[0mvalues\u001b[0m\u001b[0;34m,\u001b[0m\u001b[0;34m\u001b[0m\u001b[0;34m\u001b[0m\u001b[0m\n\u001b[1;32m   1153\u001b[0m                     \u001b[0mf\u001b[0m\u001b[0;34m,\u001b[0m\u001b[0;34m\u001b[0m\u001b[0;34m\u001b[0m\u001b[0m\n",
      "\u001b[0;32m~/.local/lib/python3.10/site-packages/pandas/_libs/lib.pyx\u001b[0m in \u001b[0;36mpandas._libs.lib.map_infer\u001b[0;34m()\u001b[0m\n",
      "\u001b[0;32m/tmp/ipykernel_21632/1036730226.py\u001b[0m in \u001b[0;36m<lambda>\u001b[0;34m(txt)\u001b[0m\n\u001b[0;32m----> 1\u001b[0;31m \u001b[0mdf\u001b[0m\u001b[0;34m[\u001b[0m\u001b[0;34m'clean_Title'\u001b[0m\u001b[0;34m]\u001b[0m \u001b[0;34m=\u001b[0m \u001b[0mdf\u001b[0m\u001b[0;34m[\u001b[0m\u001b[0;34m'Title'\u001b[0m\u001b[0;34m]\u001b[0m\u001b[0;34m.\u001b[0m\u001b[0mapply\u001b[0m\u001b[0;34m(\u001b[0m\u001b[0;32mlambda\u001b[0m \u001b[0mtxt\u001b[0m\u001b[0;34m:\u001b[0m\u001b[0mclean\u001b[0m\u001b[0;34m(\u001b[0m\u001b[0mtxt\u001b[0m\u001b[0;34m,\u001b[0m \u001b[0mtokenize\u001b[0m\u001b[0;34m=\u001b[0m\u001b[0;32mFalse\u001b[0m\u001b[0;34m,\u001b[0m \u001b[0mstrict\u001b[0m\u001b[0;34m=\u001b[0m\u001b[0;32mTrue\u001b[0m\u001b[0;34m)\u001b[0m\u001b[0;34m)\u001b[0m\u001b[0;34m\u001b[0m\u001b[0;34m\u001b[0m\u001b[0m\n\u001b[0m",
      "\u001b[0;32m/tmp/ipykernel_21632/1595235798.py\u001b[0m in \u001b[0;36mclean\u001b[0;34m(text, tokenize, strict, **kwargs)\u001b[0m\n\u001b[1;32m     27\u001b[0m \u001b[0;34m\u001b[0m\u001b[0m\n\u001b[1;32m     28\u001b[0m     \u001b[0;31m# Tokenize with spacy\u001b[0m\u001b[0;34m\u001b[0m\u001b[0;34m\u001b[0m\u001b[0m\n\u001b[0;32m---> 29\u001b[0;31m     \u001b[0mdoc\u001b[0m \u001b[0;34m=\u001b[0m \u001b[0mnlp\u001b[0m\u001b[0;34m(\u001b[0m\u001b[0mclean_txt\u001b[0m\u001b[0;34m)\u001b[0m\u001b[0;34m\u001b[0m\u001b[0;34m\u001b[0m\u001b[0m\n\u001b[0m\u001b[1;32m     30\u001b[0m \u001b[0;34m\u001b[0m\u001b[0m\n\u001b[1;32m     31\u001b[0m     \u001b[0;31m# Tokenize properties\u001b[0m\u001b[0;34m\u001b[0m\u001b[0;34m\u001b[0m\u001b[0m\n",
      "\u001b[0;32m~/.local/lib/python3.10/site-packages/spacy/language.py\u001b[0m in \u001b[0;36m__call__\u001b[0;34m(self, text, disable, component_cfg)\u001b[0m\n\u001b[1;32m    997\u001b[0m         \u001b[0mDOCS\u001b[0m\u001b[0;34m:\u001b[0m \u001b[0mhttps\u001b[0m\u001b[0;34m:\u001b[0m\u001b[0;34m//\u001b[0m\u001b[0mspacy\u001b[0m\u001b[0;34m.\u001b[0m\u001b[0mio\u001b[0m\u001b[0;34m/\u001b[0m\u001b[0mapi\u001b[0m\u001b[0;34m/\u001b[0m\u001b[0mlanguage\u001b[0m\u001b[0;31m#call\u001b[0m\u001b[0;34m\u001b[0m\u001b[0;34m\u001b[0m\u001b[0m\n\u001b[1;32m    998\u001b[0m         \"\"\"\n\u001b[0;32m--> 999\u001b[0;31m         \u001b[0mdoc\u001b[0m \u001b[0;34m=\u001b[0m \u001b[0mself\u001b[0m\u001b[0;34m.\u001b[0m\u001b[0m_ensure_doc\u001b[0m\u001b[0;34m(\u001b[0m\u001b[0mtext\u001b[0m\u001b[0;34m)\u001b[0m\u001b[0;34m\u001b[0m\u001b[0;34m\u001b[0m\u001b[0m\n\u001b[0m\u001b[1;32m   1000\u001b[0m         \u001b[0;32mif\u001b[0m \u001b[0mcomponent_cfg\u001b[0m \u001b[0;32mis\u001b[0m \u001b[0;32mNone\u001b[0m\u001b[0;34m:\u001b[0m\u001b[0;34m\u001b[0m\u001b[0;34m\u001b[0m\u001b[0m\n\u001b[1;32m   1001\u001b[0m             \u001b[0mcomponent_cfg\u001b[0m \u001b[0;34m=\u001b[0m \u001b[0;34m{\u001b[0m\u001b[0;34m}\u001b[0m\u001b[0;34m\u001b[0m\u001b[0;34m\u001b[0m\u001b[0m\n",
      "\u001b[0;32m~/.local/lib/python3.10/site-packages/spacy/language.py\u001b[0m in \u001b[0;36m_ensure_doc\u001b[0;34m(self, doc_like)\u001b[0m\n\u001b[1;32m   1088\u001b[0m             \u001b[0;32mreturn\u001b[0m \u001b[0mdoc_like\u001b[0m\u001b[0;34m\u001b[0m\u001b[0;34m\u001b[0m\u001b[0m\n\u001b[1;32m   1089\u001b[0m         \u001b[0;32mif\u001b[0m \u001b[0misinstance\u001b[0m\u001b[0;34m(\u001b[0m\u001b[0mdoc_like\u001b[0m\u001b[0;34m,\u001b[0m \u001b[0mstr\u001b[0m\u001b[0;34m)\u001b[0m\u001b[0;34m:\u001b[0m\u001b[0;34m\u001b[0m\u001b[0;34m\u001b[0m\u001b[0m\n\u001b[0;32m-> 1090\u001b[0;31m             \u001b[0;32mreturn\u001b[0m \u001b[0mself\u001b[0m\u001b[0;34m.\u001b[0m\u001b[0mmake_doc\u001b[0m\u001b[0;34m(\u001b[0m\u001b[0mdoc_like\u001b[0m\u001b[0;34m)\u001b[0m\u001b[0;34m\u001b[0m\u001b[0;34m\u001b[0m\u001b[0m\n\u001b[0m\u001b[1;32m   1091\u001b[0m         \u001b[0;32mif\u001b[0m \u001b[0misinstance\u001b[0m\u001b[0;34m(\u001b[0m\u001b[0mdoc_like\u001b[0m\u001b[0;34m,\u001b[0m \u001b[0mbytes\u001b[0m\u001b[0;34m)\u001b[0m\u001b[0;34m:\u001b[0m\u001b[0;34m\u001b[0m\u001b[0;34m\u001b[0m\u001b[0m\n\u001b[1;32m   1092\u001b[0m             \u001b[0;32mreturn\u001b[0m \u001b[0mDoc\u001b[0m\u001b[0;34m(\u001b[0m\u001b[0mself\u001b[0m\u001b[0;34m.\u001b[0m\u001b[0mvocab\u001b[0m\u001b[0;34m)\u001b[0m\u001b[0;34m.\u001b[0m\u001b[0mfrom_bytes\u001b[0m\u001b[0;34m(\u001b[0m\u001b[0mdoc_like\u001b[0m\u001b[0;34m)\u001b[0m\u001b[0;34m\u001b[0m\u001b[0;34m\u001b[0m\u001b[0m\n",
      "\u001b[0;32m~/.local/lib/python3.10/site-packages/spacy/language.py\u001b[0m in \u001b[0;36mmake_doc\u001b[0;34m(self, text)\u001b[0m\n\u001b[1;32m   1080\u001b[0m                 \u001b[0mErrors\u001b[0m\u001b[0;34m.\u001b[0m\u001b[0mE088\u001b[0m\u001b[0;34m.\u001b[0m\u001b[0mformat\u001b[0m\u001b[0;34m(\u001b[0m\u001b[0mlength\u001b[0m\u001b[0;34m=\u001b[0m\u001b[0mlen\u001b[0m\u001b[0;34m(\u001b[0m\u001b[0mtext\u001b[0m\u001b[0;34m)\u001b[0m\u001b[0;34m,\u001b[0m \u001b[0mmax_length\u001b[0m\u001b[0;34m=\u001b[0m\u001b[0mself\u001b[0m\u001b[0;34m.\u001b[0m\u001b[0mmax_length\u001b[0m\u001b[0;34m)\u001b[0m\u001b[0;34m\u001b[0m\u001b[0;34m\u001b[0m\u001b[0m\n\u001b[1;32m   1081\u001b[0m             )\n\u001b[0;32m-> 1082\u001b[0;31m         \u001b[0;32mreturn\u001b[0m \u001b[0mself\u001b[0m\u001b[0;34m.\u001b[0m\u001b[0mtokenizer\u001b[0m\u001b[0;34m(\u001b[0m\u001b[0mtext\u001b[0m\u001b[0;34m)\u001b[0m\u001b[0;34m\u001b[0m\u001b[0;34m\u001b[0m\u001b[0m\n\u001b[0m\u001b[1;32m   1083\u001b[0m \u001b[0;34m\u001b[0m\u001b[0m\n\u001b[1;32m   1084\u001b[0m     \u001b[0;32mdef\u001b[0m \u001b[0m_ensure_doc\u001b[0m\u001b[0;34m(\u001b[0m\u001b[0mself\u001b[0m\u001b[0;34m,\u001b[0m \u001b[0mdoc_like\u001b[0m\u001b[0;34m:\u001b[0m \u001b[0mUnion\u001b[0m\u001b[0;34m[\u001b[0m\u001b[0mstr\u001b[0m\u001b[0;34m,\u001b[0m \u001b[0mDoc\u001b[0m\u001b[0;34m,\u001b[0m \u001b[0mbytes\u001b[0m\u001b[0;34m]\u001b[0m\u001b[0;34m)\u001b[0m \u001b[0;34m->\u001b[0m \u001b[0mDoc\u001b[0m\u001b[0;34m:\u001b[0m\u001b[0;34m\u001b[0m\u001b[0;34m\u001b[0m\u001b[0m\n",
      "\u001b[0;32m~/.local/lib/python3.10/site-packages/spacy/tokenizer.pyx\u001b[0m in \u001b[0;36mspacy.tokenizer.Tokenizer.__call__\u001b[0;34m()\u001b[0m\n",
      "\u001b[0;32m~/.local/lib/python3.10/site-packages/spacy/tokenizer.pyx\u001b[0m in \u001b[0;36mspacy.tokenizer.Tokenizer._tokenize_affixes\u001b[0;34m()\u001b[0m\n",
      "\u001b[0;32m~/.local/lib/python3.10/site-packages/spacy/strings.pyx\u001b[0m in \u001b[0;36mspacy.strings.hash_string\u001b[0;34m()\u001b[0m\n",
      "\u001b[0;31mUnicodeEncodeError\u001b[0m: 'utf-8' codec can't encode character '\\ud83d' in position 0: surrogates not allowed"
     ]
    }
   ],
   "source": [
    "df['clean_Title'] = df['Title'].apply(lambda txt:clean(txt, tokenize=False, strict=True))"
   ]
  },
  {
   "attachments": {},
   "cell_type": "markdown",
   "metadata": {},
   "source": [
    "Other approach, filtering dataframe."
   ]
  },
  {
   "cell_type": "code",
   "execution_count": 145,
   "metadata": {},
   "outputs": [],
   "source": [
    "df_popular_tags = df.loc[df.contain_pop_tag].copy()"
   ]
  },
  {
   "cell_type": "code",
   "execution_count": 146,
   "metadata": {},
   "outputs": [
    {
     "data": {
      "text/html": [
       "<div>\n",
       "<style scoped>\n",
       "    .dataframe tbody tr th:only-of-type {\n",
       "        vertical-align: middle;\n",
       "    }\n",
       "\n",
       "    .dataframe tbody tr th {\n",
       "        vertical-align: top;\n",
       "    }\n",
       "\n",
       "    .dataframe thead th {\n",
       "        text-align: right;\n",
       "    }\n",
       "</style>\n",
       "<table border=\"1\" class=\"dataframe\">\n",
       "  <thead>\n",
       "    <tr style=\"text-align: right;\">\n",
       "      <th></th>\n",
       "      <th>Title</th>\n",
       "      <th>Body</th>\n",
       "      <th>Tags</th>\n",
       "      <th>Id</th>\n",
       "      <th>Score</th>\n",
       "      <th>ViewCount</th>\n",
       "      <th>AnswerCount</th>\n",
       "      <th>nb_tags</th>\n",
       "      <th>clean_Tags</th>\n",
       "      <th>no_emoj_Title</th>\n",
       "      <th>contain_pop_tag</th>\n",
       "    </tr>\n",
       "  </thead>\n",
       "  <tbody>\n",
       "    <tr>\n",
       "      <th>0</th>\n",
       "      <td>Multithreading in a stateless session bean?</td>\n",
       "      <td>&lt;p&gt;The EJB 3.0 specification does not allow a ...</td>\n",
       "      <td>&lt;java&gt;&lt;multithreading&gt;&lt;jakarta-ee&gt;&lt;ejb-3.0&gt;&lt;ejb&gt;</td>\n",
       "      <td>3816286</td>\n",
       "      <td>9</td>\n",
       "      <td>13503</td>\n",
       "      <td>4</td>\n",
       "      <td>5</td>\n",
       "      <td>[java, multithreading, jakarta-ee, ejb-3.0, ejb]</td>\n",
       "      <td>Multithreading in a stateless session bean?</td>\n",
       "      <td>True</td>\n",
       "    </tr>\n",
       "    <tr>\n",
       "      <th>1</th>\n",
       "      <td>base64 JSON encoded strings in nodejs</td>\n",
       "      <td>&lt;p&gt;How do I create a base64 JSON encoded strin...</td>\n",
       "      <td>&lt;javascript&gt;&lt;json&gt;&lt;node.js&gt;&lt;base64&gt;&lt;buffer&gt;</td>\n",
       "      <td>22515180</td>\n",
       "      <td>14</td>\n",
       "      <td>23710</td>\n",
       "      <td>3</td>\n",
       "      <td>5</td>\n",
       "      <td>[javascript, json, node.js, base64, buffer]</td>\n",
       "      <td>base64 JSON encoded strings in nodejs</td>\n",
       "      <td>True</td>\n",
       "    </tr>\n",
       "    <tr>\n",
       "      <th>2</th>\n",
       "      <td>How do you get a directory listing in C?</td>\n",
       "      <td>&lt;p&gt;How do you scan a directory for folders and...</td>\n",
       "      <td>&lt;c&gt;&lt;file&gt;&lt;directory&gt;&lt;cross-platform&gt;&lt;common-ta...</td>\n",
       "      <td>12489</td>\n",
       "      <td>69</td>\n",
       "      <td>142856</td>\n",
       "      <td>9</td>\n",
       "      <td>5</td>\n",
       "      <td>[c, file, directory, cross-platform, common-ta...</td>\n",
       "      <td>How do you get a directory listing in C?</td>\n",
       "      <td>True</td>\n",
       "    </tr>\n",
       "  </tbody>\n",
       "</table>\n",
       "</div>"
      ],
      "text/plain": [
       "                                         Title  \\\n",
       "0  Multithreading in a stateless session bean?   \n",
       "1        base64 JSON encoded strings in nodejs   \n",
       "2     How do you get a directory listing in C?   \n",
       "\n",
       "                                                Body  \\\n",
       "0  <p>The EJB 3.0 specification does not allow a ...   \n",
       "1  <p>How do I create a base64 JSON encoded strin...   \n",
       "2  <p>How do you scan a directory for folders and...   \n",
       "\n",
       "                                                Tags        Id  Score  \\\n",
       "0   <java><multithreading><jakarta-ee><ejb-3.0><ejb>   3816286      9   \n",
       "1        <javascript><json><node.js><base64><buffer>  22515180     14   \n",
       "2  <c><file><directory><cross-platform><common-ta...     12489     69   \n",
       "\n",
       "   ViewCount  AnswerCount  nb_tags  \\\n",
       "0      13503            4        5   \n",
       "1      23710            3        5   \n",
       "2     142856            9        5   \n",
       "\n",
       "                                          clean_Tags  \\\n",
       "0   [java, multithreading, jakarta-ee, ejb-3.0, ejb]   \n",
       "1        [javascript, json, node.js, base64, buffer]   \n",
       "2  [c, file, directory, cross-platform, common-ta...   \n",
       "\n",
       "                                 no_emoj_Title  contain_pop_tag  \n",
       "0  Multithreading in a stateless session bean?             True  \n",
       "1        base64 JSON encoded strings in nodejs             True  \n",
       "2     How do you get a directory listing in C?             True  "
      ]
     },
     "execution_count": 146,
     "metadata": {},
     "output_type": "execute_result"
    }
   ],
   "source": [
    "df_popular_tags.head(3)"
   ]
  },
  {
   "cell_type": "code",
   "execution_count": 147,
   "metadata": {},
   "outputs": [
    {
     "ename": "UnicodeEncodeError",
     "evalue": "'utf-8' codec can't encode character '\\ud83d' in position 0: surrogates not allowed",
     "output_type": "error",
     "traceback": [
      "\u001b[0;31m---------------------------------------------------------------------------\u001b[0m",
      "\u001b[0;31mUnicodeEncodeError\u001b[0m                        Traceback (most recent call last)",
      "\u001b[0;32m/tmp/ipykernel_21632/3191146612.py\u001b[0m in \u001b[0;36m<module>\u001b[0;34m\u001b[0m\n\u001b[0;32m----> 1\u001b[0;31m \u001b[0mdf_popular_tags\u001b[0m\u001b[0;34m[\u001b[0m\u001b[0;34m'clean_Title'\u001b[0m\u001b[0;34m]\u001b[0m \u001b[0;34m=\u001b[0m \u001b[0mdf_popular_tags\u001b[0m\u001b[0;34m[\u001b[0m\u001b[0;34m'Title'\u001b[0m\u001b[0;34m]\u001b[0m\u001b[0;34m.\u001b[0m\u001b[0mapply\u001b[0m\u001b[0;34m(\u001b[0m\u001b[0;32mlambda\u001b[0m \u001b[0mtxt\u001b[0m\u001b[0;34m:\u001b[0m\u001b[0mclean\u001b[0m\u001b[0;34m(\u001b[0m\u001b[0mtxt\u001b[0m\u001b[0;34m,\u001b[0m \u001b[0mtokenize\u001b[0m\u001b[0;34m=\u001b[0m\u001b[0;32mFalse\u001b[0m\u001b[0;34m,\u001b[0m \u001b[0mstrict\u001b[0m\u001b[0;34m=\u001b[0m\u001b[0;32mTrue\u001b[0m\u001b[0;34m)\u001b[0m\u001b[0;34m)\u001b[0m\u001b[0;34m\u001b[0m\u001b[0;34m\u001b[0m\u001b[0m\n\u001b[0m",
      "\u001b[0;32m~/.local/lib/python3.10/site-packages/pandas/core/series.py\u001b[0m in \u001b[0;36mapply\u001b[0;34m(self, func, convert_dtype, args, **kwargs)\u001b[0m\n\u001b[1;32m   4772\u001b[0m         \u001b[0mdtype\u001b[0m\u001b[0;34m:\u001b[0m \u001b[0mfloat64\u001b[0m\u001b[0;34m\u001b[0m\u001b[0;34m\u001b[0m\u001b[0m\n\u001b[1;32m   4773\u001b[0m         \"\"\"\n\u001b[0;32m-> 4774\u001b[0;31m         \u001b[0;32mreturn\u001b[0m \u001b[0mSeriesApply\u001b[0m\u001b[0;34m(\u001b[0m\u001b[0mself\u001b[0m\u001b[0;34m,\u001b[0m \u001b[0mfunc\u001b[0m\u001b[0;34m,\u001b[0m \u001b[0mconvert_dtype\u001b[0m\u001b[0;34m,\u001b[0m \u001b[0margs\u001b[0m\u001b[0;34m,\u001b[0m \u001b[0mkwargs\u001b[0m\u001b[0;34m)\u001b[0m\u001b[0;34m.\u001b[0m\u001b[0mapply\u001b[0m\u001b[0;34m(\u001b[0m\u001b[0;34m)\u001b[0m\u001b[0;34m\u001b[0m\u001b[0;34m\u001b[0m\u001b[0m\n\u001b[0m\u001b[1;32m   4775\u001b[0m \u001b[0;34m\u001b[0m\u001b[0m\n\u001b[1;32m   4776\u001b[0m     def _reduce(\n",
      "\u001b[0;32m~/.local/lib/python3.10/site-packages/pandas/core/apply.py\u001b[0m in \u001b[0;36mapply\u001b[0;34m(self)\u001b[0m\n\u001b[1;32m   1098\u001b[0m \u001b[0;34m\u001b[0m\u001b[0m\n\u001b[1;32m   1099\u001b[0m         \u001b[0;31m# self.f is Callable\u001b[0m\u001b[0;34m\u001b[0m\u001b[0;34m\u001b[0m\u001b[0m\n\u001b[0;32m-> 1100\u001b[0;31m         \u001b[0;32mreturn\u001b[0m \u001b[0mself\u001b[0m\u001b[0;34m.\u001b[0m\u001b[0mapply_standard\u001b[0m\u001b[0;34m(\u001b[0m\u001b[0;34m)\u001b[0m\u001b[0;34m\u001b[0m\u001b[0;34m\u001b[0m\u001b[0m\n\u001b[0m\u001b[1;32m   1101\u001b[0m \u001b[0;34m\u001b[0m\u001b[0m\n\u001b[1;32m   1102\u001b[0m     \u001b[0;32mdef\u001b[0m \u001b[0magg\u001b[0m\u001b[0;34m(\u001b[0m\u001b[0mself\u001b[0m\u001b[0;34m)\u001b[0m\u001b[0;34m:\u001b[0m\u001b[0;34m\u001b[0m\u001b[0;34m\u001b[0m\u001b[0m\n",
      "\u001b[0;32m~/.local/lib/python3.10/site-packages/pandas/core/apply.py\u001b[0m in \u001b[0;36mapply_standard\u001b[0;34m(self)\u001b[0m\n\u001b[1;32m   1149\u001b[0m             \u001b[0;32melse\u001b[0m\u001b[0;34m:\u001b[0m\u001b[0;34m\u001b[0m\u001b[0;34m\u001b[0m\u001b[0m\n\u001b[1;32m   1150\u001b[0m                 \u001b[0mvalues\u001b[0m \u001b[0;34m=\u001b[0m \u001b[0mobj\u001b[0m\u001b[0;34m.\u001b[0m\u001b[0mastype\u001b[0m\u001b[0;34m(\u001b[0m\u001b[0mobject\u001b[0m\u001b[0;34m)\u001b[0m\u001b[0;34m.\u001b[0m\u001b[0m_values\u001b[0m\u001b[0;34m\u001b[0m\u001b[0;34m\u001b[0m\u001b[0m\n\u001b[0;32m-> 1151\u001b[0;31m                 mapped = lib.map_infer(\n\u001b[0m\u001b[1;32m   1152\u001b[0m                     \u001b[0mvalues\u001b[0m\u001b[0;34m,\u001b[0m\u001b[0;34m\u001b[0m\u001b[0;34m\u001b[0m\u001b[0m\n\u001b[1;32m   1153\u001b[0m                     \u001b[0mf\u001b[0m\u001b[0;34m,\u001b[0m\u001b[0;34m\u001b[0m\u001b[0;34m\u001b[0m\u001b[0m\n",
      "\u001b[0;32m~/.local/lib/python3.10/site-packages/pandas/_libs/lib.pyx\u001b[0m in \u001b[0;36mpandas._libs.lib.map_infer\u001b[0;34m()\u001b[0m\n",
      "\u001b[0;32m/tmp/ipykernel_21632/3191146612.py\u001b[0m in \u001b[0;36m<lambda>\u001b[0;34m(txt)\u001b[0m\n\u001b[0;32m----> 1\u001b[0;31m \u001b[0mdf_popular_tags\u001b[0m\u001b[0;34m[\u001b[0m\u001b[0;34m'clean_Title'\u001b[0m\u001b[0;34m]\u001b[0m \u001b[0;34m=\u001b[0m \u001b[0mdf_popular_tags\u001b[0m\u001b[0;34m[\u001b[0m\u001b[0;34m'Title'\u001b[0m\u001b[0;34m]\u001b[0m\u001b[0;34m.\u001b[0m\u001b[0mapply\u001b[0m\u001b[0;34m(\u001b[0m\u001b[0;32mlambda\u001b[0m \u001b[0mtxt\u001b[0m\u001b[0;34m:\u001b[0m\u001b[0mclean\u001b[0m\u001b[0;34m(\u001b[0m\u001b[0mtxt\u001b[0m\u001b[0;34m,\u001b[0m \u001b[0mtokenize\u001b[0m\u001b[0;34m=\u001b[0m\u001b[0;32mFalse\u001b[0m\u001b[0;34m,\u001b[0m \u001b[0mstrict\u001b[0m\u001b[0;34m=\u001b[0m\u001b[0;32mTrue\u001b[0m\u001b[0;34m)\u001b[0m\u001b[0;34m)\u001b[0m\u001b[0;34m\u001b[0m\u001b[0;34m\u001b[0m\u001b[0m\n\u001b[0m",
      "\u001b[0;32m/tmp/ipykernel_21632/1595235798.py\u001b[0m in \u001b[0;36mclean\u001b[0;34m(text, tokenize, strict, **kwargs)\u001b[0m\n\u001b[1;32m     27\u001b[0m \u001b[0;34m\u001b[0m\u001b[0m\n\u001b[1;32m     28\u001b[0m     \u001b[0;31m# Tokenize with spacy\u001b[0m\u001b[0;34m\u001b[0m\u001b[0;34m\u001b[0m\u001b[0m\n\u001b[0;32m---> 29\u001b[0;31m     \u001b[0mdoc\u001b[0m \u001b[0;34m=\u001b[0m \u001b[0mnlp\u001b[0m\u001b[0;34m(\u001b[0m\u001b[0mclean_txt\u001b[0m\u001b[0;34m)\u001b[0m\u001b[0;34m\u001b[0m\u001b[0;34m\u001b[0m\u001b[0m\n\u001b[0m\u001b[1;32m     30\u001b[0m \u001b[0;34m\u001b[0m\u001b[0m\n\u001b[1;32m     31\u001b[0m     \u001b[0;31m# Tokenize properties\u001b[0m\u001b[0;34m\u001b[0m\u001b[0;34m\u001b[0m\u001b[0m\n",
      "\u001b[0;32m~/.local/lib/python3.10/site-packages/spacy/language.py\u001b[0m in \u001b[0;36m__call__\u001b[0;34m(self, text, disable, component_cfg)\u001b[0m\n\u001b[1;32m    997\u001b[0m         \u001b[0mDOCS\u001b[0m\u001b[0;34m:\u001b[0m \u001b[0mhttps\u001b[0m\u001b[0;34m:\u001b[0m\u001b[0;34m//\u001b[0m\u001b[0mspacy\u001b[0m\u001b[0;34m.\u001b[0m\u001b[0mio\u001b[0m\u001b[0;34m/\u001b[0m\u001b[0mapi\u001b[0m\u001b[0;34m/\u001b[0m\u001b[0mlanguage\u001b[0m\u001b[0;31m#call\u001b[0m\u001b[0;34m\u001b[0m\u001b[0;34m\u001b[0m\u001b[0m\n\u001b[1;32m    998\u001b[0m         \"\"\"\n\u001b[0;32m--> 999\u001b[0;31m         \u001b[0mdoc\u001b[0m \u001b[0;34m=\u001b[0m \u001b[0mself\u001b[0m\u001b[0;34m.\u001b[0m\u001b[0m_ensure_doc\u001b[0m\u001b[0;34m(\u001b[0m\u001b[0mtext\u001b[0m\u001b[0;34m)\u001b[0m\u001b[0;34m\u001b[0m\u001b[0;34m\u001b[0m\u001b[0m\n\u001b[0m\u001b[1;32m   1000\u001b[0m         \u001b[0;32mif\u001b[0m \u001b[0mcomponent_cfg\u001b[0m \u001b[0;32mis\u001b[0m \u001b[0;32mNone\u001b[0m\u001b[0;34m:\u001b[0m\u001b[0;34m\u001b[0m\u001b[0;34m\u001b[0m\u001b[0m\n\u001b[1;32m   1001\u001b[0m             \u001b[0mcomponent_cfg\u001b[0m \u001b[0;34m=\u001b[0m \u001b[0;34m{\u001b[0m\u001b[0;34m}\u001b[0m\u001b[0;34m\u001b[0m\u001b[0;34m\u001b[0m\u001b[0m\n",
      "\u001b[0;32m~/.local/lib/python3.10/site-packages/spacy/language.py\u001b[0m in \u001b[0;36m_ensure_doc\u001b[0;34m(self, doc_like)\u001b[0m\n\u001b[1;32m   1088\u001b[0m             \u001b[0;32mreturn\u001b[0m \u001b[0mdoc_like\u001b[0m\u001b[0;34m\u001b[0m\u001b[0;34m\u001b[0m\u001b[0m\n\u001b[1;32m   1089\u001b[0m         \u001b[0;32mif\u001b[0m \u001b[0misinstance\u001b[0m\u001b[0;34m(\u001b[0m\u001b[0mdoc_like\u001b[0m\u001b[0;34m,\u001b[0m \u001b[0mstr\u001b[0m\u001b[0;34m)\u001b[0m\u001b[0;34m:\u001b[0m\u001b[0;34m\u001b[0m\u001b[0;34m\u001b[0m\u001b[0m\n\u001b[0;32m-> 1090\u001b[0;31m             \u001b[0;32mreturn\u001b[0m \u001b[0mself\u001b[0m\u001b[0;34m.\u001b[0m\u001b[0mmake_doc\u001b[0m\u001b[0;34m(\u001b[0m\u001b[0mdoc_like\u001b[0m\u001b[0;34m)\u001b[0m\u001b[0;34m\u001b[0m\u001b[0;34m\u001b[0m\u001b[0m\n\u001b[0m\u001b[1;32m   1091\u001b[0m         \u001b[0;32mif\u001b[0m \u001b[0misinstance\u001b[0m\u001b[0;34m(\u001b[0m\u001b[0mdoc_like\u001b[0m\u001b[0;34m,\u001b[0m \u001b[0mbytes\u001b[0m\u001b[0;34m)\u001b[0m\u001b[0;34m:\u001b[0m\u001b[0;34m\u001b[0m\u001b[0;34m\u001b[0m\u001b[0m\n\u001b[1;32m   1092\u001b[0m             \u001b[0;32mreturn\u001b[0m \u001b[0mDoc\u001b[0m\u001b[0;34m(\u001b[0m\u001b[0mself\u001b[0m\u001b[0;34m.\u001b[0m\u001b[0mvocab\u001b[0m\u001b[0;34m)\u001b[0m\u001b[0;34m.\u001b[0m\u001b[0mfrom_bytes\u001b[0m\u001b[0;34m(\u001b[0m\u001b[0mdoc_like\u001b[0m\u001b[0;34m)\u001b[0m\u001b[0;34m\u001b[0m\u001b[0;34m\u001b[0m\u001b[0m\n",
      "\u001b[0;32m~/.local/lib/python3.10/site-packages/spacy/language.py\u001b[0m in \u001b[0;36mmake_doc\u001b[0;34m(self, text)\u001b[0m\n\u001b[1;32m   1080\u001b[0m                 \u001b[0mErrors\u001b[0m\u001b[0;34m.\u001b[0m\u001b[0mE088\u001b[0m\u001b[0;34m.\u001b[0m\u001b[0mformat\u001b[0m\u001b[0;34m(\u001b[0m\u001b[0mlength\u001b[0m\u001b[0;34m=\u001b[0m\u001b[0mlen\u001b[0m\u001b[0;34m(\u001b[0m\u001b[0mtext\u001b[0m\u001b[0;34m)\u001b[0m\u001b[0;34m,\u001b[0m \u001b[0mmax_length\u001b[0m\u001b[0;34m=\u001b[0m\u001b[0mself\u001b[0m\u001b[0;34m.\u001b[0m\u001b[0mmax_length\u001b[0m\u001b[0;34m)\u001b[0m\u001b[0;34m\u001b[0m\u001b[0;34m\u001b[0m\u001b[0m\n\u001b[1;32m   1081\u001b[0m             )\n\u001b[0;32m-> 1082\u001b[0;31m         \u001b[0;32mreturn\u001b[0m \u001b[0mself\u001b[0m\u001b[0;34m.\u001b[0m\u001b[0mtokenizer\u001b[0m\u001b[0;34m(\u001b[0m\u001b[0mtext\u001b[0m\u001b[0;34m)\u001b[0m\u001b[0;34m\u001b[0m\u001b[0;34m\u001b[0m\u001b[0m\n\u001b[0m\u001b[1;32m   1083\u001b[0m \u001b[0;34m\u001b[0m\u001b[0m\n\u001b[1;32m   1084\u001b[0m     \u001b[0;32mdef\u001b[0m \u001b[0m_ensure_doc\u001b[0m\u001b[0;34m(\u001b[0m\u001b[0mself\u001b[0m\u001b[0;34m,\u001b[0m \u001b[0mdoc_like\u001b[0m\u001b[0;34m:\u001b[0m \u001b[0mUnion\u001b[0m\u001b[0;34m[\u001b[0m\u001b[0mstr\u001b[0m\u001b[0;34m,\u001b[0m \u001b[0mDoc\u001b[0m\u001b[0;34m,\u001b[0m \u001b[0mbytes\u001b[0m\u001b[0;34m]\u001b[0m\u001b[0;34m)\u001b[0m \u001b[0;34m->\u001b[0m \u001b[0mDoc\u001b[0m\u001b[0;34m:\u001b[0m\u001b[0;34m\u001b[0m\u001b[0;34m\u001b[0m\u001b[0m\n",
      "\u001b[0;32m~/.local/lib/python3.10/site-packages/spacy/tokenizer.pyx\u001b[0m in \u001b[0;36mspacy.tokenizer.Tokenizer.__call__\u001b[0;34m()\u001b[0m\n",
      "\u001b[0;32m~/.local/lib/python3.10/site-packages/spacy/tokenizer.pyx\u001b[0m in \u001b[0;36mspacy.tokenizer.Tokenizer._tokenize_affixes\u001b[0;34m()\u001b[0m\n",
      "\u001b[0;32m~/.local/lib/python3.10/site-packages/spacy/strings.pyx\u001b[0m in \u001b[0;36mspacy.strings.hash_string\u001b[0;34m()\u001b[0m\n",
      "\u001b[0;31mUnicodeEncodeError\u001b[0m: 'utf-8' codec can't encode character '\\ud83d' in position 0: surrogates not allowed"
     ]
    }
   ],
   "source": [
    "df_popular_tags['clean_Title'] = df_popular_tags['Title'].apply(lambda txt:clean(txt, tokenize=False, strict=True))"
   ]
  },
  {
   "attachments": {},
   "cell_type": "markdown",
   "metadata": {},
   "source": [
    "Work with sample of 10 000 questions since I have been having this error that haven't been able to solve:\n",
    "\n",
    "```\n",
    "UnicodeEncodeError: 'utf-8' codec can't encode character '\\ud83d' in position 0: surrogates not allowed\n",
    "```"
   ]
  },
  {
   "cell_type": "code",
   "execution_count": 150,
   "metadata": {},
   "outputs": [],
   "source": [
    "df_popular_tags_sample = df_popular_tags.sample(10000)\n",
    "\n",
    "# Export this sample to work with later\n",
    "path = './data/'\n",
    "filename = 'sample_questions.csv'\n",
    "\n",
    "df_popular_tags_sample.to_csv(path + filename, index=False)"
   ]
  },
  {
   "cell_type": "code",
   "execution_count": null,
   "metadata": {},
   "outputs": [],
   "source": [
    "# Import sample\n",
    "# df_popular_tags_sample = pd.read_csv(path + filename)"
   ]
  },
  {
   "cell_type": "code",
   "execution_count": 151,
   "metadata": {},
   "outputs": [],
   "source": [
    "df_popular_tags_sample['clean_Title'] = df_popular_tags_sample['Title'].apply(lambda txt:clean(txt, tokenize=False, strict=True))"
   ]
  },
  {
   "cell_type": "code",
   "execution_count": 152,
   "metadata": {},
   "outputs": [
    {
     "data": {
      "text/html": [
       "<div>\n",
       "<style scoped>\n",
       "    .dataframe tbody tr th:only-of-type {\n",
       "        vertical-align: middle;\n",
       "    }\n",
       "\n",
       "    .dataframe tbody tr th {\n",
       "        vertical-align: top;\n",
       "    }\n",
       "\n",
       "    .dataframe thead th {\n",
       "        text-align: right;\n",
       "    }\n",
       "</style>\n",
       "<table border=\"1\" class=\"dataframe\">\n",
       "  <thead>\n",
       "    <tr style=\"text-align: right;\">\n",
       "      <th></th>\n",
       "      <th>Title</th>\n",
       "      <th>Body</th>\n",
       "      <th>Tags</th>\n",
       "      <th>Id</th>\n",
       "      <th>Score</th>\n",
       "      <th>ViewCount</th>\n",
       "      <th>AnswerCount</th>\n",
       "      <th>nb_tags</th>\n",
       "      <th>clean_Tags</th>\n",
       "      <th>no_emoj_Title</th>\n",
       "      <th>contain_pop_tag</th>\n",
       "      <th>clean_Title</th>\n",
       "    </tr>\n",
       "  </thead>\n",
       "  <tbody>\n",
       "    <tr>\n",
       "      <th>19757</th>\n",
       "      <td>How to loop through objects in php</td>\n",
       "      <td>&lt;p&gt;I am not too familiar with objects, i usual...</td>\n",
       "      <td>&lt;php&gt;&lt;arrays&gt;&lt;object&gt;&lt;loops&gt;&lt;foreach&gt;</td>\n",
       "      <td>8664208</td>\n",
       "      <td>17</td>\n",
       "      <td>67234</td>\n",
       "      <td>1</td>\n",
       "      <td>5</td>\n",
       "      <td>[php, arrays, object, loops, foreach]</td>\n",
       "      <td>How to loop through objects in php</td>\n",
       "      <td>True</td>\n",
       "      <td>object php</td>\n",
       "    </tr>\n",
       "    <tr>\n",
       "      <th>25990</th>\n",
       "      <td>Nest.Js Redirect from a controller to another</td>\n",
       "      <td>&lt;p&gt;So I have this module:&lt;/p&gt;\\n\\n&lt;pre&gt;&lt;code&gt;@M...</td>\n",
       "      <td>&lt;javascript&gt;&lt;node.js&gt;&lt;typescript&gt;&lt;express&gt;&lt;nes...</td>\n",
       "      <td>56397866</td>\n",
       "      <td>17</td>\n",
       "      <td>32440</td>\n",
       "      <td>2</td>\n",
       "      <td>5</td>\n",
       "      <td>[javascript, node.js, typescript, express, nes...</td>\n",
       "      <td>Nest.Js Redirect from a controller to another</td>\n",
       "      <td>True</td>\n",
       "      <td>nest js redirect controller</td>\n",
       "    </tr>\n",
       "    <tr>\n",
       "      <th>36207</th>\n",
       "      <td>ODataController returning HTTP 406 Not Acceptable</td>\n",
       "      <td>&lt;p&gt;I'm building an OData 3 service on Web API ...</td>\n",
       "      <td>&lt;c#&gt;&lt;.net&gt;&lt;asp.net-web-api&gt;&lt;odata&gt;&lt;http-status...</td>\n",
       "      <td>29975653</td>\n",
       "      <td>9</td>\n",
       "      <td>8263</td>\n",
       "      <td>1</td>\n",
       "      <td>5</td>\n",
       "      <td>[c#, .net, asp.net-web-api, odata, http-status...</td>\n",
       "      <td>ODataController returning HTTP 406 Not Acceptable</td>\n",
       "      <td>True</td>\n",
       "      <td>http</td>\n",
       "    </tr>\n",
       "  </tbody>\n",
       "</table>\n",
       "</div>"
      ],
      "text/plain": [
       "                                                   Title  \\\n",
       "19757                 How to loop through objects in php   \n",
       "25990      Nest.Js Redirect from a controller to another   \n",
       "36207  ODataController returning HTTP 406 Not Acceptable   \n",
       "\n",
       "                                                    Body  \\\n",
       "19757  <p>I am not too familiar with objects, i usual...   \n",
       "25990  <p>So I have this module:</p>\\n\\n<pre><code>@M...   \n",
       "36207  <p>I'm building an OData 3 service on Web API ...   \n",
       "\n",
       "                                                    Tags        Id  Score  \\\n",
       "19757              <php><arrays><object><loops><foreach>   8664208     17   \n",
       "25990  <javascript><node.js><typescript><express><nes...  56397866     17   \n",
       "36207  <c#><.net><asp.net-web-api><odata><http-status...  29975653      9   \n",
       "\n",
       "       ViewCount  AnswerCount  nb_tags  \\\n",
       "19757      67234            1        5   \n",
       "25990      32440            2        5   \n",
       "36207       8263            1        5   \n",
       "\n",
       "                                              clean_Tags  \\\n",
       "19757              [php, arrays, object, loops, foreach]   \n",
       "25990  [javascript, node.js, typescript, express, nes...   \n",
       "36207  [c#, .net, asp.net-web-api, odata, http-status...   \n",
       "\n",
       "                                           no_emoj_Title  contain_pop_tag  \\\n",
       "19757                 How to loop through objects in php             True   \n",
       "25990      Nest.Js Redirect from a controller to another             True   \n",
       "36207  ODataController returning HTTP 406 Not Acceptable             True   \n",
       "\n",
       "                       clean_Title  \n",
       "19757                   object php  \n",
       "25990  nest js redirect controller  \n",
       "36207                         http  "
      ]
     },
     "execution_count": 152,
     "metadata": {},
     "output_type": "execute_result"
    }
   ],
   "source": [
    "df_popular_tags_sample.head(3)"
   ]
  },
  {
   "cell_type": "code",
   "execution_count": 153,
   "metadata": {},
   "outputs": [],
   "source": [
    "df_popular_tags_sample['clean_Body'] = df_popular_tags_sample['Body'].apply(lambda txt:clean(txt, tokenize=False, strict=True))"
   ]
  },
  {
   "cell_type": "code",
   "execution_count": null,
   "metadata": {},
   "outputs": [],
   "source": []
  }
 ],
 "metadata": {
  "kernelspec": {
   "display_name": "Python 3",
   "language": "python",
   "name": "python3"
  },
  "language_info": {
   "codemirror_mode": {
    "name": "ipython",
    "version": 3
   },
   "file_extension": ".py",
   "mimetype": "text/x-python",
   "name": "python",
   "nbconvert_exporter": "python",
   "pygments_lexer": "ipython3",
   "version": "3.10.6"
  },
  "orig_nbformat": 4,
  "vscode": {
   "interpreter": {
    "hash": "767d51c1340bd893661ea55ea3124f6de3c7a262a8b4abca0554b478b1e2ff90"
   }
  }
 },
 "nbformat": 4,
 "nbformat_minor": 2
}
